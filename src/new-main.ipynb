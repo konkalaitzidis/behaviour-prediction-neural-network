{
 "cells": [
  {
   "cell_type": "markdown",
   "id": "61fca15c-d1af-4b56-ab03-008d38ca4909",
   "metadata": {},
   "source": [
    "# Setup"
   ]
  },
  {
   "cell_type": "code",
   "execution_count": 2,
   "id": "cc9f33ac-2298-44bc-addc-fc0b862c345c",
   "metadata": {},
   "outputs": [
    {
     "ename": "ModuleNotFoundError",
     "evalue": "No module named 'mysql'",
     "output_type": "error",
     "traceback": [
      "\u001b[0;31m---------------------------------------------------------------------------\u001b[0m",
      "\u001b[0;31mModuleNotFoundError\u001b[0m                       Traceback (most recent call last)",
      "\u001b[0;32m/var/folders/3q/x_vd7_cn2k78chsgq7c8ms7r0000gn/T/ipykernel_86422/48865408.py\u001b[0m in \u001b[0;36m<module>\u001b[0;34m\u001b[0m\n\u001b[1;32m      8\u001b[0m \u001b[0;32mimport\u001b[0m \u001b[0msys\u001b[0m\u001b[0;34m\u001b[0m\u001b[0;34m\u001b[0m\u001b[0m\n\u001b[1;32m      9\u001b[0m \u001b[0msys\u001b[0m\u001b[0;34m.\u001b[0m\u001b[0mpath\u001b[0m\u001b[0;34m.\u001b[0m\u001b[0mappend\u001b[0m\u001b[0;34m(\u001b[0m\u001b[0;34m'/Users/konstantinoskalaitzidis/Developer/dmc/'\u001b[0m\u001b[0;34m)\u001b[0m\u001b[0;34m\u001b[0m\u001b[0;34m\u001b[0m\u001b[0m\n\u001b[0;32m---> 10\u001b[0;31m \u001b[0;32mimport\u001b[0m \u001b[0marrowmaze_project\u001b[0m\u001b[0;34m.\u001b[0m\u001b[0mutils\u001b[0m\u001b[0;34m.\u001b[0m\u001b[0mreadSessionsServer\u001b[0m \u001b[0;32mas\u001b[0m \u001b[0mreadSessionServer\u001b[0m\u001b[0;34m\u001b[0m\u001b[0;34m\u001b[0m\u001b[0m\n\u001b[0m\u001b[1;32m     11\u001b[0m \u001b[0;34m\u001b[0m\u001b[0m\n\u001b[1;32m     12\u001b[0m \u001b[0;34m\u001b[0m\u001b[0m\n",
      "\u001b[0;32m~/Developer/dmc/arrowmaze_project/utils/readSessionsServer.py\u001b[0m in \u001b[0;36m<module>\u001b[0;34m\u001b[0m\n\u001b[1;32m     11\u001b[0m \u001b[0;32mimport\u001b[0m \u001b[0mnumpy\u001b[0m \u001b[0;32mas\u001b[0m \u001b[0mnp\u001b[0m\u001b[0;34m\u001b[0m\u001b[0;34m\u001b[0m\u001b[0m\n\u001b[1;32m     12\u001b[0m \u001b[0;34m\u001b[0m\u001b[0m\n\u001b[0;32m---> 13\u001b[0;31m \u001b[0;32mimport\u001b[0m \u001b[0mdmcdb_py\u001b[0m\u001b[0;34m.\u001b[0m\u001b[0morm\u001b[0m\u001b[0;34m.\u001b[0m\u001b[0mdmcdb\u001b[0m \u001b[0;32mas\u001b[0m \u001b[0mdmcdb\u001b[0m\u001b[0;34m\u001b[0m\u001b[0;34m\u001b[0m\u001b[0m\n\u001b[0m\u001b[1;32m     14\u001b[0m \u001b[0;32mimport\u001b[0m \u001b[0mdmcdb_py\u001b[0m\u001b[0;34m.\u001b[0m\u001b[0morm\u001b[0m\u001b[0;34m.\u001b[0m\u001b[0morm_utils\u001b[0m \u001b[0;32mas\u001b[0m \u001b[0morm_utils\u001b[0m\u001b[0;34m\u001b[0m\u001b[0;34m\u001b[0m\u001b[0m\n\u001b[1;32m     15\u001b[0m \u001b[0;34m\u001b[0m\u001b[0m\n",
      "\u001b[0;32m~/Developer/dmc/dmcdb_py/orm/dmcdb.py\u001b[0m in \u001b[0;36m<module>\u001b[0;34m\u001b[0m\n\u001b[1;32m      5\u001b[0m \u001b[0;32mimport\u001b[0m \u001b[0myaml\u001b[0m\u001b[0;34m\u001b[0m\u001b[0;34m\u001b[0m\u001b[0m\n\u001b[1;32m      6\u001b[0m \u001b[0;34m\u001b[0m\u001b[0m\n\u001b[0;32m----> 7\u001b[0;31m \u001b[0;32mimport\u001b[0m \u001b[0mdmcdb_py\u001b[0m\u001b[0;34m.\u001b[0m\u001b[0morm\u001b[0m\u001b[0;34m.\u001b[0m\u001b[0morm_utils\u001b[0m \u001b[0;32mas\u001b[0m \u001b[0morm_utils\u001b[0m\u001b[0;34m\u001b[0m\u001b[0;34m\u001b[0m\u001b[0m\n\u001b[0m\u001b[1;32m      8\u001b[0m \u001b[0;32mimport\u001b[0m \u001b[0mdmcdb_py\u001b[0m\u001b[0;34m.\u001b[0m\u001b[0mutils\u001b[0m\u001b[0;34m\u001b[0m\u001b[0;34m\u001b[0m\u001b[0m\n\u001b[1;32m      9\u001b[0m \u001b[0;34m\u001b[0m\u001b[0m\n",
      "\u001b[0;32m~/Developer/dmc/dmcdb_py/orm/orm_utils.py\u001b[0m in \u001b[0;36m<module>\u001b[0;34m\u001b[0m\n\u001b[1;32m      4\u001b[0m \u001b[0;32mimport\u001b[0m \u001b[0myaml\u001b[0m\u001b[0;34m\u001b[0m\u001b[0;34m\u001b[0m\u001b[0m\n\u001b[1;32m      5\u001b[0m \u001b[0;34m\u001b[0m\u001b[0m\n\u001b[0;32m----> 6\u001b[0;31m \u001b[0;32mimport\u001b[0m \u001b[0mdmcdb_py\u001b[0m\u001b[0;34m.\u001b[0m\u001b[0mutils\u001b[0m \u001b[0;32mas\u001b[0m \u001b[0mutils\u001b[0m\u001b[0;34m\u001b[0m\u001b[0;34m\u001b[0m\u001b[0m\n\u001b[0m\u001b[1;32m      7\u001b[0m \u001b[0;34m\u001b[0m\u001b[0m\n\u001b[1;32m      8\u001b[0m \u001b[0;32mdef\u001b[0m \u001b[0mget_engine\u001b[0m\u001b[0;34m(\u001b[0m\u001b[0mcfg\u001b[0m\u001b[0;34m=\u001b[0m\u001b[0;32mNone\u001b[0m\u001b[0;34m)\u001b[0m\u001b[0;34m:\u001b[0m\u001b[0;34m\u001b[0m\u001b[0;34m\u001b[0m\u001b[0m\n",
      "\u001b[0;32m~/Developer/dmc/dmcdb_py/utils.py\u001b[0m in \u001b[0;36m<module>\u001b[0;34m\u001b[0m\n\u001b[1;32m      1\u001b[0m \u001b[0;31m#todo create test database and connect to it instead\u001b[0m\u001b[0;34m\u001b[0m\u001b[0;34m\u001b[0m\u001b[0m\n\u001b[0;32m----> 2\u001b[0;31m \u001b[0;32mimport\u001b[0m \u001b[0mmysql\u001b[0m\u001b[0;34m.\u001b[0m\u001b[0mconnector\u001b[0m\u001b[0;31m#pip install mysql-connector-python\u001b[0m\u001b[0;34m\u001b[0m\u001b[0;34m\u001b[0m\u001b[0m\n\u001b[0m\u001b[1;32m      3\u001b[0m \u001b[0;31m# pip install SQLAlchemy\u001b[0m\u001b[0;34m\u001b[0m\u001b[0;34m\u001b[0m\u001b[0m\n\u001b[1;32m      4\u001b[0m \u001b[0;32mimport\u001b[0m \u001b[0mnumpy\u001b[0m \u001b[0;32mas\u001b[0m \u001b[0mnp\u001b[0m\u001b[0;34m\u001b[0m\u001b[0;34m\u001b[0m\u001b[0m\n\u001b[1;32m      5\u001b[0m \u001b[0;32mimport\u001b[0m \u001b[0msubprocess\u001b[0m\u001b[0;34m\u001b[0m\u001b[0;34m\u001b[0m\u001b[0m\n",
      "\u001b[0;31mModuleNotFoundError\u001b[0m: No module named 'mysql'"
     ]
    }
   ],
   "source": [
    "import numpy as np\n",
    "import pandas as pd\n",
    "import cv2\n",
    "import os\n",
    "from pynwb import NWBHDF5IO # python interface for working with Neurodata Without Borders format files\n",
    "import h5py\n",
    "\n",
    "\n",
    "import sys\n",
    "sys.path.append('/Users/konstantinoskalaitzidis/Developer/dmc/')\n",
    "import arrowmaze_project.utils.readSessionsServer as readSessionServer\n",
    "\n",
    "\n",
    "from keras.models import Sequential\n",
    "from keras.layers import Conv2D, MaxPooling2D, Flatten, Dense"
   ]
  },
  {
   "cell_type": "code",
   "execution_count": null,
   "id": "09e6941b-180e-4242-b297-d879dc7a2ee3",
   "metadata": {},
   "outputs": [],
   "source": []
  },
  {
   "cell_type": "markdown",
   "id": "2f3d1a2e-7307-44d7-9863-dd06baee6227",
   "metadata": {},
   "source": [
    "## Define hyperparameters"
   ]
  },
  {
   "cell_type": "code",
   "execution_count": null,
   "id": "719e2a1c-7040-4335-8231-bb45e2893d4b",
   "metadata": {},
   "outputs": [],
   "source": [
    "# IMG_SIZE = 224\n",
    "# BATCH_SIZE = 64\n",
    "# EPOCHS = 10\n",
    "\n",
    "# MAX_SEQ_LENGTH = 20\n",
    "# NUM_FEATURES = 2048"
   ]
  },
  {
   "cell_type": "code",
   "execution_count": null,
   "id": "9bd45347-075a-4435-bddb-288d8bc3e506",
   "metadata": {},
   "outputs": [],
   "source": [
    "# import sys\n",
    "# sys.path.append(\"/Users/konstantinoskalaitzidis/Developer/dmc\")\n",
    "#from readSessionsServer import SessionIterator\n",
    "#TODO: Script to retrieve videos from a list of calcium videos (of the same animal) from the db"
   ]
  },
  {
   "cell_type": "markdown",
   "id": "941e710a-0385-4e70-b22f-2fc22953ff07",
   "metadata": {},
   "source": [
    "## Data preparation and feature engineering"
   ]
  },
  {
   "cell_type": "markdown",
   "id": "0c1cc62e-96d3-4a65-aaff-a4f869cff76b",
   "metadata": {},
   "source": [
    "Extract frames from the calcium imaging video and save to directory. Each frame contains spatial information, and the sequence of those frames contains temporal information. Maybe also ask for path input from the user to make it reproducible\n",
    "\n",
    "helpful source: https://keras.io/examples/vision/video_classification/"
   ]
  },
  {
   "cell_type": "markdown",
   "id": "c51d84e0-6996-46bb-8d8f-e3e30d7b0250",
   "metadata": {},
   "source": [
    "Not going to be used for now but this will allow us to have an overview of all the videos I have available to train my CNN model. I expect to have all recordings sessions for each animal as a CNN is going to be trained only based on recordings from the corresponding animal. "
   ]
  },
  {
   "cell_type": "code",
   "execution_count": null,
   "id": "a5c8f7e6-4142-4d8c-abde-d6aeedf14113",
   "metadata": {},
   "outputs": [],
   "source": [
    "# train_df = pd.read_csv(\"train.csv\")\n",
    "# test_df = pd.read_csv(\"test.csv\")\n",
    "\n",
    "# print(f\"Total videos for training: {len(train_df)}\")\n",
    "# print(f\"Total videos for testing: {len(test_df)}\")\n",
    "\n",
    "# train_df.sample(10)"
   ]
  },
  {
   "cell_type": "markdown",
   "id": "f7dcdb7b-7022-485c-9c96-591b3711feab",
   "metadata": {},
   "source": [
    "The duration of each frame depends on the frame rate of the video. If a video has a frame rate of 25 fps, then each frame will have a duration of 1/25th of a second, or approximately 0.04 seconds."
   ]
  },
  {
   "cell_type": "markdown",
   "id": "580b2498-d35a-4f44-a6a7-bc2804ac9af5",
   "metadata": {},
   "source": [
    "-> Here"
   ]
  },
  {
   "cell_type": "code",
   "execution_count": null,
   "id": "6a136ef5-f526-417f-bc03-855d4e07fb51",
   "metadata": {},
   "outputs": [],
   "source": [
    "# Fetch all calcium videos from the dmc database and align calcium videos with behavior annotations\n",
    "mySession = readSessionServer.SessionIterator()\n",
    "for sess in mySession.findSessions():\n",
    "    print(sess)\n",
    "    # if sess.hasBehavior() and sess.hasCalcium():\n",
    "        # behavior = sess.getBehaviorSegmentation(align_with_calcium=True).reset_index()"
   ]
  },
  {
   "cell_type": "code",
   "execution_count": null,
   "id": "e1d03568-3a6e-41db-9156-26c53d86c0e8",
   "metadata": {},
   "outputs": [],
   "source": [
    "# Raw calcium imaging video path of animal 1 learning day 1\n",
    "#For accessing the file in a folder contained in the current folder"
   ]
  },
  {
   "cell_type": "code",
   "execution_count": null,
   "id": "729caef9",
   "metadata": {},
   "outputs": [],
   "source": [
    "!pip install h5py"
   ]
  },
  {
   "cell_type": "code",
   "execution_count": null,
   "id": "66c7bceb-62a8-4589-874f-bd05dd118bb7",
   "metadata": {},
   "outputs": [],
   "source": [
    "# Replace 'path/to/file.nwb' with the path to your .nwb file\n",
    "# io = NWBHDF5IO('/Users/konstantinoskalaitzidis/Developer/dmc/thesis_data/20211016_163921_animal1learnday1.nwb', 'r')\n",
    "# calcium_video = io.read()\n",
    "\n",
    "# Open the HDF5 file\n",
    "with h5py.File('/Users/konstantinoskalaitzidis/Developer/dmc/thesis_data/20211016_163921_animal1learnday1.nwb', 'r') as f:\n",
    "    # Print the keys of the file\n",
    "    print(list(f.keys()))\n",
    "    # dataset = f['identifier'][()]\n",
    "    # print(dataset)\n",
    "\n",
    "\n",
    "#raw_calcium_video_path = '/Users/konstantinoskalaitzidis/Developer/dmc/thesis_data/20211016_163921_animal1learnday1.nwb'"
   ]
  },
  {
   "cell_type": "code",
   "execution_count": null,
   "id": "71e9d178-da84-4268-a626-e8ae346556ee",
   "metadata": {},
   "outputs": [],
   "source": [
    "# Directory where frames from video will be stored after extraction\n",
    "frames_dir = \"/Users/konstantinoskalaitzidis/Developer/dmc/thesis_data/CI_video_frames/video_1\""
   ]
  },
  {
   "cell_type": "code",
   "execution_count": null,
   "id": "30cd679c-d25e-4136-93c7-208f6451153f",
   "metadata": {},
   "outputs": [],
   "source": [
    "# #pathname = input(\"Insert path of h5 file here: \")\n",
    "\n",
    "# with pd.HDFStore(raw_calcium_video_path) as hdf:\n",
    "#     # This prints a list of all group names:\n",
    "#     print(\"Reading the h5 file that contains the deeplabcut and calcium imaging data...\")\n",
    "\n",
    "# h5_file = pd.read_hdf(raw_calcium_video_path, key=\"/meta\")"
   ]
  },
  {
   "cell_type": "code",
   "execution_count": null,
   "id": "e37c4c26-cbf6-482b-bb22-77dd7d323390",
   "metadata": {},
   "outputs": [],
   "source": [
    "# def crop_center_square(frame):\n",
    "#     y, x = frame.shape[0:2]\n",
    "#     min_dim = min(y, x)\n",
    "#     start_x = (x // 2) - (min_dim // 2)\n",
    "#     start_y = (y // 2) - (min_dim // 2)\n",
    "#     return frame[start_y : start_y + min_dim, start_x : start_x + min_dim]\n",
    "\n",
    "\n",
    "# def load_video(path, max_frames=0, resize=(IMG_SIZE, IMG_SIZE)):\n",
    "#     cap = cv2.VideoCapture(path)\n",
    "#     frames = []\n",
    "#     try:\n",
    "#         while True:\n",
    "#             ret, frame = cap.read()\n",
    "#             if not ret:\n",
    "#                 break\n",
    "#             frame = crop_center_square(frame)\n",
    "#             frame = cv2.resize(frame, resize)\n",
    "#             frame = frame[:, :, [2, 1, 0]]\n",
    "#             frames.append(frame)\n",
    "\n",
    "#             if len(frames) == max_frames:\n",
    "#                 break\n",
    "#     finally:\n",
    "#         cap.release()\n",
    "#     return np.array(frames)"
   ]
  },
  {
   "cell_type": "code",
   "execution_count": null,
   "id": "25bee6b5-185b-47d2-864a-2fd53e6d6273",
   "metadata": {},
   "outputs": [],
   "source": []
  },
  {
   "cell_type": "markdown",
   "id": "e2ff7be4-a7cc-44a3-9d1a-f7950e030cba",
   "metadata": {},
   "source": [
    "-> Here"
   ]
  },
  {
   "cell_type": "markdown",
   "id": "9f96f31b-c607-4a50-bb5f-9ef8fecdd3e3",
   "metadata": {},
   "source": [
    "The number of frames may differ from video to video.\n",
    "The frame rate may also differ from video to video but it should be 20fps for all. "
   ]
  },
  {
   "cell_type": "code",
   "execution_count": null,
   "id": "fbee6769-dd9e-4d13-bcb3-7b51b960dce5",
   "metadata": {},
   "outputs": [],
   "source": [
    "# Open the video using OpenCV and count the number of frames\n",
    "cap = cv2.VideoCapture(raw_calcium_video_path)\n",
    "frame_count = int(cap.get(cv2.CAP_PROP_FRAME_COUNT))\n",
    "cap.release()\n",
    "\n",
    "print(f\"Number of frames in the video: {frame_count}\")"
   ]
  },
  {
   "cell_type": "code",
   "execution_count": null,
   "id": "b3c7a045-7cb7-49c9-aa6c-890801b57f9c",
   "metadata": {},
   "outputs": [],
   "source": []
  },
  {
   "cell_type": "code",
   "execution_count": null,
   "id": "8975bd79-5410-4e20-81b5-f3a5f2dfa5a3",
   "metadata": {},
   "outputs": [],
   "source": []
  },
  {
   "cell_type": "code",
   "execution_count": null,
   "id": "d569b83b-a30e-4837-a3cd-cee58fe2d60e",
   "metadata": {},
   "outputs": [],
   "source": [
    "# try to open other videos for test and frame rate and number of frames"
   ]
  },
  {
   "cell_type": "code",
   "execution_count": null,
   "id": "4bce9c58-3dd8-4fd6-afb3-9dfb9473b873",
   "metadata": {},
   "outputs": [],
   "source": [
    "video = '/Users/konstantinoskalaitzidis/Desktop/realshort.mp4'\n",
    "\n",
    "cap = cv2.VideoCapture(video)\n",
    "frame_count = int(cap.get(cv2.CAP_PROP_FRAME_COUNT))\n",
    "cap.release()\n",
    "\n",
    "print(f\"Number of frames in the video: {frame_count}\")"
   ]
  },
  {
   "cell_type": "code",
   "execution_count": null,
   "id": "98fed508-e062-4c0e-8c82-5c49e8c5314d",
   "metadata": {},
   "outputs": [],
   "source": [
    "# Open the video file\n",
    "cap = cv2.VideoCapture(video)\n",
    "\n",
    "# Get the frame rate of the video\n",
    "frame_rate = int(cap.get(cv2.CAP_PROP_FPS))\n",
    "\n",
    "# Release the video capture object\n",
    "cap.release()\n",
    "\n",
    "print(f\"Frame rate of the video: {frame_rate}\")"
   ]
  },
  {
   "cell_type": "code",
   "execution_count": null,
   "id": "2146d11a-949c-4877-a84c-5d2e762967d3",
   "metadata": {},
   "outputs": [],
   "source": [
    "# save each frame as one image"
   ]
  },
  {
   "cell_type": "code",
   "execution_count": null,
   "id": "787686cd-d9a4-4939-8ab2-7b7b3f8fbffb",
   "metadata": {},
   "outputs": [],
   "source": [
    "cap = cv2.VideoCapture(video)\n",
    "\n",
    "# Loop through the video frames and save each one as an image file\n",
    "frame_count = 0\n",
    "while(cap.isOpened()):\n",
    "    ret, frame = cap.read()\n",
    "    if ret == False:\n",
    "        break\n",
    "    # Save the frame as an image file\n",
    "    frame_file = os.path.join(frames_dir, \"frame_\" + str(frame_count) + \".jpg\")\n",
    "    cv2.imwrite(frame_file, frame)\n",
    "    frame_count += 1\n",
    "\n",
    "# Close the video file\n",
    "cap.release()"
   ]
  },
  {
   "cell_type": "markdown",
   "id": "7cb69929-194b-484a-bcfd-5f4838d0447a",
   "metadata": {},
   "source": [
    "Lets say that we extracted the frames..."
   ]
  },
  {
   "cell_type": "code",
   "execution_count": null,
   "id": "08099372-00e8-48e2-a8e5-7716a9f88a16",
   "metadata": {},
   "outputs": [],
   "source": []
  },
  {
   "cell_type": "code",
   "execution_count": null,
   "id": "16a9d6d1-ce27-4aa7-b7f2-c6c2b1d435d8",
   "metadata": {},
   "outputs": [],
   "source": []
  },
  {
   "cell_type": "code",
   "execution_count": null,
   "id": "a71e8231-799f-4980-b548-62aad7e4f3fd",
   "metadata": {},
   "outputs": [],
   "source": []
  },
  {
   "cell_type": "markdown",
   "id": "4f6d055e-0c52-4bcf-80f6-00594de77c4c",
   "metadata": {},
   "source": [
    "### Labelling"
   ]
  },
  {
   "cell_type": "markdown",
   "id": "4a0f7437-67b9-4386-ae8a-e6bff4e0dc7f",
   "metadata": {},
   "source": [
    "At some point I will also have to align behavior and calcium imaging file and use those as input instead"
   ]
  },
  {
   "cell_type": "code",
   "execution_count": null,
   "id": "9a226fad-4a4d-4e86-9818-67ba657b6b2e",
   "metadata": {},
   "outputs": [],
   "source": []
  },
  {
   "cell_type": "code",
   "execution_count": null,
   "id": "a92d5400-343a-4db6-8b2a-3c94c9f33d31",
   "metadata": {},
   "outputs": [],
   "source": []
  },
  {
   "cell_type": "code",
   "execution_count": null,
   "id": "e4bf9b7a-c6fc-4a95-87f2-56466f134628",
   "metadata": {},
   "outputs": [],
   "source": []
  },
  {
   "cell_type": "code",
   "execution_count": null,
   "id": "e6cdc5b9-4484-4714-9921-801b06d0c823",
   "metadata": {},
   "outputs": [],
   "source": []
  },
  {
   "cell_type": "code",
   "execution_count": null,
   "id": "29e8aa96-a465-4301-93cd-20045e54093e",
   "metadata": {},
   "outputs": [],
   "source": []
  }
 ],
 "metadata": {
  "kernelspec": {
   "display_name": "Python 3 (ipykernel)",
   "language": "python",
   "name": "python3"
  },
  "language_info": {
   "codemirror_mode": {
    "name": "ipython",
    "version": 3
   },
   "file_extension": ".py",
   "mimetype": "text/x-python",
   "name": "python",
   "nbconvert_exporter": "python",
   "pygments_lexer": "ipython3",
   "version": "3.9.13"
  },
  "vscode": {
   "interpreter": {
    "hash": "aee8b7b246df8f9039afb4144a1f6fd8d2ca17a180786b69acc140d282b71a49"
   }
  }
 },
 "nbformat": 4,
 "nbformat_minor": 5
}
