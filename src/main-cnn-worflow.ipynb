{
 "cells": [
  {
   "cell_type": "markdown",
   "id": "c59479e3-9b12-46f9-8a2e-fdd885c63e0f",
   "metadata": {},
   "source": [
    "Import TensorFlow"
   ]
  },
  {
   "cell_type": "markdown",
   "id": "2a6e86cd-abd6-420a-bc2f-614e08f29ff9",
   "metadata": {},
   "source": [
    "Download and prepare the dataset"
   ]
  },
  {
   "cell_type": "markdown",
   "id": "2192663d-8649-41a5-99cc-53b97147e4d2",
   "metadata": {},
   "source": [
    "Normalize pixel values to be between 0 and 1"
   ]
  },
  {
   "cell_type": "markdown",
   "id": "7b631a91-1457-444b-903f-1d7cb33cdee2",
   "metadata": {},
   "source": [
    "Verify the data"
   ]
  },
  {
   "cell_type": "markdown",
   "id": "dd890425-2277-4392-8ad6-57e041ff4395",
   "metadata": {},
   "source": [
    "Create the convolutional base"
   ]
  },
  {
   "cell_type": "markdown",
   "id": "e11cd139-2060-4860-8ea1-bca390060b50",
   "metadata": {},
   "source": [
    "Check the architecture of the model"
   ]
  },
  {
   "cell_type": "code",
   "execution_count": 7,
   "id": "d0193d18-1234-4bf8-b855-af09c1868e59",
   "metadata": {},
   "outputs": [],
   "source": [
    "# model.summary()"
   ]
  },
  {
   "cell_type": "markdown",
   "id": "31885fc3-41e2-4bc9-8868-31820ab2fa3c",
   "metadata": {},
   "source": [
    "Add dense layers on top"
   ]
  },
  {
   "cell_type": "code",
   "execution_count": 8,
   "id": "fbd69201-e0b0-4dd1-8e17-8318a8d7b409",
   "metadata": {},
   "outputs": [],
   "source": [
    "# model.summary()"
   ]
  },
  {
   "cell_type": "markdown",
   "id": "2cb1893b-a119-4b6d-80ea-8fe4e2db27a2",
   "metadata": {},
   "source": [
    "Compile and train the model"
   ]
  },
  {
   "cell_type": "markdown",
   "id": "f9088fda-63d9-4734-82db-b171e362148b",
   "metadata": {},
   "source": [
    "Evaluate the model"
   ]
  },
  {
   "cell_type": "markdown",
   "id": "3a031c13-ba17-44b9-b565-5c98930e672d",
   "metadata": {},
   "source": [
    "print results"
   ]
  },
  {
   "cell_type": "code",
   "execution_count": null,
   "id": "161c18f3-3f7e-4dc1-9a77-e0ce8645977c",
   "metadata": {},
   "outputs": [],
   "source": []
  },
  {
   "cell_type": "code",
   "execution_count": null,
   "id": "037e8577-2cd4-4788-a07b-8a8a7247b4c2",
   "metadata": {},
   "outputs": [],
   "source": []
  },
  {
   "cell_type": "code",
   "execution_count": null,
   "id": "a6cb910a-3b6f-4965-a963-85dd5f1c05de",
   "metadata": {},
   "outputs": [],
   "source": []
  },
  {
   "cell_type": "code",
   "execution_count": null,
   "id": "86648721-025c-4bf1-890a-14ef36a1a16a",
   "metadata": {},
   "outputs": [],
   "source": []
  }
 ],
 "metadata": {
  "kernelspec": {
   "display_name": "Python 3 (ipykernel)",
   "language": "python",
   "name": "python3"
  },
  "language_info": {
   "codemirror_mode": {
    "name": "ipython",
    "version": 3
   },
   "file_extension": ".py",
   "mimetype": "text/x-python",
   "name": "python",
   "nbconvert_exporter": "python",
   "pygments_lexer": "ipython3",
   "version": "3.9.13"
  }
 },
 "nbformat": 4,
 "nbformat_minor": 5
}
