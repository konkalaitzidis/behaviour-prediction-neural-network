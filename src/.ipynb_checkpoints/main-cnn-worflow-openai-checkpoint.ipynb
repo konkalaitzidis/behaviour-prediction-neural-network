{
 "cells": [
  {
   "cell_type": "markdown",
   "id": "e2db6040-ad1a-4565-853b-af70e08ac16c",
   "metadata": {},
   "source": [
    "## Setup"
   ]
  },
  {
   "cell_type": "code",
   "execution_count": 3,
   "id": "e0fc9511-d4fa-4bb0-b09c-2f8e5d4709fe",
   "metadata": {},
   "outputs": [],
   "source": [
    "from keras.models import Sequential\n",
    "from keras.layers import Conv2D, MaxPooling2D, Flatten, Dense\n",
    "from keras.datasets import mnist"
   ]
  },
  {
   "cell_type": "markdown",
   "id": "863f2487-754c-46ae-89e5-ec7bece52a76",
   "metadata": {},
   "source": [
    "## Prepare the data"
   ]
  },
  {
   "cell_type": "markdown",
   "id": "847c75f2-0a69-4d5c-894d-54c55cc64f10",
   "metadata": {},
   "source": [
    "Load the MNIST data. Returns a tuple (used to store multiple items in a single variable) training and test sets, \n",
    "where X_train and X_test are the image data, and y_train and y_test are the corresponding labels."
   ]
  },
  {
   "cell_type": "code",
   "execution_count": 6,
   "id": "a6cdce83-0a42-4fe4-bc6f-6b5ba49c39fe",
   "metadata": {},
   "outputs": [],
   "source": [
    "(X_train, y_train), (X_test, y_test) = mnist.load_data()"
   ]
  },
  {
   "cell_type": "markdown",
   "id": "f9984ca8-1f2e-4bf3-bff9-b5f5ce475adb",
   "metadata": {},
   "source": [
    "Reshape and normalize the data\n",
    "The CNNs expect a 4D tensor with the shape (batch_size, height, width, channels). \n",
    "This step is adding the missing channel dimension to the data, which is 1 in this case as the images are grayscale.\n",
    "In the case of an RGB (Red, Green, Blue) image it would have been 3."
   ]
  },
  {
   "cell_type": "code",
   "execution_count": 6,
   "id": "63784656-d5d2-42f0-992c-894ebac817f5",
   "metadata": {},
   "outputs": [],
   "source": [
    "X_train = X_train.reshape(60000, 28, 28, 1)\n",
    "X_test = X_test.reshape(10000, 28, 28, 1)"
   ]
  },
  {
   "cell_type": "markdown",
   "id": "d4597a6a-bc19-4eaf-bd52-8d7b5f533b5f",
   "metadata": {},
   "source": [
    "To ensure that the pixel values are in the range of 0 to 1, which is a common preprocessing step for image data."
   ]
  },
  {
   "cell_type": "code",
   "execution_count": 6,
   "id": "b719e493-bdca-4931-9963-c9856da07e6d",
   "metadata": {},
   "outputs": [],
   "source": [
    "X_train = X_train.astype('float32')\n",
    "X_test = X_test.astype('float32')\n",
    "X_train /= 255 # why 255?\n",
    "X_test /= 255"
   ]
  },
  {
   "cell_type": "markdown",
   "id": "8e36303f-d45c-42a3-a320-d726e994d4cc",
   "metadata": {},
   "source": [
    "Convert the labels to categorical\n",
    "This function converts the integer labels to a binary format where each label is represented as a one-hot encoded vector. \n",
    "This step is necessary because the final output layer of the network uses a softmax activation function \n",
    "which expects the labels to be in this format. \n",
    "The input argument 10 means that we have 10 classes (0-9 digits)."
   ]
  },
  {
   "cell_type": "code",
   "execution_count": 6,
   "id": "4524475e-5627-48e7-89ac-d36c43fede3e",
   "metadata": {},
   "outputs": [],
   "source": [
    "from keras.utils import to_categorical\n",
    "y_train = to_categorical(y_train, 10)\n",
    "y_test = to_categorical(y_test, 10)"
   ]
  },
  {
   "cell_type": "markdown",
   "id": "b9adcd4b-f0f5-48c8-a31c-af642fadba11",
   "metadata": {},
   "source": [
    "## Build the model"
   ]
  },
  {
   "cell_type": "markdown",
   "id": "81af5f69-ed46-4c53-b29e-ed9da958f048",
   "metadata": {},
   "source": [
    "Create a sequential model\n",
    "A sequential model is a linear stack of layers, where the output of one layer is the input of the next."
   ]
  },
  {
   "cell_type": "code",
   "execution_count": null,
   "id": "08b82cf4-dc1d-4625-849d-cc0563cdce3f",
   "metadata": {},
   "outputs": [],
   "source": [
    "model = Sequential()"
   ]
  },
  {
   "cell_type": "code",
   "execution_count": null,
   "id": "1cb894ad-154c-4105-9a5d-a90d4096ae8a",
   "metadata": {},
   "outputs": [],
   "source": [
    "# Add a convolutional layer with 32 filters, a kernel size of 3x3, and a ReLU activation function\n",
    "# The ReLU activation function is a simple equation that takes the input of a neuron and returns the input if it is positive, \n",
    "# and returns 0 if it is negative. "
   ]
  },
  {
   "cell_type": "code",
   "execution_count": null,
   "id": "c744dbe7-4d4f-444c-9dc0-8762d722a7ed",
   "metadata": {},
   "outputs": [],
   "source": [
    "model.add(Conv2D(32, kernel_size=(3, 3), activation='relu', input_shape=(28, 28, 1))) # input is a 28x28 image with 1 color channel.\n",
    "\n",
    "# Add a max pooling layer with a pool size of 2x2\n",
    "# This layer applies a max operation over a 2x2 window of the input, reducing the spatial dimensions of the input by half.\n",
    "model.add(MaxPooling2D(pool_size=(2, 2)))\n",
    "\n",
    "# Add a convolutional layer with 64 filters, a kernel size of 3x3, and a ReLU activation function\n",
    "model.add(Conv2D(64, kernel_size=(3, 3), activation='relu'))\n",
    "\n",
    "# Add a max pooling layer with a pool size of 2x2\n",
    "model.add(MaxPooling2D(pool_size=(2, 2)))\n",
    "\n",
    "# Flatten the output from the previous layers\n",
    "model.add(Flatten())\n",
    "\n",
    "# Add a fully connected layer with 128 units and a ReLU activation function\n",
    "# This layer has 128 neurons and it is fully connected to the previous layer.\n",
    "model.add(Dense(128, activation='relu'))\n",
    "\n",
    "# Add a final output layer with 10 units and a softmax activation function\n",
    "# The softmax function is used to convert the output of the final layer into probability distribution over 10 possible classes.\n",
    "model.add(Dense(10, activation='softmax'))"
   ]
  },
  {
   "cell_type": "markdown",
   "id": "d563a278-453f-4c6b-a995-045a5fcb1809",
   "metadata": {},
   "source": [
    "## Train the model"
   ]
  },
  {
   "cell_type": "markdown",
   "id": "5a08a374-59f7-470e-8251-18c42ca1a9d4",
   "metadata": {},
   "source": [
    "Compiling the model with a categorical crossentropy loss function and an Adam optimizer\n",
    "- loss: This argument specifies the loss function that the model should use to measure its performance during training. A loss function is a mathematical equation that measures how well the model is able to make predictions. \n",
    "- optimizer: This argument specifies the optimization algorithm that the model should use to update its weights during training.\n",
    "- metrics: this argument specifies the metric(s) that the model should use to evaluate its performance during training."
   ]
  },
  {
   "cell_type": "code",
   "execution_count": null,
   "id": "4bc80eab-2d92-4e18-8bc7-41dfaff4b3d0",
   "metadata": {},
   "outputs": [],
   "source": [
    "model.compile(loss='categorical_crossentropy', optimizer='adam', metrics=['accuracy'])\n",
    "\n",
    "# Train the model on the training data\n",
    "# X_train and y_train: These arguments specify the training data and labels. \n",
    "# X_train is the input data and y_train is the corresponding target data.\n",
    "# epochs: This argument specifies the number of times the model should iterate over the entire training data.\n",
    "# batch_size: This argument specifies the number of samples per gradient update. ??\n",
    "model.fit(X_train, y_train, epochs=10, batch_size=32)\n",
    "\n",
    "# The model will be trained on the X_train data with the corresponding y_train labels using the categorical crossentropy loss function and the Adam optimizer for 10 epochs with a batch size of 32. \n",
    "# The training process will be evaluated with the accuracy metric."
   ]
  },
  {
   "cell_type": "markdown",
   "id": "c4e78b8c-7c84-44ee-a1d0-84d0c43ce27c",
   "metadata": {},
   "source": [
    "## Evaluate the trained model"
   ]
  },
  {
   "cell_type": "code",
   "execution_count": null,
   "id": "6d1631f1-2204-41fa-896b-d2981cc02292",
   "metadata": {},
   "outputs": [],
   "source": [
    "# Evaluate the model on the test data\n",
    "test_loss, test_acc = model.evaluate(X_test, y_test)\n",
    "print('Test accuracy:', test_acc)"
   ]
  },
  {
   "cell_type": "code",
   "execution_count": null,
   "id": "037e8577-2cd4-4788-a07b-8a8a7247b4c2",
   "metadata": {},
   "outputs": [],
   "source": []
  },
  {
   "cell_type": "code",
   "execution_count": null,
   "id": "a6cb910a-3b6f-4965-a963-85dd5f1c05de",
   "metadata": {},
   "outputs": [],
   "source": []
  },
  {
   "cell_type": "code",
   "execution_count": null,
   "id": "86648721-025c-4bf1-890a-14ef36a1a16a",
   "metadata": {},
   "outputs": [],
   "source": []
  }
 ],
 "metadata": {
  "kernelspec": {
   "display_name": "Python 3 (ipykernel)",
   "language": "python",
   "name": "python3"
  },
  "language_info": {
   "codemirror_mode": {
    "name": "ipython",
    "version": 3
   },
   "file_extension": ".py",
   "mimetype": "text/x-python",
   "name": "python",
   "nbconvert_exporter": "python",
   "pygments_lexer": "ipython3",
   "version": "3.9.12"
  }
 },
 "nbformat": 4,
 "nbformat_minor": 5
}
