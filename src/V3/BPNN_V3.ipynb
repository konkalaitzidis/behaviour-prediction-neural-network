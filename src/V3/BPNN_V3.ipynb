{
 "cells": [
  {
   "cell_type": "code",
   "execution_count": 1,
   "id": "aeecb24b-de28-45ba-b704-92bf4f21d42d",
   "metadata": {
    "tags": []
   },
   "outputs": [],
   "source": [
    "## Setup"
   ]
  },
  {
   "cell_type": "markdown",
   "id": "9e82ea39-5b6c-4c12-a725-4e8c43abb055",
   "metadata": {
    "tags": []
   },
   "source": [
    "NOTE: All dependencies are within a conda environment to ensure reproducibility. To install all dependencies: pip install -r requirements.txt"
   ]
  },
  {
   "cell_type": "code",
   "execution_count": 2,
   "id": "eba8283c-185b-4595-82ad-2e1ac5ec5d97",
   "metadata": {
    "tags": []
   },
   "outputs": [
    {
     "name": "stderr",
     "output_type": "stream",
     "text": [
      "2023-04-24 18:53:44.824320: I tensorflow/core/platform/cpu_feature_guard.cc:193] This TensorFlow binary is optimized with oneAPI Deep Neural Network Library (oneDNN) to use the following CPU instructions in performance-critical operations:  SSE4.1 SSE4.2 AVX AVX2 AVX512F AVX512_VNNI FMA\n",
      "To enable them in other operations, rebuild TensorFlow with the appropriate compiler flags.\n",
      "2023-04-24 18:53:44.863004: I tensorflow/core/util/port.cc:104] oneDNN custom operations are on. You may see slightly different numerical results due to floating-point round-off errors from different computation orders. To turn them off, set the environment variable `TF_ENABLE_ONEDNN_OPTS=0`.\n"
     ]
    },
    {
     "name": "stdout",
     "output_type": "stream",
     "text": [
      "Num GPUs Available:  1\n"
     ]
    },
    {
     "name": "stderr",
     "output_type": "stream",
     "text": [
      "2023-04-24 18:53:45.687503: I tensorflow/compiler/xla/stream_executor/cuda/cuda_gpu_executor.cc:981] successful NUMA node read from SysFS had negative value (-1), but there must be at least one NUMA node, so returning NUMA node zero\n",
      "2023-04-24 18:53:45.700771: I tensorflow/compiler/xla/stream_executor/cuda/cuda_gpu_executor.cc:981] successful NUMA node read from SysFS had negative value (-1), but there must be at least one NUMA node, so returning NUMA node zero\n",
      "2023-04-24 18:53:45.700891: I tensorflow/compiler/xla/stream_executor/cuda/cuda_gpu_executor.cc:981] successful NUMA node read from SysFS had negative value (-1), but there must be at least one NUMA node, so returning NUMA node zero\n"
     ]
    }
   ],
   "source": [
    "import tensorflow.compat.v1 as tf\n",
    "#Lets see if tensorflow finds the GPU\n",
    "print(\"Num GPUs Available: \", len(tf.config.list_physical_devices('GPU')))\n",
    "# import tensorflow as tf"
   ]
  },
  {
   "cell_type": "code",
   "execution_count": 3,
   "id": "4384096d-cb3e-4056-b096-8fa2252c12b2",
   "metadata": {},
   "outputs": [
    {
     "name": "stderr",
     "output_type": "stream",
     "text": [
      "2023-04-24 18:53:45.704311: I tensorflow/core/platform/cpu_feature_guard.cc:193] This TensorFlow binary is optimized with oneAPI Deep Neural Network Library (oneDNN) to use the following CPU instructions in performance-critical operations:  SSE4.1 SSE4.2 AVX AVX2 AVX512F AVX512_VNNI FMA\n",
      "To enable them in other operations, rebuild TensorFlow with the appropriate compiler flags.\n",
      "2023-04-24 18:53:45.705130: I tensorflow/compiler/xla/stream_executor/cuda/cuda_gpu_executor.cc:981] successful NUMA node read from SysFS had negative value (-1), but there must be at least one NUMA node, so returning NUMA node zero\n",
      "2023-04-24 18:53:45.705238: I tensorflow/compiler/xla/stream_executor/cuda/cuda_gpu_executor.cc:981] successful NUMA node read from SysFS had negative value (-1), but there must be at least one NUMA node, so returning NUMA node zero\n",
      "2023-04-24 18:53:45.705311: I tensorflow/compiler/xla/stream_executor/cuda/cuda_gpu_executor.cc:981] successful NUMA node read from SysFS had negative value (-1), but there must be at least one NUMA node, so returning NUMA node zero\n",
      "2023-04-24 18:53:46.004641: I tensorflow/compiler/xla/stream_executor/cuda/cuda_gpu_executor.cc:981] successful NUMA node read from SysFS had negative value (-1), but there must be at least one NUMA node, so returning NUMA node zero\n",
      "2023-04-24 18:53:46.004757: I tensorflow/compiler/xla/stream_executor/cuda/cuda_gpu_executor.cc:981] successful NUMA node read from SysFS had negative value (-1), but there must be at least one NUMA node, so returning NUMA node zero\n",
      "2023-04-24 18:53:46.004829: I tensorflow/compiler/xla/stream_executor/cuda/cuda_gpu_executor.cc:981] successful NUMA node read from SysFS had negative value (-1), but there must be at least one NUMA node, so returning NUMA node zero\n",
      "2023-04-24 18:53:46.004886: I tensorflow/core/common_runtime/gpu/gpu_device.cc:1613] Created device /job:localhost/replica:0/task:0/device:GPU:0 with 21658 MB memory:  -> device: 0, name: NVIDIA GeForce RTX 3090, pci bus id: 0000:01:00.0, compute capability: 8.6\n"
     ]
    },
    {
     "data": {
      "text/plain": [
       "<tf.Tensor: shape=(1,), dtype=float32, numpy=array([2.], dtype=float32)>"
      ]
     },
     "execution_count": 3,
     "metadata": {},
     "output_type": "execute_result"
    }
   ],
   "source": [
    "# #Lets see if it works\n",
    "tf.ones(1) + tf.ones(1)"
   ]
  },
  {
   "cell_type": "code",
   "execution_count": 4,
   "id": "cc9f33ac-2298-44bc-addc-fc0b862c345c",
   "metadata": {
    "tags": []
   },
   "outputs": [],
   "source": [
    "import numpy as np # for working with arrays and matrices\n",
    "import pandas as pd # for data manipulation and analysis\n",
    "import matplotlib.pyplot as plt # for data visualization\n",
    "import seaborn as sns # for data visualization\n",
    "import time # for time-related functions\n",
    "import random # for random number generation\n",
    "import cv2 # for computer vision and image processing tasks\n",
    "import datetime # for saving date and time information\n",
    "import csv # for loading csv files\n",
    "\n",
    "\n",
    "import h5py # for working with HDF5 (Hierarchical Data Format) files\n",
    "import boto3 # for working with Amazon Web Services (AWS)\n",
    "from pynwb import NWBHDF5IO # for working with Neurodata Without Border (NWB) files\n",
    "import fsspec \n",
    "from fsspec.implementations.cached import CachingFileSystem # library used for working with various file systems in Python.\n",
    "import requests \n",
    "import aiohttp # libraries which are used for making HTTP requests in Python.\n",
    "import os # OS module provides various operating system-related functions to the code\n",
    "import pickle\n",
    "import re\n",
    "\n",
    "\n",
    "# used for splitting data into training and testing sets in Python.\n",
    "from sklearn.model_selection import train_test_split \n",
    "# for generating a confusion matrix\n",
    "# from sklearn.metrics import confusion_matrix\n",
    "\n",
    "\n",
    "\n",
    "# # Classes and functions from the Keras library which is used for building and training deep learning models in Python.\n",
    "# from keras.models import load_model\n",
    "# from keras.models import model_from_json\n",
    "# from keras.utils import to_categorical\n",
    "# from keras.models import Sequential\n",
    "# from keras.layers import Dropout\n",
    "# from keras.layers import Conv2D, MaxPooling2D, Flatten, Dense\n",
    "\n",
    "# These import the Adam optimizer class and various other classes from the TensorFlow Keras library \n",
    "# which is a high-level neural networks API used for building and training deep learning models in Python.\n",
    "# from tensorflow.keras.optimizers.legacy import Adam\n",
    "from tensorflow.keras import datasets, layers, models\n",
    "from tensorflow.keras.utils import plot_model\n",
    "# from tensorflow.keras.callbacks import EarlyStopping\n",
    "import imgaug.augmenters as iaa\n",
    "\n",
    "import importlib\n",
    "\n",
    "# # Loading functions\n",
    "from load_calcium_video import load_video_data\n",
    "from pixel_values_normalization import normalize_video\n",
    "from align_behavior_to_calcium import align_files\n",
    "from class_balance import check_class_imbalance\n",
    "from model_architecture import construct_model\n",
    "from preprocessing_model import model_preprocessing\n",
    "from run_model import model_execution\n",
    "from save_model_info import save_training_info\n",
    "# from set_s3_connection import generate_s3_url\n",
    "from plots import plot_first_frames, plot_random_frames\n",
    "from send_email_when_code_is_run import send_email\n",
    "#from class_balance import check_distribution_among_datasets\n",
    "from run_k_fold_model import run_k_fold\n",
    "\n",
    "\n",
    "from urllib.parse import urlparse\n",
    "from ann_visualizer.visualize import ann_viz\n",
    "import sys\n",
    "sys.path.append('/home/dmc/Desktop/kostas/direct-Behavior-prediction-from-miniscope-calcium-imaging-using-convolutional-neural-networks/src/V3')\n",
    "# from tensorflow.keras.applications.inception_v3 import preprocess_input\n",
    "from nwb_data_generator import NWBDataGenerator\n",
    "\n",
    "# sklearn\n",
    "from sklearn.model_selection import KFold\n",
    "\n"
   ]
  },
  {
   "cell_type": "code",
   "execution_count": 5,
   "id": "2ca3632e-d9a1-49d1-89a8-ce3bee65331d",
   "metadata": {},
   "outputs": [],
   "source": [
    "# Reloading modules\n",
    "# importlib.reload(check_class_imbalance)"
   ]
  },
  {
   "cell_type": "code",
   "execution_count": 6,
   "id": "542afcd8-9a67-4775-a0cc-e2179c541d43",
   "metadata": {},
   "outputs": [],
   "source": [
    "### Installing resnet-18"
   ]
  },
  {
   "cell_type": "code",
   "execution_count": 7,
   "id": "b6197c9d-f10e-40cc-8b12-da9d6cef45c9",
   "metadata": {},
   "outputs": [
    {
     "name": "stdout",
     "output_type": "stream",
     "text": [
      "Stored 'experiment_ID' (str)\n"
     ]
    }
   ],
   "source": [
    "# Goal: Code Clean-up, 20 or 40 epochs per fold, Convert all plotting with seaborn, store results, in CSV\n",
    "comment = \"k-fold-cross validation, one video, corridor location labels\"\n",
    "experiment_ID = '3.0'\n",
    "data_file = 'Animal3learnday9'\n",
    "experiment_name = str(data_file)+\"_\"+str(experiment_ID)\n",
    "train_test_split_strategy = \"k-fold\"\n",
    "name = 'BPNN_V3'\n",
    "model_version = str(name)+'_1'\n",
    "\n",
    "%store experiment_ID"
   ]
  },
  {
   "cell_type": "code",
   "execution_count": 8,
   "id": "128440b6-9313-4558-9fd8-33fbd4a247ae",
   "metadata": {},
   "outputs": [
    {
     "name": "stdout",
     "output_type": "stream",
     "text": [
      "The directory output already exists.\n"
     ]
    }
   ],
   "source": [
    "# Define the name of the output directory\n",
    "output_dir = \"output\"\n",
    "\n",
    "# Check if the output directory already exists\n",
    "if not os.path.exists(output_dir):\n",
    "    # Create the output directory\n",
    "    os.mkdir(output_dir)\n",
    "\n",
    "    # Create the balance, accuracy, loss, and cm directories inside the output directory\n",
    "    os.mkdir(os.path.join(output_dir, \"balance\"))\n",
    "    os.mkdir(os.path.join(output_dir, \"accuracy\"))\n",
    "    os.mkdir(os.path.join(output_dir, \"loss\"))\n",
    "    os.mkdir(os.path.join(output_dir, \"cm\"))\n",
    "    os.mkdir(os.path.join(output_dir, \"architecture\"))\n",
    "    os.mkdir(os.path.join(output_dir, \"pickles\"))\n",
    "else:\n",
    "    print(f\"The directory {output_dir} already exists.\")"
   ]
  },
  {
   "cell_type": "markdown",
   "id": "ded2c471-893f-4aba-835a-a4a8522f0a0f",
   "metadata": {},
   "source": [
    "### Loading Calcium Video"
   ]
  },
  {
   "cell_type": "code",
   "execution_count": 9,
   "id": "361cee39-83bf-4db2-b375-c2af630d945f",
   "metadata": {},
   "outputs": [
    {
     "name": "stdout",
     "output_type": "stream",
     "text": [
      "Execution time: 0 hours, 0 minutes, 3 seconds\n"
     ]
    }
   ],
   "source": [
    "s3_calcium_url = 'https://s3.ki.se/dmc-striatum-arrowmaze/processed-data/miniscope-recordings/export-to-nwb/animal3learnday9/20211026_142935_animal3learnday9.nwb?AWSAccessKeyId=5AMYRX4EUZ0MV0276K24&Signature=ZouXPOQ%2BFhp6GVtkyHorR15Z9bA%3D&Expires=1682336796'\n",
    "video_data = load_video_data(s3_calcium_url)"
   ]
  },
  {
   "cell_type": "markdown",
   "id": "a5a89333-804c-44ed-876d-df205e89d256",
   "metadata": {
    "jp-MarkdownHeadingCollapsed": true,
    "tags": []
   },
   "source": [
    "### Loading Multiple Videos"
   ]
  },
  {
   "cell_type": "code",
   "execution_count": 10,
   "id": "f789291d-67cc-4e37-b525-b973b1759103",
   "metadata": {},
   "outputs": [],
   "source": [
    "# # load the CSV file with the FOV information\n",
    "# fov_info = pd.read_csv('/home/dmc/Desktop/kostas/direct-Behavior-prediction-from-miniscope-calcium-imaging-using-convolutional-neural-networks/src/V3/aligned_videos_animal3.csv')"
   ]
  },
  {
   "cell_type": "code",
   "execution_count": 11,
   "id": "4c59fa02-7326-4d2e-bc20-ac8a6b1ad650",
   "metadata": {},
   "outputs": [],
   "source": [
    "# session_video_data = {}\n",
    "# s3_calcium_url_list = ['https://s3.ki.se/dmc-striatum-arrowmaze/processed-data/miniscope-recordings/export-to-nwb/animal3learnday11/20211028_181307_animal3learnday11.nwb?AWSAccessKeyId=5AMYRX4EUZ0MV0276K24&Signature=LEjcw1bFE3zkfFj8YL8UWgcCtJ8%3D&Expires=1681745157']\n",
    "#                        # 'https://s3.ki.se/dmc-striatum-arrowmaze/processed-data/miniscope-recordings/export-to-nwb/animal3learnday10/20211027_165052_animal3learnday10.nwb?AWSAccessKeyId=5AMYRX4EUZ0MV0276K24&Signature=wvSHz9bYkQZ3k1RX%2BN4O9urXXRo%3D&Expires=1681742213']\n",
    "\n",
    "# for s3_calcium_url in s3_calcium_url_list:\n",
    "#     session_name = os.path.basename(os.path.dirname(urlparse(s3_calcium_url).path))\n",
    "#     print(session_name)\n",
    "#     video_data = load_video_data(s3_calcium_url)\n",
    "#     # session_video_data[session_name] = video_data"
   ]
  },
  {
   "cell_type": "markdown",
   "id": "2df364cd-cee7-40cc-b791-57478d14f81d",
   "metadata": {
    "tags": []
   },
   "source": [
    "### Preprocessing "
   ]
  },
  {
   "cell_type": "code",
   "execution_count": 12,
   "id": "49f9271c-58ef-4e8d-9350-ef7ce6b6c7fa",
   "metadata": {},
   "outputs": [],
   "source": [
    "min_frame = np.min(video_data, axis=0)\n",
    "video_data = video_data - min_frame"
   ]
  },
  {
   "cell_type": "code",
   "execution_count": 13,
   "id": "7b188b77-8a76-4f36-8255-4d4a27a2415a",
   "metadata": {},
   "outputs": [
    {
     "name": "stdout",
     "output_type": "stream",
     "text": [
      "Minimum pixel value: 0.000\n",
      "Maximum pixel value: 1.0\n"
     ]
    }
   ],
   "source": [
    "images = normalize_video(video_data)"
   ]
  },
  {
   "cell_type": "code",
   "execution_count": 14,
   "id": "2761a3fc-68f3-4983-8a5d-e2aba60eb049",
   "metadata": {},
   "outputs": [],
   "source": [
    "# delete video_data \n",
    "del video_data"
   ]
  },
  {
   "cell_type": "code",
   "execution_count": 15,
   "id": "694827e3-8e16-48a6-badd-b457d0a99589",
   "metadata": {},
   "outputs": [
    {
     "data": {
      "text/plain": [
       "(394, 415)"
      ]
     },
     "execution_count": 15,
     "metadata": {},
     "output_type": "execute_result"
    }
   ],
   "source": [
    "images[0].shape"
   ]
  },
  {
   "cell_type": "code",
   "execution_count": 16,
   "id": "df3d9dc2-38ac-495a-b8f8-fa2ee5bb584b",
   "metadata": {
    "tags": []
   },
   "outputs": [
    {
     "data": {
      "text/plain": [
       "array([[[0.02954545, 0.03181818, 0.04090909, ..., 0.02727273,\n",
       "         0.01818182, 0.03181818],\n",
       "        [0.04772727, 0.05      , 0.05454545, ..., 0.03181818,\n",
       "         0.02954545, 0.03863636],\n",
       "        [0.06590909, 0.03636364, 0.04772727, ..., 0.05      ,\n",
       "         0.04318182, 0.04318182],\n",
       "        ...,\n",
       "        [0.10227273, 0.09090909, 0.08409091, ..., 0.09318182,\n",
       "         0.05      , 0.06136364],\n",
       "        [0.04545455, 0.10227273, 0.07954545, ..., 0.075     ,\n",
       "         0.04545455, 0.05      ],\n",
       "        [0.06818182, 0.07727273, 0.08181818, ..., 0.06363636,\n",
       "         0.04318182, 0.04090909]]])"
      ]
     },
     "execution_count": 16,
     "metadata": {},
     "output_type": "execute_result"
    }
   ],
   "source": [
    "# Check if the video has been loaded correctly and normalized\n",
    "images[:1]"
   ]
  },
  {
   "cell_type": "code",
   "execution_count": 17,
   "id": "cb5e2e43-31a0-454a-8264-5227aef46851",
   "metadata": {
    "tags": []
   },
   "outputs": [
    {
     "name": "stdout",
     "output_type": "stream",
     "text": [
      "The number of video frames is  24434  and the frame dimensions (height x width) are:  394 X 415\n"
     ]
    }
   ],
   "source": [
    "# Determine the size of the calcium video dataset\n",
    "num_of_frames = images.shape[0]\n",
    "img_height = images.shape[1]\n",
    "img_width = images.shape[2]\n",
    "print(\"The number of video frames is \", num_of_frames, \" and the frame dimensions (height x width) are: \", img_height, \"X\", img_width)"
   ]
  },
  {
   "cell_type": "markdown",
   "id": "1cc2ab01-9899-4102-9cc0-3886660ee094",
   "metadata": {},
   "source": [
    "### Loading Bonsai and Behavior file"
   ]
  },
  {
   "cell_type": "code",
   "execution_count": 18,
   "id": "0e0e8e73-b364-41ba-bc6c-77297c1c7bda",
   "metadata": {
    "tags": []
   },
   "outputs": [],
   "source": [
    "# Preparing bonsai data file.\n",
    "# CSV with additional data from the behavior box, such as reward deliveries. Also includes information needed for synchronizing the calcium and behavioral recordings.\n",
    "bonsai_data = pd.read_csv('/home/dmc/Desktop/kostas/direct-Behavior-prediction-from-miniscope-calcium-imaging-using-convolutional-neural-networks/data/tmaze_2021-10-26T14_29_27.csv', header=None)\n",
    "\n",
    "# Segmentation of each frame into one behavior class.\n",
    "df_behavior = pd.read_hdf('/home/dmc/Desktop/kostas/direct-Behavior-prediction-from-miniscope-calcium-imaging-using-convolutional-neural-networks/data/20211026_142935_animal3learnday9.h5', 'per_frame')"
   ]
  },
  {
   "cell_type": "markdown",
   "id": "cedc503a-c136-474c-8367-b3afa34f569d",
   "metadata": {},
   "source": [
    "### Aligning Behavior with Calcium video"
   ]
  },
  {
   "cell_type": "code",
   "execution_count": 19,
   "id": "15994e40-6986-4eb3-b608-445c51b4d14c",
   "metadata": {},
   "outputs": [
    {
     "name": "stderr",
     "output_type": "stream",
     "text": [
      "/home/dmc/Desktop/kostas/direct-Behavior-prediction-from-miniscope-calcium-imaging-using-convolutional-neural-networks/src/V3/align_behavior_to_calcium.py:39: SettingWithCopyWarning: \n",
      "A value is trying to be set on a copy of a slice from a DataFrame.\n",
      "Try using .loc[row_indexer,col_indexer] = value instead\n",
      "\n",
      "See the caveats in the documentation: https://pandas.pydata.org/pandas-docs/stable/user_guide/indexing.html#returning-a-view-versus-a-copy\n",
      "  df_new_annotations.loc[:, 'state_id'] = df_new_annotations.loc[:, 'state_id'].replace(state_id_map)\n"
     ]
    }
   ],
   "source": [
    "df_new_annotations, df_unique_states = align_files(bonsai_data, df_behavior)"
   ]
  },
  {
   "cell_type": "code",
   "execution_count": 20,
   "id": "d2008895-5abe-4e2a-9544-c4b7e9b1caf9",
   "metadata": {},
   "outputs": [
    {
     "data": {
      "text/plain": [
       "array([0, 1, 2])"
      ]
     },
     "execution_count": 20,
     "metadata": {},
     "output_type": "execute_result"
    }
   ],
   "source": [
    "df_new_annotations_unique = df_new_annotations.unique()\n",
    "df_new_annotations_unique"
   ]
  },
  {
   "cell_type": "code",
   "execution_count": 21,
   "id": "c6e8f21f-729a-423c-b4d3-2db9266e190e",
   "metadata": {},
   "outputs": [],
   "source": [
    "save_dir = \"/home/dmc/Desktop/kostas/direct-Behavior-prediction-from-miniscope-calcium-imaging-using-convolutional-neural-networks/src/V3/output/balance\""
   ]
  },
  {
   "cell_type": "code",
   "execution_count": 22,
   "id": "01334238-8426-46ae-a6d1-9a21382b7b1c",
   "metadata": {},
   "outputs": [
    {
     "data": {
      "image/png": "[encoded data removed]",
      "text/plain": [
       "<Figure size 800x600 with 1 Axes>"
      ]
     },
     "metadata": {},
     "output_type": "display_data"
    }
   ],
   "source": [
    "class_counts, total_counts = check_class_imbalance(df_new_annotations, experiment_ID, save_dir)"
   ]
  },
  {
   "cell_type": "markdown",
   "id": "89bab359-ef5c-483e-9060-aec8dc9b5f8c",
   "metadata": {
    "tags": []
   },
   "source": [
    "### Data Verification"
   ]
  },
  {
   "cell_type": "code",
   "execution_count": 23,
   "id": "92ddf3ba-4189-4ef5-b77e-60cd885f6be7",
   "metadata": {},
   "outputs": [],
   "source": [
    "# train_images, val_images, train_labels, val_labels, num_classes = model_preprocessing(train_images, val_images, train_labels, val_labels, df_new_annotations_unique)"
   ]
  },
  {
   "cell_type": "markdown",
   "id": "089375c6-0380-432e-a810-b3974c68ac8c",
   "metadata": {},
   "source": [
    "### Preparing for K-fold"
   ]
  },
  {
   "cell_type": "code",
   "execution_count": 24,
   "id": "bca7751e-084b-4508-86e5-31fc09446830",
   "metadata": {
    "tags": []
   },
   "outputs": [],
   "source": [
    "# Training Parameters\n",
    "channel_dimension = 1\n",
    "labels = df_new_annotations\n",
    "epochs = 20\n",
    "# batch_size = 8"
   ]
  },
  {
   "cell_type": "code",
   "execution_count": 25,
   "id": "71528798-89e3-4dd7-80f4-5c239a587e19",
   "metadata": {},
   "outputs": [
    {
     "data": {
      "text/plain": [
       "(394, 415, 1)"
      ]
     },
     "execution_count": 25,
     "metadata": {},
     "output_type": "execute_result"
    }
   ],
   "source": [
    "input_shape = (img_height, img_width, channel_dimension)\n",
    "input_shape"
   ]
  },
  {
   "cell_type": "code",
   "execution_count": 26,
   "id": "9a51d630-0706-495f-a76c-d93b56a0048a",
   "metadata": {},
   "outputs": [],
   "source": [
    "images, labels, num_classes = model_preprocessing(images, labels, df_new_annotations_unique)"
   ]
  },
  {
   "cell_type": "markdown",
   "id": "3eba68c6-caee-4301-9932-7a48cb616d5e",
   "metadata": {},
   "source": [
    "### Starting K-fold"
   ]
  },
  {
   "cell_type": "code",
   "execution_count": 27,
   "id": "e5a7fdd8-52f9-4e03-a4c7-45899f43b4d1",
   "metadata": {},
   "outputs": [
    {
     "name": "stdout",
     "output_type": "stream",
     "text": [
      "Fold 1/5\n",
      "\n",
      "Splitting data with NWBDataGenerator\n",
      "\n",
      "Compiling model...\n",
      "\n",
      "Training model. Go grab a coffee or take a walk.\n",
      "Epoch 1/20\n"
     ]
    },
    {
     "name": "stderr",
     "output_type": "stream",
     "text": [
      "/home/dmc/Desktop/kostas/direct-Behavior-prediction-from-miniscope-calcium-imaging-using-convolutional-neural-networks/src/V3/run_k_fold_model.py:74: UserWarning: `Model.fit_generator` is deprecated and will be removed in a future version. Please use `Model.fit`, which supports generators.\n",
      "  history = model.fit_generator(train_generator,\n",
      "2023-04-24 18:54:06.197941: I tensorflow/compiler/xla/stream_executor/cuda/cuda_dnn.cc:428] Loaded cuDNN version 8401\n",
      "2023-04-24 18:54:07.145171: I tensorflow/compiler/xla/stream_executor/cuda/cuda_blas.cc:630] TensorFloat-32 will be used for the matrix multiplication. This will only be logged once.\n"
     ]
    },
    {
     "name": "stdout",
     "output_type": "stream",
     "text": [
      "610/610 [==============================] - 24s 35ms/step - loss: 1.0821 - accuracy: 0.3840 - val_loss: 1.0480 - val_accuracy: 0.2804\n",
      "Epoch 2/20\n",
      "610/610 [==============================] - 21s 35ms/step - loss: 0.9112 - accuracy: 0.5590 - val_loss: 1.7768 - val_accuracy: 0.3672\n",
      "Epoch 3/20\n",
      "610/610 [==============================] - 21s 35ms/step - loss: 0.6722 - accuracy: 0.7087 - val_loss: 1.6922 - val_accuracy: 0.3951\n",
      "Epoch 4/20\n",
      "610/610 [==============================] - 21s 35ms/step - loss: 0.5849 - accuracy: 0.7510 - val_loss: 1.9421 - val_accuracy: 0.3781\n",
      "Epoch 4: early stopping\n",
      "\n",
      "Evaluating model.\n"
     ]
    },
    {
     "name": "stderr",
     "output_type": "stream",
     "text": [
      "/home/dmc/Desktop/kostas/direct-Behavior-prediction-from-miniscope-calcium-imaging-using-convolutional-neural-networks/src/V3/run_k_fold_model.py:91: UserWarning: `Model.evaluate_generator` is deprecated and will be removed in a future version. Please use `Model.evaluate`, which supports generators.\n",
      "  accuracy_score = model.evaluate_generator(val_generator, verbose=0)\n"
     ]
    },
    {
     "name": "stdout",
     "output_type": "stream",
     "text": [
      "Validation accuracy: 0.3781\n",
      "\n",
      "Execution time: 0 hours, 1 minutes, 29 seconds\n"
     ]
    }
   ],
   "source": [
    "# start clock\n",
    "start_time = time.time()\n",
    "\n",
    "\n",
    "# set number of folds\n",
    "num_folds = 5\n",
    "shuffle = False\n",
    "\n",
    "# Initialize lists to store the training and validation loss and accuracy values for each fold\n",
    "train_loss_all = []\n",
    "val_loss_all = []\n",
    "train_acc_all = []\n",
    "val_acc_all = []\n",
    "\n",
    "\n",
    "\n",
    "train_loss_all, val_loss_all, train_acc_all, val_acc_all = run_k_fold(images, \n",
    "                                                                      labels, \n",
    "                                                                      num_folds, \n",
    "                                                                      shuffle, \n",
    "                                                                      input_shape, \n",
    "                                                                      num_classes, \n",
    "                                                                      name, \n",
    "                                                                      epochs,\n",
    "                                                                      train_loss_all,\n",
    "                                                                      val_loss_all, \n",
    "                                                                      train_acc_all,\n",
    "                                                                      val_acc_all)\n",
    "\n",
    "\n",
    "\n",
    "# end clock\n",
    "end_time = time.time()\n",
    "execution_time = end_time - start_time\n",
    "hours, remainder = divmod(execution_time, 3600)\n",
    "minutes, seconds = divmod(remainder, 60)\n",
    "print(f\"Execution time: {int(hours)} hours, {int(minutes)} minutes, {int(seconds)} seconds\")"
   ]
  },
  {
   "cell_type": "code",
   "execution_count": null,
   "id": "33cfc448-697b-4ca8-aab6-19b7f3cdde1a",
   "metadata": {},
   "outputs": [],
   "source": [
    "# model = construct_model(input_shape, num_classes, name)\n",
    "# Plot the model's architecture to a file\n",
    "# plot_model(model, to_file='model_plot.png', show_shapes=True, show_layer_names=True)"
   ]
  },
  {
   "cell_type": "code",
   "execution_count": null,
   "id": "86366d0b-972b-4bff-80e1-2170af68f646",
   "metadata": {},
   "outputs": [],
   "source": [
    "%store train_loss_all\n",
    "%store val_loss_all\n",
    "%store train_acc_all\n",
    "%store val_acc_all"
   ]
  },
  {
   "cell_type": "code",
   "execution_count": null,
   "id": "0929930a-9909-43cc-b287-fc0b4bd526d2",
   "metadata": {},
   "outputs": [],
   "source": []
  },
  {
   "cell_type": "code",
   "execution_count": null,
   "id": "4035f852-6d5a-4a87-89dc-e6a1fde84c9e",
   "metadata": {},
   "outputs": [],
   "source": []
  },
  {
   "cell_type": "code",
   "execution_count": null,
   "id": "9cc29eae-fc3a-46d2-add4-5c2589c402f1",
   "metadata": {},
   "outputs": [],
   "source": []
  },
  {
   "cell_type": "code",
   "execution_count": null,
   "id": "3a46879e-8417-49a8-80b1-f88de4f0cec1",
   "metadata": {},
   "outputs": [],
   "source": []
  },
  {
   "cell_type": "code",
   "execution_count": null,
   "id": "23a9811b-2e14-4135-8523-4549d58c19e1",
   "metadata": {},
   "outputs": [],
   "source": [
    "# Plot training and validation accuracy for each fold\n",
    "plt.figure(figsize=(4, 3))\n",
    "for i in range(num_folds):\n",
    "    plt.plot(train_acc_all[i], label=f'Train Acc Fold {i+1}')\n",
    "    plt.plot(val_acc_all[i], label=f'Val Acc Fold {i+1}')\n",
    "plt.title('Training and Validation Accuracy')\n",
    "plt.xlabel('Epoch')\n",
    "plt.ylabel('Accuracy')\n",
    "plt.legend()\n",
    "plt.savefig('Training-and-Validation-Accuracy.svg', bbox_inches='tight', dpi=300)\n",
    "plt.show()"
   ]
  },
  {
   "cell_type": "code",
   "execution_count": null,
   "id": "56535be1-4348-4d21-9257-5636dc848e43",
   "metadata": {},
   "outputs": [],
   "source": [
    "# Plot training and validation loss for each fold\n",
    "for i in range(num_folds):\n",
    "    plt.plot(train_loss_all[i], label=f'Train Loss Fold {i+1}')\n",
    "    plt.plot(val_loss_all[i], label=f'Val Loss Fold {i+1}')\n",
    "plt.title('Training and Validation Loss')\n",
    "plt.xlabel('Epoch')\n",
    "plt.ylabel('Loss')\n",
    "plt.legend()\n",
    "plt.savefig('Training-and-Validation-Loss.svg', bbox_inches='tight', dpi=300)\n",
    "plt.show()"
   ]
  },
  {
   "cell_type": "code",
   "execution_count": null,
   "id": "30126242-d851-430d-99e1-3c462b410319",
   "metadata": {},
   "outputs": [],
   "source": [
    "# # Compute the average training and validation loss and accuracy values over all folds\n",
    "# train_loss_avg = np.mean(train_loss_all, axis=0)\n",
    "# val_loss_avg = np.mean(val_loss_all, axis=0)\n",
    "# train_acc_avg = np.mean(train_acc_all, axis=0)\n",
    "# val_acc_avg = np.mean(val_acc_all, axis=0)\n",
    "\n",
    "# # Plot the average training and validation loss and accuracy values\n",
    "# plt.plot(train_loss_avg, label='Training Loss')\n",
    "# plt.plot(val_loss_avg, label='Validation Loss')\n",
    "# plt.plot(train_acc_avg, label='Training Accuracy')\n",
    "# plt.plot(val_acc_avg, label='Validation Accuracy')\n",
    "# plt.legend()\n",
    "# plt.show()"
   ]
  },
  {
   "cell_type": "code",
   "execution_count": null,
   "id": "8ce0c969-5017-4f39-82a3-dfee63f6bc42",
   "metadata": {},
   "outputs": [],
   "source": []
  },
  {
   "cell_type": "code",
   "execution_count": null,
   "id": "1d88125e-5027-403a-b80f-bc174fc7d26a",
   "metadata": {},
   "outputs": [],
   "source": []
  },
  {
   "cell_type": "code",
   "execution_count": null,
   "id": "a9d2d69d-ee5b-4d84-a892-6530738c8edf",
   "metadata": {},
   "outputs": [],
   "source": []
  },
  {
   "cell_type": "code",
   "execution_count": null,
   "id": "4fc9a234-87a7-496b-b8e2-b8fe8317c592",
   "metadata": {},
   "outputs": [],
   "source": []
  },
  {
   "cell_type": "code",
   "execution_count": null,
   "id": "78a13163-f0da-4a82-ae37-fe835dd57d6b",
   "metadata": {},
   "outputs": [],
   "source": [
    "from plots import plot_accuracy\n",
    "\n"
   ]
  },
  {
   "cell_type": "code",
   "execution_count": null,
   "id": "36ccd1c2-67f6-44de-bde9-a42cf6efa761",
   "metadata": {},
   "outputs": [],
   "source": [
    "# Plot the training and validation accuracy for each fold\n",
    "plt.figure(figsize=(8, 6))\n",
    "for i, history in enumerate(all_histories):\n",
    "    plt.plot(history.history['accuracy'], label=f'Train Fold {i+1}')\n",
    "    plt.plot(history.history['val_accuracy'], label=f'Val Fold {i+1}')\n",
    "plt.title('Model Accuracy')\n",
    "plt.ylabel('Accuracy')\n",
    "plt.xlabel('Epoch')\n",
    "plt.legend(loc='lower right')\n",
    "plt.show()"
   ]
  },
  {
   "cell_type": "code",
   "execution_count": null,
   "id": "e9bea887-d27f-4dda-ad4b-41f13667627e",
   "metadata": {},
   "outputs": [],
   "source": []
  },
  {
   "cell_type": "code",
   "execution_count": null,
   "id": "7953658d-cea9-467a-bad9-f57686132aa1",
   "metadata": {},
   "outputs": [],
   "source": []
  },
  {
   "cell_type": "code",
   "execution_count": null,
   "id": "7d553171-9f6b-4595-a140-434af8d8f864",
   "metadata": {},
   "outputs": [],
   "source": [
    "# assume histories is a list of 5 History objects from k-fold validation\n",
    "val_acc = [history.history['val_accuracy'] for history in all_histories]\n",
    "mean_val_acc = np.mean(val_acc, axis=0)\n",
    "std_val_acc = np.std(val_acc, axis=0)\n",
    "\n",
    "plt.plot(mean_val_acc)\n",
    "plt.fill_between(range(len(mean_val_acc)), mean_val_acc - std_val_acc, mean_val_acc + std_val_acc, alpha=0.2)\n",
    "\n",
    "plt.title('Mean Validation Accuracy vs. Epoch')\n",
    "plt.xlabel('Epoch')\n",
    "plt.ylabel('Mean Validation Accuracy')\n",
    "plt.show()\n"
   ]
  },
  {
   "cell_type": "code",
   "execution_count": null,
   "id": "02cffeee-2612-46c9-9f36-2b895e7a0444",
   "metadata": {},
   "outputs": [],
   "source": [
    "# SAVE ALL HISTORIES IN PICKLE AND LOAD FROM THE OTHER PIPELINE"
   ]
  },
  {
   "cell_type": "code",
   "execution_count": null,
   "id": "614c7ce3-03d4-4a26-b3ef-23af9d01ae8a",
   "metadata": {},
   "outputs": [],
   "source": [
    "# mean_accuracy = np.mean(accuracy_score_list)\n",
    "# std_accuracy = np.std(accuracy_score_list)\n",
    "\n",
    "# print(f\"Mean accuracy: {mean_accuracy:.4f}\")\n",
    "# print(f\"Standard deviation of accuracy: {std_accuracy:.4f}\")"
   ]
  },
  {
   "cell_type": "code",
   "execution_count": null,
   "id": "e9da9cc4-bea9-4ed5-9212-65d4f9b6fd2f",
   "metadata": {},
   "outputs": [],
   "source": [
    "# assume histories is a list of 5 History objects from k-fold validation\n",
    "for i in range(len(all_histories)):\n",
    "    plt.plot(all_histories[i].history['val_accuracy'], label=f'Fold {i+1}')\n",
    "\n",
    "plt.title('Validation Accuracy vs. Epoch')\n",
    "plt.xlabel('Epoch')\n",
    "plt.ylabel('Validation Accuracy')\n",
    "plt.legend()\n",
    "plt.show()"
   ]
  },
  {
   "cell_type": "code",
   "execution_count": null,
   "id": "a249a2fa-359d-43d5-96ab-57fceae2635e",
   "metadata": {},
   "outputs": [],
   "source": [
    "# Plot the training and validation accuracy for each fold\n",
    "\n",
    "accuracy_dir = \"/home/dmc/Desktop/kostas/direct-Behavior-prediction-from-miniscope-calcium-imaging-using-convolutional-neural-networks/src/V3/output/accuracy\"\n",
    "loss_dir = \"/home/dmc/Desktop/kostas/direct-Behavior-prediction-from-miniscope-calcium-imaging-using-convolutional-neural-networks/src/V3/output/loss\"\n",
    "\n",
    "plt.figure(figsize=(8, 6))\n",
    "for i, history in enumerate(all_histories):\n",
    "    plot_accuracy(experiment_ID, history.history, accuracy_dir, i)\n",
    "    plot_loss(experiment_ID, history.history, loss_dir, i)\n",
    "    \n",
    "\n",
    "#     plt.plot(history.history['accuracy'], label=f'Train Fold {i+1}')\n",
    "#     plt.plot(history.history['val_accuracy'], label=f'Val Fold {i+1}')\n",
    "# plt.title('Model Accuracy')\n",
    "# plt.ylabel('Accuracy')\n",
    "# plt.xlabel('Epoch')\n",
    "# plt.legend(loc='lower right')\n",
    "# plt.show()"
   ]
  },
  {
   "cell_type": "code",
   "execution_count": null,
   "id": "96afb58a-2e80-4e0c-b750-5713e6ed3429",
   "metadata": {},
   "outputs": [],
   "source": [
    "# Save the history object to a pickle file\n",
    "with open('All_histories.pkl', 'wb') as f:\n",
    "    pickle.dump(all_histories.history, f)"
   ]
  },
  {
   "cell_type": "code",
   "execution_count": null,
   "id": "19487d63-c4bd-4174-a4b4-34f14bf61194",
   "metadata": {},
   "outputs": [],
   "source": [
    "# from keras.models import load_model\n",
    "# from keras.utils import plot_model\n",
    "\n",
    "# # Load the model from the .h5 file\n",
    "# model = load_model('k-fold-model.h5')\n",
    "\n",
    "\n"
   ]
  },
  {
   "cell_type": "code",
   "execution_count": null,
   "id": "d70441d4-39a9-4548-a570-22f49dfc5cbb",
   "metadata": {},
   "outputs": [],
   "source": []
  },
  {
   "cell_type": "code",
   "execution_count": null,
   "id": "ee565f24-cd9c-4f8e-b80e-8409dad0cf1a",
   "metadata": {},
   "outputs": [],
   "source": []
  },
  {
   "cell_type": "code",
   "execution_count": null,
   "id": "fa5861aa-5f29-4370-8493-74765c440f1b",
   "metadata": {},
   "outputs": [],
   "source": []
  },
  {
   "cell_type": "code",
   "execution_count": null,
   "id": "b39bd661-97b4-4b32-aef6-195fde8a7cf4",
   "metadata": {},
   "outputs": [],
   "source": []
  },
  {
   "cell_type": "code",
   "execution_count": null,
   "id": "e4f37321-bfc4-4e2a-bad3-c21a6cb17367",
   "metadata": {},
   "outputs": [],
   "source": []
  },
  {
   "cell_type": "code",
   "execution_count": null,
   "id": "7e34e8b2-c88f-447c-94d0-7a5e0ca7447f",
   "metadata": {},
   "outputs": [],
   "source": []
  },
  {
   "cell_type": "code",
   "execution_count": null,
   "id": "c4974fb1-2409-4310-bc4e-cf8950c49ea9",
   "metadata": {},
   "outputs": [],
   "source": []
  },
  {
   "cell_type": "code",
   "execution_count": null,
   "id": "73b91aa4-2c6a-4590-82c6-5b21adbf7c45",
   "metadata": {},
   "outputs": [],
   "source": []
  },
  {
   "cell_type": "code",
   "execution_count": null,
   "id": "15101b9e-d830-489e-a4db-1ffde2f342a5",
   "metadata": {},
   "outputs": [],
   "source": []
  },
  {
   "cell_type": "code",
   "execution_count": null,
   "id": "d682a8b4-b434-4bb7-98f9-ff4bb66ee5ab",
   "metadata": {},
   "outputs": [],
   "source": []
  },
  {
   "cell_type": "markdown",
   "id": "8259cc26-3be4-4b36-9c53-7e5a5f2faf96",
   "metadata": {
    "tags": []
   },
   "source": [
    "### Data Pre-processing"
   ]
  },
  {
   "cell_type": "code",
   "execution_count": null,
   "id": "871ed3d0-e03e-40c0-81c3-413aeb397382",
   "metadata": {},
   "outputs": [],
   "source": [
    "# # Split the data into training and validation sets\n",
    "split_index = int(0.2 * len(images))  # Index to split data\n",
    "\n",
    "# images = np.concatenate([images, images, images], axis=-1)\n",
    "\n",
    "val_images, train_images = images[:split_index], images[split_index:]\n",
    "val_labels, train_labels = labels[:split_index], labels[split_index:]"
   ]
  },
  {
   "cell_type": "code",
   "execution_count": null,
   "id": "14e71b18-a3a9-4f2f-88c0-9bb8fa848a31",
   "metadata": {},
   "outputs": [],
   "source": [
    "check_distribution_among_datasets(val_labels, experiment_ID, save_dir, dataset_type = 'Validation_set')\n",
    "check_distribution_among_datasets(train_labels, experiment_ID, save_dir, dataset_type = 'Training_set')"
   ]
  },
  {
   "cell_type": "code",
   "execution_count": null,
   "id": "f0c0888d-2546-4001-be62-9fb3c38ff632",
   "metadata": {},
   "outputs": [],
   "source": [
    "train_images, val_images, train_labels, val_labels, num_classes = model_preprocessing(train_images, val_images, train_labels, val_labels, df_new_annotations_unique)\n"
   ]
  },
  {
   "cell_type": "code",
   "execution_count": null,
   "id": "4df80a40-8405-4922-8b5f-306c6f2e7238",
   "metadata": {},
   "outputs": [],
   "source": [
    "# Split the data into training and validation sets\n",
    "# train_images, val_images, train_labels, val_labels = train_test_split(images, labels, test_size=0.2, random_state=42)"
   ]
  },
  {
   "cell_type": "code",
   "execution_count": null,
   "id": "77649636-6233-4d31-9f22-05a83cc38f57",
   "metadata": {
    "tags": []
   },
   "outputs": [],
   "source": [
    "vmin = 0\n",
    "vmax = 0.20"
   ]
  },
  {
   "cell_type": "code",
   "execution_count": null,
   "id": "a51c845a-ca63-489f-a54f-e3422eb1bbc3",
   "metadata": {},
   "outputs": [],
   "source": [
    "# # Plot the first 5 random images\n",
    "plot_first_frames(train_images, train_labels, vmin, vmax)\n",
    "plot_first_frames(val_images, val_labels, vmin, vmax)"
   ]
  },
  {
   "cell_type": "code",
   "execution_count": null,
   "id": "cd5b5d43-e986-4b94-823f-5a08b089ed05",
   "metadata": {},
   "outputs": [],
   "source": [
    "plot_random_frames(train_images, train_labels, vmin, vmax)\n",
    "plot_random_frames(val_images, val_labels, vmin, vmax)"
   ]
  },
  {
   "cell_type": "code",
   "execution_count": null,
   "id": "1ad6f6e8-4bb2-4261-b1e5-ebbdf11f39ae",
   "metadata": {},
   "outputs": [],
   "source": [
    "input_shape = (img_height, img_width, channel_dimension)\n"
   ]
  },
  {
   "cell_type": "code",
   "execution_count": null,
   "id": "fb359b74-1591-4a8a-a763-44c7a93f3876",
   "metadata": {},
   "outputs": [],
   "source": [
    "model = construct_model(input_shape, num_classes, name)\n"
   ]
  },
  {
   "cell_type": "code",
   "execution_count": null,
   "id": "5c920c3b-3253-4fc4-b140-9c403eb676a8",
   "metadata": {},
   "outputs": [],
   "source": [
    "validation_data=(val_images, val_labels)\n"
   ]
  },
  {
   "cell_type": "code",
   "execution_count": null,
   "id": "54e6e795-a15f-4c2e-8364-b2697e8135a5",
   "metadata": {},
   "outputs": [],
   "source": [
    "params = {\n",
    "    'model': model,\n",
    "    'tf': tf,\n",
    "    'train_images': train_images,\n",
    "    'train_labels': train_labels,\n",
    "    'epochs': epochs,\n",
    "    'batch_size': batch_size,\n",
    "    'validation_data': validation_data,\n",
    "    'val_images': validation_data[0],\n",
    "    'val_labels': validation_data[1]\n",
    "}"
   ]
  },
  {
   "cell_type": "code",
   "execution_count": null,
   "id": "35ab74a8-c336-4cf4-868a-a2a320b71eba",
   "metadata": {},
   "outputs": [],
   "source": [
    "save_dir = \"/home/dmc/Desktop/kostas/direct-Behavior-prediction-from-miniscope-calcium-imaging-using-convolutional-neural-networks/src/V3/output/pickles\"\n"
   ]
  },
  {
   "cell_type": "code",
   "execution_count": null,
   "id": "327225b7-559f-4dc3-bd35-af02855a6210",
   "metadata": {},
   "outputs": [],
   "source": [
    "history = model_execution(params, save_dir, model_version)"
   ]
  },
  {
   "cell_type": "code",
   "execution_count": null,
   "id": "8d0b3cda-f710-4689-ae0e-f514b4a8ab46",
   "metadata": {},
   "outputs": [],
   "source": []
  },
  {
   "cell_type": "code",
   "execution_count": null,
   "id": "3420a8a1-ec64-4e33-92c8-901c90ea493b",
   "metadata": {},
   "outputs": [],
   "source": []
  },
  {
   "cell_type": "code",
   "execution_count": null,
   "id": "3ec45085-248f-4d9f-a5f7-0f782bec596a",
   "metadata": {},
   "outputs": [],
   "source": []
  },
  {
   "cell_type": "code",
   "execution_count": null,
   "id": "ce6cac05-a437-472a-b070-8771e656bce0",
   "metadata": {},
   "outputs": [],
   "source": []
  },
  {
   "cell_type": "code",
   "execution_count": null,
   "id": "6fa506e5-89ed-4908-a584-855a503b12d8",
   "metadata": {},
   "outputs": [],
   "source": []
  },
  {
   "cell_type": "code",
   "execution_count": null,
   "id": "7525aa63-3c5c-4f61-ae3d-6164fcf49f83",
   "metadata": {},
   "outputs": [],
   "source": []
  },
  {
   "cell_type": "code",
   "execution_count": null,
   "id": "e334e3f6-8286-4ccf-ae19-5099f206fb25",
   "metadata": {
    "tags": []
   },
   "outputs": [],
   "source": [
    "train_images, val_images, train_labels, val_labels, num_classes = model_preprocessing(train_images, val_images, train_labels, val_labels, df_new_annotations_unique)"
   ]
  },
  {
   "cell_type": "code",
   "execution_count": null,
   "id": "4f0b93cb-f5b3-40a2-a8e7-5eeb4a970af6",
   "metadata": {},
   "outputs": [],
   "source": [
    "check_distribution_among_datasets(val_labels, experiment_ID, save_dir, dataset_type = 'Validation_set')\n",
    "check_distribution_among_datasets(train_labels, experiment_ID, save_dir, dataset_type = 'Training_set')"
   ]
  },
  {
   "cell_type": "markdown",
   "id": "3ff0bae9-d6e8-4bf9-8312-52d975610389",
   "metadata": {},
   "source": [
    "#### Test set?"
   ]
  },
  {
   "cell_type": "code",
   "execution_count": null,
   "id": "5e4b17e5-fa99-407d-8792-100aa47e2284",
   "metadata": {},
   "outputs": [],
   "source": [
    "# Split the data into training and validation sets\n",
    "# train_images, val_images, train_labels, val_labels = train_test_split(images.reshape(num_of_frames, img_height, img_width, channel_dimension), labels, test_size=0.2, random_state=42)"
   ]
  },
  {
   "cell_type": "code",
   "execution_count": null,
   "id": "25748ac7-5471-4d95-b550-b4c52b7d5a73",
   "metadata": {},
   "outputs": [],
   "source": [
    "def train_and_evaluate_model(X_train, y_train, X_val, y_val, input_shape, num_classes, model_version):\n",
    "    # Define the model\n",
    "    model = construct_model(input_shape, num_classes, name=f'model_version_{model_version}')\n",
    "\n",
    "    # Compile the model\n",
    "    model.compile(loss='categorical_crossentropy', optimizer='adam', metrics=['accuracy'])\n",
    "\n",
    "    # Define early stopping callback\n",
    "    early_stop = EarlyStopping(patience=3, monitor='val_loss')\n",
    "\n",
    "    # Train the model on this fold\n",
    "    model.fit(X_train, y_train, validation_data=(X_val, y_val), batch_size=32, epochs=10, callbacks=[early_stop])\n",
    "\n",
    "    # Evaluate the model on the validation set for this fold\n",
    "    score = model.evaluate(X_val, y_val, verbose=0)\n",
    "    print(f\"Validation accuracy: {score[1]:.4f}\")\n",
    "\n",
    "    # Save the model for this fold\n",
    "    save_model(model, f'model_version_{model_version}.h5')"
   ]
  },
  {
   "cell_type": "code",
   "execution_count": null,
   "id": "c84d71f9-a4a6-4efc-9935-3084aae65548",
   "metadata": {},
   "outputs": [],
   "source": [
    "def kfold_cross_validation(train_images, train_labels, num_classes, input_shape):\n",
    "    # Define the number of folds\n",
    "    num_folds = 5\n",
    "\n",
    "    # Define the K-fold cross validator\n",
    "    kf = KFold(n_splits=num_folds, shuffle=True)\n",
    "\n",
    "    # Loop over the folds\n",
    "    for fold, (train_idx, val_idx) in enumerate(kf.split(train_images)):\n",
    "\n",
    "        # Define the training and validation data for this fold\n",
    "        X_train, y_train = train_images[train_idx], train_labels[train_idx]\n",
    "        X_val, y_val = train_images[val_idx], train_labels[val_idx]\n",
    "\n",
    "        # Train and evaluate the model\n",
    "        train_and_evaluate_model(X_train, y_train, X_val, y_val, input_shape, num_classes, fold+1)"
   ]
  },
  {
   "cell_type": "code",
   "execution_count": null,
   "id": "514cb0ae-1623-4fb6-87f1-a17cefadfd2f",
   "metadata": {},
   "outputs": [],
   "source": [
    "kfold_cross_validation(train_images, train_labels, num_classes, input_shape)"
   ]
  },
  {
   "cell_type": "code",
   "execution_count": null,
   "id": "18d26c26-e862-494f-89a2-5fd3c2c7cac3",
   "metadata": {},
   "outputs": [],
   "source": [
    "# Split the data into training and validation sets\n",
    "train_images, val_images, train_labels, val_labels = train_test_split(X, y, test_size=0.2, random_state=42)"
   ]
  },
  {
   "cell_type": "code",
   "execution_count": null,
   "id": "447df7f2-b71c-4e66-b365-38611920e5dd",
   "metadata": {},
   "outputs": [],
   "source": [
    "# Define the function parameters\n",
    "params = {\n",
    "    'input_shape': input_shape,\n",
    "    'num_classes': num_classes,\n",
    "    'epochs': epochs,\n",
    "    'batch_size': batch_size,\n",
    "    'train_images': train_images,\n",
    "    'train_labels': train_labels,\n",
    "    'val_images': val_images,\n",
    "    'val_labels': val_labels\n",
    "}\n",
    "\n",
    "# Call the function\n",
    "train_and_evaluate_model(params)"
   ]
  },
  {
   "cell_type": "markdown",
   "id": "2bf8fa30-73fb-4ae1-ad1d-5a3a0968a429",
   "metadata": {},
   "source": [
    "#### Subtract the minimum frame from all other frames"
   ]
  },
  {
   "cell_type": "code",
   "execution_count": null,
   "id": "2e3c0653-d660-43fc-bf1f-741401b557ba",
   "metadata": {},
   "outputs": [],
   "source": [
    "# # min_frame = np.min(images, axis=0)\n",
    "# # background_removed_frames = []\n",
    "# # for frame in images:\n",
    "# #     background_removed_frames.append(frame - min_frame)\n",
    "    \n",
    "# # images = np.array(background_removed_frames)\n",
    "# # min_frame = np.min(train_images, axis=0)\n",
    "# # train_images = train_images - min_frame\n",
    "\n",
    "# min_frame_train = np.min(train_images, axis=0)\n",
    "# train_images = train_images - min_frame_train\n",
    "\n",
    "# min_frame_val = np.min(val_images, axis=0)\n",
    "# val_images = val_images - min_frame_val"
   ]
  },
  {
   "cell_type": "code",
   "execution_count": null,
   "id": "e9f885f6-1116-4629-9238-37eab4a2e6b1",
   "metadata": {},
   "outputs": [],
   "source": [
    "# str(labels[2400])"
   ]
  },
  {
   "cell_type": "code",
   "execution_count": null,
   "id": "6fc66baf-ffcd-4649-b30a-15734a1b9db5",
   "metadata": {},
   "outputs": [],
   "source": [
    "# sys.path.append('/home/dmc/Desktop/kostas/direct-Behavior-prediction-from-miniscope-calcium-imaging-using-convolutional-neural-networks/src/V2/plots.py')"
   ]
  },
  {
   "cell_type": "code",
   "execution_count": null,
   "id": "b2715432-82cb-4a3a-bf1f-884c33d533bd",
   "metadata": {},
   "outputs": [],
   "source": [
    "# importlib.reload(plots.plot_first_frames)"
   ]
  },
  {
   "cell_type": "code",
   "execution_count": null,
   "id": "f9af8c74-ad11-4988-a10d-4e48934b5cf5",
   "metadata": {},
   "outputs": [],
   "source": [
    "# plot_random_frames(train_images, train_labels, vmin, vmax)\n",
    "# plot_random_frames(val_images, val_labels, vmin, vmax)"
   ]
  },
  {
   "cell_type": "code",
   "execution_count": null,
   "id": "3893d102-7214-46b7-b6c7-9467113fb4a5",
   "metadata": {},
   "outputs": [],
   "source": [
    "# img_array = train_images[9000]"
   ]
  },
  {
   "cell_type": "code",
   "execution_count": null,
   "id": "d313af08-823a-4d2b-a7e5-c2f7ba4877b9",
   "metadata": {},
   "outputs": [],
   "source": [
    "# img = cv2.cvtColor(img_array, cv2.COLOR_GRAY2RGB)"
   ]
  },
  {
   "cell_type": "code",
   "execution_count": null,
   "id": "27345e92-bd05-433c-abc2-120208c373b9",
   "metadata": {},
   "outputs": [],
   "source": [
    "# # Overlay pixel values on top of the image\n",
    "# for y in range(img_height):\n",
    "#     for x in range(img_width):\n",
    "#         value = img_array[y, x]\n",
    "#         text = str(value)\n",
    "#         font = cv2.FONT_HERSHEY_SIMPLEX\n",
    "#         font_scale = 0.3\n",
    "#         thickness = 1\n",
    "#         color = (255, 255, 255)\n",
    "#         position = (x, y)\n",
    "#         cv2.putText(img, text, position, font, font_scale, color, thickness)\n"
   ]
  },
  {
   "cell_type": "code",
   "execution_count": null,
   "id": "8bc6bf9b-5b40-4800-ac32-3e6c33e2d588",
   "metadata": {},
   "outputs": [],
   "source": [
    "# # Display the image\n",
    "# cv2.imshow('image', img)\n",
    "# cv2.waitKey(0)\n",
    "# cv2.destroyAllWindows()"
   ]
  },
  {
   "cell_type": "code",
   "execution_count": null,
   "id": "d094c6db-e398-4ebf-8ef5-e8a5c22fbd65",
   "metadata": {},
   "outputs": [],
   "source": []
  },
  {
   "cell_type": "code",
   "execution_count": null,
   "id": "82601746-fd45-4908-ab1d-fde51f809192",
   "metadata": {},
   "outputs": [],
   "source": [
    "# from sklearn.model_selection import KFold\n",
    "# from keras.callbacks import EarlyStopping\n",
    "\n",
    "# # Define the number of folds for cross-validation\n",
    "# k = 5\n",
    "\n",
    "# # Define the input shape and number of classes for the model\n",
    "# input_shape = (img_height, img_width, channel_dimension)\n",
    "# num_classes = 3\n",
    "\n",
    "# # Define the early stopping callback\n",
    "# early_stop = EarlyStopping(monitor='val_loss', patience=3, verbose=1)\n",
    "\n",
    "# # Create the KFold object\n",
    "# kf = KFold(n_splits=k)\n",
    "\n",
    "\n",
    "# # Loop over the folds\n",
    "# for fold, (train_idx, val_idx) in enumerate(kf.split(X)):\n",
    "\n",
    "#     # Define the model\n",
    "#     model = construct_model(input_shape, num_classes, name='model_fold{}'.format(fold+1))\n",
    "    \n",
    "#     # Compile the model\n",
    "#     model.compile(loss='categorical_crossentropy', optimizer='adam', metrics=['accuracy'])\n",
    "    \n",
    "#     # Define the training and validation data for this fold\n",
    "#     X_train, y_train = X[train_idx], y[train_idx]\n",
    "#     X_val, y_val = X[val_idx], y[val_idx]\n",
    "    \n",
    "#     # Train the model on this fold\n",
    "#     model.fit(X_train, y_train, validation_data=(X_val, y_val), batch_size=32, epochs=10, callbacks=[early_stop])\n",
    "    \n",
    "#     # Evaluate the model on the validation set for this fold\n",
    "#     score = model.evaluate(X_val, y_val, verbose=0)\n",
    "#     print('Fold {} validation accuracy: {:.4f}'.format(fold+1, score[1]))\n",
    "    \n",
    "#     # Save the model for this fold\n",
    "#     model.save('model_fold{}.h5'.format(fold+1))\n",
    "    \n",
    "# # Compute the average validation accuracy over all folds\n",
    "# avg_val_acc = np.mean([score[1] for score in scores])\n",
    "# print('Average validation accuracy: {:.4f}'.format(avg_val_acc))"
   ]
  },
  {
   "cell_type": "markdown",
   "id": "0b6ede52-3664-4916-bcdd-c5b22ee21502",
   "metadata": {
    "tags": []
   },
   "source": [
    "#### Data Augmentation"
   ]
  },
  {
   "cell_type": "code",
   "execution_count": null,
   "id": "698bc900-f9d3-464b-96ff-6c99a365e6dc",
   "metadata": {},
   "outputs": [],
   "source": [
    "# # Perform data augmentation\n",
    "# # Define the augmentation pipeline\n",
    "# augmentation_pipeline = iaa.Sequential([\n",
    "#     iaa.Fliplr(0.5), # flip horizontally with a probability of 0.5\n",
    "#     iaa.Crop(percent=(0, 0.1)), # crop by up to 10% of the image width/height\n",
    "#     iaa.Sometimes(0.5, iaa.GaussianBlur(sigma=(0, 0.5))), # apply Gaussian blur with a probability of 0.5\n",
    "#     # iaa.Affine(rotate=(-10, 10)) # rotate by up to 10 degrees\n",
    "# ])"
   ]
  },
  {
   "cell_type": "code",
   "execution_count": null,
   "id": "f6b6319a-356a-4e8f-8269-978eac0b0b83",
   "metadata": {},
   "outputs": [],
   "source": [
    "# # Apply the augmentation pipeline to the training set\n",
    "# augmented_train_images = []\n",
    "# for image in train_images:\n",
    "#     # Apply the same augmentation operation to both the image and its corresponding annotation\n",
    "#     augmented_image = augmentation_pipeline(image=image)\n",
    "#     augmented_train_images.append(augmented_image)\n"
   ]
  },
  {
   "cell_type": "code",
   "execution_count": null,
   "id": "4bffc8df-2ee6-4849-a02d-2f485f0150cc",
   "metadata": {},
   "outputs": [],
   "source": [
    "# # Convert the augmented training set back to numpy arrays\n",
    "# train_images = np.array(augmented_train_images)"
   ]
  },
  {
   "cell_type": "code",
   "execution_count": null,
   "id": "3f20527b-6f40-48c7-8e62-ba4026435725",
   "metadata": {},
   "outputs": [],
   "source": [
    "# plot_random_frames(train_images, labels)"
   ]
  },
  {
   "cell_type": "markdown",
   "id": "90ef17f8-dc33-4276-8a8b-54251098954b",
   "metadata": {
    "tags": []
   },
   "source": [
    "### Build Model"
   ]
  },
  {
   "cell_type": "code",
   "execution_count": null,
   "id": "8b742b05-ff61-43b7-ae37-6b41e8f71cbe",
   "metadata": {},
   "outputs": [],
   "source": []
  },
  {
   "cell_type": "code",
   "execution_count": null,
   "id": "344b1b7e-c6e9-4eaa-b848-4132d926f7ec",
   "metadata": {},
   "outputs": [],
   "source": [
    "# Create the model by calling the function\n",
    "model = construct_model(input_shape, num_classes, name)"
   ]
  },
  {
   "cell_type": "code",
   "execution_count": null,
   "id": "bb1e6242-13d6-425a-9622-52b07971c65e",
   "metadata": {},
   "outputs": [],
   "source": [
    "# plot model architecture\n",
    "# plot_model(model, to_file='model_plot.png', show_shapes=False, show_layer_names=False)"
   ]
  },
  {
   "cell_type": "code",
   "execution_count": null,
   "id": "15f4243f-94af-4c75-a566-1f988e0dd98e",
   "metadata": {},
   "outputs": [],
   "source": [
    "# import visualkeras\n",
    "# from PIL import ImageFont\n",
    "# visualkeras.layered_view(model, legend=True)\n",
    "# # Define the directory name and the plot name\n",
    "# dir_name = \"/home/dmc/Desktop/kostas/direct-Behavior-prediction-from-miniscope-calcium-imaging-using-convolutional-neural-networks/src/V3/output/architecture\"\n",
    "# plot_name = f\"{model_version}_architecture\"\n",
    "# ann_viz(model, view=True, filename=plot_name, title=\"CNN — \"+str(name)+\" — Simple Architecture\")\n",
    "# plot_path = os.path.join(dir_name, f\"{plot_name}.png\")\n",
    "# plot = plt.gcf()\n",
    "# plot.savefig(plot_path, dpi=300, bbox_inches=\"tight\")"
   ]
  },
  {
   "cell_type": "code",
   "execution_count": null,
   "id": "2c74194a-fd68-401f-8f4c-ed15bc1f0f6a",
   "metadata": {},
   "outputs": [],
   "source": [
    "# from ann_visualizer.visualize import ann_viz\n",
    "# ann_viz(model, view=True, filename=\"cconstruct_model\", title=\"CNN — Model 1 — Simple Architecture\")"
   ]
  },
  {
   "cell_type": "code",
   "execution_count": null,
   "id": "349d4ac6-31ab-4c24-bf2d-df06d2c898b0",
   "metadata": {},
   "outputs": [],
   "source": [
    "# from keras.utils.vis_utils import plot_model\n",
    "# plot_model(model, to_file='model_plot.png', show_shapes=True, show_layer_names=True, rankdir='LR')"
   ]
  },
  {
   "cell_type": "code",
   "execution_count": null,
   "id": "fbfb4ef1-c333-4486-a73d-2fce0344bbc0",
   "metadata": {},
   "outputs": [],
   "source": [
    "# changes grayscale to rgb\n"
   ]
  },
  {
   "cell_type": "code",
   "execution_count": null,
   "id": "5b318f97-56ad-481f-9119-2519d60c7985",
   "metadata": {},
   "outputs": [],
   "source": [
    "validation_data=(val_images, val_labels)"
   ]
  },
  {
   "cell_type": "markdown",
   "id": "c1564a72-c699-4078-ae5f-14611ee53b1b",
   "metadata": {
    "tags": []
   },
   "source": [
    "### Train Model"
   ]
  },
  {
   "cell_type": "markdown",
   "id": "34067e09-e257-4c2b-960e-aa6f89a0f35b",
   "metadata": {
    "tags": []
   },
   "source": [
    "### K-fold cross validation"
   ]
  },
  {
   "cell_type": "code",
   "execution_count": null,
   "id": "2ea9e0d9-ef17-451e-b4cc-ced220d83bdf",
   "metadata": {},
   "outputs": [],
   "source": [
    "\n"
   ]
  },
  {
   "cell_type": "code",
   "execution_count": null,
   "id": "7c1eae61-58b9-47c2-990a-696a8be0949f",
   "metadata": {},
   "outputs": [],
   "source": []
  },
  {
   "cell_type": "code",
   "execution_count": null,
   "id": "68f45731-5470-4104-b301-0aa3beb324f9",
   "metadata": {},
   "outputs": [],
   "source": []
  },
  {
   "cell_type": "code",
   "execution_count": null,
   "id": "c1eaade6-3f2d-4027-a84a-fc4a2baae028",
   "metadata": {},
   "outputs": [],
   "source": []
  },
  {
   "cell_type": "markdown",
   "id": "fe6f12d4-99d1-4d15-b87a-ea878ccc710e",
   "metadata": {},
   "source": [
    "We have 24186 images of dimensions 349x374 and the number 1 demonstrates that images are grayscale."
   ]
  },
  {
   "cell_type": "code",
   "execution_count": null,
   "id": "696bdf1b-dbc9-457d-a04e-38e047838812",
   "metadata": {},
   "outputs": [],
   "source": [
    "params = {\n",
    "    'model': model,\n",
    "    'tf': tf,\n",
    "    'train_images': train_images,\n",
    "    'train_labels': train_labels,\n",
    "    'epochs': epochs,\n",
    "    'batch_size': batch_size,\n",
    "    'validation_data': validation_data,\n",
    "    'val_images': validation_data[0],\n",
    "    'val_labels': validation_data[1]\n",
    "}"
   ]
  },
  {
   "cell_type": "code",
   "execution_count": null,
   "id": "8cfd3f9b-9f48-4607-a5f2-362d44d9a305",
   "metadata": {},
   "outputs": [],
   "source": [
    "save_dir = \"/home/dmc/Desktop/kostas/direct-Behavior-prediction-from-miniscope-calcium-imaging-using-convolutional-neural-networks/src/V3/output/pickles\""
   ]
  },
  {
   "cell_type": "code",
   "execution_count": null,
   "id": "e726aa57-83bd-4e37-8b6f-95c0939e02d3",
   "metadata": {
    "tags": []
   },
   "outputs": [],
   "source": [
    "history = model_execution(params, save_dir, model_version)"
   ]
  },
  {
   "cell_type": "code",
   "execution_count": null,
   "id": "6e26df65-7fa4-4a45-81a8-1cfc1fd7d70d",
   "metadata": {},
   "outputs": [],
   "source": [
    "# # Call the send_email function after your model has finished training\n",
    "# sender_email = 'guskikala@gmail.com'\n",
    "# recipient_email = 'guskikala@gmail.com'\n",
    "# subject = 'CNN Model Training Completed'\n",
    "# message = 'Your CNN model training is complete!'\n",
    "\n",
    "# send_email(sender_email, recipient_email, subject, message)"
   ]
  },
  {
   "cell_type": "markdown",
   "id": "7f195ed0-ea69-4425-9a91-d731367d0825",
   "metadata": {
    "tags": []
   },
   "source": [
    "### Save results"
   ]
  },
  {
   "cell_type": "code",
   "execution_count": null,
   "id": "d52ebf8a-fd97-468e-b88b-5b7d78273303",
   "metadata": {},
   "outputs": [],
   "source": []
  },
  {
   "cell_type": "code",
   "execution_count": null,
   "id": "efefee39-6ca2-4e16-8498-7e8e3f4b4fd8",
   "metadata": {},
   "outputs": [],
   "source": []
  },
  {
   "cell_type": "code",
   "execution_count": null,
   "id": "e702dbdd-02df-44b8-beed-a25139174526",
   "metadata": {},
   "outputs": [],
   "source": [
    "%store model\n",
    "%store history\n",
    "%store name\n",
    "%store comment\n",
    "%store experiment_ID\n",
    "%store save_dir\n",
    "%store model_version"
   ]
  },
  {
   "cell_type": "code",
   "execution_count": null,
   "id": "abb53f97-02c8-459a-b1ec-1041f808db98",
   "metadata": {},
   "outputs": [],
   "source": [
    "#save_training_info(model, history, video_name, comment, experiment_ID, save_dir, f1_score=f1_score)"
   ]
  },
  {
   "cell_type": "markdown",
   "id": "f9e43045-42d0-4f41-8add-ac3e5b08dd82",
   "metadata": {},
   "source": [
    "High bias: If the training accuracy is low, it suggests that the model is underfitting the training data, i.e., it is not complex enough to capture the patterns in the data. In this case, you may need to increase the model's complexity by adding more layers or neurons, or by using a more complex architecture.\n",
    "\n",
    "High variance: If the training accuracy is high but the validation accuracy is low, it suggests that the model is overfitting the training data, i.e., it is memorizing the training data instead of generalizing to new data. In this case, you may need to use regularization techniques like dropout or L2 regularization, or use early stopping to prevent the model from overfitting.\n",
    "\n",
    "Good fit: If the training accuracy and validation accuracy are both high and close to each other, it suggests that the model is neither underfitting nor overfitting the data, i.e., it is generalizing well to new data.\n",
    "\n",
    "Plateauing: If the validation accuracy is no longer increasing as the training set size or epochs increase, it suggests that the model has reached its capacity and adding more data or epochs is unlikely to improve its performance.\n",
    "\n",
    "In general, a model accuracy curve can help you diagnose issues with your model and guide you in selecting appropriate strategies to improve its performance. It can also give you an idea of how much training data or how many epochs you need to achieve good performance."
   ]
  },
  {
   "cell_type": "code",
   "execution_count": null,
   "id": "7517b857-b550-4fe3-8fa9-086ca8a4e8c9",
   "metadata": {},
   "outputs": [],
   "source": []
  },
  {
   "cell_type": "code",
   "execution_count": null,
   "id": "1c658eb9-2008-4398-82f9-e34a230b7cd4",
   "metadata": {},
   "outputs": [],
   "source": [
    "# def plot_confusion_matrix(model, images, labels, classes, title):\n",
    "#     # Predict the class labels using the model\n",
    "#     predicted_labels = np.argmax(model.predict(images), axis=1)\n",
    "\n",
    "#     # Compute the confusion matrix using the predicted class labels and the true class labels\n",
    "#     confusion = confusion_matrix(labels, predicted_labels)\n",
    "\n",
    "#     # Plot the confusion matrix\n",
    "#     fig, ax = plt.subplots(figsize=(10,10))\n",
    "#     ax.imshow(confusion)\n",
    "#     ax.set_xticks(np.arange(len(classes)))\n",
    "#     ax.set_yticks(np.arange(len(classes)))\n",
    "#     ax.set_xticklabels(classes)\n",
    "#     ax.set_yticklabels(classes)\n",
    "#     ax.set_xlabel('Predicted')\n",
    "#     ax.set_ylabel('True')\n",
    "#     ax.set_title(title)\n",
    "#     plt.show()\n"
   ]
  },
  {
   "cell_type": "code",
   "execution_count": null,
   "id": "1778f6fe-63fa-443f-922c-6d5399d3a000",
   "metadata": {},
   "outputs": [],
   "source": [
    "\n",
    "# # Plot the confusion matrix for the training set\n",
    "# plot_confusion_matrix(model, train_images, train_labels, num_classes, 'Confusion Matrix for Training Set')\n",
    "\n",
    "# # Plot the confusion matrix for the validation set\n",
    "# plot_confusion_matrix(model, val_images, val_labels, num_classes, 'Confusion Matrix for Validation Set')"
   ]
  },
  {
   "cell_type": "code",
   "execution_count": null,
   "id": "64c6d846-2b61-4f68-a2ae-279a57b48e7c",
   "metadata": {},
   "outputs": [],
   "source": []
  },
  {
   "cell_type": "code",
   "execution_count": null,
   "id": "312f730b-f468-4a63-b03a-b3a523cb3dd6",
   "metadata": {},
   "outputs": [],
   "source": []
  },
  {
   "cell_type": "code",
   "execution_count": null,
   "id": "431ae521-a723-4ec5-8971-719c5445f462",
   "metadata": {},
   "outputs": [],
   "source": []
  },
  {
   "cell_type": "markdown",
   "id": "d33d2a18-cee9-4f83-8e80-e89e1ef699c8",
   "metadata": {
    "tags": []
   },
   "source": [
    "### Reflect on the results"
   ]
  },
  {
   "cell_type": "markdown",
   "id": "b1c7f0d1-8e62-4c31-8d65-d7e144301753",
   "metadata": {},
   "source": [
    "1. Insufficient data? One calcium video of 24186 frames and with 349x374 dimensions.\n",
    "2. Model architecture not appropriate. Try increasing the number of layers or filters, or adding more complex layers like BatchNormalization, Dropout, or Conv2DTranspose.\n",
    "3. Incorrect data preprocessing\n",
    "4. Incorrect hyperparameters\n",
    "5. Class Imbalance (do oversampling, or undersampling)"
   ]
  },
  {
   "cell_type": "markdown",
   "id": "98ae0ef6-1f9c-4afe-8c56-dd0563e9f96e",
   "metadata": {
    "tags": []
   },
   "source": [
    "### [Ignore for now]"
   ]
  },
  {
   "cell_type": "code",
   "execution_count": null,
   "id": "c9706562-e303-41cc-9e85-ec00240b827f",
   "metadata": {},
   "outputs": [],
   "source": [
    "# from keras.layers import BatchNormalization\n",
    "# from keras.preprocessing.image import ImageDataGenerator\n",
    "\n",
    "# model = Sequential()\n",
    "\n",
    "# model.add(Conv2D(64, kernel_size=(3, 3), activation='relu', input_shape=(img_height, img_width, channel_dimension)))\n",
    "# model.add(BatchNormalization())\n",
    "# model.add(MaxPooling2D(pool_size=(2, 2)))\n",
    "\n",
    "# model.add(Conv2D(128, kernel_size=(3, 3), activation='relu'))\n",
    "# model.add(BatchNormalization())\n",
    "# model.add(MaxPooling2D(pool_size=(2, 2)))\n",
    "\n",
    "# model.add(Conv2D(256, kernel_size=(3, 3), activation='relu'))\n",
    "# model.add(BatchNormalization())\n",
    "# model.add(MaxPooling2D(pool_size=(2, 2)))\n",
    "\n",
    "# model.add(Flatten())\n",
    "\n",
    "# model.add(Dense(256, activation='relu'))\n",
    "# model.add(BatchNormalization())\n",
    "# model.add(Dropout(0.5))\n",
    "\n",
    "# model.add(Dense(128, activation='relu'))\n",
    "# model.add(BatchNormalization())\n",
    "# model.add(Dropout(0.5))\n",
    "\n",
    "# model.add(Dense(num_classes, activation='softmax'))\n",
    "\n",
    "# model.compile(loss='categorical_crossentropy', optimizer='adam', metrics=['accuracy'])\n",
    "\n",
    "# # reshape train_images to have 4 dimensions\n",
    "# train_images = np.expand_dims(train_images, axis=-1)\n",
    "\n",
    "# # Reshape train_images to have 4 dimensions\n",
    "# #train_images = np.squeeze(train_images)\n",
    "# # train_images = np.squeeze(train_images, axis=-1)\n",
    "# # train_images = np.squeeze(train_images, axis=-1)\n",
    "# # train_images = np.squeeze(train_images, axis=-1)\n",
    "# # train_images = np.expand_dims(train_images, axis=-1)\n",
    "\n",
    "\n",
    "# # Data augmentation\n",
    "# train_datagen = ImageDataGenerator(rotation_range=10, width_shift_range=0.1, height_shift_range=0.1, \n",
    "#                                    shear_range=0.1, zoom_range=0.1, horizontal_flip=True, fill_mode='nearest')\n",
    "\n",
    "# history = model.fit(train_datagen.flow(train_images, train_labels, batch_size=batch_size),\n",
    "#                     epochs=epochs,\n",
    "#                     steps_per_epoch=len(train_images) // batch_size,\n",
    "#                     shuffle=True)"
   ]
  },
  {
   "cell_type": "code",
   "execution_count": null,
   "id": "d5b192bf-a682-48c0-bcf4-f30847b0da8a",
   "metadata": {},
   "outputs": [],
   "source": []
  },
  {
   "cell_type": "code",
   "execution_count": null,
   "id": "94ae0843-9623-4e7f-8e88-a647d9406d63",
   "metadata": {},
   "outputs": [],
   "source": [
    "# Reusable snippets"
   ]
  },
  {
   "cell_type": "code",
   "execution_count": null,
   "id": "e9b0684b-764a-418c-a033-ff5fe9ce130b",
   "metadata": {},
   "outputs": [],
   "source": [
    "# Load calcium video from local environment\n",
    "# with h5py.File('path', 'r') as f:\n",
    "#     video_data = np.array(f['analysis/recording_20211016_163921-PP-BP-MC/data'])"
   ]
  },
  {
   "cell_type": "code",
   "execution_count": null,
   "id": "72b34b51-5633-42e3-8399-6842489b6bfb",
   "metadata": {},
   "outputs": [],
   "source": [
    "# Loading locally\n",
    "# with h5py.File('/Users/konstantinoskalaitzidis/Developer/dmc/thesis_data/20211016_163921_animal1learnday1.h5', 'r') as f:\n",
    "#     print(list(f.keys()))\n",
    "#     behavior_data = np.array(f['per_frame'])"
   ]
  },
  {
   "cell_type": "code",
   "execution_count": null,
   "id": "22276208-f41e-4589-9672-50de6e38d4b4",
   "metadata": {},
   "outputs": [],
   "source": [
    "# # save the model architecture to a JSON file\n",
    "# with open('model_architecture.json', 'w') as f:\n",
    "#     f.write(model.to_json())"
   ]
  },
  {
   "cell_type": "code",
   "execution_count": null,
   "id": "05dc765c-32f7-4a47-bc62-518a371b26b9",
   "metadata": {},
   "outputs": [],
   "source": [
    "# # load the model architecture from the JSON file\n",
    "# with open('model_architecture.json', 'r') as f:\n",
    "#     json_string = f.read()\n",
    "\n",
    "# model_json = model_from_json(json_string)\n",
    "\n",
    "# # print the loaded model summary\n",
    "# model.summary()"
   ]
  },
  {
   "cell_type": "code",
   "execution_count": null,
   "id": "2f5af676-d833-4e4a-a4c3-3055adb4ce90",
   "metadata": {},
   "outputs": [],
   "source": [
    "# mySession = readSessionServer.SessionIterator()\n",
    "# sess = mySession.findSession()\n",
    "# # for sess in mySession.findSessions():\n",
    "# #     print(sess)\n",
    "# if sess.hasBehavior() and sess.hasCalcium():\n",
    "#     behavior = sess.getBehaviorSegmentation(align_with_calcium=True).reset_index()"
   ]
  },
  {
   "cell_type": "markdown",
   "id": "2f3d1a2e-7307-44d7-9863-dd06baee6227",
   "metadata": {
    "tags": []
   },
   "source": [
    "## [Ignore for now] Define hyperparameters"
   ]
  },
  {
   "cell_type": "code",
   "execution_count": null,
   "id": "719e2a1c-7040-4335-8231-bb45e2893d4b",
   "metadata": {},
   "outputs": [],
   "source": [
    "# IMG_SIZE = 224\n",
    "# BATCH_SIZE = 64\n",
    "# EPOCHS = 10\n",
    "\n",
    "# MAX_SEQ_LENGTH = 20\n",
    "# NUM_FEATURES = 2048"
   ]
  },
  {
   "cell_type": "code",
   "execution_count": null,
   "id": "9bd45347-075a-4435-bddb-288d8bc3e506",
   "metadata": {},
   "outputs": [],
   "source": [
    "# import sys\n",
    "# sys.path.append(\"/Users/konstantinoskalaitzidis/Developer/dmc\")\n",
    "# from readSessionsServer import SessionIterator\n",
    "\n",
    "#TODO: Script to retrieve videos from a list of calcium videos (of the same animal) from the db"
   ]
  },
  {
   "cell_type": "markdown",
   "id": "941e710a-0385-4e70-b22f-2fc22953ff07",
   "metadata": {
    "tags": []
   },
   "source": [
    "## Dataset preparation and label annotation (feature engineering)"
   ]
  },
  {
   "cell_type": "markdown",
   "id": "b0b3d25e-b6b2-423b-9660-33db62493079",
   "metadata": {
    "tags": []
   },
   "source": [
    "### [Ignore for now] Data availale for processing - overview"
   ]
  },
  {
   "cell_type": "markdown",
   "id": "c51d84e0-6996-46bb-8d8f-e3e30d7b0250",
   "metadata": {},
   "source": [
    "The following is not going to be used for now but will allow us to have an overview of all the videos I have available to train my CNN model. I expect to have all recordings sessions for each animal as input for the CNN which is going to be trained only based on recordings from the corresponding animal. The data will be split to train/test at some point..."
   ]
  },
  {
   "cell_type": "code",
   "execution_count": null,
   "id": "a5c8f7e6-4142-4d8c-abde-d6aeedf14113",
   "metadata": {},
   "outputs": [],
   "source": [
    "# train_df = pd.read_csv(\"train.csv\")\n",
    "# test_df = pd.read_csv(\"test.csv\")\n",
    "\n",
    "# print(f\"Total videos for training: {len(train_df)}\")\n",
    "# print(f\"Total videos for testing: {len(test_df)}\")\n",
    "\n",
    "# train_df.sample(10)"
   ]
  },
  {
   "cell_type": "markdown",
   "id": "0c1cc62e-96d3-4a65-aaff-a4f869cff76b",
   "metadata": {},
   "source": [
    "Extract frames from the calcium imaging video and save to directory. Each frame contains spatial information, and the sequence of those frames contains temporal information (the latter is not exploited for now). Maybe also ask for path input from the user to make it reproducible for others.\n",
    "\n",
    "Helpful source: https://keras.io/examples/vision/video_classification/"
   ]
  },
  {
   "cell_type": "markdown",
   "id": "9f96f31b-c607-4a50-bb5f-9ef8fecdd3e3",
   "metadata": {},
   "source": [
    "The number of frames may differ from video to video.\n",
    "The frame rate may also differ from video to video but it should be 20fps for all. "
   ]
  },
  {
   "cell_type": "markdown",
   "id": "f7dcdb7b-7022-485c-9c96-591b3711feab",
   "metadata": {},
   "source": [
    "The duration of each frame depends on the frame rate of the video. If a video has a frame rate of 25 fps, then each frame will have a duration of 1/25th of a second, or approximately 0.04 seconds. The calcium videos use 20fps, while the behavioral recordings are at 60fps. Alignment of these videos will follow shortly. "
   ]
  },
  {
   "cell_type": "markdown",
   "id": "08a3ae92-9853-43c3-bbef-ede04ab1aec4",
   "metadata": {
    "tags": []
   },
   "source": [
    "### [Ignore for now] Fetch all calcium videos from the dmc database and align calcium videos with behavior annotations"
   ]
  },
  {
   "cell_type": "code",
   "execution_count": null,
   "id": "6a136ef5-f526-417f-bc03-855d4e07fb51",
   "metadata": {},
   "outputs": [],
   "source": [
    "# mySession = readSessionServer.SessionIterator()\n",
    "# for sess in mySession.findSessions():\n",
    "#     print(sess)\n",
    "    # if sess.hasBehavior() and sess.hasCalcium():\n",
    "        # behavior = sess.getBehaviorSegmentation(align_with_calcium=True).reset_index()"
   ]
  },
  {
   "cell_type": "markdown",
   "id": "4a5de1e4-345a-4132-95cc-948a88666259",
   "metadata": {
    "tags": []
   },
   "source": [
    "### [Ignore for now] Open calcium video locally, create dir for saving frames and count number of frames with OpenCV"
   ]
  },
  {
   "cell_type": "code",
   "execution_count": null,
   "id": "66c7bceb-62a8-4589-874f-bd05dd118bb7",
   "metadata": {},
   "outputs": [],
   "source": [
    "# Open the HDF5 file\n",
    "# with h5py.File('/Users/konstantinoskalaitzidis/Developer/dmc/thesis_data/20211016_163921_animal1learnday1.nwb', 'r') as f:\n",
    "#     # Print the keys of the file\n",
    "#     print(list(f.keys()))\n",
    "#     # dataset = f['identifier'][()]\n",
    "#     # print(dataset)"
   ]
  },
  {
   "cell_type": "code",
   "execution_count": null,
   "id": "71e9d178-da84-4268-a626-e8ae346556ee",
   "metadata": {},
   "outputs": [],
   "source": [
    "# Directory where frames from video will be stored after extraction\n",
    "# frames_dir = \"path\""
   ]
  },
  {
   "cell_type": "code",
   "execution_count": null,
   "id": "fbee6769-dd9e-4d13-bcb3-7b51b960dce5",
   "metadata": {},
   "outputs": [],
   "source": [
    "# Open the video using OpenCV and count the number of frames\n",
    "# cap = cv2.VideoCapture(raw_calcium_video_path)\n",
    "# frame_count = int(cap.get(cv2.CAP_PROP_FRAME_COUNT))\n",
    "# cap.release()\n",
    "\n",
    "# print(f\"Number of frames in the video: {frame_count}\")"
   ]
  },
  {
   "cell_type": "code",
   "execution_count": null,
   "id": "4bce9c58-3dd8-4fd6-afb3-9dfb9473b873",
   "metadata": {},
   "outputs": [],
   "source": [
    "# video = 'path'\n",
    "\n",
    "# cap = cv2.VideoCapture(video)\n",
    "# frame_count = int(cap.get(cv2.CAP_PROP_FRAME_COUNT))\n",
    "# cap.release()\n",
    "\n",
    "# print(f\"Number of frames in the video: {frame_count}\")"
   ]
  },
  {
   "cell_type": "code",
   "execution_count": null,
   "id": "98fed508-e062-4c0e-8c82-5c49e8c5314d",
   "metadata": {},
   "outputs": [],
   "source": [
    "# Open the video file\n",
    "# cap = cv2.VideoCapture(video)\n",
    "\n",
    "# # Get the frame rate of the video\n",
    "# frame_rate = int(cap.get(cv2.CAP_PROP_FPS))\n",
    "\n",
    "# # Release the video capture object\n",
    "# cap.release()\n",
    "\n",
    "# print(f\"Frame rate of the video: {frame_rate}\")"
   ]
  },
  {
   "cell_type": "code",
   "execution_count": null,
   "id": "2146d11a-949c-4877-a84c-5d2e762967d3",
   "metadata": {},
   "outputs": [],
   "source": [
    "# save each frame as one image"
   ]
  },
  {
   "cell_type": "code",
   "execution_count": null,
   "id": "787686cd-d9a4-4939-8ab2-7b7b3f8fbffb",
   "metadata": {},
   "outputs": [],
   "source": [
    "# cap = cv2.VideoCapture(video)\n",
    "\n",
    "# # Loop through the video frames and save each one as an image file\n",
    "# frame_count = 0\n",
    "# while(cap.isOpened()):\n",
    "#     ret, frame = cap.read()\n",
    "#     if ret == False:\n",
    "#         break\n",
    "#     # Save the frame as an image file\n",
    "#     frame_file = os.path.join(frames_dir, \"frame_\" + str(frame_count) + \".jpg\")\n",
    "#     cv2.imwrite(frame_file, frame)\n",
    "#     frame_count += 1\n",
    "\n",
    "# # Close the video file\n",
    "# cap.release()"
   ]
  },
  {
   "cell_type": "code",
   "execution_count": null,
   "id": "d8fd9685-0c81-4a69-b3ee-ed6c91b9f7ed",
   "metadata": {},
   "outputs": [],
   "source": [
    "# # define paths\n",
    "# video_path = '/Users/konstantinoskalaitzidis/Developer/dmc/thesis_data/20211016_163921_animal1learnday1.nwb'\n",
    "# train_dir = '/Users/konstantinoskalaitzidis/Developer/dmc/thesis_data/train'\n",
    "# test_dir = '/Users/konstantinoskalaitzidis/Developer/dmc/thesis_data/test'\n",
    "\n",
    "# # define train-test split ratio\n",
    "# train_test_ratio = 0.8\n",
    "\n",
    "# # open video file\n",
    "# cap = cv2.VideoCapture(video_path)\n",
    "\n",
    "# # get video frame count\n",
    "# frame_count = int(cap.get(cv2.CAP_PROP_FRAME_COUNT))\n",
    "\n",
    "# # create list of frame indices\n",
    "# frame_indices = list(range(frame_count))\n",
    "\n",
    "# # shuffle frame indices\n",
    "# random.shuffle(frame_indices)\n",
    "\n",
    "# # split frame indices into train and test sets\n",
    "# train_frame_indices = frame_indices[:int(frame_count * train_test_ratio)]\n",
    "# test_frame_indices = frame_indices[int(frame_count * train_test_ratio):]\n",
    "\n",
    "# # iterate over frames and save to train or test directory\n",
    "# for i in range(frame_count):\n",
    "#     # read frame\n",
    "#     ret, frame = cap.read()\n",
    "#     if not ret:\n",
    "#         break\n",
    "    \n",
    "#     # save frame to train or test directory\n",
    "#     if i in train_frame_indices:\n",
    "#         cv2.imwrite(os.path.join(train_dir, f'{i}.jpg'), frame)\n",
    "#     else:\n",
    "#         cv2.imwrite(os.path.join(test_dir, f'{i}.jpg'), frame)"
   ]
  }
 ],
 "metadata": {
  "kernelspec": {
   "display_name": "new_kostas_env",
   "language": "python",
   "name": "new_kostas_env"
  },
  "language_info": {
   "codemirror_mode": {
    "name": "ipython",
    "version": 3
   },
   "file_extension": ".py",
   "mimetype": "text/x-python",
   "name": "python",
   "nbconvert_exporter": "python",
   "pygments_lexer": "ipython3",
   "version": "3.10.9"
  },
  "vscode": {
   "interpreter": {
    "hash": "aee8b7b246df8f9039afb4144a1f6fd8d2ca17a180786b69acc140d282b71a49"
   }
  }
 },
 "nbformat": 4,
 "nbformat_minor": 5
}
