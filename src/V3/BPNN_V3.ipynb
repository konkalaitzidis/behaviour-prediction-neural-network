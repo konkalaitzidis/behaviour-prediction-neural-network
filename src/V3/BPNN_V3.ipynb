{
 "cells": [
  {
   "cell_type": "markdown",
   "id": "298e493d-7c15-4116-970f-7a6de5f5d8e9",
   "metadata": {
    "tags": []
   },
   "source": [
    "## Setup"
   ]
  },
  {
   "cell_type": "markdown",
   "id": "9e82ea39-5b6c-4c12-a725-4e8c43abb055",
   "metadata": {
    "tags": []
   },
   "source": [
    "NOTE: All dependencies are within a conda environment to ensure reproducibility. To install all dependencies: pip install -r requirements.txt"
   ]
  },
  {
   "cell_type": "code",
   "execution_count": null,
   "id": "eba8283c-185b-4595-82ad-2e1ac5ec5d97",
   "metadata": {
    "tags": []
   },
   "outputs": [],
   "source": [
    "import tensorflow.compat.v1 as tf\n",
    "#Lets see if tensorflow finds the GPU\n",
    "print(\"Num GPUs Available: \", len(tf.config.list_physical_devices('GPU')))\n",
    "# import tensorflow as tf"
   ]
  },
  {
   "cell_type": "code",
   "execution_count": null,
   "id": "4384096d-cb3e-4056-b096-8fa2252c12b2",
   "metadata": {},
   "outputs": [],
   "source": [
    "# #Lets see if it works\n",
    "tf.ones(1) + tf.ones(1)"
   ]
  },
  {
   "cell_type": "code",
   "execution_count": null,
   "id": "cc9f33ac-2298-44bc-addc-fc0b862c345c",
   "metadata": {
    "tags": []
   },
   "outputs": [],
   "source": [
    "import numpy as np # for working with arrays and matrices\n",
    "import pandas as pd # for data manipulation and analysis\n",
    "import matplotlib.pyplot as plt # for data visualization\n",
    "import seaborn as sns # for data visualization\n",
    "import time # for time-related functions\n",
    "import random # for random number generation\n",
    "import cv2 # for computer vision and image processing tasks\n",
    "import datetime # for saving date and time information\n",
    "import csv # for loading csv files\n",
    "\n",
    "\n",
    "import h5py # for working with HDF5 (Hierarchical Data Format) files\n",
    "import boto3 # for working with Amazon Web Services (AWS)\n",
    "from pynwb import NWBHDF5IO # for working with Neurodata Without Border (NWB) files\n",
    "import fsspec \n",
    "from fsspec.implementations.cached import CachingFileSystem # library used for working with various file systems in Python.\n",
    "import requests \n",
    "import aiohttp # libraries which are used for making HTTP requests in Python.\n",
    "import os # OS module provides various operating system-related functions to the code\n",
    "import pickle\n",
    "import re\n",
    "\n",
    "\n",
    "# used for splitting data into training and testing sets in Python.\n",
    "from sklearn.model_selection import train_test_split \n",
    "\n",
    "\n",
    "from tensorflow.keras import datasets, layers, models\n",
    "from tensorflow.keras.utils import plot_model\n",
    "import imgaug.augmenters as iaa\n",
    "\n",
    "import importlib\n",
    "\n",
    "# # Loading functions\n",
    "from load_calcium_video import load_video_data, load_one_video\n",
    "from pixel_values_normalization import normalize_video\n",
    "from align_behavior_to_calcium import align_files_old_labels, align_files_new_labels\n",
    "from class_balance import check_class_imbalance_old, check_class_imbalance_new, check_class_imbalance_old_merged\n",
    "from model_architecture import construct_model\n",
    "from preprocessing_model import model_preprocessing\n",
    "from run_model import model_execution\n",
    "# from save_model_info import save_training_info\n",
    "from plots import plot_first_frames, plot_random_frames, plot_image_pixel_values\n",
    "from send_email_when_code_is_run import send_email\n",
    "import run_k_fold_model\n",
    "\n",
    "\n",
    "from urllib.parse import urlparse\n",
    "from ann_visualizer.visualize import ann_viz\n",
    "import sys\n",
    "sys.path.append('/home/dmc/Desktop/kostas/direct-Behavior-prediction-from-miniscope-calcium-imaging-using-convolutional-neural-networks/src/V3')\n",
    "from nwb_data_generator import NWBDataGeneratorTime\n",
    "\n",
    "# sklearn\n",
    "from sklearn.model_selection import KFold\n",
    "import h5py\n",
    "\n"
   ]
  },
  {
   "cell_type": "code",
   "execution_count": null,
   "id": "b6197c9d-f10e-40cc-8b12-da9d6cef45c9",
   "metadata": {},
   "outputs": [],
   "source": [
    "comment =  \"single video, training and testing, 5-fold, accuracy, loss, cm\" #\"k-fold-cross validation, one video, old (25) labels, new architecture\"\n",
    "\n",
    "# what your experiment's ID number?\n",
    "experiment_ID = '4.3'\n",
    "\n",
    "# which animal data files are you using?\n",
    "data_file = 'Animal3Learnday11'\n",
    "\n",
    "# What is the experiment's name?\n",
    "experiment_name = str(data_file)+\"_\"+str(experiment_ID)\n",
    "\n",
    "# What is the train-test split strategy?\n",
    "train_test_split_strategy = \"k-fold\"\n",
    "\n",
    "# What is the name of you model?\n",
    "name = 'BPNN_V3'\n",
    "\n",
    "# What is the model's version?\n",
    "model_version = str(name)+'_1'\n",
    "\n",
    "# Which labels am I using? Old or New?\n",
    "labels_type = 'old' # or 'old'\n",
    "\n",
    "\n",
    "\n",
    "# will you merge labels or not?\n",
    "merge_labels = False\n",
    "\n",
    "# Shuffle data? This to find chance performance\n",
    "shuffled_labels = True\n",
    "\n",
    "# Which architecture am I using \n",
    "architecture_type = 'standard' # or 'old'\n",
    "\n",
    "# am i analysing multiple videos or only one?\n",
    "multiple_videos = False \n",
    "\n",
    "# store the initiation variables:\n",
    "%store experiment_ID\n",
    "%store data_file\n",
    "%store experiment_name\n",
    "%store train_test_split_strategy\n",
    "%store name\n",
    "%store model_version\n",
    "%store labels_type\n",
    "%store merge_labels\n",
    "%store shuffled_labels\n",
    "%store architecture_type\n",
    "%store multiple_videos"
   ]
  },
  {
   "cell_type": "code",
   "execution_count": null,
   "id": "128440b6-9313-4558-9fd8-33fbd4a247ae",
   "metadata": {},
   "outputs": [],
   "source": [
    "# # Define the name of the output directory\n",
    "# output_dir = \"output\"\n",
    "\n",
    "# # Check if the output directory already exists\n",
    "# if not os.path.exists(output_dir):\n",
    "#     # Create the output directory\n",
    "#     os.mkdir(output_dir)\n",
    "\n",
    "#     # Create the balance, accuracy, loss, and cm directories inside the output directory\n",
    "#     os.mkdir(os.path.join(output_dir, \"balance\"))\n",
    "#     os.mkdir(os.path.join(output_dir, \"accuracy\"))\n",
    "#     os.mkdir(os.path.join(output_dir, \"loss\"))\n",
    "#     os.mkdir(os.path.join(output_dir, \"cm\"))\n",
    "#     os.mkdir(os.path.join(output_dir, \"architecture\"))\n",
    "#     os.mkdir(os.path.join(output_dir, \"pickles\"))\n",
    "# else:\n",
    "#     print(f\"The directory {output_dir} already exists.\")\n",
    "\n",
    "# create output directory\n",
    "output_dir = str(experiment_ID)+'_output'\n",
    "if not os.path.exists(output_dir):\n",
    "    os.mkdir(output_dir)\n",
    "    os.mkdir(os.path.join(output_dir, \"balance\"))\n",
    "    os.mkdir(os.path.join(output_dir, \"accuracy\"))\n",
    "    os.mkdir(os.path.join(output_dir, \"loss\"))\n",
    "    os.mkdir(os.path.join(output_dir, \"cm\"))\n",
    "    os.mkdir(os.path.join(output_dir, \"architecture\"))\n",
    "    os.mkdir(os.path.join(output_dir, \"pickles\"))\n",
    "    \n",
    "%store output_dir"
   ]
  },
  {
   "cell_type": "code",
   "execution_count": null,
   "id": "7403bc8c-81b1-42bb-aed9-610ba563fdb6",
   "metadata": {},
   "outputs": [],
   "source": []
  },
  {
   "cell_type": "markdown",
   "id": "ded2c471-893f-4aba-835a-a4a8522f0a0f",
   "metadata": {
    "tags": []
   },
   "source": [
    "### Loading Calcium Videos"
   ]
  },
  {
   "cell_type": "code",
   "execution_count": null,
   "id": "5d120ca4-00ce-4a0d-876e-cd85d207e818",
   "metadata": {},
   "outputs": [],
   "source": [
    "video_name_list = []\n",
    "video_data_list = []\n",
    "\n",
    "if multiple_videos == True:\n",
    "    # paths to videos\n",
    "    video_paths = [\"/home/dmc/Desktop/kostas/direct-Behavior-prediction-from-miniscope-calcium-imaging-using-convolutional-neural-networks/data/20211025_184906_animal3learnday8.nwb\", \n",
    "                   \"/home/dmc/Desktop/kostas/direct-Behavior-prediction-from-miniscope-calcium-imaging-using-convolutional-neural-networks/data/20211026_142935_animal3learnday9.nwb\", \n",
    "                   \"/home/dmc/Desktop/kostas/direct-Behavior-prediction-from-miniscope-calcium-imaging-using-convolutional-neural-networks/data/20211027_165052_animal3learnday10.nwb\"]\n",
    "    # load the CSV file with the FOV information\n",
    "    fov_info = pd.read_csv('/home/dmc/Desktop/kostas/direct-Behavior-prediction-from-miniscope-calcium-imaging-using-convolutional-neural-networks/src/V3/aligned_videos_animal3.csv')\n",
    "    images = load_video_data(video_paths, fov_info, video_name_list, video_data_list)\n",
    "\n",
    "else:\n",
    "    # change the path if you're using another video other than animal3learnday11\n",
    "    # video_path = [\"/home/dmc/Desktop/kostas/direct-Behavior-prediction-from-miniscope-calcium-imaging-using-convolutional-neural-networks/data/20211028_174510_animal2learnday11.nwb\"]    \n",
    "    video_path = [\"/home/dmc/Desktop/kostas/direct-Behavior-prediction-from-miniscope-calcium-imaging-using-convolutional-neural-networks/data/20211028_181307_animal3learnday11.nwb\"]\n",
    "    images = load_one_video(video_path, video_name_list, video_data_list)"
   ]
  },
  {
   "cell_type": "code",
   "execution_count": null,
   "id": "694827e3-8e16-48a6-badd-b457d0a99589",
   "metadata": {},
   "outputs": [],
   "source": [
    "images[0].shape"
   ]
  },
  {
   "cell_type": "code",
   "execution_count": null,
   "id": "df3d9dc2-38ac-495a-b8f8-fa2ee5bb584b",
   "metadata": {
    "tags": []
   },
   "outputs": [],
   "source": [
    "# Check if the video has been loaded correctly\n",
    "images[:1]"
   ]
  },
  {
   "cell_type": "code",
   "execution_count": null,
   "id": "cb5e2e43-31a0-454a-8264-5227aef46851",
   "metadata": {
    "tags": []
   },
   "outputs": [],
   "source": [
    "# Determine the size of the calcium video dataset\n",
    "num_of_frames = images.shape[0]\n",
    "img_height = images.shape[1]\n",
    "img_width = images.shape[2]\n",
    "print(\"The number of video frames is \", num_of_frames, \" and the frame dimensions (height x width) are: \", img_height, \"X\", img_width)"
   ]
  },
  {
   "cell_type": "markdown",
   "id": "1cc2ab01-9899-4102-9cc0-3886660ee094",
   "metadata": {
    "tags": []
   },
   "source": [
    "### Load Labels"
   ]
  },
  {
   "cell_type": "code",
   "execution_count": null,
   "id": "c1b9476a-23e9-4bf7-ab3c-ae26bf707d99",
   "metadata": {},
   "outputs": [],
   "source": [
    "# set this depending on how many videos you're reading\n",
    "num_of_videos = 1\n",
    "\n",
    "\n",
    "if multiple_videos == False:\n",
    "    \n",
    "    # bonsai_paths = [\"/home/dmc/Desktop/kostas/direct-Behavior-prediction-from-miniscope-calcium-imaging-using-convolutional-neural-networks/data/tmaze_2021-10-28T17_45_15.csv\"]\n",
    "    bonsai_paths = [\"/home/dmc/Desktop/kostas/direct-Behavior-prediction-from-miniscope-calcium-imaging-using-convolutional-neural-networks/data/tmaze_2021-10-28T18_13_23.csv\"]\n",
    "    if labels_type == 'old':\n",
    "        \n",
    "        # behavior_paths = [\"/home/dmc/Desktop/kostas/direct-Behavior-prediction-from-miniscope-calcium-imaging-using-convolutional-neural-networks/data/20211028_174510_animal2learnday11.h5\"]\n",
    "        \n",
    "        behavior_paths = [\"/home/dmc/Desktop/kostas/direct-Behavior-prediction-from-miniscope-calcium-imaging-using-convolutional-neural-networks/data/20211028_181307_animal3learnday11.h5\"]\n",
    "        df_new_annotations, df_new_annotations_check = align_files_old_labels(bonsai_paths, behavior_paths, num_of_videos, merge_labels)\n",
    "    else:\n",
    "        h5_path = \"/home/dmc/Desktop/kostas/direct-Behavior-prediction-from-miniscope-calcium-imaging-using-convolutional-neural-networks/data/behavior_segmentation_arrowmaze.h5\"\n",
    "        df_new_annotations, df_new_annotations_check = align_files_new_labels(bonsai_paths, num_of_videos, h5_path)\n",
    "\n",
    "\n",
    "else:\n",
    "    bonsai_paths = [\"/home/dmc/Desktop/kostas/direct-Behavior-prediction-from-miniscope-calcium-imaging-using-convolutional-neural-networks/data/tmaze_2021-10-25T18_48_49.csv\", \n",
    "               \"/home/dmc/Desktop/kostas/direct-Behavior-prediction-from-miniscope-calcium-imaging-using-convolutional-neural-networks/data/tmaze_2021-10-26T14_29_27.csv\", \n",
    "               \"/home/dmc/Desktop/kostas/direct-Behavior-prediction-from-miniscope-calcium-imaging-using-convolutional-neural-networks/data/tmaze_2021-10-27T16_50_53.csv\"]\n",
    "    if labels_type == 'old':\n",
    "        behavior_paths = [\"/home/dmc/Desktop/kostas/direct-Behavior-prediction-from-miniscope-calcium-imaging-using-convolutional-neural-networks/data/20211025_184906_animal3learnday8.h5\", \n",
    "                       \"/home/dmc/Desktop/kostas/direct-Behavior-prediction-from-miniscope-calcium-imaging-using-convolutional-neural-networks/data/20211026_142935_animal3learnday9.h5\", \n",
    "                       \"/home/dmc/Desktop/kostas/direct-Behavior-prediction-from-miniscope-calcium-imaging-using-convolutional-neural-networks/data/20211027_165052_animal3learnday10.h5\"]\n",
    "        df_new_annotations, df_new_annotations_check = align_files_old_labels(bonsai_paths, behavior_paths, num_of_videos, merge_labels)\n",
    "    else:\n",
    "        h5_path = \"/home/dmc/Desktop/kostas/direct-Behavior-prediction-from-miniscope-calcium-imaging-using-convolutional-neural-networks/data/behavior_segmentation_arrowmaze.h5\"\n",
    "        df_new_annotations, df_new_annotations_check = align_files_new_labels(bonsai_paths, num_of_videos, h5_path)"
   ]
  },
  {
   "cell_type": "code",
   "execution_count": null,
   "id": "359a0d97-1a04-4e5e-9e80-9ef527f337e0",
   "metadata": {},
   "outputs": [],
   "source": [
    "df_new_annotations_check#df_new_annotations_check"
   ]
  },
  {
   "cell_type": "code",
   "execution_count": null,
   "id": "13580686-d63d-4f91-91c5-d221461432f1",
   "metadata": {},
   "outputs": [],
   "source": [
    "df_new_annotations_check.drop_duplicates()"
   ]
  },
  {
   "cell_type": "code",
   "execution_count": null,
   "id": "0ccdecef-81a3-403b-b485-fb67e56ea937",
   "metadata": {},
   "outputs": [],
   "source": [
    "df_new_annotations"
   ]
  },
  {
   "cell_type": "markdown",
   "id": "cedc503a-c136-474c-8367-b3afa34f569d",
   "metadata": {},
   "source": [
    "### Aligning Behavior with Calcium video"
   ]
  },
  {
   "cell_type": "code",
   "execution_count": null,
   "id": "f42b2a59-60ad-4d65-82a6-2fc7d27c7d66",
   "metadata": {},
   "outputs": [],
   "source": [
    "df_new_annotations = df_new_annotations.reset_index(drop=True)\n",
    "df_new_annotations_unique = df_new_annotations['state_id'].unique()"
   ]
  },
  {
   "cell_type": "code",
   "execution_count": null,
   "id": "92685f23-a067-42d9-8b72-d2c8c8ba30f1",
   "metadata": {},
   "outputs": [],
   "source": [
    "df_new_annotations = df_new_annotations['state_id']"
   ]
  },
  {
   "cell_type": "code",
   "execution_count": null,
   "id": "a5b48c5e-70a6-42cf-9b02-3eac000e94e2",
   "metadata": {},
   "outputs": [],
   "source": [
    "df_new_annotations_unique"
   ]
  },
  {
   "cell_type": "code",
   "execution_count": null,
   "id": "29bb66a0-f68b-4bb7-8837-d83ab24f1ed9",
   "metadata": {},
   "outputs": [],
   "source": [
    "# labels_number = len()'all' # can be also 3 (merged) or 6 (new)"
   ]
  },
  {
   "cell_type": "code",
   "execution_count": null,
   "id": "bb33fe17-a466-48f9-b9fc-8b173667e983",
   "metadata": {},
   "outputs": [],
   "source": [
    "no_of_labels = len(df_new_annotations_unique)\n",
    "%store no_of_labels"
   ]
  },
  {
   "cell_type": "code",
   "execution_count": null,
   "id": "dd0dba2b-784f-477b-b9ed-77d8e39f8069",
   "metadata": {},
   "outputs": [],
   "source": [
    "# class_counts = pd.value_counts(df_new_annotations)\n",
    "# total_counts = class_counts[0] + class_counts[1] + class_counts[2] + class_counts[3] + class_counts[4] + class_counts[5]"
   ]
  },
  {
   "cell_type": "code",
   "execution_count": null,
   "id": "8d8266b6-6fb2-42b4-870e-5a201dd1aeb5",
   "metadata": {},
   "outputs": [],
   "source": [
    "# total_counts"
   ]
  },
  {
   "cell_type": "code",
   "execution_count": null,
   "id": "4e113753-41b4-48b7-a2ab-3b9b5f29bc11",
   "metadata": {},
   "outputs": [],
   "source": [
    "# class_percents = pd.value_counts(df_new_annotations, normalize=True) * 100"
   ]
  },
  {
   "cell_type": "code",
   "execution_count": null,
   "id": "c7de0e23-678a-4238-9759-39be03e063b9",
   "metadata": {},
   "outputs": [],
   "source": [
    "# class_percents"
   ]
  },
  {
   "cell_type": "code",
   "execution_count": null,
   "id": "e1704f0b-0bf2-478c-adc1-b85197fe2557",
   "metadata": {},
   "outputs": [],
   "source": []
  },
  {
   "cell_type": "code",
   "execution_count": null,
   "id": "e7a76e47-fa26-45de-a9b3-f6cfe84e34c2",
   "metadata": {},
   "outputs": [],
   "source": []
  },
  {
   "cell_type": "code",
   "execution_count": null,
   "id": "c6e8f21f-729a-423c-b4d3-2db9266e190e",
   "metadata": {},
   "outputs": [],
   "source": [
    "save_dir = \"/home/dmc/Desktop/kostas/direct-Behavior-prediction-from-miniscope-calcium-imaging-using-convolutional-neural-networks/src/V3/\"+str(output_dir)+\"/balance\""
   ]
  },
  {
   "cell_type": "code",
   "execution_count": null,
   "id": "01334238-8426-46ae-a6d1-9a21382b7b1c",
   "metadata": {},
   "outputs": [],
   "source": [
    "if labels_type == 'new':\n",
    "    class_counts, total_counts = check_class_imbalance_new(df_new_annotations, experiment_ID, save_dir, df_new_annotations_unique, df_new_annotations_check, no_of_labels, data_file)\n",
    "\n",
    "elif merge_labels == True:\n",
    "    names_of_labels = 'Main Corr', 'Left Corr', 'Right Corr'\n",
    "    class_counts, total_counts = check_class_imbalance_old_merged(df_new_annotations, experiment_ID, save_dir, df_new_annotations_unique, df_new_annotations_check, no_of_labels, names_of_labels, data_file)\n",
    "\n",
    "else:\n",
    "    class_counts, total_counts = check_class_imbalance_old(df_new_annotations, experiment_ID, save_dir, df_new_annotations_unique, df_new_annotations_check, no_of_labels, data_file)"
   ]
  },
  {
   "cell_type": "code",
   "execution_count": null,
   "id": "bca7751e-084b-4508-86e5-31fc09446830",
   "metadata": {
    "tags": []
   },
   "outputs": [],
   "source": [
    "labels = df_new_annotations"
   ]
  },
  {
   "cell_type": "markdown",
   "id": "89bab359-ef5c-483e-9060-aec8dc9b5f8c",
   "metadata": {
    "tags": []
   },
   "source": [
    "#### Data Verification"
   ]
  },
  {
   "cell_type": "code",
   "execution_count": null,
   "id": "92ddf3ba-4189-4ef5-b77e-60cd885f6be7",
   "metadata": {},
   "outputs": [],
   "source": [
    "# train_images, val_images, train_labels, val_labels, num_classes = model_preprocessing(train_images, val_images, train_labels, val_labels, df_new_annotations_unique)\n",
    "vmin = images.min()\n",
    "vmax = images.max()\n",
    "plot_first_frames(images, labels, vmin, vmax, data_file)\n",
    "plot_random_frames(images, labels, vmin, vmax, data_file)"
   ]
  },
  {
   "cell_type": "code",
   "execution_count": null,
   "id": "bc5fe070-8bc8-4107-b075-e880b3ebeed7",
   "metadata": {},
   "outputs": [],
   "source": [
    "labels"
   ]
  },
  {
   "cell_type": "markdown",
   "id": "089375c6-0380-432e-a810-b3974c68ac8c",
   "metadata": {},
   "source": [
    "### Preparing for K-fold"
   ]
  },
  {
   "cell_type": "code",
   "execution_count": null,
   "id": "9a51d630-0706-495f-a76c-d93b56a0048a",
   "metadata": {},
   "outputs": [],
   "source": [
    "images, labels, num_classes = model_preprocessing(images, labels, df_new_annotations_unique)"
   ]
  },
  {
   "cell_type": "code",
   "execution_count": null,
   "id": "c393ef4e-85f3-46c6-a694-464e191ed04e",
   "metadata": {},
   "outputs": [],
   "source": [
    "def start_model(params, is_basic_BPNN):\n",
    "        # start clock\n",
    "        start_time = time.time()\n",
    "\n",
    "\n",
    "        # Initialize lists to store the training and validation loss and accuracy values for each fold\n",
    "        train_loss_all = []\n",
    "        val_loss_all = []\n",
    "        train_acc_all = []\n",
    "        val_acc_all = []\n",
    "        average_score_list = []\n",
    "\n",
    "        \n",
    "        if is_basic_BPNN == True:\n",
    "            train_loss_all, val_loss_all, train_acc_all, val_acc_all, average_score_list, conf_matrices, f1_score_val_list = run_k_fold_model.run_k_fold_basic(params,\n",
    "                                                                                                      train_loss_all,\n",
    "                                                                                                      val_loss_all,\n",
    "                                                                                                      train_acc_all,\n",
    "                                                                                                      val_acc_all,\n",
    "                                                                                                      average_score_list,\n",
    "                                                                                                      experiment_ID)\n",
    "            \n",
    "            \n",
    "                \n",
    "        \n",
    "\n",
    "            # create pickles directory\n",
    "            dir_name_pickles = os.path.join(output_dir, 'pickles')\n",
    "            if not os.path.exists(dir_name_pickles):\n",
    "                os.mkdir(dir_name_pickles)\n",
    "\n",
    "            # save pickle files\n",
    "            with open(os.path.join(dir_name_pickles, 'train_loss_all.pkl'), 'wb') as f:\n",
    "                pickle.dump(train_loss_all, f)\n",
    "\n",
    "            with open(os.path.join(dir_name_pickles, 'val_loss_all.pkl'), 'wb') as f:\n",
    "                pickle.dump(val_loss_all, f)\n",
    "\n",
    "            with open(os.path.join(dir_name_pickles, 'train_acc_all.pkl'), 'wb') as f:\n",
    "                pickle.dump(train_acc_all, f)\n",
    "\n",
    "            with open(os.path.join(dir_name_pickles, 'val_acc_all.pkl'), 'wb') as f:\n",
    "                pickle.dump(val_acc_all, f)\n",
    "\n",
    "            with open(os.path.join(dir_name_pickles, 'average_score_list.pkl'), 'wb') as f:\n",
    "                pickle.dump(average_score_list, f)\n",
    "\n",
    "            with open(os.path.join(dir_name_pickles, 'conf_matrices.pkl'), 'wb') as f:\n",
    "                pickle.dump(conf_matrices, f)\n",
    "\n",
    "                \n",
    "            model_acc_dir = \"/home/dmc/Desktop/kostas/direct-Behavior-prediction-from-miniscope-calcium-imaging-using-convolutional-neural-networks/src/V3/output/accuracy\"\n",
    "            model_loss_dir = \"/home/dmc/Desktop/kostas/direct-Behavior-prediction-from-miniscope-calcium-imaging-using-convolutional-neural-networks/src/V3/output/loss\"\n",
    "            \n",
    "                 \n",
    "            \n",
    "        else:\n",
    "            train_loss_all, val_loss_all, train_acc_all, val_acc_all, average_score_list, conf_matrices, f1_score_val_list = run_k_fold_model.run_k_fold(params,\n",
    "                                                                                                      train_loss_all,\n",
    "                                                                                                      val_loss_all,\n",
    "                                                                                                      train_acc_all,\n",
    "                                                                                                      val_acc_all,\n",
    "                                                                                                      average_score_list,\n",
    "                                                                                                      experiment_ID)\n",
    "\n",
    "        total_accuracy_score = np.mean(average_score_list)\n",
    "\n",
    "        # end clock\n",
    "        end_time = time.time()\n",
    "        execution_time = end_time - start_time\n",
    "        hours, remainder = divmod(execution_time, 3600)\n",
    "        minutes, seconds = divmod(remainder, 60)\n",
    "        print(f\"Execution time: {int(hours)} hours, {int(minutes)} minutes, {int(seconds)} seconds\")\n",
    "        print(\"Total average accuracy score: {:.3f}\".format(total_accuracy_score))\n",
    "        \n",
    "        return train_loss_all, val_loss_all, train_acc_all, val_acc_all, average_score_list, conf_matrices, f1_score_val_list"
   ]
  },
  {
   "cell_type": "code",
   "execution_count": null,
   "id": "3cbbed86-e0d1-4a69-8996-a97b3afb3fc1",
   "metadata": {},
   "outputs": [],
   "source": [
    "# Training Parameters\n",
    "\n",
    "# channel dimensions\n",
    "channel_dimension = 1 # 3 or 5 if you're including the time dimension\n",
    "input_shape = (img_height, img_width, channel_dimension)\n",
    "\n",
    "# model type\n",
    "is_basic_BPNN = True\n",
    "\n",
    "# set number of folds\n",
    "num_folds = 2 # 10\n",
    "\n",
    "# do you want shuffled labels?\n",
    "shuffle = False\n",
    "\n",
    "# number of epochs\n",
    "epochs = 1\n",
    "\n",
    "# names of unique behaviours\n",
    "df_new_annotations_names = df_new_annotations_check['state_name'].unique()\n",
    "\n",
    "# number of unique behaviour labels\n",
    "no_of_behaviors = len(df_new_annotations_names)"
   ]
  },
  {
   "cell_type": "code",
   "execution_count": null,
   "id": "f1d70776-d3c5-496d-8d0c-15d4f0bbd7c4",
   "metadata": {},
   "outputs": [],
   "source": [
    "if is_basic_BPNN == True:\n",
    "    \n",
    "    input_shape = (img_height, img_width, channel_dimension)\n",
    "    model = construct_model(input_shape, num_classes, name)\n",
    "\n",
    "    params = {\n",
    "        'images': images,\n",
    "        'labels': labels,\n",
    "        'number_of_folds': num_folds,\n",
    "        'shuffle_data': shuffle,\n",
    "        'input_shape': input_shape,\n",
    "        'number_of_classes': num_classes,\n",
    "        'model_name': name,\n",
    "        'epochs': epochs,\n",
    "        'behaviours': no_of_behaviors, # <- \n",
    "        'df_new_annotations': df_new_annotations,\n",
    "        'unique_annotations': df_new_annotations_unique,\n",
    "        'check_annotations': df_new_annotations_check,\n",
    "        'label_names': df_new_annotations_names, # <- \n",
    "        'output_directory': output_dir\n",
    "    }\n",
    "    \n",
    "    train_loss_all, val_loss_all, train_acc_all, val_acc_all, average_score_list, conf_matrices, f1_score_val_list = start_model(params, is_basic_BPNN)\n",
    "\n"
   ]
  },
  {
   "cell_type": "code",
   "execution_count": null,
   "id": "ebcab662-8bad-401b-bd4a-b7cf9223d34b",
   "metadata": {},
   "outputs": [],
   "source": [
    "f1_score_mean = np.mean(f1_score_val_list)"
   ]
  },
  {
   "cell_type": "code",
   "execution_count": null,
   "id": "059bbe4f-4fb4-43b5-91fa-d9e42312c528",
   "metadata": {},
   "outputs": [],
   "source": [
    "f1_score_mean"
   ]
  },
  {
   "cell_type": "code",
   "execution_count": null,
   "id": "6d6db1ba-683c-4a6f-a331-69859ab04051",
   "metadata": {},
   "outputs": [],
   "source": [
    "val_acc_all"
   ]
  },
  {
   "cell_type": "code",
   "execution_count": null,
   "id": "e2973fa7-49ce-4af8-b453-68fdb759add1",
   "metadata": {},
   "outputs": [],
   "source": [
    "save_dir = \"/home/dmc/Desktop/kostas/direct-Behavior-prediction-from-miniscope-calcium-imaging-using-convolutional-neural-networks/src/V3/\"+str(output_dir)"
   ]
  },
  {
   "cell_type": "code",
   "execution_count": null,
   "id": "86366d0b-972b-4bff-80e1-2170af68f646",
   "metadata": {},
   "outputs": [],
   "source": [
    "%store train_loss_all\n",
    "%store val_loss_all\n",
    "%store train_acc_all\n",
    "%store val_acc_all\n",
    "%store f1_score_val_list\n",
    "%store f1_score_mean\n",
    "%store epochs\n",
    "%store total_accuracy_score\n",
    "%store num_folds\n",
    "%store conf_matrices\n",
    "%store num_folds\n",
    "%store no_of_labels"
   ]
  },
  {
   "cell_type": "code",
   "execution_count": null,
   "id": "4035f852-6d5a-4a87-89dc-e6a1fde84c9e",
   "metadata": {},
   "outputs": [],
   "source": [
    "# %store model\n",
    "# %store history\n",
    "%store name\n",
    "%store comment\n",
    "%store save_dir"
   ]
  },
  {
   "cell_type": "code",
   "execution_count": null,
   "id": "c060ff77-fc47-4791-9f63-3dfb681bfcfd",
   "metadata": {},
   "outputs": [],
   "source": []
  },
  {
   "cell_type": "code",
   "execution_count": null,
   "id": "9be55b24-3e5a-4c0c-b63d-cb650d7e25f0",
   "metadata": {},
   "outputs": [],
   "source": []
  },
  {
   "cell_type": "code",
   "execution_count": null,
   "id": "5325778f-70df-4b04-9157-e45c0cbf6f4c",
   "metadata": {},
   "outputs": [],
   "source": []
  },
  {
   "cell_type": "markdown",
   "id": "3eba68c6-caee-4301-9932-7a48cb616d5e",
   "metadata": {},
   "source": [
    "### Starting K-fold"
   ]
  },
  {
   "cell_type": "code",
   "execution_count": null,
   "id": "81c9ce21-0686-4245-af90-0ac64e836cd7",
   "metadata": {},
   "outputs": [],
   "source": [
    "\n",
    "\n",
    "\n",
    "if labels_type == 'old':\n",
    "\n",
    "    no_of_behaviors = ['Main Corr', 'Left Corr', 'Right Corr']\n",
    "    \n",
    "    if shuffled_labels == False:\n",
    "\n",
    "        params = {\n",
    "                'images': images,\n",
    "                'labels': labels,\n",
    "                'number_of_folds': num_folds,\n",
    "                'shuffle_data': shuffle,\n",
    "                'input_shape': input_shape,\n",
    "                'number_of_classes': num_classes,\n",
    "                'model_name': name,\n",
    "                'epochs': epochs,\n",
    "                'behaviours': no_of_behaviors,\n",
    "                'df_new_annotations': df_new_annotations,\n",
    "                'unique_annotations': df_new_annotations_unique,\n",
    "                'check_annotations': df_new_annotations_check\n",
    "            }\n",
    "\n",
    "        train_loss_all, val_loss_all, train_acc_all, val_acc_all, average_score_list, conf_matrices = start_model(params)\n",
    "\n",
    "    else:\n",
    "\n",
    "        # shuffled_labels = np.random.permutation(labels)\n",
    "\n",
    "        shuffled_labels = np.roll(labels, 15000, axis=0)\n",
    "\n",
    "        params = {\n",
    "            'images': images,\n",
    "            'labels': shuffled_labels,\n",
    "            'number_of_folds': num_folds,\n",
    "            'shuffle_data': shuffle,\n",
    "            'input_shape': input_shape,\n",
    "            'number_of_classes': num_classes,\n",
    "            'model_name': name,\n",
    "            'epochs': epochs,\n",
    "            'behaviours': no_of_behaviors,\n",
    "            'df_new_annotations': df_new_annotations,\n",
    "            'unique_annotations': df_new_annotations_unique,\n",
    "            'check_annotations': df_new_annotations_check\n",
    "        }\n",
    "\n",
    "        train_loss_all, val_loss_all, train_acc_all, val_acc_all, average_score_list, conf_matrices = start_model(params)\n",
    "\n",
    "        \n",
    "else:\n",
    "    \n",
    "    no_of_behaviors = ['Grooming', 'Immobile', 'Still', 'Moving', 'Right Turn', 'Left Turn']\n",
    "    \n",
    "    if shuffled_labels == False:\n",
    "\n",
    "        params = {\n",
    "                'images': images,\n",
    "                'labels': labels,\n",
    "                'number_of_folds': num_folds,\n",
    "                'shuffle_data': shuffle,\n",
    "                'input_shape': input_shape,\n",
    "                'number_of_classes': num_classes,\n",
    "                'model_name': name,\n",
    "                'epochs': epochs,\n",
    "                'behaviours': no_of_behaviors,\n",
    "                'df_new_annotations': df_new_annotations,\n",
    "                'unique_annotations': df_new_annotations_unique,\n",
    "                'check_annotations': df_new_annotations_check\n",
    "            }\n",
    "\n",
    "        train_loss_all, val_loss_all, train_acc_all, val_acc_all, average_score_list, conf_matrices = start_model(params)\n",
    "\n",
    "    else:\n",
    "        \n",
    "        \n",
    "        no_of_behaviors = ['Grooming', 'Immobile', 'Still', 'Moving', 'Right Turn', 'Left Turn']\n",
    "\n",
    "        # shuffled_labels = np.random.permutation(labels)\n",
    "\n",
    "        shuffled_labels = np.roll(labels, 15000, axis=0)\n",
    "\n",
    "        params = {\n",
    "            'images': images,\n",
    "            'labels': shuffled_labels,\n",
    "            'number_of_folds': num_folds,\n",
    "            'shuffle_data': shuffle,\n",
    "            'input_shape': input_shape,\n",
    "            'number_of_classes': num_classes,\n",
    "            'model_name': name,\n",
    "            'epochs': epochs,\n",
    "            'behaviours': no_of_behaviors,\n",
    "            'df_new_annotations': df_new_annotations,\n",
    "            'unique_annotations': df_new_annotations_unique,\n",
    "            'check_annotations': df_new_annotations_check\n",
    "        }\n",
    "\n",
    "        train_loss_all, val_loss_all, train_acc_all, val_acc_all, average_score_list, conf_matrices = start_model(params)\n"
   ]
  },
  {
   "cell_type": "code",
   "execution_count": null,
   "id": "33cfc448-697b-4ca8-aab6-19b7f3cdde1a",
   "metadata": {},
   "outputs": [],
   "source": [
    "# model = construct_model(input_shape, num_classes, name)\n",
    "# Plot the model's architecture to a file\n",
    "# plot_model(model, to_file='model_plot.png', show_shapes=True, show_layer_names=True)"
   ]
  },
  {
   "cell_type": "code",
   "execution_count": null,
   "id": "91d6730e-85e5-4bc6-ba3a-5a34c6e36878",
   "metadata": {},
   "outputs": [],
   "source": []
  },
  {
   "cell_type": "code",
   "execution_count": null,
   "id": "e7d535a7-cb4f-437e-822f-ba390da72fd7",
   "metadata": {},
   "outputs": [],
   "source": []
  },
  {
   "cell_type": "code",
   "execution_count": null,
   "id": "596bc8ee-4ceb-4088-a815-4131cfb16995",
   "metadata": {},
   "outputs": [],
   "source": []
  },
  {
   "cell_type": "code",
   "execution_count": null,
   "id": "4a15bbac-36d8-49c2-b468-875fef0377e5",
   "metadata": {},
   "outputs": [],
   "source": []
  },
  {
   "cell_type": "code",
   "execution_count": null,
   "id": "0929930a-9909-43cc-b287-fc0b4bd526d2",
   "metadata": {},
   "outputs": [],
   "source": [
    "save_dir = \"/home/dmc/Desktop/kostas/direct-Behavior-prediction-from-miniscope-calcium-imaging-using-convolutional-neural-networks/src/V3/output/\""
   ]
  },
  {
   "cell_type": "code",
   "execution_count": null,
   "id": "9cc29eae-fc3a-46d2-add4-5c2589c402f1",
   "metadata": {},
   "outputs": [],
   "source": [
    "# average_score = np.mean(val_acc_all)"
   ]
  },
  {
   "cell_type": "code",
   "execution_count": null,
   "id": "3a46879e-8417-49a8-80b1-f88de4f0cec1",
   "metadata": {},
   "outputs": [],
   "source": [
    "# average_score"
   ]
  },
  {
   "cell_type": "code",
   "execution_count": null,
   "id": "23a9811b-2e14-4135-8523-4549d58c19e1",
   "metadata": {},
   "outputs": [],
   "source": [
    "# # Plot training and validation accuracy for each fold\n",
    "# plt.figure(figsize=(4, 3))\n",
    "# for i in range(num_folds):\n",
    "#     plt.plot(train_acc_all[i], label=f'Train Acc Fold {i+1}')\n",
    "#     plt.plot(val_acc_all[i], label=f'Val Acc Fold {i+1}')\n",
    "# plt.title('Training and Validation Accuracy')\n",
    "# plt.xlabel('Epoch')\n",
    "# plt.ylabel('Accuracy')\n",
    "# plt.legend()\n",
    "# plt.savefig('Training-and-Validation-Accuracy.svg', bbox_inches='tight', dpi=300)\n",
    "# plt.show()"
   ]
  },
  {
   "cell_type": "code",
   "execution_count": null,
   "id": "56535be1-4348-4d21-9257-5636dc848e43",
   "metadata": {},
   "outputs": [],
   "source": [
    "# # Plot training and validation loss for each fold\n",
    "# for i in range(num_folds):\n",
    "#     plt.plot(train_loss_all[i], label=f'Train Loss Fold {i+1}')\n",
    "#     plt.plot(val_loss_all[i], label=f'Val Loss Fold {i+1}')\n",
    "# plt.title('Training and Validation Loss')\n",
    "# plt.xlabel('Epoch')\n",
    "# plt.ylabel('Loss')\n",
    "# plt.legend()\n",
    "# plt.savefig('Training-and-Validation-Loss.svg', bbox_inches='tight', dpi=300)\n",
    "# plt.show()"
   ]
  },
  {
   "cell_type": "code",
   "execution_count": null,
   "id": "02cffeee-2612-46c9-9f36-2b895e7a0444",
   "metadata": {},
   "outputs": [],
   "source": [
    "# SAVE ALL HISTORIES IN PICKLE AND LOAD FROM THE OTHER PIPELINE"
   ]
  },
  {
   "cell_type": "code",
   "execution_count": null,
   "id": "96afb58a-2e80-4e0c-b750-5713e6ed3429",
   "metadata": {},
   "outputs": [],
   "source": [
    "# # Save the history object to a pickle file\n",
    "# with open('All_histories.pkl', 'wb') as f:\n",
    "#     pickle.dump(all_histories.history, f)"
   ]
  },
  {
   "cell_type": "code",
   "execution_count": null,
   "id": "d70441d4-39a9-4548-a570-22f49dfc5cbb",
   "metadata": {},
   "outputs": [],
   "source": []
  },
  {
   "cell_type": "code",
   "execution_count": null,
   "id": "ee565f24-cd9c-4f8e-b80e-8409dad0cf1a",
   "metadata": {},
   "outputs": [],
   "source": []
  },
  {
   "cell_type": "code",
   "execution_count": null,
   "id": "fa5861aa-5f29-4370-8493-74765c440f1b",
   "metadata": {},
   "outputs": [],
   "source": []
  },
  {
   "cell_type": "code",
   "execution_count": null,
   "id": "b39bd661-97b4-4b32-aef6-195fde8a7cf4",
   "metadata": {},
   "outputs": [],
   "source": []
  },
  {
   "cell_type": "code",
   "execution_count": null,
   "id": "e4f37321-bfc4-4e2a-bad3-c21a6cb17367",
   "metadata": {},
   "outputs": [],
   "source": []
  },
  {
   "cell_type": "code",
   "execution_count": null,
   "id": "7e34e8b2-c88f-447c-94d0-7a5e0ca7447f",
   "metadata": {},
   "outputs": [],
   "source": []
  },
  {
   "cell_type": "code",
   "execution_count": null,
   "id": "c4974fb1-2409-4310-bc4e-cf8950c49ea9",
   "metadata": {},
   "outputs": [],
   "source": []
  },
  {
   "cell_type": "code",
   "execution_count": null,
   "id": "73b91aa4-2c6a-4590-82c6-5b21adbf7c45",
   "metadata": {},
   "outputs": [],
   "source": []
  },
  {
   "cell_type": "code",
   "execution_count": null,
   "id": "15101b9e-d830-489e-a4db-1ffde2f342a5",
   "metadata": {},
   "outputs": [],
   "source": []
  },
  {
   "cell_type": "markdown",
   "id": "06e8b78b-df13-488b-9540-0c676484b112",
   "metadata": {
    "tags": []
   },
   "source": [
    "## Method without K-fold"
   ]
  },
  {
   "cell_type": "markdown",
   "id": "8259cc26-3be4-4b36-9c53-7e5a5f2faf96",
   "metadata": {
    "tags": []
   },
   "source": [
    "### Data Pre-processing"
   ]
  },
  {
   "cell_type": "code",
   "execution_count": null,
   "id": "871ed3d0-e03e-40c0-81c3-413aeb397382",
   "metadata": {},
   "outputs": [],
   "source": [
    "# # Split the data into training and validation sets\n",
    "split_index = int(0.2 * len(images))  # Index to split data\n",
    "\n",
    "# images = np.concatenate([images, images, images], axis=-1)\n",
    "\n",
    "val_images, train_images = images[:split_index], images[split_index:]\n",
    "val_labels, train_labels = labels[:split_index], labels[split_index:]"
   ]
  },
  {
   "cell_type": "code",
   "execution_count": null,
   "id": "14e71b18-a3a9-4f2f-88c0-9bb8fa848a31",
   "metadata": {},
   "outputs": [],
   "source": [
    "check_distribution_among_datasets(val_labels, experiment_ID, save_dir, dataset_type = 'Validation_set')\n",
    "check_distribution_among_datasets(train_labels, experiment_ID, save_dir, dataset_type = 'Training_set')"
   ]
  },
  {
   "cell_type": "code",
   "execution_count": null,
   "id": "f0c0888d-2546-4001-be62-9fb3c38ff632",
   "metadata": {},
   "outputs": [],
   "source": [
    "train_images, val_images, train_labels, val_labels, num_classes = model_preprocessing(train_images, val_images, train_labels, val_labels, df_new_annotations_unique)"
   ]
  },
  {
   "cell_type": "code",
   "execution_count": null,
   "id": "4df80a40-8405-4922-8b5f-306c6f2e7238",
   "metadata": {},
   "outputs": [],
   "source": [
    "# Split the data into training and validation sets\n",
    "# train_images, val_images, train_labels, val_labels = train_test_split(images, labels, test_size=0.2, random_state=42)"
   ]
  },
  {
   "cell_type": "code",
   "execution_count": null,
   "id": "77649636-6233-4d31-9f22-05a83cc38f57",
   "metadata": {
    "tags": []
   },
   "outputs": [],
   "source": [
    "vmin = 0\n",
    "vmax = 0.20"
   ]
  },
  {
   "cell_type": "code",
   "execution_count": null,
   "id": "a51c845a-ca63-489f-a54f-e3422eb1bbc3",
   "metadata": {},
   "outputs": [],
   "source": [
    "# # Plot the first 5 random images\n",
    "plot_first_frames(train_images, train_labels, vmin, vmax)\n",
    "plot_first_frames(val_images, val_labels, vmin, vmax)"
   ]
  },
  {
   "cell_type": "code",
   "execution_count": null,
   "id": "cd5b5d43-e986-4b94-823f-5a08b089ed05",
   "metadata": {},
   "outputs": [],
   "source": [
    "plot_random_frames(train_images, train_labels, vmin, vmax)\n",
    "plot_random_frames(val_images, val_labels, vmin, vmax)"
   ]
  },
  {
   "cell_type": "code",
   "execution_count": null,
   "id": "e334e3f6-8286-4ccf-ae19-5099f206fb25",
   "metadata": {
    "tags": []
   },
   "outputs": [],
   "source": [
    "train_images, val_images, train_labels, val_labels, num_classes = model_preprocessing(train_images, val_images, train_labels, val_labels, df_new_annotations_unique)"
   ]
  },
  {
   "cell_type": "code",
   "execution_count": null,
   "id": "4f0b93cb-f5b3-40a2-a8e7-5eeb4a970af6",
   "metadata": {},
   "outputs": [],
   "source": [
    "check_distribution_among_datasets(val_labels, experiment_ID, save_dir, dataset_type = 'Validation_set')\n",
    "check_distribution_among_datasets(train_labels, experiment_ID, save_dir, dataset_type = 'Training_set')"
   ]
  },
  {
   "cell_type": "code",
   "execution_count": null,
   "id": "1ad6f6e8-4bb2-4261-b1e5-ebbdf11f39ae",
   "metadata": {},
   "outputs": [],
   "source": [
    "input_shape = (img_height, img_width, channel_dimension)"
   ]
  },
  {
   "cell_type": "code",
   "execution_count": null,
   "id": "fb359b74-1591-4a8a-a763-44c7a93f3876",
   "metadata": {},
   "outputs": [],
   "source": [
    "model = construct_model(input_shape, num_classes, name)"
   ]
  },
  {
   "cell_type": "code",
   "execution_count": null,
   "id": "5c920c3b-3253-4fc4-b140-9c403eb676a8",
   "metadata": {},
   "outputs": [],
   "source": [
    "validation_data=(val_images, val_labels)"
   ]
  },
  {
   "cell_type": "code",
   "execution_count": null,
   "id": "54e6e795-a15f-4c2e-8364-b2697e8135a5",
   "metadata": {},
   "outputs": [],
   "source": [
    "params = {\n",
    "    'model': model,\n",
    "    'tf': tf,\n",
    "    'train_images': train_images,\n",
    "    'train_labels': train_labels,\n",
    "    'epochs': epochs,\n",
    "    'batch_size': batch_size,\n",
    "    'validation_data': validation_data,\n",
    "    'val_images': validation_data[0],\n",
    "    'val_labels': validation_data[1]\n",
    "}"
   ]
  },
  {
   "cell_type": "code",
   "execution_count": null,
   "id": "35ab74a8-c336-4cf4-868a-a2a320b71eba",
   "metadata": {},
   "outputs": [],
   "source": [
    "save_dir = \"/home/dmc/Desktop/kostas/direct-Behavior-prediction-from-miniscope-calcium-imaging-using-convolutional-neural-networks/src/V3/output/pickles\"\n"
   ]
  },
  {
   "cell_type": "code",
   "execution_count": null,
   "id": "327225b7-559f-4dc3-bd35-af02855a6210",
   "metadata": {},
   "outputs": [],
   "source": [
    "history = model_execution(params, save_dir, model_version)"
   ]
  },
  {
   "cell_type": "markdown",
   "id": "0b6ede52-3664-4916-bcdd-c5b22ee21502",
   "metadata": {
    "jp-MarkdownHeadingCollapsed": true,
    "tags": []
   },
   "source": [
    "#### Data Augmentation"
   ]
  },
  {
   "cell_type": "code",
   "execution_count": null,
   "id": "698bc900-f9d3-464b-96ff-6c99a365e6dc",
   "metadata": {},
   "outputs": [],
   "source": [
    "# # Perform data augmentation\n",
    "# # Define the augmentation pipeline\n",
    "# augmentation_pipeline = iaa.Sequential([\n",
    "#     iaa.Fliplr(0.5), # flip horizontally with a probability of 0.5\n",
    "#     iaa.Crop(percent=(0, 0.1)), # crop by up to 10% of the image width/height\n",
    "#     iaa.Sometimes(0.5, iaa.GaussianBlur(sigma=(0, 0.5))), # apply Gaussian blur with a probability of 0.5\n",
    "#     # iaa.Affine(rotate=(-10, 10)) # rotate by up to 10 degrees\n",
    "# ])"
   ]
  },
  {
   "cell_type": "code",
   "execution_count": null,
   "id": "f6b6319a-356a-4e8f-8269-978eac0b0b83",
   "metadata": {},
   "outputs": [],
   "source": [
    "# # Apply the augmentation pipeline to the training set\n",
    "# augmented_train_images = []\n",
    "# for image in train_images:\n",
    "#     # Apply the same augmentation operation to both the image and its corresponding annotation\n",
    "#     augmented_image = augmentation_pipeline(image=image)\n",
    "#     augmented_train_images.append(augmented_image)\n"
   ]
  },
  {
   "cell_type": "code",
   "execution_count": null,
   "id": "4bffc8df-2ee6-4849-a02d-2f485f0150cc",
   "metadata": {},
   "outputs": [],
   "source": [
    "# # Convert the augmented training set back to numpy arrays\n",
    "# train_images = np.array(augmented_train_images)"
   ]
  },
  {
   "cell_type": "code",
   "execution_count": null,
   "id": "3f20527b-6f40-48c7-8e62-ba4026435725",
   "metadata": {},
   "outputs": [],
   "source": [
    "# plot_random_frames(train_images, labels)"
   ]
  },
  {
   "cell_type": "markdown",
   "id": "90ef17f8-dc33-4276-8a8b-54251098954b",
   "metadata": {
    "tags": []
   },
   "source": [
    "### Build Model"
   ]
  },
  {
   "cell_type": "code",
   "execution_count": null,
   "id": "15f4243f-94af-4c75-a566-1f988e0dd98e",
   "metadata": {},
   "outputs": [],
   "source": [
    "# import visualkeras\n",
    "# from PIL import ImageFont\n",
    "# visualkeras.layered_view(model, legend=True)\n",
    "# # Define the directory name and the plot name\n",
    "# dir_name = \"/home/dmc/Desktop/kostas/direct-Behavior-prediction-from-miniscope-calcium-imaging-using-convolutional-neural-networks/src/V3/output/architecture\"\n",
    "# plot_name = f\"{model_version}_architecture\"\n",
    "# ann_viz(model, view=True, filename=plot_name, title=\"CNN — \"+str(name)+\" — Simple Architecture\")\n",
    "# plot_path = os.path.join(dir_name, f\"{plot_name}.png\")\n",
    "# plot = plt.gcf()\n",
    "# plot.savefig(plot_path, dpi=300, bbox_inches=\"tight\")"
   ]
  },
  {
   "cell_type": "code",
   "execution_count": null,
   "id": "2c74194a-fd68-401f-8f4c-ed15bc1f0f6a",
   "metadata": {},
   "outputs": [],
   "source": [
    "# from ann_visualizer.visualize import ann_viz\n",
    "# ann_viz(model, view=True, filename=\"cconstruct_model\", title=\"CNN — Model 1 — Simple Architecture\")"
   ]
  },
  {
   "cell_type": "code",
   "execution_count": null,
   "id": "349d4ac6-31ab-4c24-bf2d-df06d2c898b0",
   "metadata": {},
   "outputs": [],
   "source": [
    "# from keras.utils.vis_utils import plot_model\n",
    "# plot_model(model, to_file='model_plot.png', show_shapes=True, show_layer_names=True, rankdir='LR')"
   ]
  },
  {
   "cell_type": "code",
   "execution_count": null,
   "id": "fbfb4ef1-c333-4486-a73d-2fce0344bbc0",
   "metadata": {},
   "outputs": [],
   "source": [
    "# changes grayscale to rgb"
   ]
  },
  {
   "cell_type": "code",
   "execution_count": null,
   "id": "5b318f97-56ad-481f-9119-2519d60c7985",
   "metadata": {},
   "outputs": [],
   "source": [
    "validation_data=(val_images, val_labels)"
   ]
  },
  {
   "cell_type": "markdown",
   "id": "c1564a72-c699-4078-ae5f-14611ee53b1b",
   "metadata": {
    "tags": []
   },
   "source": [
    "### Train Model"
   ]
  },
  {
   "cell_type": "code",
   "execution_count": null,
   "id": "c1eaade6-3f2d-4027-a84a-fc4a2baae028",
   "metadata": {},
   "outputs": [],
   "source": []
  },
  {
   "cell_type": "markdown",
   "id": "fe6f12d4-99d1-4d15-b87a-ea878ccc710e",
   "metadata": {},
   "source": [
    "We have 24186 images of dimensions 349x374 and the number 1 demonstrates that images are grayscale."
   ]
  },
  {
   "cell_type": "code",
   "execution_count": null,
   "id": "696bdf1b-dbc9-457d-a04e-38e047838812",
   "metadata": {},
   "outputs": [],
   "source": [
    "params = {\n",
    "    'model': model,\n",
    "    'tf': tf,\n",
    "    'train_images': train_images,\n",
    "    'train_labels': train_labels,\n",
    "    'epochs': epochs,\n",
    "    'batch_size': batch_size,\n",
    "    'validation_data': validation_data,\n",
    "    'val_images': validation_data[0],\n",
    "    'val_labels': validation_data[1]\n",
    "}"
   ]
  },
  {
   "cell_type": "code",
   "execution_count": null,
   "id": "8cfd3f9b-9f48-4607-a5f2-362d44d9a305",
   "metadata": {},
   "outputs": [],
   "source": [
    "save_dir = \"/home/dmc/Desktop/kostas/direct-Behavior-prediction-from-miniscope-calcium-imaging-using-convolutional-neural-networks/src/V3/\"+str(output_dir)"
   ]
  },
  {
   "cell_type": "code",
   "execution_count": null,
   "id": "6e26df65-7fa4-4a45-81a8-1cfc1fd7d70d",
   "metadata": {},
   "outputs": [],
   "source": [
    "# # Call the send_email function after your model has finished training\n",
    "# sender_email = 'guskikala@gmail.com'\n",
    "# recipient_email = 'guskikala@gmail.com'\n",
    "# subject = 'CNN Model Training Completed'\n",
    "# message = 'Your CNN model training is complete!'\n",
    "\n",
    "# send_email(sender_email, recipient_email, subject, message)"
   ]
  },
  {
   "cell_type": "markdown",
   "id": "7f195ed0-ea69-4425-9a91-d731367d0825",
   "metadata": {
    "tags": []
   },
   "source": [
    "### Save results"
   ]
  },
  {
   "cell_type": "code",
   "execution_count": null,
   "id": "d52ebf8a-fd97-468e-b88b-5b7d78273303",
   "metadata": {},
   "outputs": [],
   "source": []
  },
  {
   "cell_type": "code",
   "execution_count": null,
   "id": "efefee39-6ca2-4e16-8498-7e8e3f4b4fd8",
   "metadata": {},
   "outputs": [],
   "source": []
  },
  {
   "cell_type": "code",
   "execution_count": null,
   "id": "e702dbdd-02df-44b8-beed-a25139174526",
   "metadata": {},
   "outputs": [],
   "source": [
    "%store model\n",
    "%store history\n",
    "%store name\n",
    "%store comment\n",
    "%store experiment_ID\n",
    "%store save_dir\n",
    "%store model_version"
   ]
  },
  {
   "cell_type": "code",
   "execution_count": null,
   "id": "abb53f97-02c8-459a-b1ec-1041f808db98",
   "metadata": {},
   "outputs": [],
   "source": [
    "#save_training_info(model, history, video_name, comment, experiment_ID, save_dir, f1_score=f1_score)"
   ]
  },
  {
   "cell_type": "markdown",
   "id": "f9e43045-42d0-4f41-8add-ac3e5b08dd82",
   "metadata": {},
   "source": [
    "High bias: If the training accuracy is low, it suggests that the model is underfitting the training data, i.e., it is not complex enough to capture the patterns in the data. In this case, you may need to increase the model's complexity by adding more layers or neurons, or by using a more complex architecture.\n",
    "\n",
    "High variance: If the training accuracy is high but the validation accuracy is low, it suggests that the model is overfitting the training data, i.e., it is memorizing the training data instead of generalizing to new data. In this case, you may need to use regularization techniques like dropout or L2 regularization, or use early stopping to prevent the model from overfitting.\n",
    "\n",
    "Good fit: If the training accuracy and validation accuracy are both high and close to each other, it suggests that the model is neither underfitting nor overfitting the data, i.e., it is generalizing well to new data.\n",
    "\n",
    "Plateauing: If the validation accuracy is no longer increasing as the training set size or epochs increase, it suggests that the model has reached its capacity and adding more data or epochs is unlikely to improve its performance.\n",
    "\n",
    "In general, a model accuracy curve can help you diagnose issues with your model and guide you in selecting appropriate strategies to improve its performance. It can also give you an idea of how much training data or how many epochs you need to achieve good performance."
   ]
  },
  {
   "cell_type": "markdown",
   "id": "d33d2a18-cee9-4f83-8e80-e89e1ef699c8",
   "metadata": {
    "tags": []
   },
   "source": [
    "### Reflect on the results"
   ]
  },
  {
   "cell_type": "markdown",
   "id": "b1c7f0d1-8e62-4c31-8d65-d7e144301753",
   "metadata": {},
   "source": [
    "1. Insufficient data? One calcium video of 24186 frames and with 349x374 dimensions.\n",
    "2. Model architecture not appropriate. Try increasing the number of layers or filters, or adding more complex layers like BatchNormalization, Dropout, or Conv2DTranspose.\n",
    "3. Incorrect data preprocessing\n",
    "4. Incorrect hyperparameters\n",
    "5. Class Imbalance (do oversampling, or undersampling)"
   ]
  },
  {
   "cell_type": "markdown",
   "id": "98ae0ef6-1f9c-4afe-8c56-dd0563e9f96e",
   "metadata": {
    "tags": []
   },
   "source": [
    "### [Ignore for now]"
   ]
  },
  {
   "cell_type": "code",
   "execution_count": null,
   "id": "d5b192bf-a682-48c0-bcf4-f30847b0da8a",
   "metadata": {},
   "outputs": [],
   "source": []
  },
  {
   "cell_type": "markdown",
   "id": "8d604a71-bd99-4fd6-a5c8-9418d60bfb67",
   "metadata": {
    "tags": []
   },
   "source": [
    "## Reusable snippets"
   ]
  },
  {
   "cell_type": "code",
   "execution_count": null,
   "id": "e9b0684b-764a-418c-a033-ff5fe9ce130b",
   "metadata": {},
   "outputs": [],
   "source": [
    "# Load calcium video from local environment\n",
    "# with h5py.File('path', 'r') as f:\n",
    "#     video_data = np.array(f['analysis/recording_20211016_163921-PP-BP-MC/data'])"
   ]
  },
  {
   "cell_type": "code",
   "execution_count": null,
   "id": "72b34b51-5633-42e3-8399-6842489b6bfb",
   "metadata": {},
   "outputs": [],
   "source": [
    "# Loading locally\n",
    "# with h5py.File('/Users/konstantinoskalaitzidis/Developer/dmc/thesis_data/20211016_163921_animal1learnday1.h5', 'r') as f:\n",
    "#     print(list(f.keys()))\n",
    "#     behavior_data = np.array(f['per_frame'])"
   ]
  },
  {
   "cell_type": "code",
   "execution_count": null,
   "id": "22276208-f41e-4589-9672-50de6e38d4b4",
   "metadata": {},
   "outputs": [],
   "source": [
    "# # save the model architecture to a JSON file\n",
    "# with open('model_architecture.json', 'w') as f:\n",
    "#     f.write(model.to_json())"
   ]
  },
  {
   "cell_type": "code",
   "execution_count": null,
   "id": "05dc765c-32f7-4a47-bc62-518a371b26b9",
   "metadata": {},
   "outputs": [],
   "source": [
    "# # load the model architecture from the JSON file\n",
    "# with open('model_architecture.json', 'r') as f:\n",
    "#     json_string = f.read()\n",
    "\n",
    "# model_json = model_from_json(json_string)\n",
    "\n",
    "# # print the loaded model summary\n",
    "# model.summary()"
   ]
  },
  {
   "cell_type": "code",
   "execution_count": null,
   "id": "2f5af676-d833-4e4a-a4c3-3055adb4ce90",
   "metadata": {},
   "outputs": [],
   "source": [
    "# mySession = readSessionServer.SessionIterator()\n",
    "# sess = mySession.findSession()\n",
    "# # for sess in mySession.findSessions():\n",
    "# #     print(sess)\n",
    "# if sess.hasBehavior() and sess.hasCalcium():\n",
    "#     behavior = sess.getBehaviorSegmentation(align_with_calcium=True).reset_index()"
   ]
  },
  {
   "cell_type": "markdown",
   "id": "2f3d1a2e-7307-44d7-9863-dd06baee6227",
   "metadata": {
    "jp-MarkdownHeadingCollapsed": true,
    "tags": []
   },
   "source": [
    "## [Ignore for now] Define hyperparameters"
   ]
  },
  {
   "cell_type": "code",
   "execution_count": null,
   "id": "719e2a1c-7040-4335-8231-bb45e2893d4b",
   "metadata": {},
   "outputs": [],
   "source": [
    "# IMG_SIZE = 224\n",
    "# BATCH_SIZE = 64\n",
    "# EPOCHS = 10\n",
    "\n",
    "# MAX_SEQ_LENGTH = 20\n",
    "# NUM_FEATURES = 2048"
   ]
  },
  {
   "cell_type": "code",
   "execution_count": null,
   "id": "9bd45347-075a-4435-bddb-288d8bc3e506",
   "metadata": {},
   "outputs": [],
   "source": [
    "# import sys\n",
    "# sys.path.append(\"/Users/konstantinoskalaitzidis/Developer/dmc\")\n",
    "# from readSessionsServer import SessionIterator\n",
    "\n",
    "#TODO: Script to retrieve videos from a list of calcium videos (of the same animal) from the db"
   ]
  },
  {
   "cell_type": "markdown",
   "id": "941e710a-0385-4e70-b22f-2fc22953ff07",
   "metadata": {
    "tags": []
   },
   "source": [
    "## Dataset preparation and label annotation (feature engineering)"
   ]
  },
  {
   "cell_type": "markdown",
   "id": "b0b3d25e-b6b2-423b-9660-33db62493079",
   "metadata": {
    "tags": []
   },
   "source": [
    "### [Ignore for now] Data availale for processing - overview"
   ]
  },
  {
   "cell_type": "markdown",
   "id": "c51d84e0-6996-46bb-8d8f-e3e30d7b0250",
   "metadata": {},
   "source": [
    "The following is not going to be used for now but will allow us to have an overview of all the videos I have available to train my CNN model. I expect to have all recordings sessions for each animal as input for the CNN which is going to be trained only based on recordings from the corresponding animal. The data will be split to train/test at some point..."
   ]
  },
  {
   "cell_type": "code",
   "execution_count": null,
   "id": "a5c8f7e6-4142-4d8c-abde-d6aeedf14113",
   "metadata": {},
   "outputs": [],
   "source": [
    "# train_df = pd.read_csv(\"train.csv\")\n",
    "# test_df = pd.read_csv(\"test.csv\")\n",
    "\n",
    "# print(f\"Total videos for training: {len(train_df)}\")\n",
    "# print(f\"Total videos for testing: {len(test_df)}\")\n",
    "\n",
    "# train_df.sample(10)"
   ]
  },
  {
   "cell_type": "markdown",
   "id": "0c1cc62e-96d3-4a65-aaff-a4f869cff76b",
   "metadata": {},
   "source": [
    "Extract frames from the calcium imaging video and save to directory. Each frame contains spatial information, and the sequence of those frames contains temporal information (the latter is not exploited for now). Maybe also ask for path input from the user to make it reproducible for others.\n",
    "\n",
    "Helpful source: https://keras.io/examples/vision/video_classification/"
   ]
  },
  {
   "cell_type": "markdown",
   "id": "9f96f31b-c607-4a50-bb5f-9ef8fecdd3e3",
   "metadata": {},
   "source": [
    "The number of frames may differ from video to video.\n",
    "The frame rate may also differ from video to video but it should be 20fps for all. "
   ]
  },
  {
   "cell_type": "markdown",
   "id": "f7dcdb7b-7022-485c-9c96-591b3711feab",
   "metadata": {},
   "source": [
    "The duration of each frame depends on the frame rate of the video. If a video has a frame rate of 25 fps, then each frame will have a duration of 1/25th of a second, or approximately 0.04 seconds. The calcium videos use 20fps, while the behavioral recordings are at 60fps. Alignment of these videos will follow shortly. "
   ]
  },
  {
   "cell_type": "markdown",
   "id": "08a3ae92-9853-43c3-bbef-ede04ab1aec4",
   "metadata": {
    "tags": []
   },
   "source": [
    "### [Ignore for now] Fetch all calcium videos from the dmc database and align calcium videos with behavior annotations"
   ]
  },
  {
   "cell_type": "code",
   "execution_count": null,
   "id": "6a136ef5-f526-417f-bc03-855d4e07fb51",
   "metadata": {},
   "outputs": [],
   "source": [
    "# mySession = readSessionServer.SessionIterator()\n",
    "# for sess in mySession.findSessions():\n",
    "#     print(sess)\n",
    "    # if sess.hasBehavior() and sess.hasCalcium():\n",
    "        # behavior = sess.getBehaviorSegmentation(align_with_calcium=True).reset_index()"
   ]
  },
  {
   "cell_type": "markdown",
   "id": "4a5de1e4-345a-4132-95cc-948a88666259",
   "metadata": {
    "tags": []
   },
   "source": [
    "### [Ignore for now] Open calcium video locally, create dir for saving frames and count number of frames with OpenCV"
   ]
  },
  {
   "cell_type": "code",
   "execution_count": null,
   "id": "66c7bceb-62a8-4589-874f-bd05dd118bb7",
   "metadata": {},
   "outputs": [],
   "source": [
    "# Open the HDF5 file\n",
    "# with h5py.File('/Users/konstantinoskalaitzidis/Developer/dmc/thesis_data/20211016_163921_animal1learnday1.nwb', 'r') as f:\n",
    "#     # Print the keys of the file\n",
    "#     print(list(f.keys()))\n",
    "#     # dataset = f['identifier'][()]\n",
    "#     # print(dataset)"
   ]
  },
  {
   "cell_type": "code",
   "execution_count": null,
   "id": "71e9d178-da84-4268-a626-e8ae346556ee",
   "metadata": {},
   "outputs": [],
   "source": [
    "# Directory where frames from video will be stored after extraction\n",
    "# frames_dir = \"path\""
   ]
  },
  {
   "cell_type": "code",
   "execution_count": null,
   "id": "fbee6769-dd9e-4d13-bcb3-7b51b960dce5",
   "metadata": {},
   "outputs": [],
   "source": [
    "# Open the video using OpenCV and count the number of frames\n",
    "# cap = cv2.VideoCapture(raw_calcium_video_path)\n",
    "# frame_count = int(cap.get(cv2.CAP_PROP_FRAME_COUNT))\n",
    "# cap.release()\n",
    "\n",
    "# print(f\"Number of frames in the video: {frame_count}\")"
   ]
  },
  {
   "cell_type": "code",
   "execution_count": null,
   "id": "4bce9c58-3dd8-4fd6-afb3-9dfb9473b873",
   "metadata": {},
   "outputs": [],
   "source": [
    "# video = 'path'\n",
    "\n",
    "# cap = cv2.VideoCapture(video)\n",
    "# frame_count = int(cap.get(cv2.CAP_PROP_FRAME_COUNT))\n",
    "# cap.release()\n",
    "\n",
    "# print(f\"Number of frames in the video: {frame_count}\")"
   ]
  },
  {
   "cell_type": "code",
   "execution_count": null,
   "id": "98fed508-e062-4c0e-8c82-5c49e8c5314d",
   "metadata": {},
   "outputs": [],
   "source": [
    "# Open the video file\n",
    "# cap = cv2.VideoCapture(video)\n",
    "\n",
    "# # Get the frame rate of the video\n",
    "# frame_rate = int(cap.get(cv2.CAP_PROP_FPS))\n",
    "\n",
    "# # Release the video capture object\n",
    "# cap.release()\n",
    "\n",
    "# print(f\"Frame rate of the video: {frame_rate}\")"
   ]
  },
  {
   "cell_type": "code",
   "execution_count": null,
   "id": "2146d11a-949c-4877-a84c-5d2e762967d3",
   "metadata": {},
   "outputs": [],
   "source": [
    "# save each frame as one image"
   ]
  },
  {
   "cell_type": "code",
   "execution_count": null,
   "id": "787686cd-d9a4-4939-8ab2-7b7b3f8fbffb",
   "metadata": {},
   "outputs": [],
   "source": [
    "# cap = cv2.VideoCapture(video)\n",
    "\n",
    "# # Loop through the video frames and save each one as an image file\n",
    "# frame_count = 0\n",
    "# while(cap.isOpened()):\n",
    "#     ret, frame = cap.read()\n",
    "#     if ret == False:\n",
    "#         break\n",
    "#     # Save the frame as an image file\n",
    "#     frame_file = os.path.join(frames_dir, \"frame_\" + str(frame_count) + \".jpg\")\n",
    "#     cv2.imwrite(frame_file, frame)\n",
    "#     frame_count += 1\n",
    "\n",
    "# # Close the video file\n",
    "# cap.release()"
   ]
  },
  {
   "cell_type": "code",
   "execution_count": null,
   "id": "d8fd9685-0c81-4a69-b3ee-ed6c91b9f7ed",
   "metadata": {},
   "outputs": [],
   "source": [
    "# # define paths\n",
    "# video_path = '/Users/konstantinoskalaitzidis/Developer/dmc/thesis_data/20211016_163921_animal1learnday1.nwb'\n",
    "# train_dir = '/Users/konstantinoskalaitzidis/Developer/dmc/thesis_data/train'\n",
    "# test_dir = '/Users/konstantinoskalaitzidis/Developer/dmc/thesis_data/test'\n",
    "\n",
    "# # define train-test split ratio\n",
    "# train_test_ratio = 0.8\n",
    "\n",
    "# # open video file\n",
    "# cap = cv2.VideoCapture(video_path)\n",
    "\n",
    "# # get video frame count\n",
    "# frame_count = int(cap.get(cv2.CAP_PROP_FRAME_COUNT))\n",
    "\n",
    "# # create list of frame indices\n",
    "# frame_indices = list(range(frame_count))\n",
    "\n",
    "# # shuffle frame indices\n",
    "# random.shuffle(frame_indices)\n",
    "\n",
    "# # split frame indices into train and test sets\n",
    "# train_frame_indices = frame_indices[:int(frame_count * train_test_ratio)]\n",
    "# test_frame_indices = frame_indices[int(frame_count * train_test_ratio):]\n",
    "\n",
    "# # iterate over frames and save to train or test directory\n",
    "# for i in range(frame_count):\n",
    "#     # read frame\n",
    "#     ret, frame = cap.read()\n",
    "#     if not ret:\n",
    "#         break\n",
    "    \n",
    "#     # save frame to train or test directory\n",
    "#     if i in train_frame_indices:\n",
    "#         cv2.imwrite(os.path.join(train_dir, f'{i}.jpg'), frame)\n",
    "#     else:\n",
    "#         cv2.imwrite(os.path.join(test_dir, f'{i}.jpg'), frame)"
   ]
  },
  {
   "cell_type": "code",
   "execution_count": null,
   "id": "cec460c5-c976-4850-b8ef-f70b8ff4d9d3",
   "metadata": {},
   "outputs": [],
   "source": [
    "#==== Subtracting the background ====#\n",
    "# min_frame = np.min(video_data, axis=0)\n",
    "# video_data = video_data - min_frame"
   ]
  },
  {
   "cell_type": "code",
   "execution_count": null,
   "id": "fb66bdb9-3937-494e-a1d0-d2a979ffac7b",
   "metadata": {},
   "outputs": [],
   "source": [
    "#==== Normalize pixel values ====#\n",
    "# images = normalize_video(video_data)"
   ]
  }
 ],
 "metadata": {
  "kernelspec": {
   "display_name": "new_kostas_env",
   "language": "python",
   "name": "new_kostas_env"
  },
  "language_info": {
   "codemirror_mode": {
    "name": "ipython",
    "version": 3
   },
   "file_extension": ".py",
   "mimetype": "text/x-python",
   "name": "python",
   "nbconvert_exporter": "python",
   "pygments_lexer": "ipython3",
   "version": "3.10.9"
  },
  "vscode": {
   "interpreter": {
    "hash": "aee8b7b246df8f9039afb4144a1f6fd8d2ca17a180786b69acc140d282b71a49"
   }
  }
 },
 "nbformat": 4,
 "nbformat_minor": 5
}
