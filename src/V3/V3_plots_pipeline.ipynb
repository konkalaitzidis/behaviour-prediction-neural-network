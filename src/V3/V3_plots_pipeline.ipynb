{
 "cells": [
  {
   "cell_type": "code",
   "execution_count": null,
   "id": "d37f0ba1-cf36-41a4-aec1-dc5b884dc4a8",
   "metadata": {},
   "outputs": [],
   "source": [
    "import tensorflow.compat.v1 as tf\n",
    "#Lets see if tensorflow finds the GPU\n",
    "print(\"Num GPUs Available: \", len(tf.config.list_physical_devices('GPU')))\n",
    "#import tensorflow as tf"
   ]
  },
  {
   "cell_type": "code",
   "execution_count": null,
   "id": "19f4c38b-67dd-4881-957f-72ef6e860983",
   "metadata": {},
   "outputs": [],
   "source": [
    "#Lets see if it works\n",
    "tf.ones(1) + tf.ones(1)"
   ]
  },
  {
   "cell_type": "code",
   "execution_count": null,
   "id": "9628b322-4fc7-4193-893d-5de0b8347f1b",
   "metadata": {},
   "outputs": [],
   "source": [
    "import numpy as np # for working with arrays and matrices\n",
    "import pandas as pd # for data manipulation and analysis\n",
    "import matplotlib.pyplot as plt # for data visualization\n",
    "import seaborn as sns # for data visualization\n",
    "\n",
    "import os # OS module provides various operating system-related functions to the code\n",
    "import csv # CSV module is used for working with CSV (Comma Separated Values) files in Python.\n",
    "import pickle\n",
    "\n",
    "# used for splitting data into training and testing sets in Python.\n",
    "from sklearn.model_selection import train_test_split \n",
    "\n",
    "# for generating a confusion matrix\n",
    "from sklearn.metrics import confusion_matrix\n",
    "from sklearn.metrics import f1_score\n",
    "from keras.models import load_model\n",
    "\n",
    "\n",
    "# Classes and functions from the Keras library which is used for building and training deep learning models in Python.\n",
    "from keras.models import model_from_json\n",
    "from keras.utils import to_categorical\n",
    "from keras.models import Sequential\n",
    "from keras.layers import Dropout\n",
    "from keras.layers import Conv2D, MaxPooling2D, Flatten, Dense\n",
    "from save_model_info import save_training_info\n",
    "\n",
    "\n",
    "# These import the Adam optimizer class and various other classes from the TensorFlow Keras library \n",
    "# which is a high-level neural networks API used for building and training deep learning models in Python.\n",
    "from tensorflow.keras.optimizers.legacy import Adam\n",
    "from tensorflow.keras import datasets, layers, models\n",
    "from tensorflow.keras.utils import plot_model\n",
    "from tensorflow.keras.callbacks import EarlyStopping\n",
    "\n",
    "\n",
    "from plots import plot_confusion_matrix, plot_accuracy, plot_loss, plot_accuracy_k_fold, plot_loss_k_fold, plot_average_accuracy_k_fold, plot_average_loss_k_fold"
   ]
  },
  {
   "cell_type": "code",
   "execution_count": null,
   "id": "2d5c7ed0-2df9-4482-950a-c773686eff00",
   "metadata": {},
   "outputs": [],
   "source": [
    "%store -r experiment_ID\n",
    "print(experiment_ID)\n",
    "%store -r save_dir\n",
    "print(save_dir)\n",
    "# %store -r model_version\n",
    "# print(model_version)\n",
    "\n",
    "%store -r f1_score_val_list\n",
    "%store -r f1_score_mean\n",
    "\n",
    "%store -r num_folds\n",
    "%store -r conf_matrices\n",
    "%store -r epochs\n",
    "%store -r output_dir\n",
    "%store -r data_file\n",
    "%store -r no_of_labels\n",
    "# %store -r epochs"
   ]
  },
  {
   "cell_type": "markdown",
   "id": "9c3c7f22-e8b0-4815-9274-0edd01fd6abf",
   "metadata": {},
   "source": [
    "### Plot the Mean CM"
   ]
  },
  {
   "cell_type": "code",
   "execution_count": null,
   "id": "076e0804-0159-46f8-89ed-7708bb91d9f5",
   "metadata": {},
   "outputs": [],
   "source": [
    "#plot the mean confusion matrix\n",
    "mean_cm = np.mean(conf_matrices, axis=0)\n",
    "train_labels_names = ['moving', 'rightTurn', 'immobile', 'grooming', 'still', 'leftTurn']\n",
    "plt.figure(figsize=(4, 3))\n",
    "sns.heatmap(mean_cm, annot=True, cmap='Blues', fmt='g')\n",
    "plt.title('Mean Confusion Matrix (5-Fold CV)', fontsize=8)\n",
    "plt.xlabel('Predicted Labels', fontsize=6)\n",
    "plt.xticks(np.arange(len(train_labels_names)) + 0.5, train_labels_names, ha='center', fontsize=5)\n",
    "plt.ylabel('True Labels', fontsize=6)\n",
    "plt.yticks(np.arange(len(train_labels_names)) + 0.5, train_labels_names, rotation=0, fontsize=5)\n",
    "plt.savefig(\"mean_CM\"+str(experiment_ID)+'.svg', bbox_inches='tight', dpi=600)\n",
    "plt.show()"
   ]
  },
  {
   "cell_type": "code",
   "execution_count": null,
   "id": "54a1188f-23fb-41d8-836c-8f8fd9102300",
   "metadata": {},
   "outputs": [],
   "source": [
    "len(conf_matrices)"
   ]
  },
  {
   "cell_type": "code",
   "execution_count": null,
   "id": "ecdfc174-ff94-4844-ace8-fadf0b94944f",
   "metadata": {},
   "outputs": [],
   "source": []
  },
  {
   "cell_type": "code",
   "execution_count": null,
   "id": "875b9903-ed27-4110-9bd8-d92f78132745",
   "metadata": {},
   "outputs": [],
   "source": [
    "# for i, train_acc in enumerate(train_acc_all):\n",
    "#     print(f\"Fold {i}: {len(train_acc)}\")"
   ]
  },
  {
   "cell_type": "code",
   "execution_count": null,
   "id": "729fb17c-6d27-4161-8f2d-4aa9f0bbed45",
   "metadata": {},
   "outputs": [],
   "source": [
    "# dir_path = save_dir\n",
    "# history_file = os.path.join(dir_path, 'history.pkl')\n",
    "# train_images_file = os.path.join(dir_path, 'train_images.pkl')\n",
    "# train_labels_file = os.path.join(dir_path, 'train_labels.pkl')\n",
    "# val_images_file = os.path.join(dir_path, 'val_images.pkl')\n",
    "# val_labels_file = os.path.join(dir_path, 'val_labels.pkl')"
   ]
  },
  {
   "cell_type": "code",
   "execution_count": null,
   "id": "67ae41d6-3493-4adb-b971-f6279bffbf4e",
   "metadata": {},
   "outputs": [],
   "source": [
    "# # Load the history object from the pickle file\n",
    "# with open(os.path.join(dir_path,'history.pkl'), 'rb') as f:\n",
    "#     history = pickle.load(f)\n",
    "    \n",
    "# with open(os.path.join(dir_path,'train_images.pkl'), 'rb') as f:\n",
    "#     train_images = pickle.load(f)\n",
    "    \n",
    "# with open(os.path.join(dir_path,'train_labels.pkl'), 'rb') as f:\n",
    "#     train_labels = pickle.load(f)\n",
    "    \n",
    "# with open(os.path.join(dir_path,'val_images.pkl'), 'rb') as f:\n",
    "#     val_images = pickle.load(f)\n",
    "    \n",
    "# with open(os.path.join(dir_path,'val_labels.pkl'), 'rb') as f:\n",
    "#     val_labels = pickle.load(f)"
   ]
  },
  {
   "cell_type": "markdown",
   "id": "eb59e29c-94fd-4832-8562-9cfced012f18",
   "metadata": {},
   "source": [
    "### Set paths for saving results"
   ]
  },
  {
   "cell_type": "code",
   "execution_count": null,
   "id": "bce2452b-1da7-44b8-8e46-01ef2c786431",
   "metadata": {},
   "outputs": [],
   "source": [
    "model_acc_dir = \"/home/dmc/Desktop/kostas/direct-Behavior-prediction-from-miniscope-calcium-imaging-using-convolutional-neural-networks/src/V3/\"+str(output_dir)+\"/accuracy\"\n",
    "model_loss_dir = \"/home/dmc/Desktop/kostas/direct-Behavior-prediction-from-miniscope-calcium-imaging-using-convolutional-neural-networks/src/V3/\"+str(output_dir)+\"/loss\"\n",
    "model_average_loss_dir = model_loss_dir\n",
    "model_average_acc_dir = model_acc_dir"
   ]
  },
  {
   "cell_type": "markdown",
   "id": "e377841e-3595-47d7-b5cf-153ff8b948cb",
   "metadata": {},
   "source": [
    "### Load current or previous data for plotting"
   ]
  },
  {
   "cell_type": "code",
   "execution_count": null,
   "id": "226a3b2f-7c86-488a-9304-440557a80616",
   "metadata": {},
   "outputs": [],
   "source": [
    "num_folds = 5"
   ]
  },
  {
   "cell_type": "code",
   "execution_count": null,
   "id": "0c9c98d8-5c89-4409-a03c-f9e13e8cccbf",
   "metadata": {},
   "outputs": [],
   "source": [
    "load_existing_data = False\n",
    "\n",
    "if load_existing_data == True:\n",
    "    \n",
    "    dir_path = \"/home/dmc/Desktop/kostas/direct-Behavior-prediction-from-miniscope-calcium-imaging-using-convolutional-neural-networks/src/V3/1_output/results\"\n",
    "    with open(os.path.join(dir_path,'val_loss_avg.pkl'), 'rb') as f:\n",
    "        val_loss_avg = pickle.load(f)\n",
    "\n",
    "    with open(os.path.join(dir_path,'val_acc_avg.pkl'), 'rb') as f:\n",
    "        val_acc_avg = pickle.load(f)\n",
    "\n",
    "    with open(os.path.join(dir_path,'train_loss_avg.pkl'), 'rb') as f:\n",
    "        train_loss_avg = pickle.load(f)\n",
    "\n",
    "    with open(os.path.join(dir_path,'train_acc_avg.pkl'), 'rb') as f:\n",
    "        train_acc_avg = pickle.load(f)\n",
    "        \n",
    "    \n",
    "    \n",
    "    fig, axs = plt.subplots(1, 2, figsize=(8, 3))\n",
    "    sns.set_style('whitegrid')\n",
    "    sns.set_palette('husl')\n",
    "\n",
    "    min_length = len(val_loss_avg)\n",
    "\n",
    "    # Plot the averaged results - subplot 1\n",
    "    sns.lineplot(x=range(min_length), y=train_acc_avg, label='Train Acc', linewidth=2.5, color='#880454', ax=axs[0])\n",
    "    sns.lineplot(x=range(min_length), y=val_acc_avg, label='Val Acc', linewidth=2.5, color='#2596be', ax=axs[0])\n",
    "\n",
    "    axs[0].set_title('Training and Validation Accuracy (5-Fold CV)', fontsize=8)\n",
    "    axs[0].set_xlabel('Epoch', fontsize=6)\n",
    "    axs[0].set_ylabel('Accuracy', fontsize=6)\n",
    "    axs[0].legend(loc='lower right')\n",
    "\n",
    "    # Plot the averaged results - subplot 2\n",
    "    sns.lineplot(x=range(min_length), y=train_loss_avg, label='Train Loss', linewidth=2.5, color='#880454', ax=axs[1])\n",
    "    sns.lineplot(x=range(min_length), y=val_loss_avg, label='Val Loss', linewidth=2.5, color='#2596be', ax=axs[1])\n",
    "\n",
    "    axs[1].set_title('Training and Validation Loss (5-Fold CV)', fontsize=8)\n",
    "    axs[1].set_xlabel('Epoch', fontsize=6)\n",
    "    axs[1].set_ylabel('Loss', fontsize=6)\n",
    "    axs[1].legend(loc='lower right')\n",
    "\n",
    "    plt.savefig(model_acc_dir+\"/\"+\"training-validation-accuracy_\"+str(experiment_ID)+\".svg\", bbox_inches='tight', dpi=300)\n",
    "    plt.show()\n",
    "\n",
    "\n",
    "#     fig, ax = plt.subplots(figsize=(4, 3))\n",
    "#     sns.set_style('whitegrid')\n",
    "#     sns.set_palette('husl')\n",
    "    \n",
    "#     min_length = len(val_loss_avg)\n",
    "    \n",
    "#     # Plot the averaged results\n",
    "#     sns.lineplot(x=range(min_length), y=train_acc_avg, label='Train Acc', linewidth=2.5, color='#880454')\n",
    "#     sns.lineplot(x=range(min_length), y=val_acc_avg, label='Val Acc', linewidth=2.5, color='#2596be')\n",
    "    \n",
    "#     plt.title('Training and Validation Accuracy (5-Fold CV)', fontsize=8)\n",
    "#     plt.xlabel('Epoch', fontsize=6)\n",
    "#     plt.ylabel('Accuracy', fontsize=6)\n",
    "#     plt.legend(loc='lower right')\n",
    "#     plt.savefig(model_acc_dir+\"/\"+\"training-validation-accuracy_\"+str(experiment_ID)+\".svg\", bbox_inches='tight', dpi=300)\n",
    "#     plt.show()\n",
    "    \n",
    "#     # Plot the averaged results\n",
    "#     sns.lineplot(x=range(min_length), y=train_loss_avg, label='Train Loss', linewidth=2.5, color='#880454')\n",
    "#     sns.lineplot(x=range(min_length), y=val_loss_avg, label='Val Loss', linewidth=2.5, color='#2596be')\n",
    "    \n",
    "#     plt.title('Training and Validation Loss (5-Fold CV)', fontsize=8)\n",
    "#     plt.xlabel('Epoch', fontsize=6)\n",
    "#     plt.ylabel('Loss', fontsize=6)\n",
    "#     plt.legend(loc='lower right')\n",
    "#     plt.savefig(model_loss_dir+\"/\"+\"training-validation-loss_\"+str(experiment_ID)+\".svg\", bbox_inches='tight', dpi=300)\n",
    "#     plt.show()\n",
    "    \n",
    "    \n",
    "    \n",
    "    \n",
    "else:\n",
    "    %store -r train_loss_all\n",
    "    %store -r val_loss_all\n",
    "    %store -r train_acc_all\n",
    "    %store -r val_acc_all\n",
    "    \n",
    "    fig = plt.figure(figsize=(4, 3)) \n",
    "    sns.set_style('whitegrid')\n",
    "    sns.set_palette('husl')\n",
    "    \n",
    "#     # Find the minimum length of the train and validation accuracy lists\n",
    "    min_length = min([len(train_acc_all[i]) for i in range(num_folds)] + [len(val_acc_all[i]) for i in range(num_folds)])\n",
    "    \n",
    "    # Create arrays to hold the averaged results\n",
    "    train_acc_avg = np.zeros(min_length)\n",
    "    val_acc_avg = np.zeros(min_length)\n",
    "    \n",
    "    \n",
    "    # Average the results across all folds\n",
    "    for i in range(num_folds):\n",
    "        train_acc_fold = np.array(train_acc_all[i][:min_length])\n",
    "        val_acc_fold = np.array(val_acc_all[i][:min_length])\n",
    "        train_acc_avg += train_acc_fold\n",
    "        val_acc_avg += val_acc_fold\n",
    "        \n",
    "        # # Plot individual fold results\n",
    "        # sns.lineplot(x=range(min_length), y=train_acc_fold, label=f'Train Acc Fold {i+1}', alpha=0.7)\n",
    "        # sns.lineplot(x=range(min_length), y=val_acc_fold, label=f'Val Acc Fold {i+1}', alpha=0.7)\n",
    "        \n",
    "    train_acc_avg /= num_folds\n",
    "    val_acc_avg /= num_folds\n",
    "    \n",
    "    # Plot the averaged results\n",
    "    sns.lineplot(x=range(min_length), y=train_acc_avg, label='Train Acc', linewidth=2.5, color='#880454')\n",
    "    sns.lineplot(x=range(min_length), y=val_acc_avg, label='Val Acc', linewidth=2.5, color='#2596be')\n",
    "    \n",
    "    plt.title('Training and Validation Accuracy (5-Fold CV)', fontsize=8)\n",
    "    plt.xlabel('Epoch', fontsize=6)\n",
    "    plt.ylabel('Accuracy', fontsize=6)\n",
    "    plt.legend(loc='upper left')\n",
    "    plt.savefig(model_acc_dir+\"/\"+\"training-validation-accuracy_\"+str(experiment_ID)+\".svg\", bbox_inches='tight', dpi=300)\n",
    "    plt.show()\n",
    "    \n",
    "    \n",
    "    #### loss ####\n",
    "    \n",
    "    fig, ax = plt.subplots(figsize=(4, 3))\n",
    "    sns.set_style('whitegrid')\n",
    "    sns.set_palette('husl')\n",
    "    \n",
    "    \n",
    "    # Create arrays to hold the averaged results\n",
    "    train_loss_avg = np.zeros(min_length)\n",
    "    val_loss_avg = np.zeros(min_length)\n",
    "    \n",
    "    # Average the results across all folds\n",
    "    for i in range(num_folds):\n",
    "        train_loss_fold = np.array(train_loss_all[i][:min_length])\n",
    "        val_loss_fold = np.array(val_loss_all[i][:min_length])\n",
    "        train_loss_avg += train_loss_fold\n",
    "        val_loss_avg += val_loss_fold\n",
    "        \n",
    "        # # Plot individual fold results\n",
    "        # sns.lineplot(x=range(min_length), y=train_loss_fold, label=f'Train Loss Fold {i+1}', alpha=0.7)\n",
    "        # sns.lineplot(x=range(min_length), y=val_loss_fold, label=f'Val Loss Fold {i+1}', alpha=0.7)\n",
    "    \n",
    "    train_loss_avg /= num_folds\n",
    "    val_loss_avg /= num_folds\n",
    "    \n",
    "    # Plot the averaged results\n",
    "    sns.lineplot(x=range(min_length), y=train_loss_avg, label='Train Loss', linewidth=2.5, color='#880454')\n",
    "    sns.lineplot(x=range(min_length), y=val_loss_avg, label='Val Loss', linewidth=2.5, color='#2596be')\n",
    "    \n",
    "    \n",
    "    plt.title('Training and Validation Loss (5-Fold CV)', fontsize=8)\n",
    "    plt.xlabel('Epoch', fontsize=6)\n",
    "    plt.ylabel('Loss', fontsize=6)\n",
    "    plt.legend(loc='lower left')\n",
    "    plt.savefig(model_loss_dir+\"/\"+\"training-validation-loss_\"+str(experiment_ID)+\".svg\", bbox_inches='tight', dpi=300)\n",
    "    plt.show()\n",
    "    \n",
    "    # return train_acc_avg, val_acc_avg\n",
    "    \n",
    "#     # Find the minimum length of the train and validation accuracy lists\n",
    "#     min_length_1 = min([len(train_acc_all[i]) for i in range(num_folds)] + [len(val_acc_all[i]) for i in range(num_folds)])\n",
    "#     min_length_2 = min([len(train_loss_all[i]) for i in range(num_folds)] + [len(val_loss_all[i]) for i in range(num_folds)])\n",
    "    \n",
    "#     fig, axs = plt.subplots(1, 2, figsize=(8, 3))\n",
    "#     sns.set_style('whitegrid')\n",
    "#     sns.set_palette('husl')\n",
    "\n",
    "#     min_length = min([min_length_1] + [min_length_2])\n",
    "    \n",
    "#     print(train_acc_avg)\n",
    "#     print(val_acc_avg)\n",
    "#     print(train_loss_avg)\n",
    "#     print(val_loss_avg)\n",
    "\n",
    "#     # Plot the averaged results - subplot 1\n",
    "#     sns.lineplot(x=range(min_length), y=train_acc_avg, label='Train Acc', linewidth=2.5, color='#880454', ax=axs[0])\n",
    "#     sns.lineplot(x=range(min_length), y=val_acc_avg, label='Val Acc', linewidth=2.5, color='#2596be', ax=axs[0])\n",
    "\n",
    "#     axs[0].set_title('Training and Validation Accuracy (5-Fold CV)', fontsize=8)\n",
    "#     axs[0].set_xlabel('Epoch', fontsize=6)\n",
    "#     axs[0].set_ylabel('Accuracy', fontsize=6)\n",
    "#     axs[0].legend(loc='lower right')\n",
    "\n",
    "#     # Plot the averaged results - subplot 2\n",
    "#     sns.lineplot(x=range(min_length), y=train_loss_avg, label='Train Loss', linewidth=2.5, color='#880454', ax=axs[1])\n",
    "#     sns.lineplot(x=range(min_length), y=val_loss_avg, label='Val Loss', linewidth=2.5, color='#2596be', ax=axs[1])\n",
    "\n",
    "#     axs[1].set_title('Training and Validation Loss (5-Fold CV)', fontsize=8)\n",
    "#     axs[1].set_xlabel('Epoch', fontsize=6)\n",
    "#     axs[1].set_ylabel('Loss', fontsize=6)\n",
    "#     axs[1].legend(loc='lower right')\n",
    "\n",
    "#     plt.savefig(model_acc_dir+\"/\"+\"training-validation-accuracy_\"+str(experiment_ID)+\".svg\", bbox_inches='tight', dpi=300)\n",
    "#     plt.show()"
   ]
  },
  {
   "cell_type": "code",
   "execution_count": null,
   "id": "51ce6dc9-5ea0-4eca-90a6-728cb0ab5a37",
   "metadata": {},
   "outputs": [],
   "source": [
    "# train_acc_avg, val_acc_avg = plot_accuracy_k_fold(experiment_ID, model_acc_dir, train_acc_all, val_acc_all, num_folds=num_folds, num_epochs=epochs, min_length=min_length)\n",
    "# train_loss_avg, val_loss_avg = plot_loss_k_fold(experiment_ID, model_loss_dir, train_loss_all, val_loss_all, num_folds=num_folds, num_epochs=epochs, min_length=min_length)\n",
    "\n",
    "# mean_train_acc, mean_val_acc = plot_average_accuracy_k_fold(experiment_ID, model_average_acc_dir, train_acc_all, val_acc_all, num_folds=num_folds, num_epochs=epochs)\n",
    "# mean_train_loss, mean_val_loss = plot_average_loss_k_fold(experiment_ID, model_average_loss_dir, train_loss_all, val_loss_all, num_folds=num_folds, num_epochs=epochs)\n",
    "\n",
    "# f1_score_val = plot_confusion_matrix(experiment_ID, no_of_behaviors, train_labels, val_labels, train_images, val_images, model_cm_dir, model_path, model_version)\n",
    "# plot_loss(experiment_ID, history, model_loss_dir)\n",
    "# plot_accuracy(experiment_ID, history, model_acc_dir)\n",
    "# no_of_behaviors = ['Main Corr', 'Left Corr', 'Right Corr']"
   ]
  },
  {
   "cell_type": "markdown",
   "id": "efbcba72-6a61-4f1b-92a7-ecce0e57457e",
   "metadata": {},
   "source": [
    "### Save averages from plotting"
   ]
  },
  {
   "cell_type": "code",
   "execution_count": null,
   "id": "7787f104-c56e-4f0e-8260-630166ffdeb3",
   "metadata": {},
   "outputs": [],
   "source": [
    "# create pickles directory\n",
    "dir_name_pickles = os.path.join(output_dir, 'results')\n",
    "if not os.path.exists(dir_name_pickles):\n",
    "    os.mkdir(dir_name_pickles)\n",
    "\n",
    "# save pickle files\n",
    "with open(os.path.join(dir_name_pickles, 'train_acc_avg.pkl'), 'wb') as f:\n",
    "    pickle.dump(train_acc_avg, f)\n",
    "\n",
    "with open(os.path.join(dir_name_pickles, 'val_acc_avg.pkl'), 'wb') as f:\n",
    "    pickle.dump(val_acc_avg, f)\n",
    "\n",
    "with open(os.path.join(dir_name_pickles, 'train_loss_avg.pkl'), 'wb') as f:\n",
    "    pickle.dump(train_loss_avg, f)\n",
    "\n",
    "with open(os.path.join(dir_name_pickles, 'val_loss_avg.pkl'), 'wb') as f:\n",
    "    pickle.dump(val_loss_avg, f)\n",
    "    \n",
    "    \n",
    "with open(os.path.join(dir_name_pickles, 'conf_matrices.pkl'), 'wb') as f:\n",
    "    pickle.dump(conf_matrices, f)\n",
    "\n",
    "with open(os.path.join(dir_name_pickles, 'train_labels_names.pkl'), 'wb') as f:\n",
    "    pickle.dump(train_labels_names, f)\n",
    "    \n",
    "    "
   ]
  },
  {
   "cell_type": "code",
   "execution_count": null,
   "id": "7ec04430-0639-4414-93eb-f453c5e844d9",
   "metadata": {},
   "outputs": [],
   "source": []
  },
  {
   "cell_type": "code",
   "execution_count": null,
   "id": "cca12244-657a-4c14-a7de-d835f25b3842",
   "metadata": {},
   "outputs": [],
   "source": [
    "train_acc_avg"
   ]
  },
  {
   "cell_type": "code",
   "execution_count": null,
   "id": "c1f19310-486e-4290-b398-12c98ce76cec",
   "metadata": {},
   "outputs": [],
   "source": [
    "train_loss_avg"
   ]
  },
  {
   "cell_type": "markdown",
   "id": "cff50bff-f1d8-4ad3-8777-5ab106c148e1",
   "metadata": {},
   "source": [
    "### Plot the averages across labels for accuracy and loss"
   ]
  },
  {
   "cell_type": "code",
   "execution_count": null,
   "id": "486e7581-ee07-4acb-b577-800fcc28be96",
   "metadata": {},
   "outputs": [],
   "source": [
    "# For all labels:\n",
    "dir_path_all = \"/home/dmc/Desktop/kostas/direct-Behavior-prediction-from-miniscope-calcium-imaging-using-convolutional-neural-networks/src/V3/1_output/results\"\n",
    "with open(os.path.join(dir_path_all,'val_loss_avg.pkl'), 'rb') as f:\n",
    "    val_loss_avg_1 = pickle.load(f)\n",
    "\n",
    "with open(os.path.join(dir_path_all,'val_acc_avg.pkl'), 'rb') as f:\n",
    "    val_acc_avg_1 = pickle.load(f)\n",
    "\n",
    "with open(os.path.join(dir_path_all,'train_loss_avg.pkl'), 'rb') as f:\n",
    "    train_loss_avg_1 = pickle.load(f)\n",
    "\n",
    "with open(os.path.join(dir_path_all,'train_acc_avg.pkl'), 'rb') as f:\n",
    "    train_acc_avg_1 = pickle.load(f)\n",
    "\n",
    "\n",
    "# For merged labels:\n",
    "dir_path_merged = \"/home/dmc/Desktop/kostas/direct-Behavior-prediction-from-miniscope-calcium-imaging-using-convolutional-neural-networks/src/V3/2_output/results\"\n",
    "with open(os.path.join(dir_path_merged,'val_loss_avg.pkl'), 'rb') as f:\n",
    "    val_loss_avg_2 = pickle.load(f)\n",
    "\n",
    "with open(os.path.join(dir_path_merged,'val_acc_avg.pkl'), 'rb') as f:\n",
    "    val_acc_avg_2 = pickle.load(f)\n",
    "\n",
    "with open(os.path.join(dir_path_merged,'train_loss_avg.pkl'), 'rb') as f:\n",
    "    train_loss_avg_2 = pickle.load(f)\n",
    "\n",
    "with open(os.path.join(dir_path_merged,'train_acc_avg.pkl'), 'rb') as f:\n",
    "    train_acc_avg_2 = pickle.load(f)\n",
    "    \n",
    "    \n",
    "# For new labels:\n",
    "dir_path_new = \"/home/dmc/Desktop/kostas/direct-Behavior-prediction-from-miniscope-calcium-imaging-using-convolutional-neural-networks/src/V3/3_output/results\"\n",
    "with open(os.path.join(dir_path_new,'val_loss_avg.pkl'), 'rb') as f:\n",
    "    val_loss_avg_3 = pickle.load(f)\n",
    "\n",
    "with open(os.path.join(dir_path_new,'val_acc_avg.pkl'), 'rb') as f:\n",
    "    val_acc_avg_3 = pickle.load(f)\n",
    "\n",
    "with open(os.path.join(dir_path_new,'train_loss_avg.pkl'), 'rb') as f:\n",
    "    train_loss_avg_3 = pickle.load(f)\n",
    "\n",
    "with open(os.path.join(dir_path_new,'train_acc_avg.pkl'), 'rb') as f:\n",
    "    train_acc_avg_3 = pickle.load(f)"
   ]
  },
  {
   "cell_type": "code",
   "execution_count": null,
   "id": "f5ca3dbc-e8e4-4a96-95f8-d7d0a7113e1b",
   "metadata": {},
   "outputs": [],
   "source": [
    "# Find the minimum length of the train and validation accuracy lists\n",
    "min_length = min([len(train_acc_avg_1) for i in range(num_folds)] \n",
    "                 + [len(val_acc_avg_1) for i in range(num_folds)] \n",
    "                 + [len(train_acc_avg_2) for i in range(num_folds)] \n",
    "                 + [len(val_acc_avg_2) for i in range(num_folds)] \n",
    "                 + [len(train_acc_avg_3) for i in range(num_folds)] \n",
    "                 + [len(val_acc_avg_3) for i in range(num_folds)])"
   ]
  },
  {
   "cell_type": "code",
   "execution_count": null,
   "id": "4f64e8b2-8bb2-4a76-ba2e-bedb1f2b85e4",
   "metadata": {},
   "outputs": [],
   "source": [
    "# min_length = len(val_loss_avg)"
   ]
  },
  {
   "cell_type": "code",
   "execution_count": null,
   "id": "cb36bca9-5d6d-4a47-ae46-5d53c05e3870",
   "metadata": {},
   "outputs": [],
   "source": [
    "min_length = min([len(train_loss_avg_1) for i in range(num_folds)] \n",
    "                 + [len(val_loss_avg_1) for i in range(num_folds)] \n",
    "                 + [len(train_loss_avg_2) for i in range(num_folds)] \n",
    "                 + [len(val_loss_avg_2) for i in range(num_folds)] \n",
    "                 + [len(train_loss_avg_3) for i in range(num_folds)] \n",
    "                 + [len(val_loss_avg_3) for i in range(num_folds)]\n",
    "                )"
   ]
  },
  {
   "cell_type": "code",
   "execution_count": null,
   "id": "02cd6a09-8920-4f32-8fad-a04d5687767d",
   "metadata": {},
   "outputs": [],
   "source": [
    "len(train_acc_avg_3)"
   ]
  },
  {
   "cell_type": "code",
   "execution_count": null,
   "id": "c912db99-c14d-40ff-95a5-b43264e90eab",
   "metadata": {},
   "outputs": [],
   "source": [
    "fig, axs = plt.subplots(1, 2, figsize=(14, 7))\n",
    "sns.set_style('whitegrid')\n",
    "sns.set_palette('husl')\n",
    "\n",
    "# min_length = len(val_loss_avg)\n",
    "\n",
    "# Plot the averaged results - subplot 1\n",
    "sns.lineplot(x=range(min_length), y=train_acc_avg_1, label='Train Acc All Labels', linewidth=2.5, color='#1E90FF', ax=axs[0])\n",
    "sns.lineplot(x=range(min_length), y=val_acc_avg_1, label='Val Acc All Labels', linewidth=2.5, color='#00BFFF', ax=axs[0])\n",
    "sns.lineplot(x=range(min_length), y=train_acc_avg_2, label='Train Acc 3 Labels', linewidth=2.5, color='#C71585', ax=axs[0])\n",
    "sns.lineplot(x=range(min_length), y=val_acc_avg_2, label='Val Acc 3 Labels', linewidth=2.5, color='#FF00FF', ax=axs[0])\n",
    "sns.lineplot(x=range(min_length), y=train_acc_avg_3[:-1], label='Train Acc 6 Labels', linewidth=2.5, color='#808080', ax=axs[0])\n",
    "sns.lineplot(x=range(min_length), y=val_acc_avg_3[:-1], label='Val Acc 6 Labels', linewidth=2.5, color='#A9A9A9', ax=axs[0])\n",
    "\n",
    "axs[0].set_title('Training and Validation Accuracy (5-Fold CV)', fontsize=12)\n",
    "axs[0].set_xlabel('Epoch', fontsize=8)\n",
    "axs[0].set_ylabel('Accuracy', fontsize=8)\n",
    "axs[0].legend(loc='lower right')\n",
    "\n",
    "# # Plot the averaged results - subplot 2\n",
    "# sns.lineplot(x=range(min_length), y=train_loss_avg, label='Train Loss', linewidth=2.5, color='#880454', ax=axs[1])\n",
    "# sns.lineplot(x=range(min_length), y=val_loss_avg, label='Val Loss', linewidth=2.5, color='#2596be', ax=axs[1])\n",
    "\n",
    "# axs[1].set_title('Training and Validation Loss (5-Fold CV)', fontsize=8)\n",
    "# axs[1].set_xlabel('Epoch', fontsize=6)\n",
    "# axs[1].set_ylabel('Loss', fontsize=6)\n",
    "# axs[1].legend(loc='lower right')\n",
    "\n",
    "# Plot the averaged results - subplot 2\n",
    "sns.lineplot(x=range(min_length), y=train_loss_avg_1, label='Train Loss All Labels', linewidth=2.5, color='#1E90FF', ax=axs[1])\n",
    "sns.lineplot(x=range(min_length), y=val_loss_avg_1, label='Val Loss All Labels', linewidth=2.5, color='#00BFFF', ax=axs[1])\n",
    "sns.lineplot(x=range(min_length), y=train_loss_avg_2, label='Train Loss 3 Labels', linewidth=2.5, color='#C71585', ax=axs[1])\n",
    "sns.lineplot(x=range(min_length), y=val_loss_avg_2, label='Val Loss 3 Labels', linewidth=2.5, color='#FF00FF', ax=axs[1])\n",
    "sns.lineplot(x=range(min_length), y=train_loss_avg_3[:-1], label='Train Loss 6 Labels', linewidth=2.5, color='#808080', ax=axs[1])\n",
    "sns.lineplot(x=range(min_length), y=val_loss_avg_3[:-1], label='Val Loss 6 Labels', linewidth=2.5, color='#A9A9A9', ax=axs[1])\n",
    "\n",
    "axs[1].set_title('Training and Validation Loss (5-Fold CV)', fontsize=12)\n",
    "axs[1].set_xlabel('Epoch', fontsize=8)\n",
    "axs[1].set_ylabel('Accuracy', fontsize=8)\n",
    "axs[1].legend(loc='upper left')\n",
    "\n",
    "plt.savefig(model_acc_dir+\"/\"+\"training-validation-accuracy-loss-accross-labels_\"+str(experiment_ID)+\".svg\", bbox_inches='tight', dpi=300)\n",
    "plt.show()"
   ]
  },
  {
   "cell_type": "code",
   "execution_count": null,
   "id": "90d81209-db2a-460a-9b5a-b083279061fb",
   "metadata": {},
   "outputs": [],
   "source": []
  },
  {
   "cell_type": "code",
   "execution_count": null,
   "id": "446f593f-5b10-42f5-8240-507eeda53bff",
   "metadata": {},
   "outputs": [],
   "source": [
    "# Plot f-score:\n",
    "\n"
   ]
  },
  {
   "cell_type": "code",
   "execution_count": null,
   "id": "a05f471d-e943-486d-9fdc-0cf6167f4e3c",
   "metadata": {},
   "outputs": [],
   "source": []
  },
  {
   "cell_type": "code",
   "execution_count": null,
   "id": "291139e0-d4e8-4a06-a0b2-d39207025289",
   "metadata": {},
   "outputs": [],
   "source": []
  },
  {
   "cell_type": "code",
   "execution_count": null,
   "id": "dfebc7d7-52ff-4e40-84cd-850b9e6c830e",
   "metadata": {},
   "outputs": [],
   "source": [
    "\n"
   ]
  },
  {
   "cell_type": "code",
   "execution_count": null,
   "id": "830a4e7a-d077-41db-9582-992323737245",
   "metadata": {},
   "outputs": [],
   "source": []
  },
  {
   "cell_type": "markdown",
   "id": "f4a55fe1-c869-41f6-8b7f-0cb46a03609b",
   "metadata": {},
   "source": [
    "### Save model info in CSV"
   ]
  },
  {
   "cell_type": "code",
   "execution_count": null,
   "id": "ff570462-a33b-40e5-8d53-56aa666a4d61",
   "metadata": {},
   "outputs": [],
   "source": [
    "# %store -r model\n",
    "# %store -r history\n",
    "# %store -r video_name\n",
    "%store -r comment\n",
    "%store -r experiment_ID\n",
    "\n",
    "%store -r f1_score_val_list\n",
    "%store -r f1_score_mean"
   ]
  },
  {
   "cell_type": "code",
   "execution_count": null,
   "id": "0adbc6a7-8443-434d-bfd0-cd32c271b75d",
   "metadata": {},
   "outputs": [],
   "source": [
    "# save_training_info()"
   ]
  },
  {
   "cell_type": "code",
   "execution_count": null,
   "id": "d7d90c2b-53af-427c-ad5b-72373aaeee53",
   "metadata": {},
   "outputs": [],
   "source": [
    "# save_training_info(model=model, history=history, video_name=video_name, comment=comment, experiment_ID=experiment_ID, save_dir=save_dir, f1_score=f1_score_val)"
   ]
  },
  {
   "cell_type": "code",
   "execution_count": null,
   "id": "9b4b0c1c-636b-4d86-93b3-a0c97f3066fd",
   "metadata": {},
   "outputs": [],
   "source": [
    "save_dir = \"/home/dmc/Desktop/kostas/direct-Behavior-prediction-from-miniscope-calcium-imaging-using-convolutional-neural-networks/src/V3/\""
   ]
  },
  {
   "cell_type": "code",
   "execution_count": null,
   "id": "f6613338-ab42-4768-9219-bb4a4a4a0326",
   "metadata": {},
   "outputs": [],
   "source": [
    "data_file"
   ]
  },
  {
   "cell_type": "code",
   "execution_count": null,
   "id": "85bf0457-74ce-4eff-bfad-55a0f2fec885",
   "metadata": {},
   "outputs": [],
   "source": [
    "save_training_info(experiment_ID=experiment_ID,\n",
    "                   data_file = data_file,\n",
    "                   no_of_labels = no_of_labels,\n",
    "                   comment=comment,\n",
    "                   save_dir=save_dir,\n",
    "                   f1_score_mean = f1_score_mean\n",
    "                  )"
   ]
  },
  {
   "cell_type": "code",
   "execution_count": null,
   "id": "4020e520-309c-4846-90fd-b0d6cb542523",
   "metadata": {},
   "outputs": [],
   "source": []
  },
  {
   "cell_type": "code",
   "execution_count": null,
   "id": "ba62440d-c50d-4774-9861-3a5d7c6b16c4",
   "metadata": {},
   "outputs": [],
   "source": []
  }
 ],
 "metadata": {
  "kernelspec": {
   "display_name": "new_kostas_env",
   "language": "python",
   "name": "new_kostas_env"
  },
  "language_info": {
   "codemirror_mode": {
    "name": "ipython",
    "version": 3
   },
   "file_extension": ".py",
   "mimetype": "text/x-python",
   "name": "python",
   "nbconvert_exporter": "python",
   "pygments_lexer": "ipython3",
   "version": "3.10.9"
  }
 },
 "nbformat": 4,
 "nbformat_minor": 5
}
