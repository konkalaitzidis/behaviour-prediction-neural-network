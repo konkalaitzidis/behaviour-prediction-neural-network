{
 "cells": [
  {
   "cell_type": "code",
   "execution_count": null,
   "id": "d37f0ba1-cf36-41a4-aec1-dc5b884dc4a8",
   "metadata": {},
   "outputs": [],
   "source": [
    "import tensorflow.compat.v1 as tf\n",
    "#Lets see if tensorflow finds the GPU\n",
    "print(\"Num GPUs Available: \", len(tf.config.list_physical_devices('GPU')))\n",
    "#import tensorflow as tf"
   ]
  },
  {
   "cell_type": "code",
   "execution_count": null,
   "id": "19f4c38b-67dd-4881-957f-72ef6e860983",
   "metadata": {},
   "outputs": [],
   "source": [
    "#Lets see if it works\n",
    "tf.ones(1) + tf.ones(1)"
   ]
  },
  {
   "cell_type": "code",
   "execution_count": null,
   "id": "9628b322-4fc7-4193-893d-5de0b8347f1b",
   "metadata": {},
   "outputs": [],
   "source": [
    "import numpy as np # for working with arrays and matrices\n",
    "import pandas as pd # for data manipulation and analysis\n",
    "import matplotlib.pyplot as plt # for data visualization\n",
    "import seaborn as sns # for data visualization\n",
    "\n",
    "import os # OS module provides various operating system-related functions to the code\n",
    "import csv # CSV module is used for working with CSV (Comma Separated Values) files in Python.\n",
    "import pickle\n",
    "\n",
    "# used for splitting data into training and testing sets in Python.\n",
    "from sklearn.model_selection import train_test_split \n",
    "\n",
    "# for generating a confusion matrix\n",
    "from sklearn.metrics import confusion_matrix\n",
    "from sklearn.metrics import f1_score\n",
    "from keras.models import load_model\n",
    "\n",
    "\n",
    "# Classes and functions from the Keras library which is used for building and training deep learning models in Python.\n",
    "from keras.models import model_from_json\n",
    "from keras.utils import to_categorical\n",
    "from keras.models import Sequential\n",
    "from keras.layers import Dropout\n",
    "from keras.layers import Conv2D, MaxPooling2D, Flatten, Dense\n",
    "from save_model_info import save_training_info\n",
    "\n",
    "\n",
    "# These import the Adam optimizer class and various other classes from the TensorFlow Keras library \n",
    "# which is a high-level neural networks API used for building and training deep learning models in Python.\n",
    "from tensorflow.keras.optimizers.legacy import Adam\n",
    "from tensorflow.keras import datasets, layers, models\n",
    "from tensorflow.keras.utils import plot_model\n",
    "from tensorflow.keras.callbacks import EarlyStopping\n",
    "\n",
    "\n",
    "from plots import plot_confusion_matrix, plot_accuracy, plot_loss"
   ]
  },
  {
   "cell_type": "code",
   "execution_count": null,
   "id": "2d5c7ed0-2df9-4482-950a-c773686eff00",
   "metadata": {},
   "outputs": [],
   "source": [
    "%store -r experiment_ID\n",
    "print(experiment_ID)\n",
    "%store -r save_dir\n",
    "print(save_dir)\n",
    "%store -r model_version\n",
    "print(model_version)\n",
    "%store -r train_loss_all\n",
    "%store -r val_loss_all\n",
    "%store -r train_acc_all\n",
    "%store -r val_acc_all"
   ]
  },
  {
   "cell_type": "code",
   "execution_count": null,
   "id": "729fb17c-6d27-4161-8f2d-4aa9f0bbed45",
   "metadata": {},
   "outputs": [],
   "source": [
    "# dir_path = save_dir\n",
    "# history_file = os.path.join(dir_path, 'history.pkl')\n",
    "# train_images_file = os.path.join(dir_path, 'train_images.pkl')\n",
    "# train_labels_file = os.path.join(dir_path, 'train_labels.pkl')\n",
    "# val_images_file = os.path.join(dir_path, 'val_images.pkl')\n",
    "# val_labels_file = os.path.join(dir_path, 'val_labels.pkl')"
   ]
  },
  {
   "cell_type": "code",
   "execution_count": null,
   "id": "67ae41d6-3493-4adb-b971-f6279bffbf4e",
   "metadata": {},
   "outputs": [],
   "source": [
    "# # Load the history object from the pickle file\n",
    "# with open(os.path.join(dir_path,'history.pkl'), 'rb') as f:\n",
    "#     history = pickle.load(f)\n",
    "    \n",
    "# with open(os.path.join(dir_path,'train_images.pkl'), 'rb') as f:\n",
    "#     train_images = pickle.load(f)\n",
    "    \n",
    "# with open(os.path.join(dir_path,'train_labels.pkl'), 'rb') as f:\n",
    "#     train_labels = pickle.load(f)\n",
    "    \n",
    "# with open(os.path.join(dir_path,'val_images.pkl'), 'rb') as f:\n",
    "#     val_images = pickle.load(f)\n",
    "    \n",
    "# with open(os.path.join(dir_path,'val_labels.pkl'), 'rb') as f:\n",
    "#     val_labels = pickle.load(f)"
   ]
  },
  {
   "cell_type": "code",
   "execution_count": null,
   "id": "89cecfee-b824-45e7-8129-75b4249a6eab",
   "metadata": {},
   "outputs": [],
   "source": [
    "model_acc_dir = \"/home/dmc/Desktop/kostas/direct-Behavior-prediction-from-miniscope-calcium-imaging-using-convolutional-neural-networks/src/V3/output/accuracy\"\n",
    "model_loss_dir = \"/home/dmc/Desktop/kostas/direct-Behavior-prediction-from-miniscope-calcium-imaging-using-convolutional-neural-networks/src/V3/output/loss\"\n",
    "model_cm_dir = \"/home/dmc/Desktop/kostas/direct-Behavior-prediction-from-miniscope-calcium-imaging-using-convolutional-neural-networks/src/V3/output/cm\"\n",
    "model_path = \"/home/dmc/Desktop/kostas/direct-Behavior-prediction-from-miniscope-calcium-imaging-using-convolutional-neural-networks/src/V3/output/pickles\""
   ]
  },
  {
   "cell_type": "code",
   "execution_count": null,
   "id": "5485620b-80d7-4473-8f85-b825fb8d12bf",
   "metadata": {},
   "outputs": [],
   "source": []
  },
  {
   "cell_type": "code",
   "execution_count": null,
   "id": "667e290d-820e-4815-bece-d509e1b57742",
   "metadata": {},
   "outputs": [],
   "source": []
  },
  {
   "cell_type": "code",
   "execution_count": null,
   "id": "e0a4d64c-d1d2-4e49-a1d4-0815acf3fa0c",
   "metadata": {},
   "outputs": [],
   "source": [
    "plot_accuracy_k_fold(experiment_ID, model_acc_dir, train_acc_all, val_acc_all, num_folds=5)\n",
    "plot_loss_k_fold(experiment_ID, model_acc_dir, train_loss_all, val_loss_all, num_folds=5)\n",
    "# plot_accuracy(experiment_ID, history, model_acc_dir)\n",
    "# plot_loss(experiment_ID, history, model_loss_dir)\n",
    "no_of_behaviors = ['Main Corr', 'Left Corr', 'Right Corr']\n",
    "f1_score_val = plot_confusion_matrix(experiment_ID, no_of_behaviors, train_labels, val_labels, train_images, val_images, model_cm_dir, model_path, model_version)"
   ]
  },
  {
   "cell_type": "code",
   "execution_count": null,
   "id": "ff570462-a33b-40e5-8d53-56aa666a4d61",
   "metadata": {},
   "outputs": [],
   "source": [
    "%store -r model\n",
    "%store -r history\n",
    "%store -r video_name\n",
    "%store -r comment\n",
    "%store -r experiment_ID\n",
    "%store -r save_dir\n"
   ]
  },
  {
   "cell_type": "code",
   "execution_count": null,
   "id": "0adbc6a7-8443-434d-bfd0-cd32c271b75d",
   "metadata": {},
   "outputs": [],
   "source": [
    "# save_training_info()"
   ]
  },
  {
   "cell_type": "code",
   "execution_count": null,
   "id": "d7d90c2b-53af-427c-ad5b-72373aaeee53",
   "metadata": {},
   "outputs": [],
   "source": [
    "save_training_info(model=model, history=history, video_name=video_name, comment=comment, experiment_ID=experiment_ID, save_dir=save_dir, f1_score=f1_score_val)"
   ]
  },
  {
   "cell_type": "code",
   "execution_count": null,
   "id": "85bf0457-74ce-4eff-bfad-55a0f2fec885",
   "metadata": {},
   "outputs": [],
   "source": []
  },
  {
   "cell_type": "code",
   "execution_count": null,
   "id": "9b4b0c1c-636b-4d86-93b3-a0c97f3066fd",
   "metadata": {},
   "outputs": [],
   "source": []
  },
  {
   "cell_type": "code",
   "execution_count": null,
   "id": "4020e520-309c-4846-90fd-b0d6cb542523",
   "metadata": {},
   "outputs": [],
   "source": []
  }
 ],
 "metadata": {
  "kernelspec": {
   "display_name": "new_kostas_env",
   "language": "python",
   "name": "new_kostas_env"
  },
  "language_info": {
   "codemirror_mode": {
    "name": "ipython",
    "version": 3
   },
   "file_extension": ".py",
   "mimetype": "text/x-python",
   "name": "python",
   "nbconvert_exporter": "python",
   "pygments_lexer": "ipython3",
   "version": "3.10.9"
  }
 },
 "nbformat": 4,
 "nbformat_minor": 5
}
