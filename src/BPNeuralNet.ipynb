{
 "cells": [
  {
   "cell_type": "markdown",
   "id": "01485e77-4dcd-4196-930a-d748d4dfa097",
   "metadata": {
    "tags": []
   },
   "source": [
    "## Setup"
   ]
  },
  {
   "cell_type": "markdown",
   "id": "9e82ea39-5b6c-4c12-a725-4e8c43abb055",
   "metadata": {
    "tags": []
   },
   "source": [
    "NOTE: All dependencies are within a conda environment to ensure reproducibility. To install all dependencies: pip install -r requirements.txt"
   ]
  },
  {
   "cell_type": "code",
   "execution_count": 1,
   "id": "eba8283c-185b-4595-82ad-2e1ac5ec5d97",
   "metadata": {
    "tags": []
   },
   "outputs": [
    {
     "name": "stderr",
     "output_type": "stream",
     "text": [
      "2023-04-01 18:39:57.508856: I tensorflow/core/platform/cpu_feature_guard.cc:193] This TensorFlow binary is optimized with oneAPI Deep Neural Network Library (oneDNN) to use the following CPU instructions in performance-critical operations:  SSE4.1 SSE4.2 AVX AVX2 AVX512F AVX512_VNNI FMA\n",
      "To enable them in other operations, rebuild TensorFlow with the appropriate compiler flags.\n",
      "2023-04-01 18:39:57.547599: I tensorflow/core/util/port.cc:104] oneDNN custom operations are on. You may see slightly different numerical results due to floating-point round-off errors from different computation orders. To turn them off, set the environment variable `TF_ENABLE_ONEDNN_OPTS=0`.\n"
     ]
    },
    {
     "name": "stdout",
     "output_type": "stream",
     "text": [
      "Num GPUs Available:  1\n"
     ]
    },
    {
     "name": "stderr",
     "output_type": "stream",
     "text": [
      "2023-04-01 18:39:58.374587: I tensorflow/compiler/xla/stream_executor/cuda/cuda_gpu_executor.cc:981] successful NUMA node read from SysFS had negative value (-1), but there must be at least one NUMA node, so returning NUMA node zero\n",
      "2023-04-01 18:39:58.388682: I tensorflow/compiler/xla/stream_executor/cuda/cuda_gpu_executor.cc:981] successful NUMA node read from SysFS had negative value (-1), but there must be at least one NUMA node, so returning NUMA node zero\n",
      "2023-04-01 18:39:58.388797: I tensorflow/compiler/xla/stream_executor/cuda/cuda_gpu_executor.cc:981] successful NUMA node read from SysFS had negative value (-1), but there must be at least one NUMA node, so returning NUMA node zero\n"
     ]
    }
   ],
   "source": [
    "import tensorflow.compat.v1 as tf\n",
    "# #Lets see if tensorflow finds the GPU\n",
    "print(\"Num GPUs Available: \", len(tf.config.list_physical_devices('GPU')))\n",
    "#import tensorflow as tf"
   ]
  },
  {
   "cell_type": "code",
   "execution_count": 2,
   "id": "4384096d-cb3e-4056-b096-8fa2252c12b2",
   "metadata": {},
   "outputs": [],
   "source": [
    "#Lets see if it works\n",
    "#tf.ones(1) + tf.ones(1)"
   ]
  },
  {
   "cell_type": "code",
   "execution_count": 3,
   "id": "cc9f33ac-2298-44bc-addc-fc0b862c345c",
   "metadata": {
    "tags": []
   },
   "outputs": [],
   "source": [
    "import numpy as np # for working with arrays and matrices\n",
    "import pandas as pd # for data manipulation and analysis\n",
    "import matplotlib.pyplot as plt # for data visualization\n",
    "import time # for time-related functions\n",
    "import random # for random number generation\n",
    "import cv2 # for computer vision and image processing tasks\n",
    "\n",
    "\n",
    "import h5py # for working with HDF5 (Hierarchical Data Format) files\n",
    "import boto3 # for working with Amazon Web Services (AWS)\n",
    "from pynwb import NWBHDF5IO # for working with Neurodata Without Border (NWB) files\n",
    "import fsspec \n",
    "from fsspec.implementations.cached import CachingFileSystem # library used for working with various file systems in Python.\n",
    "import requests \n",
    "import aiohttp # libraries which are used for making HTTP requests in Python.\n",
    "import os # OS module provides various operating system-related functions to the code\n",
    "import csv # CSV module is used for working with CSV (Comma Separated Values) files in Python.\n",
    "\n",
    "\n",
    "# used for splitting data into training and testing sets in Python.\n",
    "from sklearn.model_selection import train_test_split \n",
    "\n",
    "# Classes and functions from the Keras library which is used for building and training deep learning models in Python.\n",
    "from keras.models import model_from_json\n",
    "from keras.utils import to_categorical\n",
    "from keras.models import Sequential\n",
    "from keras.layers import Dropout\n",
    "from keras.layers import Conv2D, MaxPooling2D, Flatten, Dense\n",
    "\n",
    "# These import the Adam optimizer class and various other classes from the TensorFlow Keras library \n",
    "# which is a high-level neural networks API used for building and training deep learning models in Python.\n",
    "from tensorflow.keras.optimizers.legacy import Adam\n",
    "from tensorflow.keras import datasets, layers, models\n",
    "from tensorflow.keras.utils import plot_model"
   ]
  },
  {
   "cell_type": "code",
   "execution_count": null,
   "id": "e1fbc476-e2ba-4685-823f-332c7b8095fc",
   "metadata": {},
   "outputs": [],
   "source": [
    "# mySession = readSessionServer.SessionIterator()\n",
    "# sess = mySession.findSession()\n",
    "# # for sess in mySession.findSessions():\n",
    "# #     print(sess)\n",
    "# if sess.hasBehavior() and sess.hasCalcium():\n",
    "#     behavior = sess.getBehaviorSegmentation(align_with_calcium=True).reset_index()"
   ]
  },
  {
   "cell_type": "markdown",
   "id": "2f3d1a2e-7307-44d7-9863-dd06baee6227",
   "metadata": {
    "jp-MarkdownHeadingCollapsed": true,
    "tags": []
   },
   "source": [
    "## [Ignore for now] Define hyperparameters"
   ]
  },
  {
   "cell_type": "code",
   "execution_count": null,
   "id": "719e2a1c-7040-4335-8231-bb45e2893d4b",
   "metadata": {},
   "outputs": [],
   "source": [
    "# IMG_SIZE = 224\n",
    "# BATCH_SIZE = 64\n",
    "# EPOCHS = 10\n",
    "\n",
    "# MAX_SEQ_LENGTH = 20\n",
    "# NUM_FEATURES = 2048"
   ]
  },
  {
   "cell_type": "code",
   "execution_count": null,
   "id": "9bd45347-075a-4435-bddb-288d8bc3e506",
   "metadata": {},
   "outputs": [],
   "source": [
    "# import sys\n",
    "# sys.path.append(\"/Users/konstantinoskalaitzidis/Developer/dmc\")\n",
    "# from readSessionsServer import SessionIterator\n",
    "\n",
    "#TODO: Script to retrieve videos from a list of calcium videos (of the same animal) from the db"
   ]
  },
  {
   "cell_type": "markdown",
   "id": "941e710a-0385-4e70-b22f-2fc22953ff07",
   "metadata": {
    "tags": []
   },
   "source": [
    "## Dataset preparation and label annotation (feature engineering)"
   ]
  },
  {
   "cell_type": "markdown",
   "id": "b0b3d25e-b6b2-423b-9660-33db62493079",
   "metadata": {
    "tags": []
   },
   "source": [
    "### [Ignore for now] Data availale for processing - overview"
   ]
  },
  {
   "cell_type": "markdown",
   "id": "c51d84e0-6996-46bb-8d8f-e3e30d7b0250",
   "metadata": {},
   "source": [
    "The following is not going to be used for now but will allow us to have an overview of all the videos I have available to train my CNN model. I expect to have all recordings sessions for each animal as input for the CNN which is going to be trained only based on recordings from the corresponding animal. The data will be split to train/test at some point..."
   ]
  },
  {
   "cell_type": "code",
   "execution_count": null,
   "id": "a5c8f7e6-4142-4d8c-abde-d6aeedf14113",
   "metadata": {},
   "outputs": [],
   "source": [
    "# train_df = pd.read_csv(\"train.csv\")\n",
    "# test_df = pd.read_csv(\"test.csv\")\n",
    "\n",
    "# print(f\"Total videos for training: {len(train_df)}\")\n",
    "# print(f\"Total videos for testing: {len(test_df)}\")\n",
    "\n",
    "# train_df.sample(10)"
   ]
  },
  {
   "cell_type": "markdown",
   "id": "0c1cc62e-96d3-4a65-aaff-a4f869cff76b",
   "metadata": {},
   "source": [
    "Extract frames from the calcium imaging video and save to directory. Each frame contains spatial information, and the sequence of those frames contains temporal information (the latter is not exploited for now). Maybe also ask for path input from the user to make it reproducible for others.\n",
    "\n",
    "Helpful source: https://keras.io/examples/vision/video_classification/"
   ]
  },
  {
   "cell_type": "markdown",
   "id": "9f96f31b-c607-4a50-bb5f-9ef8fecdd3e3",
   "metadata": {},
   "source": [
    "The number of frames may differ from video to video.\n",
    "The frame rate may also differ from video to video but it should be 20fps for all. "
   ]
  },
  {
   "cell_type": "markdown",
   "id": "f7dcdb7b-7022-485c-9c96-591b3711feab",
   "metadata": {},
   "source": [
    "The duration of each frame depends on the frame rate of the video. If a video has a frame rate of 25 fps, then each frame will have a duration of 1/25th of a second, or approximately 0.04 seconds. The calcium videos use 20fps, while the behavioral recordings are at 60fps. Alignment of these videos will follow shortly. "
   ]
  },
  {
   "cell_type": "markdown",
   "id": "08a3ae92-9853-43c3-bbef-ede04ab1aec4",
   "metadata": {
    "tags": []
   },
   "source": [
    "### [Ignore for now] Fetch all calcium videos from the dmc database and align calcium videos with behavior annotations"
   ]
  },
  {
   "cell_type": "code",
   "execution_count": null,
   "id": "6a136ef5-f526-417f-bc03-855d4e07fb51",
   "metadata": {},
   "outputs": [],
   "source": [
    "# mySession = readSessionServer.SessionIterator()\n",
    "# for sess in mySession.findSessions():\n",
    "#     print(sess)\n",
    "    # if sess.hasBehavior() and sess.hasCalcium():\n",
    "        # behavior = sess.getBehaviorSegmentation(align_with_calcium=True).reset_index()"
   ]
  },
  {
   "cell_type": "markdown",
   "id": "4a5de1e4-345a-4132-95cc-948a88666259",
   "metadata": {
    "tags": []
   },
   "source": [
    "### [Ignore for now] Open calcium video locally, create dir for saving frames and count number of frames with OpenCV"
   ]
  },
  {
   "cell_type": "code",
   "execution_count": null,
   "id": "66c7bceb-62a8-4589-874f-bd05dd118bb7",
   "metadata": {},
   "outputs": [],
   "source": [
    "# Open the HDF5 file\n",
    "# with h5py.File('/Users/konstantinoskalaitzidis/Developer/dmc/thesis_data/20211016_163921_animal1learnday1.nwb', 'r') as f:\n",
    "#     # Print the keys of the file\n",
    "#     print(list(f.keys()))\n",
    "#     # dataset = f['identifier'][()]\n",
    "#     # print(dataset)"
   ]
  },
  {
   "cell_type": "code",
   "execution_count": null,
   "id": "71e9d178-da84-4268-a626-e8ae346556ee",
   "metadata": {},
   "outputs": [],
   "source": [
    "# Directory where frames from video will be stored after extraction\n",
    "# frames_dir = \"path\""
   ]
  },
  {
   "cell_type": "code",
   "execution_count": null,
   "id": "fbee6769-dd9e-4d13-bcb3-7b51b960dce5",
   "metadata": {},
   "outputs": [],
   "source": [
    "# Open the video using OpenCV and count the number of frames\n",
    "# cap = cv2.VideoCapture(raw_calcium_video_path)\n",
    "# frame_count = int(cap.get(cv2.CAP_PROP_FRAME_COUNT))\n",
    "# cap.release()\n",
    "\n",
    "# print(f\"Number of frames in the video: {frame_count}\")"
   ]
  },
  {
   "cell_type": "code",
   "execution_count": null,
   "id": "4bce9c58-3dd8-4fd6-afb3-9dfb9473b873",
   "metadata": {},
   "outputs": [],
   "source": [
    "# video = 'path'\n",
    "\n",
    "# cap = cv2.VideoCapture(video)\n",
    "# frame_count = int(cap.get(cv2.CAP_PROP_FRAME_COUNT))\n",
    "# cap.release()\n",
    "\n",
    "# print(f\"Number of frames in the video: {frame_count}\")"
   ]
  },
  {
   "cell_type": "code",
   "execution_count": null,
   "id": "98fed508-e062-4c0e-8c82-5c49e8c5314d",
   "metadata": {},
   "outputs": [],
   "source": [
    "# Open the video file\n",
    "# cap = cv2.VideoCapture(video)\n",
    "\n",
    "# # Get the frame rate of the video\n",
    "# frame_rate = int(cap.get(cv2.CAP_PROP_FPS))\n",
    "\n",
    "# # Release the video capture object\n",
    "# cap.release()\n",
    "\n",
    "# print(f\"Frame rate of the video: {frame_rate}\")"
   ]
  },
  {
   "cell_type": "code",
   "execution_count": null,
   "id": "2146d11a-949c-4877-a84c-5d2e762967d3",
   "metadata": {},
   "outputs": [],
   "source": [
    "# save each frame as one image"
   ]
  },
  {
   "cell_type": "code",
   "execution_count": null,
   "id": "787686cd-d9a4-4939-8ab2-7b7b3f8fbffb",
   "metadata": {},
   "outputs": [],
   "source": [
    "# cap = cv2.VideoCapture(video)\n",
    "\n",
    "# # Loop through the video frames and save each one as an image file\n",
    "# frame_count = 0\n",
    "# while(cap.isOpened()):\n",
    "#     ret, frame = cap.read()\n",
    "#     if ret == False:\n",
    "#         break\n",
    "#     # Save the frame as an image file\n",
    "#     frame_file = os.path.join(frames_dir, \"frame_\" + str(frame_count) + \".jpg\")\n",
    "#     cv2.imwrite(frame_file, frame)\n",
    "#     frame_count += 1\n",
    "\n",
    "# # Close the video file\n",
    "# cap.release()"
   ]
  },
  {
   "cell_type": "markdown",
   "id": "4f6d055e-0c52-4bcf-80f6-00594de77c4c",
   "metadata": {
    "tags": []
   },
   "source": [
    "## [Start here] Align behavior annotation with calcium video frames"
   ]
  },
  {
   "cell_type": "markdown",
   "id": "4a0f7437-67b9-4386-ae8a-e6bff4e0dc7f",
   "metadata": {},
   "source": [
    "At some point I will also have to align the behavior and the calcium imaging videos and use those as input for my CNN model"
   ]
  },
  {
   "cell_type": "code",
   "execution_count": null,
   "id": "0935a7ed-c016-43fe-9c33-a09c381e2995",
   "metadata": {},
   "outputs": [],
   "source": [
    "# # define paths\n",
    "# video_path = '/Users/konstantinoskalaitzidis/Developer/dmc/thesis_data/20211016_163921_animal1learnday1.nwb'\n",
    "# train_dir = '/Users/konstantinoskalaitzidis/Developer/dmc/thesis_data/train'\n",
    "# test_dir = '/Users/konstantinoskalaitzidis/Developer/dmc/thesis_data/test'\n",
    "\n",
    "# # define train-test split ratio\n",
    "# train_test_ratio = 0.8\n",
    "\n",
    "# # open video file\n",
    "# cap = cv2.VideoCapture(video_path)\n",
    "\n",
    "# # get video frame count\n",
    "# frame_count = int(cap.get(cv2.CAP_PROP_FRAME_COUNT))\n",
    "\n",
    "# # create list of frame indices\n",
    "# frame_indices = list(range(frame_count))\n",
    "\n",
    "# # shuffle frame indices\n",
    "# random.shuffle(frame_indices)\n",
    "\n",
    "# # split frame indices into train and test sets\n",
    "# train_frame_indices = frame_indices[:int(frame_count * train_test_ratio)]\n",
    "# test_frame_indices = frame_indices[int(frame_count * train_test_ratio):]\n",
    "\n",
    "# # iterate over frames and save to train or test directory\n",
    "# for i in range(frame_count):\n",
    "#     # read frame\n",
    "#     ret, frame = cap.read()\n",
    "#     if not ret:\n",
    "#         break\n",
    "    \n",
    "#     # save frame to train or test directory\n",
    "#     if i in train_frame_indices:\n",
    "#         cv2.imwrite(os.path.join(train_dir, f'{i}.jpg'), frame)\n",
    "#     else:\n",
    "#         cv2.imwrite(os.path.join(test_dir, f'{i}.jpg'), frame)"
   ]
  },
  {
   "cell_type": "markdown",
   "id": "96492356-9060-49fe-8d23-a26ffab0d66a",
   "metadata": {
    "tags": []
   },
   "source": [
    "### [Start here] Loading calcium video"
   ]
  },
  {
   "cell_type": "code",
   "execution_count": 4,
   "id": "8c4925dc-953b-46df-adfe-1d6f9001077b",
   "metadata": {
    "tags": []
   },
   "outputs": [],
   "source": [
    "s3_calcium_url = 'https://s3.ki.se/dmc-striatum-arrowmaze/processed-data/miniscope-recordings/export-to-nwb/animal3learnday11/20211028_181307_animal3learnday11.nwb?AWSAccessKeyId=5AMYRX4EUZ0MV0276K24&Signature=Y1VpgYC%2Br7%2BABwOlcIxNH4g%2F5OA%3D&Expires=1680362879'"
   ]
  },
  {
   "cell_type": "code",
   "execution_count": null,
   "id": "859fb685-6cca-44a6-9a90-de92b7ef9476",
   "metadata": {},
   "outputs": [],
   "source": []
  },
  {
   "cell_type": "code",
   "execution_count": 5,
   "id": "d08e7ec8-dc26-4211-82a6-0fbb4f7277fc",
   "metadata": {
    "tags": []
   },
   "outputs": [
    {
     "name": "stdout",
     "output_type": "stream",
     "text": [
      "Execution time: 0 hours, 0 minutes, 3 seconds\n"
     ]
    }
   ],
   "source": [
    "start_time = time.time()\n",
    "\n",
    "\n",
    "fs = CachingFileSystem(\n",
    "    fs=fsspec.filesystem(\"http\"),\n",
    "    cache_storage=\"nwb-cache\",  # Local folder for the cache\n",
    ")\n",
    "\n",
    "with fs.open(s3_calcium_url, \"rb\") as f:\n",
    "    with h5py.File(f) as file:\n",
    "        video_data = np.array(file[\"analysis/recording_20211028_181307-PP-BP-MC/data\"])\n",
    "        \n",
    "\n",
    "end_time = time.time()\n",
    "execution_time = end_time - start_time\n",
    "hours, remainder = divmod(execution_time, 3600)\n",
    "minutes, seconds = divmod(remainder, 60)\n",
    "\n",
    "print(f\"Execution time: {int(hours)} hours, {int(minutes)} minutes, {int(seconds)} seconds\")"
   ]
  },
  {
   "cell_type": "code",
   "execution_count": 6,
   "id": "b06d00bc-8a71-48f7-85f1-1737fa787195",
   "metadata": {
    "tags": []
   },
   "outputs": [
    {
     "data": {
      "text/plain": [
       "array([[[175, 181, 182, ..., 181, 181, 180],\n",
       "        [170, 174, 173, ..., 177, 176, 179],\n",
       "        [175, 175, 168, ..., 180, 176, 178],\n",
       "        ...,\n",
       "        [180, 182, 175, ..., 170, 173, 167],\n",
       "        [177, 188, 181, ..., 177, 179, 180],\n",
       "        [184, 184, 183, ..., 188, 182, 174]],\n",
       "\n",
       "       [[183, 185, 178, ..., 176, 175, 180],\n",
       "        [178, 175, 177, ..., 177, 180, 181],\n",
       "        [186, 178, 178, ..., 178, 180, 183],\n",
       "        ...,\n",
       "        [179, 180, 177, ..., 170, 173, 174],\n",
       "        [177, 179, 180, ..., 179, 174, 173],\n",
       "        [177, 186, 185, ..., 186, 180, 178]],\n",
       "\n",
       "       [[179, 181, 180, ..., 182, 184, 179],\n",
       "        [177, 176, 181, ..., 176, 172, 173],\n",
       "        [177, 181, 185, ..., 169, 172, 175],\n",
       "        ...,\n",
       "        [185, 187, 184, ..., 174, 171, 172],\n",
       "        [187, 191, 187, ..., 179, 176, 171],\n",
       "        [188, 184, 184, ..., 185, 182, 175]]], dtype=int16)"
      ]
     },
     "execution_count": 6,
     "metadata": {},
     "output_type": "execute_result"
    }
   ],
   "source": [
    "video_data[:3]"
   ]
  },
  {
   "cell_type": "code",
   "execution_count": 7,
   "id": "cb5e2e43-31a0-454a-8264-5227aef46851",
   "metadata": {
    "tags": []
   },
   "outputs": [
    {
     "name": "stdout",
     "output_type": "stream",
     "text": [
      "The number of video frames is  24589  and the frame dimensions (height x width) are:  393 X 444\n"
     ]
    }
   ],
   "source": [
    "# Determine the size of the calcium video dataset\n",
    "num_of_frames = video_data.shape[0]\n",
    "img_height = video_data.shape[1]\n",
    "img_width = video_data.shape[2]\n",
    "print(\"The number of video frames is \", num_of_frames, \" and the frame dimensions (height x width) are: \", img_height, \"X\", img_width)"
   ]
  },
  {
   "cell_type": "markdown",
   "id": "eb68ecee-c60b-4bed-abba-b468c813acd5",
   "metadata": {
    "tags": []
   },
   "source": [
    "### Normalize pixel values in calcium video"
   ]
  },
  {
   "cell_type": "code",
   "execution_count": 8,
   "id": "a7456582-732a-4959-97ed-d8c9a65a6428",
   "metadata": {
    "tags": []
   },
   "outputs": [
    {
     "name": "stdout",
     "output_type": "stream",
     "text": [
      "Minimum pixel value: 0.150\n",
      "Maximum pixel value: 1.0\n"
     ]
    }
   ],
   "source": [
    "# Normalize pixel values to be between 0 and 1\n",
    "max_pixel_value = video_data.max()\n",
    "normalized_video_data = video_data / max_pixel_value\n",
    "video_data = normalized_video_data\n",
    "\n",
    "# Verify the normalization by checking the minimum and maximum values\n",
    "print('Minimum pixel value: {:.3f}' .format(np.min(video_data)))\n",
    "print('Maximum pixel value:', np.max(video_data))"
   ]
  },
  {
   "cell_type": "markdown",
   "id": "ab23843d-4105-4cab-ad98-093127d38875",
   "metadata": {
    "tags": []
   },
   "source": [
    "### Loading bonsai data"
   ]
  },
  {
   "cell_type": "code",
   "execution_count": 9,
   "id": "0e0e8e73-b364-41ba-bc6c-77297c1c7bda",
   "metadata": {
    "tags": []
   },
   "outputs": [
    {
     "data": {
      "text/html": [
       "<div>\n",
       "<style scoped>\n",
       "    .dataframe tbody tr th:only-of-type {\n",
       "        vertical-align: middle;\n",
       "    }\n",
       "\n",
       "    .dataframe tbody tr th {\n",
       "        vertical-align: top;\n",
       "    }\n",
       "\n",
       "    .dataframe thead th {\n",
       "        text-align: right;\n",
       "    }\n",
       "</style>\n",
       "<table border=\"1\" class=\"dataframe\">\n",
       "  <thead>\n",
       "    <tr style=\"text-align: right;\">\n",
       "      <th></th>\n",
       "      <th>Time</th>\n",
       "      <th>Trial_Number</th>\n",
       "      <th>Reward</th>\n",
       "      <th>Frame_Number</th>\n",
       "      <th>Central_Zone</th>\n",
       "      <th>L_Zone</th>\n",
       "      <th>R_Zone</th>\n",
       "      <th>Calcium_frame</th>\n",
       "    </tr>\n",
       "  </thead>\n",
       "  <tbody>\n",
       "    <tr>\n",
       "      <th>0</th>\n",
       "      <td>2021-10-28T18:13:25.3758464+02:00</td>\n",
       "      <td>0</td>\n",
       "      <td>0</td>\n",
       "      <td>66</td>\n",
       "      <td>False</td>\n",
       "      <td>False</td>\n",
       "      <td>False</td>\n",
       "      <td>0</td>\n",
       "    </tr>\n",
       "    <tr>\n",
       "      <th>1</th>\n",
       "      <td>2021-10-28T18:13:25.3759488+02:00</td>\n",
       "      <td>0</td>\n",
       "      <td>0</td>\n",
       "      <td>66</td>\n",
       "      <td>False</td>\n",
       "      <td>False</td>\n",
       "      <td>False</td>\n",
       "      <td>0</td>\n",
       "    </tr>\n",
       "    <tr>\n",
       "      <th>2</th>\n",
       "      <td>2021-10-28T18:13:25.3759872+02:00</td>\n",
       "      <td>0</td>\n",
       "      <td>0</td>\n",
       "      <td>66</td>\n",
       "      <td>False</td>\n",
       "      <td>False</td>\n",
       "      <td>False</td>\n",
       "      <td>0</td>\n",
       "    </tr>\n",
       "    <tr>\n",
       "      <th>3</th>\n",
       "      <td>2021-10-28T18:13:25.3851136+02:00</td>\n",
       "      <td>0</td>\n",
       "      <td>0</td>\n",
       "      <td>67</td>\n",
       "      <td>False</td>\n",
       "      <td>False</td>\n",
       "      <td>False</td>\n",
       "      <td>0</td>\n",
       "    </tr>\n",
       "    <tr>\n",
       "      <th>4</th>\n",
       "      <td>2021-10-28T18:13:25.4012672+02:00</td>\n",
       "      <td>0</td>\n",
       "      <td>0</td>\n",
       "      <td>68</td>\n",
       "      <td>False</td>\n",
       "      <td>False</td>\n",
       "      <td>False</td>\n",
       "      <td>0</td>\n",
       "    </tr>\n",
       "  </tbody>\n",
       "</table>\n",
       "</div>"
      ],
      "text/plain": [
       "                                Time  Trial_Number  Reward  Frame_Number  \\\n",
       "0  2021-10-28T18:13:25.3758464+02:00             0       0            66   \n",
       "1  2021-10-28T18:13:25.3759488+02:00             0       0            66   \n",
       "2  2021-10-28T18:13:25.3759872+02:00             0       0            66   \n",
       "3  2021-10-28T18:13:25.3851136+02:00             0       0            67   \n",
       "4  2021-10-28T18:13:25.4012672+02:00             0       0            68   \n",
       "\n",
       "   Central_Zone  L_Zone  R_Zone  Calcium_frame  \n",
       "0         False   False   False              0  \n",
       "1         False   False   False              0  \n",
       "2         False   False   False              0  \n",
       "3         False   False   False              0  \n",
       "4         False   False   False              0  "
      ]
     },
     "execution_count": 9,
     "metadata": {},
     "output_type": "execute_result"
    }
   ],
   "source": [
    "# Preparing bonsai data file.\n",
    "# CSV with additional data from the behavior box, such as reward deliveries. Also includes information needed for synchronizing the calcium and behavioral recordings.\n",
    "bonsai_data_path = '/home/dmc/Desktop/kostas/direct-Behavior-prediction-from-miniscope-calcium-imaging-using-convolutional-neural-networks/data/tmaze_2021-10-28T18_13_23.csv'\n",
    "bonsai_data = pd.read_csv(bonsai_data_path, header=None)\n",
    "\n",
    "\n",
    "# Adding column names\n",
    "bonsai_data = bonsai_data.rename(columns={\n",
    "    0: 'Time', 1: 'Trial_Number',\n",
    "    2: 'Reward', 3: 'Frame_Number', 4: 'Central_Zone',\n",
    "    5: 'L_Zone', 6: 'R_Zone', 7: 'Calcium_frame'})\n",
    "\n",
    "bonsai_data.head()"
   ]
  },
  {
   "cell_type": "markdown",
   "id": "1094bc91-3973-4343-990b-bf86017748c1",
   "metadata": {
    "tags": []
   },
   "source": [
    "### Loading behavior segmentation file"
   ]
  },
  {
   "cell_type": "code",
   "execution_count": 10,
   "id": "ed727e01-5b0b-4510-b383-df351fc3187d",
   "metadata": {
    "tags": []
   },
   "outputs": [
    {
     "data": {
      "text/html": [
       "<div>\n",
       "<style scoped>\n",
       "    .dataframe tbody tr th:only-of-type {\n",
       "        vertical-align: middle;\n",
       "    }\n",
       "\n",
       "    .dataframe tbody tr th {\n",
       "        vertical-align: top;\n",
       "    }\n",
       "\n",
       "    .dataframe thead th {\n",
       "        text-align: right;\n",
       "    }\n",
       "</style>\n",
       "<table border=\"1\" class=\"dataframe\">\n",
       "  <thead>\n",
       "    <tr style=\"text-align: right;\">\n",
       "      <th></th>\n",
       "      <th>frame_no</th>\n",
       "      <th>segment_no</th>\n",
       "      <th>state_id</th>\n",
       "      <th>spatial_progress</th>\n",
       "      <th>temporal_progress</th>\n",
       "      <th>state_name</th>\n",
       "    </tr>\n",
       "  </thead>\n",
       "  <tbody>\n",
       "    <tr>\n",
       "      <th>0</th>\n",
       "      <td>0</td>\n",
       "      <td>0</td>\n",
       "      <td>14</td>\n",
       "      <td>-0.906529</td>\n",
       "      <td>0.00</td>\n",
       "      <td>leftReturn</td>\n",
       "    </tr>\n",
       "    <tr>\n",
       "      <th>1</th>\n",
       "      <td>1</td>\n",
       "      <td>0</td>\n",
       "      <td>14</td>\n",
       "      <td>-0.910748</td>\n",
       "      <td>0.02</td>\n",
       "      <td>leftReturn</td>\n",
       "    </tr>\n",
       "    <tr>\n",
       "      <th>2</th>\n",
       "      <td>2</td>\n",
       "      <td>0</td>\n",
       "      <td>14</td>\n",
       "      <td>-0.916558</td>\n",
       "      <td>0.04</td>\n",
       "      <td>leftReturn</td>\n",
       "    </tr>\n",
       "    <tr>\n",
       "      <th>3</th>\n",
       "      <td>3</td>\n",
       "      <td>0</td>\n",
       "      <td>14</td>\n",
       "      <td>-0.925125</td>\n",
       "      <td>0.06</td>\n",
       "      <td>leftReturn</td>\n",
       "    </tr>\n",
       "    <tr>\n",
       "      <th>4</th>\n",
       "      <td>4</td>\n",
       "      <td>0</td>\n",
       "      <td>14</td>\n",
       "      <td>-0.931319</td>\n",
       "      <td>0.08</td>\n",
       "      <td>leftReturn</td>\n",
       "    </tr>\n",
       "  </tbody>\n",
       "</table>\n",
       "</div>"
      ],
      "text/plain": [
       "   frame_no  segment_no  state_id  spatial_progress  temporal_progress  \\\n",
       "0         0           0        14         -0.906529               0.00   \n",
       "1         1           0        14         -0.910748               0.02   \n",
       "2         2           0        14         -0.916558               0.04   \n",
       "3         3           0        14         -0.925125               0.06   \n",
       "4         4           0        14         -0.931319               0.08   \n",
       "\n",
       "   state_name  \n",
       "0  leftReturn  \n",
       "1  leftReturn  \n",
       "2  leftReturn  \n",
       "3  leftReturn  \n",
       "4  leftReturn  "
      ]
     },
     "execution_count": 10,
     "metadata": {},
     "output_type": "execute_result"
    }
   ],
   "source": [
    "# Segmentation of each frame into one behavior class.\n",
    "df_behavior_path = '/home/dmc/Desktop/kostas/direct-Behavior-prediction-from-miniscope-calcium-imaging-using-convolutional-neural-networks/data/20211028_181307_animal3learnday11.h5'\n",
    "df_behavior = pd.read_hdf(df_behavior_path, 'per_frame')\n",
    "df_behavior.head()"
   ]
  },
  {
   "cell_type": "markdown",
   "id": "58daa732-a2ea-47d9-9e53-b10920d2967c",
   "metadata": {
    "tags": []
   },
   "source": [
    "### Aligning calcium frame column from the bonsai file with the behavior file"
   ]
  },
  {
   "cell_type": "code",
   "execution_count": 11,
   "id": "6ca4d04f-2366-4290-80c1-c74408f4d0c6",
   "metadata": {
    "tags": []
   },
   "outputs": [
    {
     "data": {
      "text/html": [
       "<div>\n",
       "<style scoped>\n",
       "    .dataframe tbody tr th:only-of-type {\n",
       "        vertical-align: middle;\n",
       "    }\n",
       "\n",
       "    .dataframe tbody tr th {\n",
       "        vertical-align: top;\n",
       "    }\n",
       "\n",
       "    .dataframe thead th {\n",
       "        text-align: right;\n",
       "    }\n",
       "</style>\n",
       "<table border=\"1\" class=\"dataframe\">\n",
       "  <thead>\n",
       "    <tr style=\"text-align: right;\">\n",
       "      <th></th>\n",
       "      <th>index</th>\n",
       "      <th>frame_no</th>\n",
       "      <th>segment_no</th>\n",
       "      <th>state_id</th>\n",
       "      <th>spatial_progress</th>\n",
       "      <th>temporal_progress</th>\n",
       "      <th>state_name</th>\n",
       "    </tr>\n",
       "  </thead>\n",
       "  <tbody>\n",
       "    <tr>\n",
       "      <th>0</th>\n",
       "      <td>704</td>\n",
       "      <td>704</td>\n",
       "      <td>11</td>\n",
       "      <td>0</td>\n",
       "      <td>0.389899</td>\n",
       "      <td>0.389899</td>\n",
       "      <td>initReward</td>\n",
       "    </tr>\n",
       "    <tr>\n",
       "      <th>1</th>\n",
       "      <td>707</td>\n",
       "      <td>707</td>\n",
       "      <td>11</td>\n",
       "      <td>0</td>\n",
       "      <td>0.395960</td>\n",
       "      <td>0.395960</td>\n",
       "      <td>initReward</td>\n",
       "    </tr>\n",
       "    <tr>\n",
       "      <th>2</th>\n",
       "      <td>710</td>\n",
       "      <td>710</td>\n",
       "      <td>11</td>\n",
       "      <td>0</td>\n",
       "      <td>0.402020</td>\n",
       "      <td>0.402020</td>\n",
       "      <td>initReward</td>\n",
       "    </tr>\n",
       "    <tr>\n",
       "      <th>3</th>\n",
       "      <td>713</td>\n",
       "      <td>713</td>\n",
       "      <td>11</td>\n",
       "      <td>0</td>\n",
       "      <td>0.408081</td>\n",
       "      <td>0.408081</td>\n",
       "      <td>initReward</td>\n",
       "    </tr>\n",
       "    <tr>\n",
       "      <th>4</th>\n",
       "      <td>716</td>\n",
       "      <td>716</td>\n",
       "      <td>11</td>\n",
       "      <td>0</td>\n",
       "      <td>0.414141</td>\n",
       "      <td>0.414141</td>\n",
       "      <td>initReward</td>\n",
       "    </tr>\n",
       "  </tbody>\n",
       "</table>\n",
       "</div>"
      ],
      "text/plain": [
       "   index  frame_no  segment_no  state_id  spatial_progress  temporal_progress  \\\n",
       "0    704       704          11         0          0.389899           0.389899   \n",
       "1    707       707          11         0          0.395960           0.395960   \n",
       "2    710       710          11         0          0.402020           0.402020   \n",
       "3    713       713          11         0          0.408081           0.408081   \n",
       "4    716       716          11         0          0.414141           0.414141   \n",
       "\n",
       "   state_name  \n",
       "0  initReward  \n",
       "1  initReward  \n",
       "2  initReward  \n",
       "3  initReward  \n",
       "4  initReward  "
      ]
     },
     "execution_count": 11,
     "metadata": {},
     "output_type": "execute_result"
    }
   ],
   "source": [
    "df_aligned = df_behavior.loc[bonsai_data.groupby('Calcium_frame').first()[1:].Frame_Number].reset_index()\n",
    "df_aligned.head()"
   ]
  },
  {
   "cell_type": "code",
   "execution_count": 12,
   "id": "f28ac11e-69c1-440d-b058-67eeca811d71",
   "metadata": {
    "tags": []
   },
   "outputs": [
    {
     "data": {
      "text/plain": [
       "0         0\n",
       "1         0\n",
       "2         0\n",
       "3         0\n",
       "4         0\n",
       "         ..\n",
       "24584    13\n",
       "24585    13\n",
       "24586    13\n",
       "24587    13\n",
       "24588    13\n",
       "Name: state_id, Length: 24589, dtype: int64"
      ]
     },
     "execution_count": 12,
     "metadata": {},
     "output_type": "execute_result"
    }
   ],
   "source": [
    "df_aligned['state_id']\n",
    "# df_aligned.shape"
   ]
  },
  {
   "cell_type": "markdown",
   "id": "89bab359-ef5c-483e-9060-aec8dc9b5f8c",
   "metadata": {},
   "source": [
    "### Verify the data"
   ]
  },
  {
   "cell_type": "code",
   "execution_count": 13,
   "id": "bca7751e-084b-4508-86e5-31fc09446830",
   "metadata": {
    "tags": []
   },
   "outputs": [],
   "source": [
    "# For each calcium video frame, I want to give the state_id value annotation. \n",
    "train_images = video_data\n",
    "train_labels = df_aligned['state_id']"
   ]
  },
  {
   "cell_type": "code",
   "execution_count": 14,
   "id": "1388d0b6-580d-484c-a216-995201616d73",
   "metadata": {
    "tags": []
   },
   "outputs": [
    {
     "data": {
      "text/plain": [
       "0         0\n",
       "1         0\n",
       "2         0\n",
       "3         0\n",
       "4         0\n",
       "         ..\n",
       "24584    13\n",
       "24585    13\n",
       "24586    13\n",
       "24587    13\n",
       "24588    13\n",
       "Name: state_id, Length: 24589, dtype: int64"
      ]
     },
     "execution_count": 14,
     "metadata": {},
     "output_type": "execute_result"
    }
   ],
   "source": [
    "train_labels"
   ]
  },
  {
   "cell_type": "code",
   "execution_count": 15,
   "id": "9bcde91b-740e-45ba-8d0c-5b882e5a79c2",
   "metadata": {
    "tags": []
   },
   "outputs": [
    {
     "data": {
      "image/png": "[encoded data removed]",
      "text/plain": [
       "<Figure size 1000x1000 with 5 Axes>"
      ]
     },
     "metadata": {},
     "output_type": "display_data"
    }
   ],
   "source": [
    "# Let's plot the first 25 images from the training set and display the class name below each image:\n",
    "plt.figure(figsize=(10,10))\n",
    "for i in range(5):\n",
    "    plt.subplot(5,5,i+1)\n",
    "    plt.xticks([])\n",
    "    plt.yticks([])\n",
    "    plt.grid(False)\n",
    "    plt.imshow(train_images[i])\n",
    "    plt.xlabel(train_labels[i])\n",
    "    plt.imshow(train_images[i], cmap=plt.cm.binary)\n",
    "plt.show()"
   ]
  },
  {
   "cell_type": "markdown",
   "id": "fe6f12d4-99d1-4d15-b87a-ea878ccc710e",
   "metadata": {},
   "source": [
    "We have 24186 images of dimensions 349x374 and the number 1 demonstrates that images are grayscale."
   ]
  },
  {
   "cell_type": "code",
   "execution_count": 16,
   "id": "e334e3f6-8286-4ccf-ae19-5099f206fb25",
   "metadata": {
    "tags": []
   },
   "outputs": [
    {
     "name": "stdout",
     "output_type": "stream",
     "text": [
      "25\n"
     ]
    }
   ],
   "source": [
    "channel_dimension = 1\n",
    "train_images = video_data.reshape(num_of_frames, img_height, img_width, channel_dimension)\n",
    "#train_labels = df_behavior['state_id']\n",
    "\n",
    "# ensuring that the pixel values are float numbers. This is a common preprocessing step for image data\n",
    "train_images = train_images.astype('float32')\n",
    "\n",
    "### Finding number of classes and converting labels to categorical values\n",
    "\n",
    "# How many distinct behaviors do we have?\n",
    "no_of_behaviors = len(train_labels.unique())\n",
    "print(no_of_behaviors)\n",
    "\n",
    "# Define the number of classes\n",
    "num_classes = no_of_behaviors\n",
    "\n",
    "# Converting labels to categorical.\n",
    "train_labels = to_categorical(train_labels, no_of_behaviors)"
   ]
  },
  {
   "cell_type": "code",
   "execution_count": 17,
   "id": "10f8806a-ab8c-4581-8ce8-5ce44f10fb26",
   "metadata": {
    "tags": []
   },
   "outputs": [
    {
     "data": {
      "text/plain": [
       "(24589, 393, 444, 1)"
      ]
     },
     "execution_count": 17,
     "metadata": {},
     "output_type": "execute_result"
    }
   ],
   "source": [
    "train_images.shape"
   ]
  },
  {
   "cell_type": "markdown",
   "id": "3765499e-836e-4262-bb36-7ecdea38fb4f",
   "metadata": {
    "tags": []
   },
   "source": [
    "## Build the model"
   ]
  },
  {
   "cell_type": "markdown",
   "id": "90ef17f8-dc33-4276-8a8b-54251098954b",
   "metadata": {},
   "source": [
    "## Train the model"
   ]
  },
  {
   "cell_type": "code",
   "execution_count": null,
   "id": "c079849b-d1d1-49fe-9769-ca91499236a1",
   "metadata": {
    "tags": []
   },
   "outputs": [],
   "source": [
    "# Input channel dimension (Greyscale: 1, RGB: 3)\n",
    "#channel_dimension = 1\n",
    "#channel_dimension = int(input(\"Input channel dimension (Greyscale: 1, RGB: 3)\"))\n",
    "#Improve in case the user clicks smth else"
   ]
  },
  {
   "cell_type": "code",
   "execution_count": null,
   "id": "5ddb6718-57e0-4572-a68d-048cabc76fba",
   "metadata": {},
   "outputs": [],
   "source": [
    "# Define and compile your CNN model here\n",
    "# model.compile(loss='categorical_crossentropy', optimizer='adam', metrics=['accuracy'])\n",
    "\n",
    "# # Train your model here\n",
    "# model.fit(train_images, train_labels, epochs=10, batch_size=32)\n"
   ]
  },
  {
   "cell_type": "code",
   "execution_count": 44,
   "id": "c3950500-65a6-465c-80b1-1f197b439fa5",
   "metadata": {
    "tags": []
   },
   "outputs": [],
   "source": [
    "# training parameters\n",
    "epochs = 10\n",
    "batch_size = 32\n",
    "channel_dimension = 1"
   ]
  },
  {
   "cell_type": "code",
   "execution_count": 45,
   "id": "5053ace3-7dda-4a21-90ec-937acf44057a",
   "metadata": {
    "tags": []
   },
   "outputs": [],
   "source": [
    "def construct_model(input_shape, num_classes, name):\n",
    "    \n",
    "    # Creating a sequential model. A sequential model is a linear stack of layers, where the output of one layer is the input of the next.\n",
    "    model = Sequential(name=name)\n",
    "\n",
    "    # Add a convolutional layer with 32 filters, a kernel size of 3x3, and a ReLU activation function. \n",
    "    # The ReLU activation function is a simple equation that takes the input of a neuron and returns the input if it is positive, and returns 0 if it is negative.\n",
    "    model.add(Conv2D(32, kernel_size=(3, 3), activation='relu', input_shape=input_shape)) # input is a 28x28 image with 1 color channel.\n",
    "\n",
    "    # Add a max pooling layer with a pool size of 2x\n",
    "    2\n",
    "    # This layer applies a max operation over a 2x2 window of the input, reducing the spatial dimensions of the input by half.\n",
    "    model.add(MaxPooling2D(pool_size=(2, 2)))\n",
    "\n",
    "    # Add a convolutional layer with 64 filters, a kernel size of 3x3, and a ReLU activation function\n",
    "    model.add(Conv2D(64, kernel_size=(3, 3), activation='relu'))\n",
    "\n",
    "    # Add a max pooling layer with a pool size of 2x2\n",
    "    model.add(MaxPooling2D(pool_size=(2, 2)))\n",
    "\n",
    "    # Flatten the output from the previous layers\n",
    "    model.add(Flatten())\n",
    "\n",
    "    # Add a dropout layer to prevent overfitting\n",
    "    model.add(Dropout(0.5))\n",
    "\n",
    "    # Add a fully connected layer with 128 units and a ReLU activation function. This layer has 128 neurons and it is fully connected to the previous layer\n",
    "    model.add(Dense(128, activation='relu'))\n",
    "\n",
    "    # Add a final output layer with num_classes number of units and a softmax activation function The softmax function is used to convert the output of the final layer into probability distribution over 10 possible classes.\n",
    "    model.add(Dense(num_classes, activation='softmax'))\n",
    "\n",
    "    # # Complete model \n",
    "    # model.summary()\n",
    "    \n",
    "    return model"
   ]
  },
  {
   "cell_type": "code",
   "execution_count": 46,
   "id": "8b742b05-ff61-43b7-ae37-6b41e8f71cbe",
   "metadata": {},
   "outputs": [],
   "source": [
    "input_shape = (img_height, img_width, channel_dimension)"
   ]
  },
  {
   "cell_type": "code",
   "execution_count": 47,
   "id": "344b1b7e-c6e9-4eaa-b848-4132d926f7ec",
   "metadata": {},
   "outputs": [],
   "source": [
    "# Create the model by calling the function\n",
    "model = construct_model(input_shape, num_classes, name='second_model')"
   ]
  },
  {
   "cell_type": "code",
   "execution_count": 71,
   "id": "bb1e6242-13d6-425a-9622-52b07971c65e",
   "metadata": {},
   "outputs": [],
   "source": [
    "# plot model architecture\n",
    "#plot_model(model, to_file='model_1.png', show_shapes=True, show_layer_names=True)"
   ]
  },
  {
   "cell_type": "code",
   "execution_count": 49,
   "id": "15f4243f-94af-4c75-a566-1f988e0dd98e",
   "metadata": {},
   "outputs": [],
   "source": [
    "# import visualkeras\n",
    "# from PIL import ImageFont\n",
    "# visualkeras.layered_view(model, legend=True)\n",
    "\n",
    "from ann_visualizer.visualize import ann_viz\n",
    "plot = ann_viz(model, view=True, filename=\"model_1\", title=\"CNN — Model 1 — Simple Architecture\")"
   ]
  },
  {
   "cell_type": "code",
   "execution_count": 50,
   "id": "e726aa57-83bd-4e37-8b6f-95c0939e02d3",
   "metadata": {
    "tags": []
   },
   "outputs": [],
   "source": [
    "#Define and compile your CNN model here\n",
    "model.compile(loss='categorical_crossentropy', optimizer=tf.keras.optimizers.legacy.Adam(), metrics=['accuracy'])"
   ]
  },
  {
   "cell_type": "code",
   "execution_count": 51,
   "id": "839b92bd-5bee-4184-9fe2-abb8b51b8bc8",
   "metadata": {
    "tags": []
   },
   "outputs": [
    {
     "name": "stdout",
     "output_type": "stream",
     "text": [
      "Epoch 1/10\n"
     ]
    },
    {
     "name": "stderr",
     "output_type": "stream",
     "text": [
      "2023-04-01 18:56:41.606730: W tensorflow/tsl/framework/bfc_allocator.cc:290] Allocator (GPU_0_bfc) ran out of memory trying to allocate 1.47GiB with freed_by_count=0. The caller indicates that this is not a failure, but this may mean that there could be performance gains if more memory were available.\n",
      "2023-04-01 18:56:41.862175: W tensorflow/tsl/framework/bfc_allocator.cc:290] Allocator (GPU_0_bfc) ran out of memory trying to allocate 2.03GiB with freed_by_count=0. The caller indicates that this is not a failure, but this may mean that there could be performance gains if more memory were available.\n"
     ]
    },
    {
     "name": "stdout",
     "output_type": "stream",
     "text": [
      "769/769 [==============================] - 28s 35ms/step - loss: 2.7612 - accuracy: 0.1962\n",
      "Epoch 2/10\n",
      "769/769 [==============================] - 27s 34ms/step - loss: 2.6844 - accuracy: 0.2031\n",
      "Epoch 3/10\n",
      "769/769 [==============================] - 26s 34ms/step - loss: 2.6818 - accuracy: 0.2034\n",
      "Epoch 4/10\n",
      "769/769 [==============================] - 26s 34ms/step - loss: 2.6811 - accuracy: 0.2047\n",
      "Epoch 5/10\n",
      "769/769 [==============================] - 26s 34ms/step - loss: 2.6812 - accuracy: 0.2039\n",
      "Epoch 6/10\n",
      "769/769 [==============================] - 26s 34ms/step - loss: 2.6798 - accuracy: 0.2045\n",
      "Epoch 7/10\n",
      "769/769 [==============================] - 26s 34ms/step - loss: 2.6791 - accuracy: 0.2047\n",
      "Epoch 8/10\n",
      "769/769 [==============================] - 26s 34ms/step - loss: 2.6785 - accuracy: 0.2036\n",
      "Epoch 9/10\n",
      "769/769 [==============================] - 26s 34ms/step - loss: 2.6803 - accuracy: 0.2047\n",
      "Epoch 10/10\n",
      "769/769 [==============================] - 26s 34ms/step - loss: 2.6778 - accuracy: 0.2041\n",
      "Execution time: 0 hours, 4 minutes, 32 seconds\n"
     ]
    }
   ],
   "source": [
    "start_time = time.time()\n",
    "\n",
    "history = model.fit(train_images, train_labels, epochs=epochs, batch_size=batch_size)\n",
    "\n",
    "end_time = time.time()\n",
    "execution_time = end_time - start_time\n",
    "hours, remainder = divmod(execution_time, 3600)\n",
    "minutes, seconds = divmod(remainder, 60)\n",
    "\n",
    "print(f\"Execution time: {int(hours)} hours, {int(minutes)} minutes, {int(seconds)} seconds\")"
   ]
  },
  {
   "cell_type": "code",
   "execution_count": 66,
   "id": "157f4284-5159-4213-814b-10d9108244e5",
   "metadata": {},
   "outputs": [],
   "source": [
    "def save_training_info():\n",
    "    # Set the model name\n",
    "    model_name = model.name\n",
    "\n",
    "    # Save the history object to a CSV file\n",
    "    with open('training_history.csv', 'a', newline='') as f:\n",
    "        writer = csv.writer(f)\n",
    "\n",
    "        # Write header row if file is empty\n",
    "        if f.tell() == 0:\n",
    "            writer.writerow(['Model', 'Epoch', 'Train Loss', 'Train Acc'])\n",
    "\n",
    "        # Write data for each epoch\n",
    "        for i, (tl, ta) in enumerate(zip(history.history['loss'], history.history['accuracy'])):\n",
    "            writer.writerow([model_name, i+1, tl, ta])"
   ]
  },
  {
   "cell_type": "code",
   "execution_count": 68,
   "id": "b8a05854-aa00-4e0b-9303-5169a4859ad6",
   "metadata": {},
   "outputs": [],
   "source": [
    "save_training_info()"
   ]
  },
  {
   "cell_type": "code",
   "execution_count": 69,
   "id": "6d5fd999-a2ae-4cd0-8701-bdcfbc35bcf7",
   "metadata": {},
   "outputs": [],
   "source": [
    "# plot the accuracy of the model during training and validation\n",
    "def plot_accuracy():\n",
    "    plt.plot(history.history['accuracy'])\n",
    "    plt.title('Model accuracy')\n",
    "    plt.ylabel('Accuracy')\n",
    "    plt.xlabel('Epoch')\n",
    "    plt.legend(['Train'], loc='upper left')\n",
    "    plt.savefig('accuracy.png')\n",
    "    return plt.show()"
   ]
  },
  {
   "cell_type": "code",
   "execution_count": 70,
   "id": "a39a2943-28f0-4c20-b960-78d383293d4d",
   "metadata": {},
   "outputs": [
    {
     "data": {
      "image/png": "[encoded data removed]",
      "text/plain": [
       "<Figure size 640x480 with 1 Axes>"
      ]
     },
     "metadata": {},
     "output_type": "display_data"
    }
   ],
   "source": [
    "plot_accuracy()"
   ]
  },
  {
   "cell_type": "code",
   "execution_count": null,
   "id": "1c658eb9-2008-4398-82f9-e34a230b7cd4",
   "metadata": {},
   "outputs": [],
   "source": []
  },
  {
   "cell_type": "code",
   "execution_count": null,
   "id": "a729faf3-c82c-410b-aaa7-a819f0595fa5",
   "metadata": {},
   "outputs": [],
   "source": []
  },
  {
   "cell_type": "markdown",
   "id": "d33d2a18-cee9-4f83-8e80-e89e1ef699c8",
   "metadata": {
    "tags": []
   },
   "source": [
    "### Reflect on the results"
   ]
  },
  {
   "cell_type": "markdown",
   "id": "b1c7f0d1-8e62-4c31-8d65-d7e144301753",
   "metadata": {},
   "source": [
    "1. Insufficient data? One calcium video of 24186 frames and with 349x374 dimensions.\n",
    "2. Model architecture not appropriate. Try increasing the number of layers or filters, or adding more complex layers like BatchNormalization, Dropout, or Conv2DTranspose.\n",
    "3. Incorrect data preprocessing\n",
    "4. Incorrect hyperparameters\n",
    "5. Class Imbalance (do oversampling, or undersampling)"
   ]
  },
  {
   "cell_type": "markdown",
   "id": "98ae0ef6-1f9c-4afe-8c56-dd0563e9f96e",
   "metadata": {
    "tags": []
   },
   "source": [
    "### [Ignore for now]"
   ]
  },
  {
   "cell_type": "code",
   "execution_count": null,
   "id": "c9706562-e303-41cc-9e85-ec00240b827f",
   "metadata": {},
   "outputs": [],
   "source": [
    "from keras.layers import BatchNormalization\n",
    "from keras.preprocessing.image import ImageDataGenerator\n",
    "\n",
    "model = Sequential()\n",
    "\n",
    "model.add(Conv2D(64, kernel_size=(3, 3), activation='relu', input_shape=(img_height, img_width, channel_dimension)))\n",
    "model.add(BatchNormalization())\n",
    "model.add(MaxPooling2D(pool_size=(2, 2)))\n",
    "\n",
    "model.add(Conv2D(128, kernel_size=(3, 3), activation='relu'))\n",
    "model.add(BatchNormalization())\n",
    "model.add(MaxPooling2D(pool_size=(2, 2)))\n",
    "\n",
    "model.add(Conv2D(256, kernel_size=(3, 3), activation='relu'))\n",
    "model.add(BatchNormalization())\n",
    "model.add(MaxPooling2D(pool_size=(2, 2)))\n",
    "\n",
    "model.add(Flatten())\n",
    "\n",
    "model.add(Dense(256, activation='relu'))\n",
    "model.add(BatchNormalization())\n",
    "model.add(Dropout(0.5))\n",
    "\n",
    "model.add(Dense(128, activation='relu'))\n",
    "model.add(BatchNormalization())\n",
    "model.add(Dropout(0.5))\n",
    "\n",
    "model.add(Dense(num_classes, activation='softmax'))\n",
    "\n",
    "model.compile(loss='categorical_crossentropy', optimizer='adam', metrics=['accuracy'])\n",
    "\n",
    "# reshape train_images to have 4 dimensions\n",
    "train_images = np.expand_dims(train_images, axis=-1)\n",
    "\n",
    "# Reshape train_images to have 4 dimensions\n",
    "#train_images = np.squeeze(train_images)\n",
    "# train_images = np.squeeze(train_images, axis=-1)\n",
    "# train_images = np.squeeze(train_images, axis=-1)\n",
    "# train_images = np.squeeze(train_images, axis=-1)\n",
    "# train_images = np.expand_dims(train_images, axis=-1)\n",
    "\n",
    "\n",
    "# Data augmentation\n",
    "train_datagen = ImageDataGenerator(rotation_range=10, width_shift_range=0.1, height_shift_range=0.1, \n",
    "                                   shear_range=0.1, zoom_range=0.1, horizontal_flip=True, fill_mode='nearest')\n",
    "\n",
    "history = model.fit(train_datagen.flow(train_images, train_labels, batch_size=batch_size),\n",
    "                    epochs=epochs,\n",
    "                    steps_per_epoch=len(train_images) // batch_size,\n",
    "                    shuffle=True)"
   ]
  },
  {
   "cell_type": "code",
   "execution_count": null,
   "id": "d5b192bf-a682-48c0-bcf4-f30847b0da8a",
   "metadata": {},
   "outputs": [],
   "source": []
  },
  {
   "cell_type": "code",
   "execution_count": null,
   "id": "94ae0843-9623-4e7f-8e88-a647d9406d63",
   "metadata": {},
   "outputs": [],
   "source": [
    "# Reusable snippets"
   ]
  },
  {
   "cell_type": "code",
   "execution_count": null,
   "id": "e9b0684b-764a-418c-a033-ff5fe9ce130b",
   "metadata": {},
   "outputs": [],
   "source": [
    "# Load calcium video from local environment\n",
    "# with h5py.File('path', 'r') as f:\n",
    "#     video_data = np.array(f['analysis/recording_20211016_163921-PP-BP-MC/data'])"
   ]
  },
  {
   "cell_type": "code",
   "execution_count": null,
   "id": "72b34b51-5633-42e3-8399-6842489b6bfb",
   "metadata": {},
   "outputs": [],
   "source": [
    "# Loading locally\n",
    "# with h5py.File('/Users/konstantinoskalaitzidis/Developer/dmc/thesis_data/20211016_163921_animal1learnday1.h5', 'r') as f:\n",
    "#     print(list(f.keys()))\n",
    "#     behavior_data = np.array(f['per_frame'])"
   ]
  },
  {
   "cell_type": "code",
   "execution_count": null,
   "id": "22276208-f41e-4589-9672-50de6e38d4b4",
   "metadata": {},
   "outputs": [],
   "source": [
    "# # save the model architecture to a JSON file\n",
    "# with open('model_architecture.json', 'w') as f:\n",
    "#     f.write(model.to_json())"
   ]
  },
  {
   "cell_type": "code",
   "execution_count": null,
   "id": "05dc765c-32f7-4a47-bc62-518a371b26b9",
   "metadata": {},
   "outputs": [],
   "source": [
    "# # load the model architecture from the JSON file\n",
    "# with open('model_architecture.json', 'r') as f:\n",
    "#     json_string = f.read()\n",
    "\n",
    "# model_json = model_from_json(json_string)\n",
    "\n",
    "# # print the loaded model summary\n",
    "# model.summary()"
   ]
  }
 ],
 "metadata": {
  "kernelspec": {
   "display_name": "new_kostas_env",
   "language": "python",
   "name": "new_kostas_env"
  },
  "language_info": {
   "codemirror_mode": {
    "name": "ipython",
    "version": 3
   },
   "file_extension": ".py",
   "mimetype": "text/x-python",
   "name": "python",
   "nbconvert_exporter": "python",
   "pygments_lexer": "ipython3",
   "version": "3.10.9"
  },
  "vscode": {
   "interpreter": {
    "hash": "aee8b7b246df8f9039afb4144a1f6fd8d2ca17a180786b69acc140d282b71a49"
   }
  }
 },
 "nbformat": 4,
 "nbformat_minor": 5
}
