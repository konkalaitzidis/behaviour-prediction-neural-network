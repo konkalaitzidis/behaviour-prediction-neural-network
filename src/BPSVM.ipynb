{
 "cells": [
  {
   "cell_type": "code",
   "execution_count": 1,
   "id": "f9e58cf9-c4bb-4027-8799-8763d8bc7f14",
   "metadata": {},
   "outputs": [],
   "source": [
    "import h5py # for working with HDF5 (Hierarchical Data Format) files\n",
    "import numpy as np\n",
    "import sklearn.svm\n",
    "import matplotlib.pyplot as plt\n",
    "import pandas as pd\n",
    "\n",
    "\n",
    "\n",
    "\n",
    "\n"
   ]
  },
  {
   "cell_type": "code",
   "execution_count": 2,
   "id": "abae8f36-670e-4e1b-9c77-35de535e71f2",
   "metadata": {},
   "outputs": [],
   "source": [
    "path = \"/home/dmc/Desktop/kostas/direct-Behavior-prediction-from-miniscope-calcium-imaging-using-convolutional-neural-networks/animal3.h5\""
   ]
  },
  {
   "cell_type": "code",
   "execution_count": 3,
   "id": "22510510-efbf-42f3-b9e0-d11cafcbd26c",
   "metadata": {},
   "outputs": [],
   "source": [
    "with (h5py.File(path, 'r')) as f:\n",
    "    traces = np.array(f['traces/animal3learnday11/deconvolved'])"
   ]
  },
  {
   "cell_type": "code",
   "execution_count": 4,
   "id": "958969e8-ed07-47a0-a6cd-980f4231813f",
   "metadata": {},
   "outputs": [
    {
     "data": {
      "text/plain": [
       "[<matplotlib.lines.Line2D at 0x7f75609f6110>]"
      ]
     },
     "execution_count": 4,
     "metadata": {},
     "output_type": "execute_result"
    },
    {
     "data": {
      "image/png": "[encoded data removed]",
      "text/plain": [
       "<Figure size 640x480 with 1 Axes>"
      ]
     },
     "metadata": {},
     "output_type": "display_data"
    }
   ],
   "source": [
    "# traces[50]\n",
    "plt.plot(traces[50])"
   ]
  },
  {
   "cell_type": "code",
   "execution_count": 5,
   "id": "2c5fa972-2652-4bbc-81ba-fe32a28f908b",
   "metadata": {},
   "outputs": [],
   "source": [
    "# paths to videos\n",
    "num_of_videos = 1\n",
    "\n",
    "bonsai_data = \"/home/dmc/Desktop/kostas/direct-Behavior-prediction-from-miniscope-calcium-imaging-using-convolutional-neural-networks/data/tmaze_2021-10-28T18_13_23.csv\"\n",
    "# paths to videos\n",
    "behavior_paths = \"/home/dmc/Desktop/kostas/direct-Behavior-prediction-from-miniscope-calcium-imaging-using-convolutional-neural-networks/data/20211028_181307_animal3learnday11.h5\"\n",
    "\n",
    "bonsai_data = pd.read_csv(bonsai_data, header=None)\n",
    "\n",
    "df_behavior = pd.read_hdf(behavior_paths, 'per_frame')"
   ]
  },
  {
   "cell_type": "code",
   "execution_count": null,
   "id": "a0ccf1ea-b5f8-4d51-851c-3f67a4dff6df",
   "metadata": {},
   "outputs": [],
   "source": [
    "    "
   ]
  },
  {
   "cell_type": "code",
   "execution_count": 6,
   "id": "b6598cc9-cf2c-4e58-b104-869c25e6bd41",
   "metadata": {},
   "outputs": [],
   "source": [
    "# Adding column names\n",
    "bonsai_data = bonsai_data.rename(columns={\n",
    "    0: 'Time', 1: 'Trial_Number',\n",
    "    2: 'Reward', 3: 'Frame_Number', 4: 'Central_Zone',\n",
    "    5: 'L_Zone', 6: 'R_Zone', 7: 'Calcium_frame'})"
   ]
  },
  {
   "cell_type": "code",
   "execution_count": null,
   "id": "8a33788c-400d-4e1d-9935-c073c48d296a",
   "metadata": {},
   "outputs": [],
   "source": []
  },
  {
   "cell_type": "code",
   "execution_count": 7,
   "id": "b5298ea4-e969-4eef-8305-6c05960b6ab7",
   "metadata": {},
   "outputs": [],
   "source": [
    "df_aligned = df_behavior.loc[bonsai_data.groupby('Calcium_frame').first()[1:].Frame_Number].reset_index()"
   ]
  },
  {
   "cell_type": "code",
   "execution_count": null,
   "id": "9ca69e7c-04b5-47d8-9ed1-683a0e3d6c8d",
   "metadata": {},
   "outputs": [],
   "source": []
  },
  {
   "cell_type": "code",
   "execution_count": 8,
   "id": "9ab91d44-be3f-4a3b-9369-1ccec4cef2a8",
   "metadata": {},
   "outputs": [],
   "source": [
    "df_new_annotations = df_aligned[['state_id', 'state_name']]\n",
    "\n",
    "df_unique_states = df_new_annotations[['state_id', 'state_name']].drop_duplicates(subset='state_id').set_index('state_id')['state_name'].sort_index()"
   ]
  },
  {
   "cell_type": "code",
   "execution_count": 9,
   "id": "080599d4-aa2a-4195-9d15-672b56c70ce0",
   "metadata": {},
   "outputs": [
    {
     "data": {
      "text/plain": [
       "state_id\n",
       "0          initReward\n",
       "1            initLeft\n",
       "2           initRight\n",
       "3         mainRunLeft\n",
       "4        mainRunRight\n",
       "5          mainReturn\n",
       "6           mainOther\n",
       "7      turnMainToLeft\n",
       "8     turnMainToRight\n",
       "9      turnLeftToMain\n",
       "10    turnRightToMain\n",
       "11    turnLeftToRight\n",
       "12    turnRightToLeft\n",
       "13            leftRun\n",
       "14         leftReturn\n",
       "15         leftReward\n",
       "16           leftLeft\n",
       "17          leftRight\n",
       "18          leftOther\n",
       "19           rightRun\n",
       "20        rightReturn\n",
       "21        rightReward\n",
       "22          rightLeft\n",
       "23         rightRight\n",
       "24         rightOther\n",
       "Name: state_name, dtype: object"
      ]
     },
     "execution_count": 9,
     "metadata": {},
     "output_type": "execute_result"
    }
   ],
   "source": [
    "df_unique_states"
   ]
  },
  {
   "cell_type": "code",
   "execution_count": null,
   "id": "d573592f-8ee8-4047-a04b-176c9325736e",
   "metadata": {},
   "outputs": [],
   "source": []
  },
  {
   "cell_type": "code",
   "execution_count": 10,
   "id": "7b7d89a4-6baa-4992-b320-b26f495b05e1",
   "metadata": {},
   "outputs": [],
   "source": [
    "# state id mapping for main corridor, left corridor, right corridor\n",
    "state_id_map = {\n",
    "    1: 0, 2: 0, 3: 0, 4: 0, 5: 0, 6: 0, 7: 0, 8: 0,\n",
    "    9: 1, 11: 1, 13: 1, 14: 1, 15: 1, 16: 1, 17: 1, 18: 1,\n",
    "    10: 2, 12: 2, 19: 2, 20: 2, 21: 2, 22: 2, 23: 2, 24: 2,\n",
    "}"
   ]
  },
  {
   "cell_type": "code",
   "execution_count": 11,
   "id": "1528d13a-4ebe-4a24-b1d8-840a5913b9d1",
   "metadata": {},
   "outputs": [
    {
     "name": "stderr",
     "output_type": "stream",
     "text": [
      "/tmp/ipykernel_1023482/340281171.py:14: SettingWithCopyWarning: \n",
      "A value is trying to be set on a copy of a slice from a DataFrame.\n",
      "Try using .loc[row_indexer,col_indexer] = value instead\n",
      "\n",
      "See the caveats in the documentation: https://pandas.pydata.org/pandas-docs/stable/user_guide/indexing.html#returning-a-view-versus-a-copy\n",
      "  df_new_annotations.loc[:, 'state_id'] = df_new_annotations.loc[:, 'state_id'].replace(state_id_map)\n"
     ]
    }
   ],
   "source": [
    "#     # state_id map for forward, left turn, right turn, \n",
    "#     state_id_map = {\n",
    "#         #forward\n",
    "#         0: 0, 3: 0, 4: 0, 5: 0, 6: 0, 13: 0, 14: 0, 15: 0, 19: 0, 20: 0, 21: 0, \n",
    "\n",
    "#         #left\n",
    "#         1: 1, 7: 1, 9: 1, 11: 1, 16: 1, 18: 1, 22: 1, \n",
    "\n",
    "#         #right\n",
    "#         2: 2, 8: 2, 10: 2, 12: 2, 17: 2, 23: 2, 24: 2\n",
    "#     }\n",
    "\n",
    "\n",
    "df_new_annotations.loc[:, 'state_id'] = df_new_annotations.loc[:, 'state_id'].replace(state_id_map)\n",
    "df_new_annotations = df_new_annotations.loc[:, 'state_id']    \n",
    "\n",
    "# return df_new_annotations, df_unique_states"
   ]
  },
  {
   "cell_type": "code",
   "execution_count": 12,
   "id": "c528e247-313a-4bcc-8d05-fc4e153f44c3",
   "metadata": {},
   "outputs": [
    {
     "data": {
      "text/plain": [
       "0        0\n",
       "1        0\n",
       "2        0\n",
       "3        0\n",
       "4        0\n",
       "        ..\n",
       "24584    1\n",
       "24585    1\n",
       "24586    1\n",
       "24587    1\n",
       "24588    1\n",
       "Name: state_id, Length: 24589, dtype: int64"
      ]
     },
     "execution_count": 12,
     "metadata": {},
     "output_type": "execute_result"
    }
   ],
   "source": [
    "df_new_annotations"
   ]
  },
  {
   "cell_type": "code",
   "execution_count": 13,
   "id": "b9d3da1a-5c73-4840-b7eb-55b08ecd5bfa",
   "metadata": {},
   "outputs": [],
   "source": [
    "mySVC = sklearn.svm.LinearSVC()"
   ]
  },
  {
   "cell_type": "code",
   "execution_count": 14,
   "id": "a70c60fe-5c95-4033-ac8a-abce4202df3f",
   "metadata": {},
   "outputs": [
    {
     "name": "stderr",
     "output_type": "stream",
     "text": [
      "/home/dmc/anaconda3/envs/new_kostas_env/lib/python3.10/site-packages/sklearn/svm/_base.py:1244: ConvergenceWarning: Liblinear failed to converge, increase the number of iterations.\n",
      "  warnings.warn(\n"
     ]
    },
    {
     "data": {
      "text/html": [
       "<style>#sk-container-id-1 {color: black;background-color: white;}#sk-container-id-1 pre{padding: 0;}#sk-container-id-1 div.sk-toggleable {background-color: white;}#sk-container-id-1 label.sk-toggleable__label {cursor: pointer;display: block;width: 100%;margin-bottom: 0;padding: 0.3em;box-sizing: border-box;text-align: center;}#sk-container-id-1 label.sk-toggleable__label-arrow:before {content: \"▸\";float: left;margin-right: 0.25em;color: #696969;}#sk-container-id-1 label.sk-toggleable__label-arrow:hover:before {color: black;}#sk-container-id-1 div.sk-estimator:hover label.sk-toggleable__label-arrow:before {color: black;}#sk-container-id-1 div.sk-toggleable__content {max-height: 0;max-width: 0;overflow: hidden;text-align: left;background-color: #f0f8ff;}#sk-container-id-1 div.sk-toggleable__content pre {margin: 0.2em;color: black;border-radius: 0.25em;background-color: #f0f8ff;}#sk-container-id-1 input.sk-toggleable__control:checked~div.sk-toggleable__content {max-height: 200px;max-width: 100%;overflow: auto;}#sk-container-id-1 input.sk-toggleable__control:checked~label.sk-toggleable__label-arrow:before {content: \"▾\";}#sk-container-id-1 div.sk-estimator input.sk-toggleable__control:checked~label.sk-toggleable__label {background-color: #d4ebff;}#sk-container-id-1 div.sk-label input.sk-toggleable__control:checked~label.sk-toggleable__label {background-color: #d4ebff;}#sk-container-id-1 input.sk-hidden--visually {border: 0;clip: rect(1px 1px 1px 1px);clip: rect(1px, 1px, 1px, 1px);height: 1px;margin: -1px;overflow: hidden;padding: 0;position: absolute;width: 1px;}#sk-container-id-1 div.sk-estimator {font-family: monospace;background-color: #f0f8ff;border: 1px dotted black;border-radius: 0.25em;box-sizing: border-box;margin-bottom: 0.5em;}#sk-container-id-1 div.sk-estimator:hover {background-color: #d4ebff;}#sk-container-id-1 div.sk-parallel-item::after {content: \"\";width: 100%;border-bottom: 1px solid gray;flex-grow: 1;}#sk-container-id-1 div.sk-label:hover label.sk-toggleable__label {background-color: #d4ebff;}#sk-container-id-1 div.sk-serial::before {content: \"\";position: absolute;border-left: 1px solid gray;box-sizing: border-box;top: 0;bottom: 0;left: 50%;z-index: 0;}#sk-container-id-1 div.sk-serial {display: flex;flex-direction: column;align-items: center;background-color: white;padding-right: 0.2em;padding-left: 0.2em;position: relative;}#sk-container-id-1 div.sk-item {position: relative;z-index: 1;}#sk-container-id-1 div.sk-parallel {display: flex;align-items: stretch;justify-content: center;background-color: white;position: relative;}#sk-container-id-1 div.sk-item::before, #sk-container-id-1 div.sk-parallel-item::before {content: \"\";position: absolute;border-left: 1px solid gray;box-sizing: border-box;top: 0;bottom: 0;left: 50%;z-index: -1;}#sk-container-id-1 div.sk-parallel-item {display: flex;flex-direction: column;z-index: 1;position: relative;background-color: white;}#sk-container-id-1 div.sk-parallel-item:first-child::after {align-self: flex-end;width: 50%;}#sk-container-id-1 div.sk-parallel-item:last-child::after {align-self: flex-start;width: 50%;}#sk-container-id-1 div.sk-parallel-item:only-child::after {width: 0;}#sk-container-id-1 div.sk-dashed-wrapped {border: 1px dashed gray;margin: 0 0.4em 0.5em 0.4em;box-sizing: border-box;padding-bottom: 0.4em;background-color: white;}#sk-container-id-1 div.sk-label label {font-family: monospace;font-weight: bold;display: inline-block;line-height: 1.2em;}#sk-container-id-1 div.sk-label-container {text-align: center;}#sk-container-id-1 div.sk-container {/* jupyter's `normalize.less` sets `[hidden] { display: none; }` but bootstrap.min.css set `[hidden] { display: none !important; }` so we also need the `!important` here to be able to override the default hidden behavior on the sphinx rendered scikit-learn.org. See: https://github.com/scikit-learn/scikit-learn/issues/21755 */display: inline-block !important;position: relative;}#sk-container-id-1 div.sk-text-repr-fallback {display: none;}</style><div id=\"sk-container-id-1\" class=\"sk-top-container\"><div class=\"sk-text-repr-fallback\"><pre>LinearSVC()</pre><b>In a Jupyter environment, please rerun this cell to show the HTML representation or trust the notebook. <br />On GitHub, the HTML representation is unable to render, please try loading this page with nbviewer.org.</b></div><div class=\"sk-container\" hidden><div class=\"sk-item\"><div class=\"sk-estimator sk-toggleable\"><input class=\"sk-toggleable__control sk-hidden--visually\" id=\"sk-estimator-id-1\" type=\"checkbox\" checked><label for=\"sk-estimator-id-1\" class=\"sk-toggleable__label sk-toggleable__label-arrow\">LinearSVC</label><div class=\"sk-toggleable__content\"><pre>LinearSVC()</pre></div></div></div></div></div>"
      ],
      "text/plain": [
       "LinearSVC()"
      ]
     },
     "execution_count": 14,
     "metadata": {},
     "output_type": "execute_result"
    }
   ],
   "source": [
    "mySVC.fit(traces.T, df_new_annotations)"
   ]
  },
  {
   "cell_type": "code",
   "execution_count": 15,
   "id": "6ebe9c95-d811-4df4-a71b-e7aa34c8c02f",
   "metadata": {},
   "outputs": [
    {
     "data": {
      "text/plain": [
       "array([0, 0, 0, ..., 1, 1, 1])"
      ]
     },
     "execution_count": 15,
     "metadata": {},
     "output_type": "execute_result"
    }
   ],
   "source": [
    "mySVC.predict(traces.T)"
   ]
  },
  {
   "cell_type": "code",
   "execution_count": null,
   "id": "1f953c99-a682-48f8-9db8-83b192462e73",
   "metadata": {},
   "outputs": [],
   "source": []
  },
  {
   "cell_type": "code",
   "execution_count": null,
   "id": "81036de0-3bdd-46a3-8497-a70e912a0a78",
   "metadata": {},
   "outputs": [],
   "source": []
  },
  {
   "cell_type": "code",
   "execution_count": null,
   "id": "088d12bd-74ea-4338-8350-12aac56e50d8",
   "metadata": {},
   "outputs": [],
   "source": []
  },
  {
   "cell_type": "code",
   "execution_count": null,
   "id": "9509c4fa-819b-4ce9-97be-e479736f117a",
   "metadata": {},
   "outputs": [],
   "source": []
  },
  {
   "cell_type": "code",
   "execution_count": null,
   "id": "91c17699-98f9-44a2-a105-36dbac604be9",
   "metadata": {},
   "outputs": [],
   "source": []
  }
 ],
 "metadata": {
  "kernelspec": {
   "display_name": "new_kostas_env",
   "language": "python",
   "name": "new_kostas_env"
  },
  "language_info": {
   "codemirror_mode": {
    "name": "ipython",
    "version": 3
   },
   "file_extension": ".py",
   "mimetype": "text/x-python",
   "name": "python",
   "nbconvert_exporter": "python",
   "pygments_lexer": "ipython3",
   "version": "3.10.9"
  }
 },
 "nbformat": 4,
 "nbformat_minor": 5
}
