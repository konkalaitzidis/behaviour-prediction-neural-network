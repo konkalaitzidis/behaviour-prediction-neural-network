{
 "cells": [
  {
   "cell_type": "code",
   "execution_count": 1,
   "id": "f9e58cf9-c4bb-4027-8799-8763d8bc7f14",
   "metadata": {},
   "outputs": [],
   "source": [
    "import h5py # for working with HDF5 (Hierarchical Data Format) files\n",
    "import numpy as np\n",
    "import sklearn.svm\n",
    "import matplotlib.pyplot as plt\n",
    "import pandas as pd\n",
    "import os\n",
    "from V3.load_calcium_video import load_video_data\n",
    "from V3.align_behavior_to_calcium import align_files\n",
    "from V3.class_balance import check_class_imbalance"
   ]
  },
  {
   "cell_type": "code",
   "execution_count": 2,
   "id": "54bcfbd1-4dcd-4697-8144-c54f89d04c25",
   "metadata": {},
   "outputs": [
    {
     "name": "stdout",
     "output_type": "stream",
     "text": [
      "Stored 'experiment_ID' (str)\n"
     ]
    }
   ],
   "source": [
    "comment = \"k-fold-cross validation, multiple videos, new labels\"\n",
    "experiment_ID = '3.2'\n",
    "data_file = 'Animal3learnday8, Animal3Learnday9, Animal3Learnday10'\n",
    "experiment_name = str(data_file)+\"_\"+str(experiment_ID)\n",
    "train_test_split_strategy = \"k-fold\"\n",
    "name = 'BPSVM'\n",
    "model_version = str(name)+'_1'\n",
    "\n",
    "%store experiment_ID"
   ]
  },
  {
   "cell_type": "code",
   "execution_count": 3,
   "id": "a6a2128d-a3d0-432e-b927-1594f517587a",
   "metadata": {},
   "outputs": [
    {
     "name": "stdout",
     "output_type": "stream",
     "text": [
      "The directory output-svm already exists.\n"
     ]
    }
   ],
   "source": [
    "# Define the name of the output directory\n",
    "output_dir = \"output-svm\"\n",
    "\n",
    "# Check if the output directory already exists\n",
    "if not os.path.exists(output_dir):\n",
    "    # Create the output directory\n",
    "    os.mkdir(output_dir)\n",
    "\n",
    "    # Create the balance, accuracy, loss, and cm directories inside the output directory\n",
    "    os.mkdir(os.path.join(output_dir, \"balance\"))\n",
    "    os.mkdir(os.path.join(output_dir, \"accuracy\"))\n",
    "    os.mkdir(os.path.join(output_dir, \"loss\"))\n",
    "    os.mkdir(os.path.join(output_dir, \"cm\"))\n",
    "    os.mkdir(os.path.join(output_dir, \"architecture\"))\n",
    "    os.mkdir(os.path.join(output_dir, \"pickles\"))\n",
    "else:\n",
    "    print(f\"The directory {output_dir} already exists.\")"
   ]
  },
  {
   "cell_type": "markdown",
   "id": "d6e733e1-791e-4af0-afd1-ff44601785aa",
   "metadata": {},
   "source": [
    "### Loading Calcium Videos"
   ]
  },
  {
   "cell_type": "code",
   "execution_count": 4,
   "id": "39ddd03f-cde9-4f87-880a-a6642734fb34",
   "metadata": {},
   "outputs": [],
   "source": [
    "# paths to videos\n",
    "video_paths = [\"/home/dmc/Desktop/kostas/direct-Behavior-prediction-from-miniscope-calcium-imaging-using-convolutional-neural-networks/data/20211025_184906_animal3learnday8.nwb\", \n",
    "               \"/home/dmc/Desktop/kostas/direct-Behavior-prediction-from-miniscope-calcium-imaging-using-convolutional-neural-networks/data/20211026_142935_animal3learnday9.nwb\", \n",
    "               \"/home/dmc/Desktop/kostas/direct-Behavior-prediction-from-miniscope-calcium-imaging-using-convolutional-neural-networks/data/20211027_165052_animal3learnday10.nwb\"]"
   ]
  },
  {
   "cell_type": "code",
   "execution_count": 5,
   "id": "7a53142b-cf09-4bcb-bc4b-4820e5b08115",
   "metadata": {},
   "outputs": [],
   "source": [
    "# load the CSV file with the FOV information\n",
    "fov_info = pd.read_csv('/home/dmc/Desktop/kostas/direct-Behavior-prediction-from-miniscope-calcium-imaging-using-convolutional-neural-networks/src/V3/aligned_videos_animal3.csv')"
   ]
  },
  {
   "cell_type": "code",
   "execution_count": 6,
   "id": "81e33105-b46a-43fb-bde0-7a60e530910d",
   "metadata": {},
   "outputs": [
    {
     "name": "stdout",
     "output_type": "stream",
     "text": [
      "20211025_184906_animal3learnday8.nwb recording_20211025_184906-PP-BP-MC\n",
      "20211025_184906_animal3learnday8.nwb is cropped\n",
      "(24479, 356, 398)\n",
      "20211026_142935_animal3learnday9.nwb recording_20211026_142935-PP-BP-MC\n",
      "20211026_142935_animal3learnday9.nwb is cropped\n",
      "(24434, 356, 398)\n",
      "20211027_165052_animal3learnday10.nwb recording_20211027_165052-PP-BP_001-MC\n",
      "20211027_165052_animal3learnday10.nwb is cropped\n",
      "(24456, 356, 398)\n",
      "Concatenated video shape: (73369, 356, 398)\n"
     ]
    }
   ],
   "source": [
    "video_name_list = []\n",
    "video_data_list = []\n",
    "\n",
    "images = load_video_data(video_paths, fov_info, video_name_list, video_data_list)"
   ]
  },
  {
   "cell_type": "code",
   "execution_count": 7,
   "id": "cd95cc1c-fff1-4419-b8ba-9e6d372e5510",
   "metadata": {},
   "outputs": [
    {
     "data": {
      "text/plain": [
       "(356, 398)"
      ]
     },
     "execution_count": 7,
     "metadata": {},
     "output_type": "execute_result"
    }
   ],
   "source": [
    "images[0].shape"
   ]
  },
  {
   "cell_type": "code",
   "execution_count": 8,
   "id": "5b1e9b43-7ff5-4340-b999-560fee2b2660",
   "metadata": {},
   "outputs": [
    {
     "data": {
      "text/plain": [
       "array([[[175, 172, 164, ..., 157, 163, 172],\n",
       "        [167, 167, 168, ..., 164, 158, 166],\n",
       "        [171, 170, 167, ..., 161, 155, 160],\n",
       "        ...,\n",
       "        [172, 156, 151, ..., 171, 166, 167],\n",
       "        [163, 162, 157, ..., 167, 163, 170],\n",
       "        [146, 162, 160, ..., 161, 161, 160]]], dtype=int16)"
      ]
     },
     "execution_count": 8,
     "metadata": {},
     "output_type": "execute_result"
    }
   ],
   "source": [
    "# Check if the video has been loaded correctly\n",
    "images[:1]"
   ]
  },
  {
   "cell_type": "code",
   "execution_count": 9,
   "id": "50c4ccdd-446e-47be-9fa0-01211ae37060",
   "metadata": {},
   "outputs": [
    {
     "name": "stdout",
     "output_type": "stream",
     "text": [
      "The number of video frames is  73369  and the frame dimensions (height x width) are:  356 X 398\n"
     ]
    }
   ],
   "source": [
    "# Determine the size of the calcium video dataset\n",
    "num_of_frames = images.shape[0]\n",
    "img_height = images.shape[1]\n",
    "img_width = images.shape[2]\n",
    "print(\"The number of video frames is \", num_of_frames, \" and the frame dimensions (height x width) are: \", img_height, \"X\", img_width)"
   ]
  },
  {
   "cell_type": "code",
   "execution_count": 10,
   "id": "89eb2af7-08af-480d-99f9-5d35fb59f2d1",
   "metadata": {},
   "outputs": [],
   "source": [
    "### Loading Bonsai and Behavior file"
   ]
  },
  {
   "cell_type": "code",
   "execution_count": 11,
   "id": "3f3baf0c-38b9-482a-8a12-6fd8015926f4",
   "metadata": {},
   "outputs": [],
   "source": [
    "# # paths to videos\n",
    "# num_of_videos = 3\n",
    "\n",
    "# bonsai_paths = [\"/home/dmc/Desktop/kostas/direct-Behavior-prediction-from-miniscope-calcium-imaging-using-convolutional-neural-networks/data/tmaze_2021-10-25T18_48_49.csv\", \n",
    "#                \"/home/dmc/Desktop/kostas/direct-Behavior-prediction-from-miniscope-calcium-imaging-using-convolutional-neural-networks/data/tmaze_2021-10-26T14_29_27.csv\", \n",
    "#                \"/home/dmc/Desktop/kostas/direct-Behavior-prediction-from-miniscope-calcium-imaging-using-convolutional-neural-networks/data/tmaze_2021-10-27T16_50_53.csv\"]"
   ]
  },
  {
   "cell_type": "code",
   "execution_count": 12,
   "id": "375d27c6-b649-4ec6-83ad-13a446841293",
   "metadata": {},
   "outputs": [],
   "source": [
    "# # paths to videos\n",
    "# behavior_paths = [\"/home/dmc/Desktop/kostas/direct-Behavior-prediction-from-miniscope-calcium-imaging-using-convolutional-neural-networks/data/20211025_184906_animal3learnday8.h5\", \n",
    "#                \"/home/dmc/Desktop/kostas/direct-Behavior-prediction-from-miniscope-calcium-imaging-using-convolutional-neural-networks/data/20211026_142935_animal3learnday9.h5\", \n",
    "#                \"/home/dmc/Desktop/kostas/direct-Behavior-prediction-from-miniscope-calcium-imaging-using-convolutional-neural-networks/data/20211027_165052_animal3learnday10.h5\"]"
   ]
  },
  {
   "cell_type": "code",
   "execution_count": null,
   "id": "c75e00e7-e9a2-4805-82c9-c1ec7a90dcda",
   "metadata": {},
   "outputs": [],
   "source": []
  },
  {
   "cell_type": "code",
   "execution_count": null,
   "id": "4af8bba4-6a34-4195-8bcf-b46be7fcbfff",
   "metadata": {},
   "outputs": [],
   "source": []
  },
  {
   "cell_type": "code",
   "execution_count": null,
   "id": "5f5502d9-06e7-4220-9b30-62b6993f374f",
   "metadata": {},
   "outputs": [],
   "source": []
  },
  {
   "cell_type": "code",
   "execution_count": null,
   "id": "d076ad7b-2cfc-4d3b-9727-285fa8465d30",
   "metadata": {},
   "outputs": [],
   "source": []
  },
  {
   "cell_type": "code",
   "execution_count": 13,
   "id": "abae8f36-670e-4e1b-9c77-35de535e71f2",
   "metadata": {},
   "outputs": [],
   "source": [
    "path = \"/home/dmc/Desktop/kostas/direct-Behavior-prediction-from-miniscope-calcium-imaging-using-convolutional-neural-networks/animal3.h5\""
   ]
  },
  {
   "cell_type": "code",
   "execution_count": 14,
   "id": "613fb769-c0f6-4fe5-b75f-260c903f6057",
   "metadata": {},
   "outputs": [],
   "source": [
    "list_of_traces = []\n",
    "with (h5py.File(path, 'r')) as f:\n",
    "    traces_8 = np.array(f['traces/animal3learnday8/deconvolved'])\n",
    "    list_of_traces.append(traces_8)\n",
    "    traces_9 = np.array(f['traces/animal3learnday9/deconvolved'])\n",
    "    list_of_traces.append(traces_9)\n",
    "    traces_10 = np.array(f['traces/animal3learnday10/deconvolved'])\n",
    "    list_of_traces.append(traces_10)"
   ]
  },
  {
   "cell_type": "code",
   "execution_count": 15,
   "id": "429125db-4e5a-400c-a8e9-bf57afd9d92f",
   "metadata": {},
   "outputs": [
    {
     "name": "stdout",
     "output_type": "stream",
     "text": [
      "Concatenated traces shape: (110, 73369)\n"
     ]
    }
   ],
   "source": [
    "traces = np.concatenate(list_of_traces, axis=1)\n",
    "print(\"Concatenated traces shape:\", traces.shape)"
   ]
  },
  {
   "cell_type": "code",
   "execution_count": 16,
   "id": "958969e8-ed07-47a0-a6cd-980f4231813f",
   "metadata": {},
   "outputs": [],
   "source": [
    "# # traces[50]\n",
    "# row = 40  # Select the row to plot\n",
    "# start = 0  # Starting index of the plot\n",
    "# end = 50  # Ending index of the plot\n",
    "\n",
    "# plt.plot(traces_8[row, start:end])\n",
    "# plt.xlabel('Sample Index')\n",
    "# plt.ylabel('Amplitude')\n",
    "# plt.title(f'Trace {row+1} (indices {start}-{end})')\n",
    "# plt.show()"
   ]
  },
  {
   "cell_type": "code",
   "execution_count": 17,
   "id": "433cbebb-a5d7-4089-8635-b64f7a7e6511",
   "metadata": {},
   "outputs": [],
   "source": [
    "# paths to videos\n",
    "num_of_videos = 3\n",
    "\n",
    "bonsai_paths = [\"/home/dmc/Desktop/kostas/direct-Behavior-prediction-from-miniscope-calcium-imaging-using-convolutional-neural-networks/data/tmaze_2021-10-25T18_48_49.csv\", \n",
    "               \"/home/dmc/Desktop/kostas/direct-Behavior-prediction-from-miniscope-calcium-imaging-using-convolutional-neural-networks/data/tmaze_2021-10-26T14_29_27.csv\", \n",
    "               \"/home/dmc/Desktop/kostas/direct-Behavior-prediction-from-miniscope-calcium-imaging-using-convolutional-neural-networks/data/tmaze_2021-10-27T16_50_53.csv\"]"
   ]
  },
  {
   "cell_type": "code",
   "execution_count": 18,
   "id": "9ef1921d-c4df-4ee4-ad95-67d07ef3cc95",
   "metadata": {},
   "outputs": [],
   "source": [
    "# paths to videos\n",
    "behavior_paths = [\"/home/dmc/Desktop/kostas/direct-Behavior-prediction-from-miniscope-calcium-imaging-using-convolutional-neural-networks/data/20211025_184906_animal3learnday8.h5\", \n",
    "               \"/home/dmc/Desktop/kostas/direct-Behavior-prediction-from-miniscope-calcium-imaging-using-convolutional-neural-networks/data/20211026_142935_animal3learnday9.h5\", \n",
    "               \"/home/dmc/Desktop/kostas/direct-Behavior-prediction-from-miniscope-calcium-imaging-using-convolutional-neural-networks/data/20211027_165052_animal3learnday10.h5\"]"
   ]
  },
  {
   "cell_type": "code",
   "execution_count": 19,
   "id": "45825c79-8900-461c-9eec-bc295672a6c8",
   "metadata": {},
   "outputs": [
    {
     "name": "stderr",
     "output_type": "stream",
     "text": [
      "/home/dmc/Desktop/kostas/direct-Behavior-prediction-from-miniscope-calcium-imaging-using-convolutional-neural-networks/src/V3/align_behavior_to_calcium.py:115: SettingWithCopyWarning: \n",
      "A value is trying to be set on a copy of a slice from a DataFrame.\n",
      "Try using .loc[row_indexer,col_indexer] = value instead\n",
      "\n",
      "See the caveats in the documentation: https://pandas.pydata.org/pandas-docs/stable/user_guide/indexing.html#returning-a-view-versus-a-copy\n",
      "  df_new_annotations.loc[:, 'state_id'] = df_new_annotations.loc[:, 'state_id'].replace(state_id_map)\n",
      "/home/dmc/Desktop/kostas/direct-Behavior-prediction-from-miniscope-calcium-imaging-using-convolutional-neural-networks/src/V3/align_behavior_to_calcium.py:115: SettingWithCopyWarning: \n",
      "A value is trying to be set on a copy of a slice from a DataFrame.\n",
      "Try using .loc[row_indexer,col_indexer] = value instead\n",
      "\n",
      "See the caveats in the documentation: https://pandas.pydata.org/pandas-docs/stable/user_guide/indexing.html#returning-a-view-versus-a-copy\n",
      "  df_new_annotations.loc[:, 'state_id'] = df_new_annotations.loc[:, 'state_id'].replace(state_id_map)\n",
      "/home/dmc/Desktop/kostas/direct-Behavior-prediction-from-miniscope-calcium-imaging-using-convolutional-neural-networks/src/V3/align_behavior_to_calcium.py:115: SettingWithCopyWarning: \n",
      "A value is trying to be set on a copy of a slice from a DataFrame.\n",
      "Try using .loc[row_indexer,col_indexer] = value instead\n",
      "\n",
      "See the caveats in the documentation: https://pandas.pydata.org/pandas-docs/stable/user_guide/indexing.html#returning-a-view-versus-a-copy\n",
      "  df_new_annotations.loc[:, 'state_id'] = df_new_annotations.loc[:, 'state_id'].replace(state_id_map)\n"
     ]
    }
   ],
   "source": [
    "df_new_annotations, df_new_annotations_unique = align_files(bonsai_paths, behavior_paths, num_of_videos)"
   ]
  },
  {
   "cell_type": "code",
   "execution_count": null,
   "id": "8794e771-9cd3-4e65-8bfb-00b0290a5c9c",
   "metadata": {},
   "outputs": [],
   "source": []
  },
  {
   "cell_type": "code",
   "execution_count": null,
   "id": "3267dd97-5731-4809-90e2-4071dcd3a012",
   "metadata": {},
   "outputs": [],
   "source": []
  },
  {
   "cell_type": "code",
   "execution_count": null,
   "id": "798f202f-4596-4bd5-91bf-dd8422ef1260",
   "metadata": {},
   "outputs": [],
   "source": []
  },
  {
   "cell_type": "code",
   "execution_count": null,
   "id": "348fa0a5-c51e-480f-9da2-92d58cb0a65b",
   "metadata": {},
   "outputs": [],
   "source": []
  },
  {
   "cell_type": "code",
   "execution_count": null,
   "id": "efee209a-432f-4e58-b4e5-d5a4fc115271",
   "metadata": {},
   "outputs": [],
   "source": []
  },
  {
   "cell_type": "code",
   "execution_count": 20,
   "id": "2c5fa972-2652-4bbc-81ba-fe32a28f908b",
   "metadata": {},
   "outputs": [],
   "source": [
    "# # paths to videos\n",
    "# num_of_videos = 1\n",
    "\n",
    "# bonsai_data = \"/home/dmc/Desktop/kostas/direct-Behavior-prediction-from-miniscope-calcium-imaging-using-convolutional-neural-networks/data/tmaze_2021-10-28T18_13_23.csv\"\n",
    "# # paths to videos\n",
    "# behavior_paths = \"/home/dmc/Desktop/kostas/direct-Behavior-prediction-from-miniscope-calcium-imaging-using-convolutional-neural-networks/data/20211028_181307_animal3learnday11.h5\"\n",
    "\n",
    "# bonsai_data = pd.read_csv(bonsai_data, header=None)\n",
    "\n",
    "# df_behavior = pd.read_hdf(behavior_paths, 'per_frame')"
   ]
  },
  {
   "cell_type": "code",
   "execution_count": null,
   "id": "a0ccf1ea-b5f8-4d51-851c-3f67a4dff6df",
   "metadata": {},
   "outputs": [],
   "source": [
    "    "
   ]
  },
  {
   "cell_type": "code",
   "execution_count": 21,
   "id": "b6598cc9-cf2c-4e58-b104-869c25e6bd41",
   "metadata": {},
   "outputs": [],
   "source": [
    "# # Adding column names\n",
    "# bonsai_data = bonsai_data.rename(columns={\n",
    "#     0: 'Time', 1: 'Trial_Number',\n",
    "#     2: 'Reward', 3: 'Frame_Number', 4: 'Central_Zone',\n",
    "#     5: 'L_Zone', 6: 'R_Zone', 7: 'Calcium_frame'})"
   ]
  },
  {
   "cell_type": "code",
   "execution_count": null,
   "id": "8a33788c-400d-4e1d-9935-c073c48d296a",
   "metadata": {},
   "outputs": [],
   "source": []
  },
  {
   "cell_type": "code",
   "execution_count": 22,
   "id": "b5298ea4-e969-4eef-8305-6c05960b6ab7",
   "metadata": {},
   "outputs": [],
   "source": [
    "# df_aligned = df_behavior.loc[bonsai_data.groupby('Calcium_frame').first()[1:].Frame_Number].reset_index()"
   ]
  },
  {
   "cell_type": "code",
   "execution_count": null,
   "id": "9ca69e7c-04b5-47d8-9ed1-683a0e3d6c8d",
   "metadata": {},
   "outputs": [],
   "source": []
  },
  {
   "cell_type": "code",
   "execution_count": 23,
   "id": "9ab91d44-be3f-4a3b-9369-1ccec4cef2a8",
   "metadata": {},
   "outputs": [],
   "source": [
    "# df_new_annotations = df_aligned[['state_id', 'state_name']]\n",
    "\n",
    "# df_unique_states = df_new_annotations[['state_id', 'state_name']].drop_duplicates(subset='state_id').set_index('state_id')['state_name'].sort_index()"
   ]
  },
  {
   "cell_type": "code",
   "execution_count": 24,
   "id": "080599d4-aa2a-4195-9d15-672b56c70ce0",
   "metadata": {},
   "outputs": [],
   "source": [
    "# df_unique_states"
   ]
  },
  {
   "cell_type": "code",
   "execution_count": null,
   "id": "d573592f-8ee8-4047-a04b-176c9325736e",
   "metadata": {},
   "outputs": [],
   "source": []
  },
  {
   "cell_type": "code",
   "execution_count": 25,
   "id": "7b7d89a4-6baa-4992-b320-b26f495b05e1",
   "metadata": {},
   "outputs": [],
   "source": [
    "# # state id mapping for main corridor, left corridor, right corridor\n",
    "# state_id_map = {\n",
    "#     1: 0, 2: 0, 3: 0, 4: 0, 5: 0, 6: 0, 7: 0, 8: 0,\n",
    "#     9: 1, 11: 1, 13: 1, 14: 1, 15: 1, 16: 1, 17: 1, 18: 1,\n",
    "#     10: 2, 12: 2, 19: 2, 20: 2, 21: 2, 22: 2, 23: 2, 24: 2,\n",
    "# }"
   ]
  },
  {
   "cell_type": "code",
   "execution_count": 26,
   "id": "1528d13a-4ebe-4a24-b1d8-840a5913b9d1",
   "metadata": {},
   "outputs": [],
   "source": [
    "# #     # state_id map for forward, left turn, right turn, \n",
    "# #     state_id_map = {\n",
    "# #         #forward\n",
    "# #         0: 0, 3: 0, 4: 0, 5: 0, 6: 0, 13: 0, 14: 0, 15: 0, 19: 0, 20: 0, 21: 0, \n",
    "\n",
    "# #         #left\n",
    "# #         1: 1, 7: 1, 9: 1, 11: 1, 16: 1, 18: 1, 22: 1, \n",
    "\n",
    "# #         #right\n",
    "# #         2: 2, 8: 2, 10: 2, 12: 2, 17: 2, 23: 2, 24: 2\n",
    "# #     }\n",
    "\n",
    "\n",
    "# df_new_annotations.loc[:, 'state_id'] = df_new_annotations.loc[:, 'state_id'].replace(state_id_map)\n",
    "# df_new_annotations = df_new_annotations.loc[:, 'state_id']    \n",
    "\n",
    "# # return df_new_annotations, df_unique_states"
   ]
  },
  {
   "cell_type": "code",
   "execution_count": 27,
   "id": "c0443350-f884-4dae-be3a-12b1e2a64b95",
   "metadata": {},
   "outputs": [],
   "source": [
    "df_new_annotations = df_new_annotations.loc[:, 'state_id']    "
   ]
  },
  {
   "cell_type": "code",
   "execution_count": 28,
   "id": "94885c3c-ee8d-41b0-9dec-0eb248fbc6d7",
   "metadata": {},
   "outputs": [
    {
     "data": {
      "text/plain": [
       "0        0\n",
       "1        0\n",
       "2        0\n",
       "3        0\n",
       "4        0\n",
       "        ..\n",
       "73364    2\n",
       "73365    2\n",
       "73366    2\n",
       "73367    2\n",
       "73368    2\n",
       "Name: state_id, Length: 73369, dtype: int64"
      ]
     },
     "execution_count": 28,
     "metadata": {},
     "output_type": "execute_result"
    }
   ],
   "source": [
    "df_new_annotations"
   ]
  },
  {
   "cell_type": "code",
   "execution_count": 29,
   "id": "92370ae5-ec06-46fa-8a54-a8526ad5b403",
   "metadata": {},
   "outputs": [],
   "source": [
    "df_new_annotations_unique = df_new_annotations.unique()"
   ]
  },
  {
   "cell_type": "code",
   "execution_count": 30,
   "id": "2ecb315f-9831-48e2-a9c2-048eef6ed703",
   "metadata": {},
   "outputs": [
    {
     "data": {
      "text/plain": [
       "array([0, 1, 2])"
      ]
     },
     "execution_count": 30,
     "metadata": {},
     "output_type": "execute_result"
    }
   ],
   "source": [
    "df_new_annotations_unique"
   ]
  },
  {
   "cell_type": "code",
   "execution_count": 31,
   "id": "0f2eb829-a975-4962-9776-1538a3f4e17a",
   "metadata": {},
   "outputs": [],
   "source": [
    "save_dir = \"/home/dmc/Desktop/kostas/direct-Behavior-prediction-from-miniscope-calcium-imaging-using-convolutional-neural-networks/src/output-svm/balance\""
   ]
  },
  {
   "cell_type": "code",
   "execution_count": 32,
   "id": "3881cf3c-4151-4926-a2e9-94a79b24e16a",
   "metadata": {},
   "outputs": [
    {
     "data": {
      "image/png": "[encoded data removed]",
      "text/plain": [
       "<Figure size 800x600 with 1 Axes>"
      ]
     },
     "metadata": {},
     "output_type": "display_data"
    }
   ],
   "source": [
    "class_counts, total_counts = check_class_imbalance(df_new_annotations, experiment_ID, save_dir)"
   ]
  },
  {
   "cell_type": "code",
   "execution_count": 33,
   "id": "dc77badc-fabe-4813-bddc-bf7f5d87b3a9",
   "metadata": {},
   "outputs": [],
   "source": [
    "# Training Parameters\n",
    "channel_dimension = 1\n",
    "labels = df_new_annotations\n",
    "epochs = 1\n",
    "# batch_size = 8"
   ]
  },
  {
   "cell_type": "code",
   "execution_count": 34,
   "id": "d036c1f8-7274-486b-abac-00f8f597fa78",
   "metadata": {},
   "outputs": [],
   "source": [
    "# traces[50]\n",
    "# row = 40  # Select the row to plot\n",
    "# start = 0  # Starting index of the plot\n",
    "# end = 50  # Ending index of the plot\n",
    "\n",
    "# plt.plot(traces_8[row, start:end])\n",
    "# plt.xlabel('Sample Index')\n",
    "# plt.ylabel('Amplitude')\n",
    "# plt.title(f'Trace {row+1} (indices {start}-{end})')\n",
    "# plt.show()"
   ]
  },
  {
   "cell_type": "code",
   "execution_count": 35,
   "id": "2a435a3d-93d9-4360-825f-572f88855cd3",
   "metadata": {},
   "outputs": [],
   "source": [
    "# plt.plot(traces_8[40, 450:500])\n"
   ]
  },
  {
   "cell_type": "code",
   "execution_count": null,
   "id": "2a182579-ea9a-4ffa-b594-abf0173a5592",
   "metadata": {},
   "outputs": [],
   "source": []
  },
  {
   "cell_type": "code",
   "execution_count": null,
   "id": "aaefc730-9c81-4944-9b31-b2731bbc23c6",
   "metadata": {},
   "outputs": [],
   "source": []
  },
  {
   "cell_type": "code",
   "execution_count": null,
   "id": "420693cb-d184-4f6e-a3dd-f7288998f878",
   "metadata": {},
   "outputs": [],
   "source": []
  },
  {
   "cell_type": "code",
   "execution_count": 42,
   "id": "5c7e1fbf-712f-4075-8e63-568a7734b2ee",
   "metadata": {},
   "outputs": [],
   "source": [
    "mySVC = sklearn.svm.LinearSVC()\n",
    "# mySVC.fit(traces.T, df_new_annotations)\n",
    "# mySVC.predict(traces.T)"
   ]
  },
  {
   "cell_type": "code",
   "execution_count": null,
   "id": "c42acb53-48ee-4004-a3b5-084797c2de03",
   "metadata": {},
   "outputs": [],
   "source": []
  },
  {
   "cell_type": "code",
   "execution_count": null,
   "id": "3d9389d2-476f-47df-b3c8-d2fc2adfff88",
   "metadata": {},
   "outputs": [],
   "source": []
  },
  {
   "cell_type": "markdown",
   "id": "cccac99a-ce7c-48cc-8d65-fbcfb19b62d4",
   "metadata": {},
   "source": [
    "## Perform k-fold cross validation"
   ]
  },
  {
   "cell_type": "code",
   "execution_count": 37,
   "id": "d07b5e05-2fe0-4bd7-bfee-53b3a5b87195",
   "metadata": {},
   "outputs": [],
   "source": [
    "# from sklearn.model_selection import cross_val_score, KFold\n",
    "# from sklearn.svm import LinearSVC\n",
    "\n",
    "# # Define the number of folds for cross-validation\n",
    "# n_folds = 10\n",
    "\n",
    "# # Create a LinearSVC object\n",
    "# mySVC = LinearSVC()\n",
    "\n",
    "# # Create a KFold object for splitting the data into folds\n",
    "# kf = KFold(n_splits=n_folds)\n",
    "\n",
    "# # Perform cross-validation and get the scores\n",
    "# scores = cross_val_score(mySVC, traces.T, df_new_annotations, cv=kf) # traces.T is X and df_new_annotations is y\n",
    "\n",
    "# # Print the mean score and standard deviation\n",
    "# print(\"Cross-validation scores:\", scores)\n",
    "# print(\"Mean score:\", scores.mean())\n",
    "# # print(\"Standard deviation:\", scores.std())"
   ]
  },
  {
   "cell_type": "code",
   "execution_count": 38,
   "id": "b9d3da1a-5c73-4840-b7eb-55b08ecd5bfa",
   "metadata": {},
   "outputs": [],
   "source": [
    "# mySVC = sklearn.svm.LinearSVC()"
   ]
  },
  {
   "cell_type": "code",
   "execution_count": 39,
   "id": "a70c60fe-5c95-4033-ac8a-abce4202df3f",
   "metadata": {},
   "outputs": [],
   "source": [
    "# mySVC.fit(traces.T, df_new_annotations)"
   ]
  },
  {
   "cell_type": "code",
   "execution_count": 40,
   "id": "6ebe9c95-d811-4df4-a71b-e7aa34c8c02f",
   "metadata": {},
   "outputs": [],
   "source": [
    "# mySVC.predict(traces.T)"
   ]
  },
  {
   "cell_type": "code",
   "execution_count": 43,
   "id": "81036de0-3bdd-46a3-8497-a70e912a0a78",
   "metadata": {},
   "outputs": [
    {
     "name": "stderr",
     "output_type": "stream",
     "text": [
      "/home/dmc/anaconda3/envs/new_kostas_env/lib/python3.10/site-packages/sklearn/svm/_base.py:1244: ConvergenceWarning: Liblinear failed to converge, increase the number of iterations.\n",
      "  warnings.warn(\n",
      "/home/dmc/anaconda3/envs/new_kostas_env/lib/python3.10/site-packages/sklearn/svm/_base.py:1244: ConvergenceWarning: Liblinear failed to converge, increase the number of iterations.\n",
      "  warnings.warn(\n",
      "/home/dmc/anaconda3/envs/new_kostas_env/lib/python3.10/site-packages/sklearn/svm/_base.py:1244: ConvergenceWarning: Liblinear failed to converge, increase the number of iterations.\n",
      "  warnings.warn(\n",
      "/home/dmc/anaconda3/envs/new_kostas_env/lib/python3.10/site-packages/sklearn/svm/_base.py:1244: ConvergenceWarning: Liblinear failed to converge, increase the number of iterations.\n",
      "  warnings.warn(\n",
      "/home/dmc/anaconda3/envs/new_kostas_env/lib/python3.10/site-packages/sklearn/svm/_base.py:1244: ConvergenceWarning: Liblinear failed to converge, increase the number of iterations.\n",
      "  warnings.warn(\n",
      "/home/dmc/anaconda3/envs/new_kostas_env/lib/python3.10/site-packages/sklearn/svm/_base.py:1244: ConvergenceWarning: Liblinear failed to converge, increase the number of iterations.\n",
      "  warnings.warn(\n",
      "/home/dmc/anaconda3/envs/new_kostas_env/lib/python3.10/site-packages/sklearn/svm/_base.py:1244: ConvergenceWarning: Liblinear failed to converge, increase the number of iterations.\n",
      "  warnings.warn(\n",
      "/home/dmc/anaconda3/envs/new_kostas_env/lib/python3.10/site-packages/sklearn/svm/_base.py:1244: ConvergenceWarning: Liblinear failed to converge, increase the number of iterations.\n",
      "  warnings.warn(\n",
      "/home/dmc/anaconda3/envs/new_kostas_env/lib/python3.10/site-packages/sklearn/svm/_base.py:1244: ConvergenceWarning: Liblinear failed to converge, increase the number of iterations.\n",
      "  warnings.warn(\n",
      "/home/dmc/anaconda3/envs/new_kostas_env/lib/python3.10/site-packages/sklearn/svm/_base.py:1244: ConvergenceWarning: Liblinear failed to converge, increase the number of iterations.\n",
      "  warnings.warn(\n",
      "/home/dmc/anaconda3/envs/new_kostas_env/lib/python3.10/site-packages/sklearn/svm/_base.py:1244: ConvergenceWarning: Liblinear failed to converge, increase the number of iterations.\n",
      "  warnings.warn(\n"
     ]
    },
    {
     "name": "stdout",
     "output_type": "stream",
     "text": [
      "Average accuracy: 0.4636290531423353\n"
     ]
    },
    {
     "name": "stderr",
     "output_type": "stream",
     "text": [
      "/home/dmc/anaconda3/envs/new_kostas_env/lib/python3.10/site-packages/sklearn/svm/_base.py:1244: ConvergenceWarning: Liblinear failed to converge, increase the number of iterations.\n",
      "  warnings.warn(\n",
      "/home/dmc/anaconda3/envs/new_kostas_env/lib/python3.10/site-packages/sklearn/svm/_base.py:1244: ConvergenceWarning: Liblinear failed to converge, increase the number of iterations.\n",
      "  warnings.warn(\n",
      "/home/dmc/anaconda3/envs/new_kostas_env/lib/python3.10/site-packages/sklearn/svm/_base.py:1244: ConvergenceWarning: Liblinear failed to converge, increase the number of iterations.\n",
      "  warnings.warn(\n",
      "/home/dmc/anaconda3/envs/new_kostas_env/lib/python3.10/site-packages/sklearn/svm/_base.py:1244: ConvergenceWarning: Liblinear failed to converge, increase the number of iterations.\n",
      "  warnings.warn(\n",
      "/home/dmc/anaconda3/envs/new_kostas_env/lib/python3.10/site-packages/sklearn/svm/_base.py:1244: ConvergenceWarning: Liblinear failed to converge, increase the number of iterations.\n",
      "  warnings.warn(\n",
      "/home/dmc/anaconda3/envs/new_kostas_env/lib/python3.10/site-packages/sklearn/svm/_base.py:1244: ConvergenceWarning: Liblinear failed to converge, increase the number of iterations.\n",
      "  warnings.warn(\n",
      "/home/dmc/anaconda3/envs/new_kostas_env/lib/python3.10/site-packages/sklearn/svm/_base.py:1244: ConvergenceWarning: Liblinear failed to converge, increase the number of iterations.\n",
      "  warnings.warn(\n",
      "/home/dmc/anaconda3/envs/new_kostas_env/lib/python3.10/site-packages/sklearn/svm/_base.py:1244: ConvergenceWarning: Liblinear failed to converge, increase the number of iterations.\n",
      "  warnings.warn(\n",
      "/home/dmc/anaconda3/envs/new_kostas_env/lib/python3.10/site-packages/sklearn/svm/_base.py:1244: ConvergenceWarning: Liblinear failed to converge, increase the number of iterations.\n",
      "  warnings.warn(\n"
     ]
    },
    {
     "name": "stdout",
     "output_type": "stream",
     "text": [
      "Average log loss: 8.66066872111212\n",
      "Confusion matrix:\n",
      "[[18441  7832  3080]\n",
      " [13913 12679  3856]\n",
      " [ 6769  3903  2896]]\n"
     ]
    },
    {
     "name": "stderr",
     "output_type": "stream",
     "text": [
      "/home/dmc/anaconda3/envs/new_kostas_env/lib/python3.10/site-packages/sklearn/svm/_base.py:1244: ConvergenceWarning: Liblinear failed to converge, increase the number of iterations.\n",
      "  warnings.warn(\n"
     ]
    }
   ],
   "source": [
    "from sklearn.metrics import accuracy_score, log_loss, confusion_matrix\n",
    "from sklearn.model_selection import cross_val_predict, KFold\n",
    "from sklearn.svm import LinearSVC\n",
    "\n",
    "\n",
    "mySVC.fit(traces.T, df_new_annotations)\n",
    "mySVC.predict(traces.T)\n",
    "\n",
    "mySVC = LinearSVC()\n",
    "\n",
    "kf = KFold(n_splits=10)\n",
    "\n",
    "y_pred = cross_val_predict(mySVC, traces.T, df_new_annotations, cv=kf)\n",
    "\n",
    "accuracy = accuracy_score(df_new_annotations, y_pred)\n",
    "print(\"Average accuracy:\", accuracy)\n",
    "\n",
    "y_pred_prob = cross_val_predict(mySVC, traces.T, df_new_annotations, cv=kf, method='decision_function')\n",
    "log_loss_avg = log_loss(df_new_annotations, y_pred_prob)\n",
    "print(\"Average log loss:\", log_loss_avg)\n",
    "\n",
    "cm_avg = confusion_matrix(df_new_annotations, y_pred)\n",
    "print(\"Confusion matrix:\")\n",
    "print(cm_avg)\n"
   ]
  },
  {
   "cell_type": "code",
   "execution_count": null,
   "id": "7b67c310-423b-49d7-a8e4-d9cf8c8fde5d",
   "metadata": {},
   "outputs": [],
   "source": []
  },
  {
   "cell_type": "code",
   "execution_count": null,
   "id": "cf4ca384-ecdf-4bc1-9556-f37ed80aa554",
   "metadata": {},
   "outputs": [],
   "source": []
  },
  {
   "cell_type": "code",
   "execution_count": null,
   "id": "80812ccf-fe36-4daa-a551-6188c4bde44b",
   "metadata": {},
   "outputs": [],
   "source": []
  },
  {
   "cell_type": "code",
   "execution_count": null,
   "id": "54a850c6-ed86-498a-87d1-997eec23b134",
   "metadata": {},
   "outputs": [],
   "source": []
  },
  {
   "cell_type": "code",
   "execution_count": null,
   "id": "088d12bd-74ea-4338-8350-12aac56e50d8",
   "metadata": {},
   "outputs": [],
   "source": []
  },
  {
   "cell_type": "code",
   "execution_count": null,
   "id": "9509c4fa-819b-4ce9-97be-e479736f117a",
   "metadata": {},
   "outputs": [],
   "source": []
  },
  {
   "cell_type": "code",
   "execution_count": null,
   "id": "91c17699-98f9-44a2-a105-36dbac604be9",
   "metadata": {},
   "outputs": [],
   "source": []
  }
 ],
 "metadata": {
  "kernelspec": {
   "display_name": "new_kostas_env",
   "language": "python",
   "name": "new_kostas_env"
  },
  "language_info": {
   "codemirror_mode": {
    "name": "ipython",
    "version": 3
   },
   "file_extension": ".py",
   "mimetype": "text/x-python",
   "name": "python",
   "nbconvert_exporter": "python",
   "pygments_lexer": "ipython3",
   "version": "3.10.9"
  }
 },
 "nbformat": 4,
 "nbformat_minor": 5
}
