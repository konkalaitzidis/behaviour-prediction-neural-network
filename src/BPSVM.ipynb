{
 "cells": [
  {
   "cell_type": "code",
   "execution_count": 1,
   "id": "f9e58cf9-c4bb-4027-8799-8763d8bc7f14",
   "metadata": {},
   "outputs": [
    {
     "name": "stderr",
     "output_type": "stream",
     "text": [
      "2023-05-19 00:02:31.304391: I tensorflow/core/platform/cpu_feature_guard.cc:193] This TensorFlow binary is optimized with oneAPI Deep Neural Network Library (oneDNN) to use the following CPU instructions in performance-critical operations:  SSE4.1 SSE4.2 AVX AVX2 AVX512F AVX512_VNNI FMA\n",
      "To enable them in other operations, rebuild TensorFlow with the appropriate compiler flags.\n",
      "2023-05-19 00:02:31.342326: I tensorflow/core/util/port.cc:104] oneDNN custom operations are on. You may see slightly different numerical results due to floating-point round-off errors from different computation orders. To turn them off, set the environment variable `TF_ENABLE_ONEDNN_OPTS=0`.\n"
     ]
    }
   ],
   "source": [
    "import h5py # for working with HDF5 (Hierarchical Data Format) files\n",
    "import numpy as np\n",
    "import sklearn.svm\n",
    "import matplotlib.pyplot as plt\n",
    "import pandas as pd\n",
    "import os\n",
    "from V3.load_calcium_video import load_video_data, load_one_video\n",
    "from V3.align_behavior_to_calcium import align_files_old_labels, align_files_new_labels\n",
    "from V3.class_balance import check_class_imbalance_old, check_class_imbalance_new \n",
    "from V3.preprocessing_model import model_preprocessing\n",
    "from V3.save_model_info import save_training_info\n",
    "import pickle\n",
    "import seaborn as sns\n",
    "from sklearn.metrics import accuracy_score, log_loss, confusion_matrix, f1_score\n",
    "from sklearn.model_selection import cross_val_predict, KFold\n",
    "from sklearn.svm import LinearSVC"
   ]
  },
  {
   "cell_type": "code",
   "execution_count": 2,
   "id": "54bcfbd1-4dcd-4697-8144-c54f89d04c25",
   "metadata": {},
   "outputs": [
    {
     "name": "stdout",
     "output_type": "stream",
     "text": [
      "Stored 'experiment_ID' (str)\n",
      "Stored 'data_file' (str)\n",
      "Stored 'experiment_name' (str)\n",
      "Stored 'train_test_split_strategy' (str)\n",
      "Stored 'name' (str)\n",
      "Stored 'model_version' (str)\n",
      "Stored 'labels_type' (str)\n",
      "Stored 'merge_labels' (bool)\n",
      "Stored 'shuffled_labels' (bool)\n",
      "Stored 'architecture_type' (str)\n",
      "Stored 'multiple_videos' (bool)\n"
     ]
    }
   ],
   "source": [
    "comment = \"k-fold-cross validation, multiple videos, new labels\"\n",
    "\n",
    "experiment_ID = 'Experiment_2-BPSVM-multiple-videos'\n",
    "\n",
    "data_file = 'Animal3learnday8, Animal3Learnday9, Animal3Learnday10' #Animal3learnday11'\n",
    "\n",
    "experiment_name = str(data_file)+\"_\"+str(experiment_ID)\n",
    "\n",
    "train_test_split_strategy = \"k-fold\"\n",
    "\n",
    "name = 'BPSVM'\n",
    "\n",
    "model_version = str(name)+'_1'\n",
    "\n",
    "# Which labels am I using? Old or New?\n",
    "labels_type = 'new' # or 'old'\n",
    "\n",
    "# Shuffle data? This to find chance performance\n",
    "shuffled_labels = False\n",
    "\n",
    "# Which architecture am I using \n",
    "architecture_type = 'standard' # or 'old'\n",
    "\n",
    "# will you merge labels or not?\n",
    "merge_labels = False\n",
    "\n",
    "# Am I using one or multiple videos for training?\n",
    "multiple_videos = True \n",
    "\n",
    "# store the initiation variables:\n",
    "%store experiment_ID\n",
    "%store data_file\n",
    "%store experiment_name\n",
    "%store train_test_split_strategy\n",
    "%store name\n",
    "%store model_version\n",
    "%store labels_type\n",
    "%store merge_labels\n",
    "%store shuffled_labels\n",
    "%store architecture_type\n",
    "%store multiple_videos"
   ]
  },
  {
   "cell_type": "code",
   "execution_count": null,
   "id": "a81c7fd8-4bba-4f5a-96a7-46815726ee35",
   "metadata": {},
   "outputs": [],
   "source": []
  },
  {
   "cell_type": "code",
   "execution_count": null,
   "id": "0b3ab3fd-a959-487f-b00b-11cfb8fe6459",
   "metadata": {},
   "outputs": [],
   "source": []
  },
  {
   "cell_type": "code",
   "execution_count": null,
   "id": "1c241cda-00b2-43c4-b45d-ee51be881094",
   "metadata": {},
   "outputs": [],
   "source": []
  },
  {
   "cell_type": "code",
   "execution_count": 3,
   "id": "a6a2128d-a3d0-432e-b927-1594f517587a",
   "metadata": {},
   "outputs": [
    {
     "name": "stdout",
     "output_type": "stream",
     "text": [
      "Stored 'output_dir' (str)\n"
     ]
    }
   ],
   "source": [
    "# # Define the name of the output directory\n",
    "# output_dir = \"output-svm\"\n",
    "\n",
    "# # Check if the output directory already exists\n",
    "# if not os.path.exists(output_dir):\n",
    "#     # Create the output directory\n",
    "#     os.mkdir(output_dir)\n",
    "\n",
    "#     # Create the balance, accuracy, loss, and cm directories inside the output directory\n",
    "#     os.mkdir(os.path.join(output_dir, \"balance\"))\n",
    "#     os.mkdir(os.path.join(output_dir, \"accuracy\"))\n",
    "#     os.mkdir(os.path.join(output_dir, \"loss\"))\n",
    "#     os.mkdir(os.path.join(output_dir, \"cm\"))\n",
    "#     os.mkdir(os.path.join(output_dir, \"architecture\"))\n",
    "#     os.mkdir(os.path.join(output_dir, \"pickles\"))\n",
    "# else:\n",
    "#     print(f\"The directory {output_dir} already exists.\")\n",
    "\n",
    "# create output directory\n",
    "output_dir = str(experiment_ID)+'_output'\n",
    "if not os.path.exists(output_dir):\n",
    "    os.mkdir(output_dir)\n",
    "    os.mkdir(os.path.join(output_dir, \"balance\"))\n",
    "    os.mkdir(os.path.join(output_dir, \"accuracy\"))\n",
    "    os.mkdir(os.path.join(output_dir, \"loss\"))\n",
    "    os.mkdir(os.path.join(output_dir, \"cm\"))\n",
    "    os.mkdir(os.path.join(output_dir, \"architecture\"))\n",
    "    os.mkdir(os.path.join(output_dir, \"pickles\"))\n",
    "    \n",
    "%store output_dir"
   ]
  },
  {
   "cell_type": "markdown",
   "id": "d6e733e1-791e-4af0-afd1-ff44601785aa",
   "metadata": {},
   "source": [
    "### Loading Calcium Videos"
   ]
  },
  {
   "cell_type": "code",
   "execution_count": 4,
   "id": "39ddd03f-cde9-4f87-880a-a6642734fb34",
   "metadata": {},
   "outputs": [
    {
     "name": "stdout",
     "output_type": "stream",
     "text": [
      "20211025_184906_animal3learnday8.nwb recording_20211025_184906-PP-BP-MC\n",
      "20211025_184906_animal3learnday8.nwb is cropped\n",
      "(24479, 356, 398)\n",
      "20211026_142935_animal3learnday9.nwb recording_20211026_142935-PP-BP-MC\n",
      "20211026_142935_animal3learnday9.nwb is cropped\n",
      "(24434, 356, 398)\n",
      "20211027_165052_animal3learnday10.nwb recording_20211027_165052-PP-BP_001-MC\n",
      "20211027_165052_animal3learnday10.nwb is cropped\n",
      "(24456, 356, 398)\n",
      "Concatenated video shape: (73369, 356, 398)\n"
     ]
    }
   ],
   "source": [
    "video_name_list = []\n",
    "video_data_list = []\n",
    "\n",
    "if multiple_videos == True:\n",
    "    # paths to videos\n",
    "    video_paths = [\"/home/dmc/Desktop/kostas/direct-Behavior-prediction-from-miniscope-calcium-imaging-using-convolutional-neural-networks/data/20211025_184906_animal3learnday8.nwb\", \n",
    "                   \"/home/dmc/Desktop/kostas/direct-Behavior-prediction-from-miniscope-calcium-imaging-using-convolutional-neural-networks/data/20211026_142935_animal3learnday9.nwb\", \n",
    "                   \"/home/dmc/Desktop/kostas/direct-Behavior-prediction-from-miniscope-calcium-imaging-using-convolutional-neural-networks/data/20211027_165052_animal3learnday10.nwb\"]\n",
    "    # load the CSV file with the FOV information\n",
    "    fov_info = pd.read_csv('/home/dmc/Desktop/kostas/direct-Behavior-prediction-from-miniscope-calcium-imaging-using-convolutional-neural-networks/src/V3/aligned_videos_animal3.csv')\n",
    "    images = load_video_data(video_paths, fov_info, video_name_list, video_data_list)\n",
    "\n",
    "else:\n",
    "    # change the path if you're using another video other than animal3learnday11\n",
    "    # video_path = [\"/home/dmc/Desktop/kostas/direct-Behavior-prediction-from-miniscope-calcium-imaging-using-convolutional-neural-networks/data/20211028_174510_animal2learnday11.nwb\"]    \n",
    "    video_path = [\"/home/dmc/Desktop/kostas/direct-Behavior-prediction-from-miniscope-calcium-imaging-using-convolutional-neural-networks/data/20211028_181307_animal3learnday11.nwb\"]\n",
    "    images = load_one_video(video_path, video_name_list, video_data_list)\n"
   ]
  },
  {
   "cell_type": "code",
   "execution_count": 5,
   "id": "cd95cc1c-fff1-4419-b8ba-9e6d372e5510",
   "metadata": {},
   "outputs": [
    {
     "data": {
      "text/plain": [
       "(356, 398)"
      ]
     },
     "execution_count": 5,
     "metadata": {},
     "output_type": "execute_result"
    }
   ],
   "source": [
    "images[0].shape"
   ]
  },
  {
   "cell_type": "code",
   "execution_count": 6,
   "id": "5b1e9b43-7ff5-4340-b999-560fee2b2660",
   "metadata": {},
   "outputs": [
    {
     "data": {
      "text/plain": [
       "array([[[175, 172, 164, ..., 157, 163, 172],\n",
       "        [167, 167, 168, ..., 164, 158, 166],\n",
       "        [171, 170, 167, ..., 161, 155, 160],\n",
       "        ...,\n",
       "        [172, 156, 151, ..., 171, 166, 167],\n",
       "        [163, 162, 157, ..., 167, 163, 170],\n",
       "        [146, 162, 160, ..., 161, 161, 160]]], dtype=int16)"
      ]
     },
     "execution_count": 6,
     "metadata": {},
     "output_type": "execute_result"
    }
   ],
   "source": [
    "# Check if the video has been loaded correctly\n",
    "images[:1]"
   ]
  },
  {
   "cell_type": "code",
   "execution_count": 7,
   "id": "50c4ccdd-446e-47be-9fa0-01211ae37060",
   "metadata": {},
   "outputs": [
    {
     "name": "stdout",
     "output_type": "stream",
     "text": [
      "The number of video frames is  73369  and the frame dimensions (height x width) are:  356 X 398\n"
     ]
    }
   ],
   "source": [
    "# Determine the size of the calcium video dataset\n",
    "num_of_frames = images.shape[0]\n",
    "img_height = images.shape[1]\n",
    "img_width = images.shape[2]\n",
    "print(\"The number of video frames is \", num_of_frames, \" and the frame dimensions (height x width) are: \", img_height, \"X\", img_width)"
   ]
  },
  {
   "cell_type": "markdown",
   "id": "a68ca7d6-1325-42c2-904e-bd84a8db77d7",
   "metadata": {},
   "source": [
    "### Loading Calcium Traces"
   ]
  },
  {
   "cell_type": "code",
   "execution_count": 8,
   "id": "abae8f36-670e-4e1b-9c77-35de535e71f2",
   "metadata": {},
   "outputs": [],
   "source": [
    "path = \"/home/dmc/Desktop/kostas/direct-Behavior-prediction-from-miniscope-calcium-imaging-using-convolutional-neural-networks/animal3.h5\""
   ]
  },
  {
   "cell_type": "code",
   "execution_count": 9,
   "id": "613fb769-c0f6-4fe5-b75f-260c903f6057",
   "metadata": {},
   "outputs": [],
   "source": [
    "# manually change from which videos you want to extract calcium traces\n",
    "list_of_traces = []\n",
    "\n",
    "if multiple_videos == True:\n",
    "    with (h5py.File(path, 'r')) as f:\n",
    "        traces_8 = np.array(f['traces/animal3learnday8/deconvolved'])\n",
    "        list_of_traces.append(traces_8)\n",
    "        traces_9 = np.array(f['traces/animal3learnday9/deconvolved'])\n",
    "        list_of_traces.append(traces_9)\n",
    "        traces_10 = np.array(f['traces/animal3learnday10/deconvolved'])\n",
    "        list_of_traces.append(traces_10)\n",
    "else:\n",
    "    with (h5py.File(path, 'r')) as f:\n",
    "        traces = np.array(f['traces/animal3learnday11/deconvolved'])\n",
    "        # list_of_traces.append(traces_11)"
   ]
  },
  {
   "cell_type": "code",
   "execution_count": 10,
   "id": "429125db-4e5a-400c-a8e9-bf57afd9d92f",
   "metadata": {},
   "outputs": [
    {
     "name": "stdout",
     "output_type": "stream",
     "text": [
      "Concatenated traces shape: (110, 73369)\n"
     ]
    }
   ],
   "source": [
    "traces = np.concatenate(list_of_traces, axis=1)\n",
    "print(\"Concatenated traces shape:\", traces.shape)"
   ]
  },
  {
   "cell_type": "code",
   "execution_count": 11,
   "id": "6a06f382-b0d6-444a-8e9f-7c102e870e82",
   "metadata": {},
   "outputs": [
    {
     "data": {
      "text/plain": [
       "array([[1049.434 , 1057.2839, 1015.9747, ...,    0.    ,    0.    ,\n",
       "           0.    ],\n",
       "       [   0.    ,    0.    ,    0.    , ...,    0.    ,    0.    ,\n",
       "           0.    ],\n",
       "       [   0.    ,    0.    ,    0.    , ...,    0.    ,    0.    ,\n",
       "           0.    ],\n",
       "       ...,\n",
       "       [   0.    ,    0.    ,    0.    , ...,    0.    ,    0.    ,\n",
       "           0.    ],\n",
       "       [   0.    ,    0.    ,    0.    , ...,    0.    ,    0.    ,\n",
       "           0.    ],\n",
       "       [   0.    ,    0.    ,    0.    , ...,    0.    ,    0.    ,\n",
       "           0.    ]], dtype=float32)"
      ]
     },
     "execution_count": 11,
     "metadata": {},
     "output_type": "execute_result"
    }
   ],
   "source": [
    "traces"
   ]
  },
  {
   "cell_type": "markdown",
   "id": "4b73c16b-d406-42b2-9562-0af439cc1763",
   "metadata": {},
   "source": [
    "### Load Labels"
   ]
  },
  {
   "cell_type": "code",
   "execution_count": 12,
   "id": "d239e204-c2b8-4f96-b26e-d858b15d41f4",
   "metadata": {},
   "outputs": [],
   "source": [
    "if multiple_videos == True:\n",
    "    num_of_videos = 3\n",
    "else:\n",
    "    num_of_videos = 1"
   ]
  },
  {
   "cell_type": "code",
   "execution_count": 13,
   "id": "46e90f2e-edea-4104-9cd5-e1892838fb3a",
   "metadata": {},
   "outputs": [],
   "source": [
    "if multiple_videos == True:\n",
    "    bonsai_paths = [\"/home/dmc/Desktop/kostas/direct-Behavior-prediction-from-miniscope-calcium-imaging-using-convolutional-neural-networks/data/tmaze_2021-10-25T18_48_49.csv\", \n",
    "                   \"/home/dmc/Desktop/kostas/direct-Behavior-prediction-from-miniscope-calcium-imaging-using-convolutional-neural-networks/data/tmaze_2021-10-26T14_29_27.csv\", \n",
    "                   \"/home/dmc/Desktop/kostas/direct-Behavior-prediction-from-miniscope-calcium-imaging-using-convolutional-neural-networks/data/tmaze_2021-10-27T16_50_53.csv\"]\n",
    "else:\n",
    "    bonsai_paths = [\"/home/dmc/Desktop/kostas/direct-Behavior-prediction-from-miniscope-calcium-imaging-using-convolutional-neural-networks/data/tmaze_2021-10-28T18_13_23.csv\"]\n",
    "\n",
    "    \n",
    "    \n",
    "    \n",
    "if multiple_videos == True:\n",
    "\n",
    "    if labels_type == 'old':\n",
    "\n",
    "\n",
    "        behavior_paths = [\"/home/dmc/Desktop/kostas/direct-Behavior-prediction-from-miniscope-calcium-imaging-using-convolutional-neural-networks/data/20211025_184906_animal3learnday8.h5\", \n",
    "                       \"/home/dmc/Desktop/kostas/direct-Behavior-prediction-from-miniscope-calcium-imaging-using-convolutional-neural-networks/data/20211026_142935_animal3learnday9.h5\", \n",
    "                       \"/home/dmc/Desktop/kostas/direct-Behavior-prediction-from-miniscope-calcium-imaging-using-convolutional-neural-networks/data/20211027_165052_animal3learnday10.h5\"]\n",
    "\n",
    "        df_new_annotations, df_new_annotations_check = align_files_old_labels(bonsai_paths, behavior_paths, num_of_videos)\n",
    "    else:\n",
    "        h5_path = \"/home/dmc/Desktop/kostas/direct-Behavior-prediction-from-miniscope-calcium-imaging-using-convolutional-neural-networks/data/behavior_segmentation_arrowmaze.h5\"\n",
    "        df_new_annotations, df_new_annotations_check = align_files_new_labels(bonsai_paths, num_of_videos, h5_path)\n",
    "\n",
    "        \n",
    "else:\n",
    "    if labels_type == 'old':\n",
    "        behavior_paths = \"/home/dmc/Desktop/kostas/direct-Behavior-prediction-from-miniscope-calcium-imaging-using-convolutional-neural-networks/data/20211028_181307_animal3learnday11.h5\"\n",
    "        df_new_annotations, df_new_annotations_check = align_files_old_labels(bonsai_paths, behavior_paths, num_of_videos)\n",
    "\n",
    "\n",
    "    else:\n",
    "        h5_path = \"/home/dmc/Desktop/kostas/direct-Behavior-prediction-from-miniscope-calcium-imaging-using-convolutional-neural-networks/data/behavior_segmentation_arrowmaze.h5\"\n",
    "        df_new_annotations, df_new_annotations_check = align_files_new_labels(bonsai_paths, num_of_videos, h5_path)\n"
   ]
  },
  {
   "cell_type": "code",
   "execution_count": 14,
   "id": "9ef1921d-c4df-4ee4-ad95-67d07ef3cc95",
   "metadata": {},
   "outputs": [],
   "source": [
    "# behavior_paths = [\"/home/dmc/Desktop/kostas/direct-Behavior-prediction-from-miniscope-calcium-imaging-using-convolutional-neural-networks/data/20211025_184906_animal3learnday8.h5\", \n",
    "#                \"/home/dmc/Desktop/kostas/direct-Behavior-prediction-from-miniscope-calcium-imaging-using-convolutional-neural-networks/data/20211026_142935_animal3learnday9.h5\", \n",
    "#                \"/home/dmc/Desktop/kostas/direct-Behavior-prediction-from-miniscope-calcium-imaging-using-convolutional-neural-networks/data/20211027_165052_animal3learnday10.h5\"]"
   ]
  },
  {
   "cell_type": "code",
   "execution_count": 15,
   "id": "357ac05b-b947-4014-893e-8728ffd80ce0",
   "metadata": {},
   "outputs": [],
   "source": [
    "reordered_annotations = df_new_annotations_check.drop_duplicates()\n",
    "reordered_annotations = reordered_annotations.sort_values('state_id')\n",
    "reordered_annotations = reordered_annotations.reset_index(drop=True)"
   ]
  },
  {
   "cell_type": "code",
   "execution_count": 16,
   "id": "05dc1891-167e-42d3-b7c4-a9ad9d014845",
   "metadata": {},
   "outputs": [],
   "source": [
    "reordered_annotations.at[1, 'state_name'] = 'frozen'\n",
    "reordered_annotations.at[2, 'state_name'] = 'not moving'\n",
    "reordered_annotations.at[4, 'state_name'] = 'right turn'\n",
    "reordered_annotations.at[5, 'state_name'] = 'left turn'"
   ]
  },
  {
   "cell_type": "code",
   "execution_count": 17,
   "id": "0478285c-1f1a-4464-819d-592820277e19",
   "metadata": {},
   "outputs": [
    {
     "data": {
      "text/html": [
       "<div>\n",
       "<style scoped>\n",
       "    .dataframe tbody tr th:only-of-type {\n",
       "        vertical-align: middle;\n",
       "    }\n",
       "\n",
       "    .dataframe tbody tr th {\n",
       "        vertical-align: top;\n",
       "    }\n",
       "\n",
       "    .dataframe thead th {\n",
       "        text-align: right;\n",
       "    }\n",
       "</style>\n",
       "<table border=\"1\" class=\"dataframe\">\n",
       "  <thead>\n",
       "    <tr style=\"text-align: right;\">\n",
       "      <th></th>\n",
       "      <th>state_id</th>\n",
       "      <th>state_name</th>\n",
       "    </tr>\n",
       "  </thead>\n",
       "  <tbody>\n",
       "    <tr>\n",
       "      <th>0</th>\n",
       "      <td>0</td>\n",
       "      <td>grooming</td>\n",
       "    </tr>\n",
       "    <tr>\n",
       "      <th>1</th>\n",
       "      <td>1</td>\n",
       "      <td>frozen</td>\n",
       "    </tr>\n",
       "    <tr>\n",
       "      <th>2</th>\n",
       "      <td>2</td>\n",
       "      <td>not moving</td>\n",
       "    </tr>\n",
       "    <tr>\n",
       "      <th>3</th>\n",
       "      <td>3</td>\n",
       "      <td>moving</td>\n",
       "    </tr>\n",
       "    <tr>\n",
       "      <th>4</th>\n",
       "      <td>4</td>\n",
       "      <td>right turn</td>\n",
       "    </tr>\n",
       "    <tr>\n",
       "      <th>5</th>\n",
       "      <td>5</td>\n",
       "      <td>left turn</td>\n",
       "    </tr>\n",
       "  </tbody>\n",
       "</table>\n",
       "</div>"
      ],
      "text/plain": [
       "  state_id  state_name\n",
       "0        0    grooming\n",
       "1        1      frozen\n",
       "2        2  not moving\n",
       "3        3      moving\n",
       "4        4  right turn\n",
       "5        5   left turn"
      ]
     },
     "execution_count": 17,
     "metadata": {},
     "output_type": "execute_result"
    }
   ],
   "source": [
    "reordered_annotations"
   ]
  },
  {
   "cell_type": "code",
   "execution_count": 18,
   "id": "6cce5a61-6199-48c2-8156-65dc3fdf879d",
   "metadata": {},
   "outputs": [],
   "source": [
    "label_names = reordered_annotations['state_name']"
   ]
  },
  {
   "cell_type": "code",
   "execution_count": 19,
   "id": "3d522b9e-7f66-4771-bd71-e4e8687a5f12",
   "metadata": {},
   "outputs": [
    {
     "data": {
      "text/plain": [
       "0      grooming\n",
       "1        frozen\n",
       "2    not moving\n",
       "3        moving\n",
       "4    right turn\n",
       "5     left turn\n",
       "Name: state_name, dtype: object"
      ]
     },
     "execution_count": 19,
     "metadata": {},
     "output_type": "execute_result"
    }
   ],
   "source": [
    "label_names"
   ]
  },
  {
   "cell_type": "code",
   "execution_count": 20,
   "id": "05c11408-a485-474c-af2d-8f15f06d337f",
   "metadata": {},
   "outputs": [
    {
     "data": {
      "text/html": [
       "<div>\n",
       "<style scoped>\n",
       "    .dataframe tbody tr th:only-of-type {\n",
       "        vertical-align: middle;\n",
       "    }\n",
       "\n",
       "    .dataframe tbody tr th {\n",
       "        vertical-align: top;\n",
       "    }\n",
       "\n",
       "    .dataframe thead th {\n",
       "        text-align: right;\n",
       "    }\n",
       "</style>\n",
       "<table border=\"1\" class=\"dataframe\">\n",
       "  <thead>\n",
       "    <tr style=\"text-align: right;\">\n",
       "      <th></th>\n",
       "      <th>state_id</th>\n",
       "      <th>state_name</th>\n",
       "    </tr>\n",
       "  </thead>\n",
       "  <tbody>\n",
       "    <tr>\n",
       "      <th>0</th>\n",
       "      <td>3</td>\n",
       "      <td>moving</td>\n",
       "    </tr>\n",
       "    <tr>\n",
       "      <th>1</th>\n",
       "      <td>3</td>\n",
       "      <td>moving</td>\n",
       "    </tr>\n",
       "    <tr>\n",
       "      <th>2</th>\n",
       "      <td>3</td>\n",
       "      <td>moving</td>\n",
       "    </tr>\n",
       "    <tr>\n",
       "      <th>3</th>\n",
       "      <td>3</td>\n",
       "      <td>moving</td>\n",
       "    </tr>\n",
       "    <tr>\n",
       "      <th>4</th>\n",
       "      <td>3</td>\n",
       "      <td>moving</td>\n",
       "    </tr>\n",
       "    <tr>\n",
       "      <th>...</th>\n",
       "      <td>...</td>\n",
       "      <td>...</td>\n",
       "    </tr>\n",
       "    <tr>\n",
       "      <th>24451</th>\n",
       "      <td>0</td>\n",
       "      <td>grooming</td>\n",
       "    </tr>\n",
       "    <tr>\n",
       "      <th>24452</th>\n",
       "      <td>0</td>\n",
       "      <td>grooming</td>\n",
       "    </tr>\n",
       "    <tr>\n",
       "      <th>24453</th>\n",
       "      <td>1</td>\n",
       "      <td>immobile</td>\n",
       "    </tr>\n",
       "    <tr>\n",
       "      <th>24454</th>\n",
       "      <td>1</td>\n",
       "      <td>immobile</td>\n",
       "    </tr>\n",
       "    <tr>\n",
       "      <th>24455</th>\n",
       "      <td>1</td>\n",
       "      <td>immobile</td>\n",
       "    </tr>\n",
       "  </tbody>\n",
       "</table>\n",
       "<p>73369 rows × 2 columns</p>\n",
       "</div>"
      ],
      "text/plain": [
       "      state_id state_name\n",
       "0            3     moving\n",
       "1            3     moving\n",
       "2            3     moving\n",
       "3            3     moving\n",
       "4            3     moving\n",
       "...        ...        ...\n",
       "24451        0   grooming\n",
       "24452        0   grooming\n",
       "24453        1   immobile\n",
       "24454        1   immobile\n",
       "24455        1   immobile\n",
       "\n",
       "[73369 rows x 2 columns]"
      ]
     },
     "execution_count": 20,
     "metadata": {},
     "output_type": "execute_result"
    }
   ],
   "source": [
    "df_new_annotations_check"
   ]
  },
  {
   "cell_type": "code",
   "execution_count": 21,
   "id": "1b2d72b3-de60-4583-99c6-1cb14b2a2426",
   "metadata": {},
   "outputs": [
    {
     "data": {
      "text/plain": [
       "0        3\n",
       "1        3\n",
       "2        3\n",
       "3        3\n",
       "4        3\n",
       "        ..\n",
       "24451    0\n",
       "24452    0\n",
       "24453    1\n",
       "24454    1\n",
       "24455    1\n",
       "Name: state_id, Length: 73369, dtype: object"
      ]
     },
     "execution_count": 21,
     "metadata": {},
     "output_type": "execute_result"
    }
   ],
   "source": [
    "df_new_annotations"
   ]
  },
  {
   "cell_type": "code",
   "execution_count": 22,
   "id": "45825c79-8900-461c-9eec-bc295672a6c8",
   "metadata": {},
   "outputs": [],
   "source": [
    "# df_new_annotations = align_files(bonsai_paths, behavior_paths, num_of_videos)\n",
    "# df_new_annotations = align_files(bonsai_paths, num_of_videos, h5_path)"
   ]
  },
  {
   "cell_type": "code",
   "execution_count": 23,
   "id": "c0443350-f884-4dae-be3a-12b1e2a64b95",
   "metadata": {},
   "outputs": [],
   "source": [
    "# df_new_annotations = df_new_annotations.loc[:, 'state_id']    "
   ]
  },
  {
   "cell_type": "code",
   "execution_count": 24,
   "id": "94885c3c-ee8d-41b0-9dec-0eb248fbc6d7",
   "metadata": {},
   "outputs": [],
   "source": [
    "df_new_annotations = df_new_annotations.reset_index(drop=True)\n",
    "# df_new_annotations = df_new_annotations.reset_index()"
   ]
  },
  {
   "cell_type": "code",
   "execution_count": 25,
   "id": "033bd712-cc6c-45b7-b63d-6d9c32964835",
   "metadata": {},
   "outputs": [
    {
     "data": {
      "text/plain": [
       "0        3\n",
       "1        3\n",
       "2        3\n",
       "3        3\n",
       "4        3\n",
       "        ..\n",
       "73364    0\n",
       "73365    0\n",
       "73366    1\n",
       "73367    1\n",
       "73368    1\n",
       "Name: state_id, Length: 73369, dtype: object"
      ]
     },
     "execution_count": 25,
     "metadata": {},
     "output_type": "execute_result"
    }
   ],
   "source": [
    "df_new_annotations"
   ]
  },
  {
   "cell_type": "code",
   "execution_count": 26,
   "id": "47d081ab-4632-452a-a2a2-9a62b5fe461c",
   "metadata": {},
   "outputs": [],
   "source": [
    "df_new_annotations_unique = df_new_annotations.unique()"
   ]
  },
  {
   "cell_type": "code",
   "execution_count": 27,
   "id": "6da76f8c-81b1-4a41-8447-1acb379f86f1",
   "metadata": {},
   "outputs": [
    {
     "data": {
      "text/plain": [
       "array([3, 4, 1, 0, 2, 5], dtype=object)"
      ]
     },
     "execution_count": 27,
     "metadata": {},
     "output_type": "execute_result"
    }
   ],
   "source": [
    "df_new_annotations_unique"
   ]
  },
  {
   "cell_type": "code",
   "execution_count": 28,
   "id": "59856475-99e9-4449-a097-d70cfff14791",
   "metadata": {},
   "outputs": [],
   "source": [
    "no_of_labels = len(df_new_annotations_unique)"
   ]
  },
  {
   "cell_type": "code",
   "execution_count": 29,
   "id": "0f2eb829-a975-4962-9776-1538a3f4e17a",
   "metadata": {},
   "outputs": [],
   "source": [
    "save_dir = \"/home/dmc/Desktop/kostas/direct-Behavior-prediction-from-miniscope-calcium-imaging-using-convolutional-neural-networks/src/\"+str(output_dir)+\"/balance\""
   ]
  },
  {
   "cell_type": "code",
   "execution_count": 30,
   "id": "e08e99a3-3500-40e5-a37b-59c2c05cd4e5",
   "metadata": {},
   "outputs": [
    {
     "data": {
      "text/plain": [
       "'Animal3learnday8, Animal3Learnday9, Animal3Learnday10'"
      ]
     },
     "execution_count": 30,
     "metadata": {},
     "output_type": "execute_result"
    }
   ],
   "source": [
    "data_file"
   ]
  },
  {
   "cell_type": "code",
   "execution_count": 31,
   "id": "e079938b-5164-4a89-b4f8-65959ace2f9a",
   "metadata": {},
   "outputs": [
    {
     "data": {
      "image/png": "[encoded data removed]",
      "text/plain": [
       "<Figure size 800x600 with 1 Axes>"
      ]
     },
     "metadata": {},
     "output_type": "display_data"
    }
   ],
   "source": [
    "if labels_type == 'old':\n",
    "    class_counts, total_counts = check_class_imbalance_old(df_new_annotations, experiment_ID, save_dir)\n",
    "else:\n",
    "    class_counts, total_counts = check_class_imbalance_new(df_new_annotations, experiment_ID, save_dir, df_new_annotations_unique, df_new_annotations_check, no_of_labels, data_file, label_names)"
   ]
  },
  {
   "cell_type": "code",
   "execution_count": null,
   "id": "3881cf3c-4151-4926-a2e9-94a79b24e16a",
   "metadata": {},
   "outputs": [],
   "source": []
  },
  {
   "cell_type": "code",
   "execution_count": 32,
   "id": "dc77badc-fabe-4813-bddc-bf7f5d87b3a9",
   "metadata": {},
   "outputs": [],
   "source": [
    "labels = df_new_annotations.values"
   ]
  },
  {
   "cell_type": "code",
   "execution_count": 33,
   "id": "cb5ff455-c7f0-478e-9406-50ce5607d247",
   "metadata": {},
   "outputs": [
    {
     "data": {
      "text/plain": [
       "array([3, 3, 3, ..., 1, 1, 1], dtype=object)"
      ]
     },
     "execution_count": 33,
     "metadata": {},
     "output_type": "execute_result"
    }
   ],
   "source": [
    "labels"
   ]
  },
  {
   "cell_type": "code",
   "execution_count": 34,
   "id": "fb9a3c6c-4db9-442a-8978-dd445bf75a2f",
   "metadata": {},
   "outputs": [
    {
     "data": {
      "text/plain": [
       "(73369,)"
      ]
     },
     "execution_count": 34,
     "metadata": {},
     "output_type": "execute_result"
    }
   ],
   "source": [
    "labels.shape"
   ]
  },
  {
   "cell_type": "code",
   "execution_count": 35,
   "id": "f56c62ad-092e-403f-8718-34b15a417c1c",
   "metadata": {},
   "outputs": [
    {
     "data": {
      "text/plain": [
       "numpy.ndarray"
      ]
     },
     "execution_count": 35,
     "metadata": {},
     "output_type": "execute_result"
    }
   ],
   "source": [
    "type(labels)"
   ]
  },
  {
   "cell_type": "code",
   "execution_count": 36,
   "id": "d036c1f8-7274-486b-abac-00f8f597fa78",
   "metadata": {},
   "outputs": [],
   "source": [
    "# data verification\n",
    "# plt.plot(traces[50])"
   ]
  },
  {
   "cell_type": "code",
   "execution_count": 37,
   "id": "e4eca329-2151-4d12-bc06-31d5e7d3f966",
   "metadata": {},
   "outputs": [
    {
     "data": {
      "text/plain": [
       "numpy.ndarray"
      ]
     },
     "execution_count": 37,
     "metadata": {},
     "output_type": "execute_result"
    }
   ],
   "source": [
    "type(traces[50])"
   ]
  },
  {
   "cell_type": "code",
   "execution_count": 38,
   "id": "cd23803f-2119-4474-8c05-ba7c51a451db",
   "metadata": {},
   "outputs": [
    {
     "data": {
      "text/plain": [
       "(110, 73369)"
      ]
     },
     "execution_count": 38,
     "metadata": {},
     "output_type": "execute_result"
    }
   ],
   "source": [
    "traces.shape"
   ]
  },
  {
   "cell_type": "code",
   "execution_count": 39,
   "id": "67f6f9c8-8156-43c1-978d-952adbb9e75e",
   "metadata": {},
   "outputs": [],
   "source": [
    "num_classes = len(df_new_annotations_unique)"
   ]
  },
  {
   "cell_type": "code",
   "execution_count": 40,
   "id": "0fa1fb2b-1cb3-44af-9919-057339eccc25",
   "metadata": {},
   "outputs": [
    {
     "data": {
      "text/plain": [
       "6"
      ]
     },
     "execution_count": 40,
     "metadata": {},
     "output_type": "execute_result"
    }
   ],
   "source": [
    "num_classes"
   ]
  },
  {
   "cell_type": "code",
   "execution_count": 41,
   "id": "9be68997-da53-4be2-9543-e3bc261586c9",
   "metadata": {},
   "outputs": [],
   "source": [
    "# traces, labels, num_classes = model_preprocessing(traces, labels, df_new_annotations_unique)"
   ]
  },
  {
   "cell_type": "code",
   "execution_count": 42,
   "id": "072f18e3-3aed-4ba1-9911-c29f2f9de201",
   "metadata": {},
   "outputs": [],
   "source": [
    "# labels"
   ]
  },
  {
   "cell_type": "code",
   "execution_count": 43,
   "id": "778dcb2f-e11e-4b66-94a0-6f8e373413b4",
   "metadata": {},
   "outputs": [],
   "source": [
    "labels = labels.astype(np.int32)"
   ]
  },
  {
   "cell_type": "markdown",
   "id": "cccac99a-ce7c-48cc-8d65-fbcfb19b62d4",
   "metadata": {},
   "source": [
    "## Perform k-fold cross validation for the SVM"
   ]
  },
  {
   "cell_type": "code",
   "execution_count": 44,
   "id": "b9d3da1a-5c73-4840-b7eb-55b08ecd5bfa",
   "metadata": {},
   "outputs": [],
   "source": [
    "mySVC = sklearn.svm.LinearSVC()"
   ]
  },
  {
   "cell_type": "markdown",
   "id": "1b465318-62f3-43bc-8391-3530ed63856a",
   "metadata": {},
   "source": [
    "### Run the SVM for the regular and shuffled labels with K-Fold CV"
   ]
  },
  {
   "cell_type": "code",
   "execution_count": 45,
   "id": "4df51b24-b338-4f12-bd0f-afdabe3c25cb",
   "metadata": {},
   "outputs": [],
   "source": [
    "# def add_time_to_model(train_data, n_steps):\n",
    "    \n",
    "#     new_train_data = []\n",
    "    \n",
    "#     for i in range(n_steps):\n",
    "#         new_train_data.append(np.roll(train_data, i - n_steps//2, axis=0))\n",
    "\n",
    "        \n",
    "#     new_train_data = np.hstack(new_train_data)\n",
    "\n",
    "#     return new_train_data"
   ]
  },
  {
   "cell_type": "code",
   "execution_count": 46,
   "id": "2488338b-fbb0-43ee-93f7-9334e867691d",
   "metadata": {},
   "outputs": [],
   "source": [
    "# new_train_data = add_time_to_model(traces.T, n_steps=5)"
   ]
  },
  {
   "cell_type": "code",
   "execution_count": 47,
   "id": "f11c9de7-c19e-4b25-8e8e-b2756ad6ad17",
   "metadata": {},
   "outputs": [
    {
     "name": "stderr",
     "output_type": "stream",
     "text": [
      "/home/dmc/anaconda3/envs/new_kostas_env/lib/python3.10/site-packages/sklearn/svm/_base.py:1244: ConvergenceWarning: Liblinear failed to converge, increase the number of iterations.\n",
      "  warnings.warn(\n",
      "/home/dmc/anaconda3/envs/new_kostas_env/lib/python3.10/site-packages/sklearn/svm/_base.py:1244: ConvergenceWarning: Liblinear failed to converge, increase the number of iterations.\n",
      "  warnings.warn(\n",
      "/home/dmc/anaconda3/envs/new_kostas_env/lib/python3.10/site-packages/sklearn/svm/_base.py:1244: ConvergenceWarning: Liblinear failed to converge, increase the number of iterations.\n",
      "  warnings.warn(\n",
      "/home/dmc/anaconda3/envs/new_kostas_env/lib/python3.10/site-packages/sklearn/svm/_base.py:1244: ConvergenceWarning: Liblinear failed to converge, increase the number of iterations.\n",
      "  warnings.warn(\n",
      "/home/dmc/anaconda3/envs/new_kostas_env/lib/python3.10/site-packages/sklearn/svm/_base.py:1244: ConvergenceWarning: Liblinear failed to converge, increase the number of iterations.\n",
      "  warnings.warn(\n",
      "/home/dmc/anaconda3/envs/new_kostas_env/lib/python3.10/site-packages/sklearn/svm/_base.py:1244: ConvergenceWarning: Liblinear failed to converge, increase the number of iterations.\n",
      "  warnings.warn(\n",
      "/home/dmc/anaconda3/envs/new_kostas_env/lib/python3.10/site-packages/sklearn/svm/_base.py:1244: ConvergenceWarning: Liblinear failed to converge, increase the number of iterations.\n",
      "  warnings.warn(\n",
      "/home/dmc/anaconda3/envs/new_kostas_env/lib/python3.10/site-packages/sklearn/svm/_base.py:1244: ConvergenceWarning: Liblinear failed to converge, increase the number of iterations.\n",
      "  warnings.warn(\n",
      "/home/dmc/anaconda3/envs/new_kostas_env/lib/python3.10/site-packages/sklearn/svm/_base.py:1244: ConvergenceWarning: Liblinear failed to converge, increase the number of iterations.\n",
      "  warnings.warn(\n",
      "/home/dmc/anaconda3/envs/new_kostas_env/lib/python3.10/site-packages/sklearn/svm/_base.py:1244: ConvergenceWarning: Liblinear failed to converge, increase the number of iterations.\n",
      "  warnings.warn(\n",
      "/home/dmc/anaconda3/envs/new_kostas_env/lib/python3.10/site-packages/sklearn/svm/_base.py:1244: ConvergenceWarning: Liblinear failed to converge, increase the number of iterations.\n",
      "  warnings.warn(\n",
      "/home/dmc/anaconda3/envs/new_kostas_env/lib/python3.10/site-packages/sklearn/svm/_base.py:1244: ConvergenceWarning: Liblinear failed to converge, increase the number of iterations.\n",
      "  warnings.warn(\n"
     ]
    },
    {
     "name": "stdout",
     "output_type": "stream",
     "text": [
      "F1 score is: 0.313\n"
     ]
    },
    {
     "name": "stderr",
     "output_type": "stream",
     "text": [
      "/home/dmc/anaconda3/envs/new_kostas_env/lib/python3.10/site-packages/sklearn/svm/_base.py:1244: ConvergenceWarning: Liblinear failed to converge, increase the number of iterations.\n",
      "  warnings.warn(\n"
     ]
    },
    {
     "name": "stdout",
     "output_type": "stream",
     "text": [
      "F1 score is: 0.216\n"
     ]
    },
    {
     "name": "stderr",
     "output_type": "stream",
     "text": [
      "/home/dmc/anaconda3/envs/new_kostas_env/lib/python3.10/site-packages/sklearn/svm/_base.py:1244: ConvergenceWarning: Liblinear failed to converge, increase the number of iterations.\n",
      "  warnings.warn(\n"
     ]
    },
    {
     "name": "stdout",
     "output_type": "stream",
     "text": [
      "F1 score is: 0.358\n"
     ]
    },
    {
     "name": "stderr",
     "output_type": "stream",
     "text": [
      "/home/dmc/anaconda3/envs/new_kostas_env/lib/python3.10/site-packages/sklearn/svm/_base.py:1244: ConvergenceWarning: Liblinear failed to converge, increase the number of iterations.\n",
      "  warnings.warn(\n"
     ]
    },
    {
     "name": "stdout",
     "output_type": "stream",
     "text": [
      "F1 score is: 0.327\n"
     ]
    },
    {
     "name": "stderr",
     "output_type": "stream",
     "text": [
      "/home/dmc/anaconda3/envs/new_kostas_env/lib/python3.10/site-packages/sklearn/svm/_base.py:1244: ConvergenceWarning: Liblinear failed to converge, increase the number of iterations.\n",
      "  warnings.warn(\n"
     ]
    },
    {
     "name": "stdout",
     "output_type": "stream",
     "text": [
      "F1 score is: 0.413\n"
     ]
    },
    {
     "name": "stderr",
     "output_type": "stream",
     "text": [
      "/home/dmc/anaconda3/envs/new_kostas_env/lib/python3.10/site-packages/sklearn/svm/_base.py:1244: ConvergenceWarning: Liblinear failed to converge, increase the number of iterations.\n",
      "  warnings.warn(\n"
     ]
    },
    {
     "name": "stdout",
     "output_type": "stream",
     "text": [
      "F1 score is: 0.295\n"
     ]
    },
    {
     "name": "stderr",
     "output_type": "stream",
     "text": [
      "/home/dmc/anaconda3/envs/new_kostas_env/lib/python3.10/site-packages/sklearn/svm/_base.py:1244: ConvergenceWarning: Liblinear failed to converge, increase the number of iterations.\n",
      "  warnings.warn(\n"
     ]
    },
    {
     "name": "stdout",
     "output_type": "stream",
     "text": [
      "F1 score is: 0.465\n"
     ]
    },
    {
     "name": "stderr",
     "output_type": "stream",
     "text": [
      "/home/dmc/anaconda3/envs/new_kostas_env/lib/python3.10/site-packages/sklearn/svm/_base.py:1244: ConvergenceWarning: Liblinear failed to converge, increase the number of iterations.\n",
      "  warnings.warn(\n"
     ]
    },
    {
     "name": "stdout",
     "output_type": "stream",
     "text": [
      "F1 score is: 0.327\n"
     ]
    },
    {
     "name": "stderr",
     "output_type": "stream",
     "text": [
      "/home/dmc/anaconda3/envs/new_kostas_env/lib/python3.10/site-packages/sklearn/svm/_base.py:1244: ConvergenceWarning: Liblinear failed to converge, increase the number of iterations.\n",
      "  warnings.warn(\n"
     ]
    },
    {
     "name": "stdout",
     "output_type": "stream",
     "text": [
      "F1 score is: 0.434\n",
      "F1 score is: 0.283\n"
     ]
    },
    {
     "name": "stderr",
     "output_type": "stream",
     "text": [
      "/home/dmc/anaconda3/envs/new_kostas_env/lib/python3.10/site-packages/sklearn/svm/_base.py:1244: ConvergenceWarning: Liblinear failed to converge, increase the number of iterations.\n",
      "  warnings.warn(\n"
     ]
    }
   ],
   "source": [
    "# Create and fit the classifier\n",
    "mySVC = LinearSVC()\n",
    "mySVC.fit(traces.T, labels)\n",
    "\n",
    "# Perform cross-validation\n",
    "n_splits = 5\n",
    "n_steps = 5\n",
    "kf = KFold(n_splits=n_splits)\n",
    "y_pred = cross_val_predict(mySVC, traces.T, labels, cv=kf)\n",
    "y_pred_prob = cross_val_predict(mySVC, traces.T, labels, cv=kf, method='decision_function')\n",
    "\n",
    "# Shuffle the labels\n",
    "shuffled_labels = np.roll(labels, 15000, axis=0)\n",
    "\n",
    "# Calculate accuracy and loss for each fold\n",
    "accuracies = []\n",
    "losses = []\n",
    "cm_avg = []\n",
    "shuffled_accuracies = []\n",
    "shuffled_losses = []\n",
    "shuffled_cm_avg = []\n",
    "f1_score_val_list = []\n",
    "f1_score_val_list_shuffle = []\n",
    "\n",
    "for train_index, test_index in kf.split(traces.T):\n",
    "    X_train, X_test = traces.T[train_index], traces.T[test_index]\n",
    "    y_train, y_test = labels[train_index], labels[test_index]\n",
    "    shuffled_y_train, shuffled_y_test = shuffled_labels[train_index], shuffled_labels[test_index]\n",
    "    \n",
    "    mySVC.fit(X_train, y_train)\n",
    "    y_pred_fold = mySVC.predict(X_test)\n",
    "    y_pred_prob_fold = mySVC.decision_function(X_test)\n",
    "    \n",
    "    accuracies.append(accuracy_score(y_test, y_pred_fold))\n",
    "    losses.append(log_loss(y_test, y_pred_prob_fold))\n",
    "    cm = confusion_matrix(y_test, y_pred_fold)\n",
    "    cm_avg.append(cm)\n",
    "    \n",
    "    # Find the f1 score\n",
    "    f1_score_val = f1_score(y_test, y_pred_fold, average='micro')\n",
    "    print(\"F1 score is: {:.3f}\".format(f1_score_val))\n",
    "    f1_score_val_list.append(f1_score_val)\n",
    "    \n",
    "    mySVC.fit(X_train, shuffled_y_train)\n",
    "    shuffled_y_pred_fold = mySVC.predict(X_test)\n",
    "    shuffled_y_pred_prob_fold = mySVC.decision_function(X_test)\n",
    "    \n",
    "    shuffled_accuracies.append(accuracy_score(y_test, shuffled_y_pred_fold))\n",
    "    shuffled_losses.append(log_loss(y_test, shuffled_y_pred_prob_fold))\n",
    "    shuffled_cm = confusion_matrix(y_test, shuffled_y_pred_fold)\n",
    "    shuffled_cm_avg.append(shuffled_cm)\n",
    "    \n",
    "    # Find the f1 score for shuffled labels\n",
    "    f1_score_val_shuffle = f1_score(y_test, shuffled_y_pred_fold, average='micro')\n",
    "    print(\"F1 score is: {:.3f}\".format(f1_score_val_shuffle))\n",
    "    f1_score_val_list_shuffle.append(f1_score_val_shuffle)"
   ]
  },
  {
   "cell_type": "code",
   "execution_count": 48,
   "id": "1d46eeaa-ea73-43f0-afc0-46510bc49e53",
   "metadata": {},
   "outputs": [
    {
     "name": "stdout",
     "output_type": "stream",
     "text": [
      "Normal Accuracy: [0.31320703284721274, 0.35838898732451957, 0.4125664440507019, 0.4654490936350007, 0.4337899543378995]\n",
      "Shuffled Accuracy: [0.21602834946163282, 0.3266321384762164, 0.29501158511653264, 0.3266321384762164, 0.2828324132760853]\n",
      "Normal Loss: [9.295465985359192, 9.467257150471092, 9.80806998352798, 9.196338682186864, 9.80584126133282]\n",
      "Shuffled Loss: [10.13209105593315, 11.319552843805488, 13.439907118355782, 11.660398029372175, 10.789774605860748]\n",
      "Normal F1_score 0.39668030243906693\n",
      "Shuffle F1_score 0.2894273249613367\n"
     ]
    }
   ],
   "source": [
    "mean_f1 = np.mean(f1_score_val_list)\n",
    "mean_f1_shuffle = np.mean(f1_score_val_list_shuffle)\n",
    "    \n",
    "# Print results\n",
    "print(\"Normal Accuracy:\", accuracies)\n",
    "print(\"Shuffled Accuracy:\", shuffled_accuracies)\n",
    "print(\"Normal Loss:\", losses)\n",
    "print(\"Shuffled Loss:\", shuffled_losses)\n",
    "print(\"Normal F1_score\", mean_f1)\n",
    "print(\"Shuffle F1_score\", mean_f1_shuffle)"
   ]
  },
  {
   "cell_type": "code",
   "execution_count": null,
   "id": "efe62d9d-fab5-415d-8ee1-6050bbfd58a4",
   "metadata": {},
   "outputs": [],
   "source": []
  },
  {
   "cell_type": "markdown",
   "id": "712d39ea-84cd-498a-b235-00892379aec2",
   "metadata": {},
   "source": [
    "### Plot Everything"
   ]
  },
  {
   "cell_type": "code",
   "execution_count": 64,
   "id": "e4ecd090-795d-4b25-a4ca-4ea3fdaa281b",
   "metadata": {},
   "outputs": [
    {
     "data": {
      "image/png": "[encoded data removed]",
      "text/plain": [
       "<Figure size 1200x1000 with 6 Axes>"
      ]
     },
     "metadata": {},
     "output_type": "display_data"
    }
   ],
   "source": [
    "# Plotting\n",
    "n_splits = 5\n",
    "\n",
    "plt.figure(figsize=(12, 10))\n",
    "\n",
    "# Accuracy and Shuffled Accuracy\n",
    "plt.subplot(2, 2, 1)\n",
    "sns.lineplot(x=np.arange(1, n_splits+1), y=accuracies, marker='o', label='Accuracy')\n",
    "sns.lineplot(x=np.arange(1, n_splits+1), y=shuffled_accuracies, marker='o', label='Chance Accuracy')\n",
    "plt.xlabel(\"Fold\", fontsize=12)\n",
    "plt.ylabel(\"Accuracy\", fontsize=12)\n",
    "plt.title(\"Accuracy per Fold (5-Fold CV) \")\n",
    "plt.legend()\n",
    "\n",
    "# Loss and Shuffled Loss\n",
    "plt.subplot(2, 2, 2)\n",
    "sns.lineplot(x=np.arange(1, n_splits+1), y=losses, marker='o', label='Loss')\n",
    "sns.lineplot(x=np.arange(1, n_splits+1), y=shuffled_losses, marker='o', label='Chance Loss')\n",
    "plt.xlabel(\"Fold\", fontsize=12)\n",
    "plt.ylabel(\"Loss\", fontsize=12)\n",
    "plt.title(\"Loss per Fold (5-Fold CV)\")\n",
    "plt.legend()\n",
    "\n",
    "# Average Confusion Matrix for Regular Labels\n",
    "plt.subplot(2, 2, 3)\n",
    "train_labels_names = ['moving', 'rightTurn', 'immobile', 'grooming', 'still', 'leftTurn']\n",
    "sns.heatmap(np.mean(cm_avg, axis=0), annot=False, cmap='Blues', fmt='g')\n",
    "plt.title('Average Confusion Matrix Per Fold (5-Fold CV)')\n",
    "plt.xlabel('Predicted Labels', fontsize=12)\n",
    "plt.xticks(np.arange(len(label_names)) + 0.5, label_names, ha='center', fontsize=8)\n",
    "plt.ylabel('True Labels', fontsize=12)\n",
    "plt.yticks(np.arange(len(label_names)) + 0.5, label_names, rotation=0, fontsize=8)\n",
    "\n",
    "# Average Confusion Matrix for Shuffled Labels\n",
    "plt.subplot(2, 2, 4)\n",
    "sns.heatmap(np.mean(shuffled_cm_avg, axis=0), annot=False, cmap='Blues', fmt='g')\n",
    "plt.title('Average Confusion Matrix (5-Fold CV - Shuffled Labels)')\n",
    "plt.xlabel('Predicted Labels', fontsize=12)\n",
    "plt.xticks(np.arange(len(label_names)) + 0.5, label_names, ha='center', fontsize=8)\n",
    "plt.ylabel('True Labels', fontsize=12)\n",
    "plt.yticks(np.arange(len(label_names)) + 0.5, label_names, rotation=0, fontsize=8)\n",
    "\n",
    "\n",
    "save_SVM_plots = \"/home/dmc/Desktop/kostas/direct-Behavior-prediction-from-miniscope-calcium-imaging-using-convolutional-neural-networks/src/4-BPSVM_output/\"\n",
    "plt.savefig(save_SVM_plots+\"/accuracy_loss_cm_regular_shuffled_labels.svg\", dpi=600, bbox_inches='tight')\n",
    "plt.tight_layout()\n",
    "plt.show()"
   ]
  },
  {
   "cell_type": "code",
   "execution_count": null,
   "id": "3778a95f-f7c6-44b0-b629-35f7b5e7facf",
   "metadata": {},
   "outputs": [],
   "source": []
  },
  {
   "cell_type": "markdown",
   "id": "5697e666-1d25-41cd-9027-0ae08137049b",
   "metadata": {},
   "source": [
    "### Save results in the folder to reproduce later if needed"
   ]
  },
  {
   "cell_type": "code",
   "execution_count": 65,
   "id": "05a76002-5042-402a-9c11-9761914c7a62",
   "metadata": {},
   "outputs": [],
   "source": [
    "# create pickles directory\n",
    "dir_name_pickles = os.path.join(output_dir, 'results')\n",
    "if not os.path.exists(dir_name_pickles):\n",
    "    os.mkdir(dir_name_pickles)\n",
    "\n",
    "# save pickle files\n",
    "with open(os.path.join(dir_name_pickles, 'shuffled_accuracies.pkl'), 'wb') as f:\n",
    "    pickle.dump(shuffled_accuracies, f)\n",
    "    \n",
    "# save pickle files\n",
    "with open(os.path.join(dir_name_pickles, 'accuracies.pkl'), 'wb') as f:\n",
    "    pickle.dump(accuracies, f)\n",
    "\n",
    "with open(os.path.join(dir_name_pickles, 'losses.pkl'), 'wb') as f:\n",
    "    pickle.dump(losses, f)\n",
    "\n",
    "with open(os.path.join(dir_name_pickles, 'shuffled_losses.pkl'), 'wb') as f:\n",
    "    pickle.dump(shuffled_losses, f)\n",
    "\n",
    "with open(os.path.join(dir_name_pickles, 'train_labels_names.pkl'), 'wb') as f:\n",
    "    pickle.dump(train_labels_names, f)\n",
    "    \n",
    "with open(os.path.join(dir_name_pickles, 'cm_avg.pkl'), 'wb') as f:\n",
    "    pickle.dump(cm_avg, f)\n",
    "\n",
    "with open(os.path.join(dir_name_pickles, 'shuffled_cm_avg.pkl'), 'wb') as f:\n",
    "    pickle.dump(shuffled_cm_avg, f)"
   ]
  },
  {
   "cell_type": "code",
   "execution_count": 78,
   "id": "0f6dd650-331a-43c6-9f19-e2f72c36d8e6",
   "metadata": {},
   "outputs": [],
   "source": [
    "mean_accuracies = np.mean(accuracies)"
   ]
  },
  {
   "cell_type": "code",
   "execution_count": 77,
   "id": "43052ea1-fe28-4bbb-ac34-29443922ef9f",
   "metadata": {},
   "outputs": [
    {
     "data": {
      "text/plain": [
       "0.39668030243906693"
      ]
     },
     "execution_count": 77,
     "metadata": {},
     "output_type": "execute_result"
    }
   ],
   "source": [
    "accuracies"
   ]
  },
  {
   "cell_type": "code",
   "execution_count": 79,
   "id": "4ea74d73-c131-4e99-ab00-9867f6bb55e7",
   "metadata": {},
   "outputs": [],
   "source": [
    "mean_shuffled_accuracies = np.mean(shuffled_accuracies)"
   ]
  },
  {
   "cell_type": "code",
   "execution_count": 80,
   "id": "4ca04737-839c-4f26-8dca-efe66b12d7c8",
   "metadata": {},
   "outputs": [
    {
     "data": {
      "text/plain": [
       "0.2894273249613367"
      ]
     },
     "execution_count": 80,
     "metadata": {},
     "output_type": "execute_result"
    }
   ],
   "source": [
    "mean_shuffled_accuracies"
   ]
  },
  {
   "cell_type": "code",
   "execution_count": null,
   "id": "82a58077-d302-4644-bbf5-b469f71a1aaa",
   "metadata": {},
   "outputs": [],
   "source": []
  },
  {
   "cell_type": "code",
   "execution_count": 66,
   "id": "e2d97c94-f7f3-4d03-92ff-b3a855229625",
   "metadata": {},
   "outputs": [
    {
     "data": {
      "text/plain": [
       "'Experiment_2-BPSVM-multiple-videos'"
      ]
     },
     "execution_count": 66,
     "metadata": {},
     "output_type": "execute_result"
    }
   ],
   "source": [
    "experiment_ID"
   ]
  },
  {
   "cell_type": "code",
   "execution_count": 67,
   "id": "9aff1dfb-9ff6-4e45-8429-b4fe9dc7af2a",
   "metadata": {},
   "outputs": [
    {
     "data": {
      "text/plain": [
       "'Animal3learnday8, Animal3Learnday9, Animal3Learnday10'"
      ]
     },
     "execution_count": 67,
     "metadata": {},
     "output_type": "execute_result"
    }
   ],
   "source": [
    "data_file"
   ]
  },
  {
   "cell_type": "code",
   "execution_count": 68,
   "id": "e8f9b91f-d718-4c36-8e28-26af087436ce",
   "metadata": {},
   "outputs": [
    {
     "data": {
      "text/plain": [
       "6"
      ]
     },
     "execution_count": 68,
     "metadata": {},
     "output_type": "execute_result"
    }
   ],
   "source": [
    "no_of_labels"
   ]
  },
  {
   "cell_type": "code",
   "execution_count": 69,
   "id": "a9fc3646-e264-4d62-850e-f7fde9fefc23",
   "metadata": {},
   "outputs": [
    {
     "data": {
      "text/plain": [
       "'Experiment_2-BPSVM-multiple-videos_output'"
      ]
     },
     "execution_count": 69,
     "metadata": {},
     "output_type": "execute_result"
    }
   ],
   "source": [
    "output_dir"
   ]
  },
  {
   "cell_type": "code",
   "execution_count": null,
   "id": "8636f3b5-23ac-4700-af80-aab671d98320",
   "metadata": {},
   "outputs": [],
   "source": [
    "# f1_score_mean = np.mean(f1_score_val_list)\n",
    "# f1_score_mean_shuffle = np.mean(f1_score_val_list_shuffle)"
   ]
  },
  {
   "cell_type": "code",
   "execution_count": 70,
   "id": "71e2b9cb-03c1-4dfd-8c7d-5e73f17eef1f",
   "metadata": {},
   "outputs": [],
   "source": [
    "save_dir = \"/home/dmc/Desktop/kostas/direct-Behavior-prediction-from-miniscope-calcium-imaging-using-convolutional-neural-networks/src/\"+str(output_dir)"
   ]
  },
  {
   "cell_type": "code",
   "execution_count": null,
   "id": "cd05869d-a2b7-4c55-b887-6dc58350575a",
   "metadata": {},
   "outputs": [],
   "source": [
    "\n",
    "# import os\n",
    "# import pickle\n",
    "\n",
    "# # Load files:\n",
    "# load_existing_data = True\n",
    "\n",
    "# if load_existing_data == True:\n",
    "    \n",
    "#     directory = \"/home/dmc/Desktop/kostas/direct-Behavior-prediction-from-miniscope-calcium-imaging-using-convolutional-neural-networks/src/4-BPSVM_output/results\"\n",
    "    \n",
    "#     with open(os.path.join(directory,'cm_avg.pkl'), 'rb') as f:\n",
    "#         cm_avg = pickle.load(f)\n",
    "\n",
    "#     with open(os.path.join(directory,'losses.pkl'), 'rb') as f:\n",
    "#         losses = pickle.load(f)\n",
    "\n",
    "#     with open(os.path.join(directory,'shuffled_accuracies.pkl'), 'rb') as f:\n",
    "#         shuffled_accuracies = pickle.load(f)\n",
    "\n",
    "#     with open(os.path.join(directory,'shuffled_cm_avg.pkl'), 'rb') as f:\n",
    "#         shuffled_cm_avg = pickle.load(f)\n",
    "        \n",
    "#     with open(os.path.join(directory,'shuffled_losses.pkl'), 'rb') as f:\n",
    "#         shuffled_losses = pickle.load(f)\n",
    "\n",
    "#     with open(os.path.join(directory,'train_labels_names.pkl'), 'rb') as f:\n",
    "#         train_labels_names = pickle.load(f)\n",
    "\n",
    "        \n",
    "# n_splits = 5\n",
    "# plt.figure(figsize=(12, 10))\n",
    "# # Accuracy and Shuffled Accuracy\n",
    "# plt.subplot(2, 2, 1)\n",
    "# # sns.lineplot(x=np.arange(1, n_splits+1), y=shuffled_accuracies, marker='o', label='Accuracy')\n",
    "# sns.lineplot(x=np.arange(1, n_splits+1), y=shuffled_accuracies, marker='o', label='Shuffled Accuracy')\n",
    "# plt.xlabel(\"Fold\")\n",
    "# plt.ylabel(\"Chance Accuracy\")\n",
    "# plt.title(\"Chance Accuracy per Fold (10-Fold CV)\")\n",
    "# plt.legend()\n",
    "\n",
    "\n",
    "\n",
    "\n"
   ]
  },
  {
   "cell_type": "code",
   "execution_count": 71,
   "id": "b41720ee-59b2-4cdc-8630-ec0b2ce09cb7",
   "metadata": {},
   "outputs": [
    {
     "name": "stdout",
     "output_type": "stream",
     "text": [
      "Training info saved in csv file.\n"
     ]
    }
   ],
   "source": [
    "save_training_info(experiment_ID=experiment_ID,\n",
    "                   data_file = data_file,\n",
    "                   no_of_labels = no_of_labels,\n",
    "                   comment=comment,\n",
    "                   save_dir=save_dir,\n",
    "                   f1_score_mean = mean_f1\n",
    "                  )"
   ]
  },
  {
   "cell_type": "code",
   "execution_count": 72,
   "id": "caf92cbe-cb7f-4d93-8227-fb26da705baf",
   "metadata": {},
   "outputs": [
    {
     "name": "stdout",
     "output_type": "stream",
     "text": [
      "Training info saved in csv file.\n"
     ]
    }
   ],
   "source": [
    "save_training_info(experiment_ID=experiment_ID+str(\"-shuffled\"),\n",
    "                   data_file = data_file,\n",
    "                   no_of_labels = no_of_labels,\n",
    "                   comment=comment,\n",
    "                   save_dir=save_dir,\n",
    "                   f1_score_mean = mean_f1_shuffle\n",
    "                  )"
   ]
  },
  {
   "cell_type": "code",
   "execution_count": null,
   "id": "2ae95829-a370-4fbb-8815-f74330e7d380",
   "metadata": {},
   "outputs": [],
   "source": []
  },
  {
   "cell_type": "code",
   "execution_count": null,
   "id": "67b42eb2-4b4a-48ce-9f60-a3e3948d5e11",
   "metadata": {},
   "outputs": [],
   "source": []
  },
  {
   "cell_type": "code",
   "execution_count": null,
   "id": "a07c903f-76ae-4a5e-9f42-a7c57bee3184",
   "metadata": {},
   "outputs": [],
   "source": []
  },
  {
   "cell_type": "code",
   "execution_count": null,
   "id": "51abbade-23e7-4051-bd17-b22d765f6189",
   "metadata": {},
   "outputs": [],
   "source": []
  },
  {
   "cell_type": "markdown",
   "id": "948d0333-71c7-4865-9617-aacbaf03461f",
   "metadata": {},
   "source": [
    "### Shuffle Labels Randomly"
   ]
  },
  {
   "cell_type": "code",
   "execution_count": null,
   "id": "7b67c310-423b-49d7-a8e4-d9cf8c8fde5d",
   "metadata": {},
   "outputs": [],
   "source": [
    "# Shuffle the labels\n",
    "# shuffled_labels = np.random.permutation(labels)\n",
    "\n",
    "shuffled_labels = np.roll(labels, 15000, axis=0)\n",
    "\n",
    "\n",
    "# Use the shuffled labels for cross-validation\n",
    "y_pred = cross_val_predict(mySVC, traces.T, shuffled_labels, cv=kf)\n",
    "\n",
    "# Calculate accuracy using shuffled labels\n",
    "accuracy = accuracy_score(shuffled_labels, y_pred)\n",
    "print(\"Shuffled accuracy:\", accuracy)"
   ]
  }
 ],
 "metadata": {
  "kernelspec": {
   "display_name": "new_kostas_env",
   "language": "python",
   "name": "new_kostas_env"
  },
  "language_info": {
   "codemirror_mode": {
    "name": "ipython",
    "version": 3
   },
   "file_extension": ".py",
   "mimetype": "text/x-python",
   "name": "python",
   "nbconvert_exporter": "python",
   "pygments_lexer": "ipython3",
   "version": "3.10.9"
  }
 },
 "nbformat": 4,
 "nbformat_minor": 5
}
