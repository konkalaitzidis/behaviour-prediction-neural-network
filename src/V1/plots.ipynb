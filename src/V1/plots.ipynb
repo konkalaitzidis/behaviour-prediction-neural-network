{
 "cells": [
  {
   "cell_type": "code",
   "execution_count": null,
   "id": "894e0b35-d670-489c-b8d6-bf8c93790144",
   "metadata": {},
   "outputs": [],
   "source": [
    "import tensorflow.compat.v1 as tf\n",
    "#Lets see if tensorflow finds the GPU\n",
    "print(\"Num GPUs Available: \", len(tf.config.list_physical_devices('GPU')))\n",
    "#import tensorflow as tf"
   ]
  },
  {
   "cell_type": "code",
   "execution_count": null,
   "id": "f190902f-e694-4398-8d1e-a703c45044d0",
   "metadata": {},
   "outputs": [],
   "source": [
    "#Lets see if it works\n",
    "tf.ones(1) + tf.ones(1)"
   ]
  },
  {
   "cell_type": "code",
   "execution_count": null,
   "id": "a09c052d-429e-44e6-8c78-0706457bf442",
   "metadata": {},
   "outputs": [],
   "source": [
    "import numpy as np # for working with arrays and matrices\n",
    "import pandas as pd # for data manipulation and analysis\n",
    "import matplotlib.pyplot as plt # for data visualization\n",
    "import seaborn as sns # for data visualization\n",
    "\n",
    "import os # OS module provides various operating system-related functions to the code\n",
    "import csv # CSV module is used for working with CSV (Comma Separated Values) files in Python.\n",
    "import pickle\n",
    "\n",
    "\n",
    "\n",
    "# used for splitting data into training and testing sets in Python.\n",
    "from sklearn.model_selection import train_test_split \n",
    "\n",
    "# for generating a confusion matrix\n",
    "from sklearn.metrics import confusion_matrix\n",
    "from keras.models import load_model\n",
    "\n",
    "\n",
    "# Classes and functions from the Keras library which is used for building and training deep learning models in Python.\n",
    "from keras.models import model_from_json\n",
    "from keras.utils import to_categorical\n",
    "from keras.models import Sequential\n",
    "from keras.layers import Dropout\n",
    "from keras.layers import Conv2D, MaxPooling2D, Flatten, Dense\n",
    "\n",
    "# These import the Adam optimizer class and various other classes from the TensorFlow Keras library \n",
    "# which is a high-level neural networks API used for building and training deep learning models in Python.\n",
    "from tensorflow.keras.optimizers.legacy import Adam\n",
    "from tensorflow.keras import datasets, layers, models\n",
    "from tensorflow.keras.utils import plot_model\n",
    "from tensorflow.keras.callbacks import EarlyStopping"
   ]
  },
  {
   "cell_type": "code",
   "execution_count": null,
   "id": "fc32bdb1-5c08-42a3-8faf-c4307fd12362",
   "metadata": {},
   "outputs": [],
   "source": [
    "# Load the history object from the pickle file\n",
    "with open('history.pkl', 'rb') as f:\n",
    "    history = pickle.load(f)\n",
    "    \n",
    "with open('train_images.pkl', 'rb') as f:\n",
    "    train_images = pickle.load(f)\n",
    "    \n",
    "with open('train_labels.pkl', 'rb') as f:\n",
    "    train_labels = pickle.load(f)"
   ]
  },
  {
   "cell_type": "code",
   "execution_count": null,
   "id": "c048ceaf-f9d7-4383-8caf-f93686364a9b",
   "metadata": {},
   "outputs": [],
   "source": [
    "# Inspect the contents of the pickle file\n",
    "print(history)"
   ]
  },
  {
   "cell_type": "code",
   "execution_count": null,
   "id": "0d83420c-8ddf-4740-9a78-4f8903a38aae",
   "metadata": {},
   "outputs": [],
   "source": [
    "# plot the accuracy and loss of the model during training. (validation later)\n",
    "def plot_accuracy():\n",
    "    plt.plot(history['accuracy'])\n",
    "    plt.title('Model accuracy')\n",
    "    plt.ylabel('Accuracy')\n",
    "    plt.xlabel('Epoch')\n",
    "    plt.legend(['Train'], loc='upper left')\n",
    "    plt.savefig('accuracy.png')\n",
    "    return plt.show()\n",
    "\n",
    "def plot_loss():\n",
    "    plt.plot(history['loss'])\n",
    "    plt.title('Model loss')\n",
    "    plt.ylabel('loss')\n",
    "    plt.xlabel('Epoch')\n",
    "    plt.legend(['Train'], loc='upper right')\n",
    "    plt.savefig('loss.png')\n",
    "    return plt.show()\n",
    "\n",
    "def plot_cm(no_of_behaviors, confusion):\n",
    "    \n",
    "\n",
    "    # Plot the confusion matrix\n",
    "    fig, ax = plt.subplots(figsize=(8,6))\n",
    "    cmap = plt.get_cmap('Blues')\n",
    "\n",
    "    tick_marks = np.arange(len(no_of_behaviors))\n",
    "    plt.xticks(tick_marks, no_of_behaviors, rotation=45)\n",
    "    plt.yticks(tick_marks, no_of_behaviors)\n",
    "    plt.tight_layout()\n",
    "\n",
    "    ax.imshow(confusion, interpolation='nearest', cmap=cmap)\n",
    "    ax.set_xticks(np.arange(len(no_of_behaviors)))\n",
    "    ax.set_yticks(np.arange(len(no_of_behaviors)))\n",
    "    ax.set_xticklabels(no_of_behaviors)\n",
    "    ax.set_yticklabels(no_of_behaviors)\n",
    "    ax.set_xlabel('Predicted labels')\n",
    "    ax.set_ylabel('True labels')\n",
    "\n",
    "    # cm = confusion_matrix (train_labels, predicted_labels)\n",
    "    # print(cm)\n",
    "\n",
    "    # Add text annotations to the confusion matrix boxes\n",
    "    for i in range(len(no_of_behaviors)):\n",
    "        for j in range(len(no_of_behaviors)):\n",
    "            ax.text(j, i, str(f'{(confusion[i, j]/counts[i])*100:.2f}%'), ha='center', va='center', color='black')\n",
    "\n",
    "# Set the title\n",
    "    plt.savefig('cm.png')\n",
    "    ax.set_title('Confusion Matrix')\n",
    "    return plt.show()"
   ]
  },
  {
   "cell_type": "code",
   "execution_count": null,
   "id": "198405b3-9a02-41d7-82c0-349f51ceb7cc",
   "metadata": {},
   "outputs": [],
   "source": [
    "# format the train_labels to be appropriate for the predict method\n",
    "train_labels = np.argmax(train_labels, axis=1)\n",
    "\n",
    "# Predict the class labels of the training images using the trained model\n",
    "model = load_model('BPNN_V1_model.h5')\n",
    "predicted_labels = np.argmax(model.predict(train_images), axis=1)\n",
    "\n",
    "# Compute the confusion matrix using the predicted class labels and the true class labels\n",
    "confusion = confusion_matrix(train_labels, predicted_labels)\n",
    "no_of_behaviors = ['Main Corr', 'Left Corr', 'Right Corr']\n"
   ]
  },
  {
   "cell_type": "code",
   "execution_count": null,
   "id": "38462bd1-6598-4071-893c-c6aaaf3d6ccd",
   "metadata": {},
   "outputs": [],
   "source": [
    "main = 11336\n",
    "left = 9643\n",
    "right = 3610\n",
    "total_counts = main + left + right\n",
    "counts = [main, left, right]"
   ]
  },
  {
   "cell_type": "code",
   "execution_count": null,
   "id": "9157bd4d-3ac6-412a-9705-374e21a668d8",
   "metadata": {},
   "outputs": [],
   "source": [
    "plot_accuracy()\n",
    "plot_loss()\n",
    "plot_cm(no_of_behaviors, confusion)"
   ]
  },
  {
   "cell_type": "code",
   "execution_count": null,
   "id": "43a6c986-be5a-47a0-9deb-711d3b5886a3",
   "metadata": {},
   "outputs": [],
   "source": []
  }
 ],
 "metadata": {
  "kernelspec": {
   "display_name": "new_kostas_env",
   "language": "python",
   "name": "new_kostas_env"
  },
  "language_info": {
   "codemirror_mode": {
    "name": "ipython",
    "version": 3
   },
   "file_extension": ".py",
   "mimetype": "text/x-python",
   "name": "python",
   "nbconvert_exporter": "python",
   "pygments_lexer": "ipython3",
   "version": "3.10.9"
  }
 },
 "nbformat": 4,
 "nbformat_minor": 5
}
