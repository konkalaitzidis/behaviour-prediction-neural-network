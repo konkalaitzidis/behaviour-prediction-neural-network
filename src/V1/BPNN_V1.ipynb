{
 "cells": [
  {
   "cell_type": "markdown",
   "id": "01485e77-4dcd-4196-930a-d748d4dfa097",
   "metadata": {
    "tags": []
   },
   "source": [
    "## Setup"
   ]
  },
  {
   "cell_type": "markdown",
   "id": "9e82ea39-5b6c-4c12-a725-4e8c43abb055",
   "metadata": {
    "tags": []
   },
   "source": [
    "NOTE: All dependencies are within a conda environment to ensure reproducibility. To install all dependencies: pip install -r requirements.txt"
   ]
  },
  {
   "cell_type": "code",
   "execution_count": 1,
   "id": "eba8283c-185b-4595-82ad-2e1ac5ec5d97",
   "metadata": {
    "tags": []
   },
   "outputs": [
    {
     "name": "stderr",
     "output_type": "stream",
     "text": [
      "2023-04-03 17:39:58.458155: I tensorflow/core/platform/cpu_feature_guard.cc:193] This TensorFlow binary is optimized with oneAPI Deep Neural Network Library (oneDNN) to use the following CPU instructions in performance-critical operations:  SSE4.1 SSE4.2 AVX AVX2 AVX512F AVX512_VNNI FMA\n",
      "To enable them in other operations, rebuild TensorFlow with the appropriate compiler flags.\n",
      "2023-04-03 17:39:58.496890: I tensorflow/core/util/port.cc:104] oneDNN custom operations are on. You may see slightly different numerical results due to floating-point round-off errors from different computation orders. To turn them off, set the environment variable `TF_ENABLE_ONEDNN_OPTS=0`.\n"
     ]
    }
   ],
   "source": [
    "#import tensorflow.compat.v1 as tf\n",
    "# #Lets see if tensorflow finds the GPU\n",
    "#print(\"Num GPUs Available: \", len(tf.config.list_physical_devices('GPU')))\n",
    "import tensorflow as tf"
   ]
  },
  {
   "cell_type": "code",
   "execution_count": 2,
   "id": "4384096d-cb3e-4056-b096-8fa2252c12b2",
   "metadata": {},
   "outputs": [],
   "source": [
    "#Lets see if it works\n",
    "#tf.ones(1) + tf.ones(1)"
   ]
  },
  {
   "cell_type": "code",
   "execution_count": 3,
   "id": "cc9f33ac-2298-44bc-addc-fc0b862c345c",
   "metadata": {
    "tags": []
   },
   "outputs": [],
   "source": [
    "import numpy as np # for working with arrays and matrices\n",
    "import pandas as pd # for data manipulation and analysis\n",
    "import matplotlib.pyplot as plt # for data visualization\n",
    "import seaborn as sns # for data visualization\n",
    "import time # for time-related functions\n",
    "import random # for random number generation\n",
    "import cv2 # for computer vision and image processing tasks\n",
    "\n",
    "\n",
    "import h5py # for working with HDF5 (Hierarchical Data Format) files\n",
    "import boto3 # for working with Amazon Web Services (AWS)\n",
    "from pynwb import NWBHDF5IO # for working with Neurodata Without Border (NWB) files\n",
    "import fsspec \n",
    "from fsspec.implementations.cached import CachingFileSystem # library used for working with various file systems in Python.\n",
    "import requests \n",
    "import aiohttp # libraries which are used for making HTTP requests in Python.\n",
    "import os # OS module provides various operating system-related functions to the code\n",
    "import csv # CSV module is used for working with CSV (Comma Separated Values) files in Python.\n",
    "\n",
    "\n",
    "# used for splitting data into training and testing sets in Python.\n",
    "from sklearn.model_selection import train_test_split \n",
    "\n",
    "# for generating a confusion matrix\n",
    "from sklearn.metrics import confusion_matrix\n",
    "\n",
    "\n",
    "# Classes and functions from the Keras library which is used for building and training deep learning models in Python.\n",
    "from keras.models import model_from_json\n",
    "from keras.utils import to_categorical\n",
    "from keras.models import Sequential\n",
    "from keras.layers import Dropout\n",
    "from keras.layers import Conv2D, MaxPooling2D, Flatten, Dense\n",
    "\n",
    "# These import the Adam optimizer class and various other classes from the TensorFlow Keras library \n",
    "# which is a high-level neural networks API used for building and training deep learning models in Python.\n",
    "from tensorflow.keras.optimizers.legacy import Adam\n",
    "from tensorflow.keras import datasets, layers, models\n",
    "from tensorflow.keras.utils import plot_model\n",
    "from tensorflow.keras.callbacks import EarlyStopping"
   ]
  },
  {
   "cell_type": "markdown",
   "id": "2f3d1a2e-7307-44d7-9863-dd06baee6227",
   "metadata": {
    "jp-MarkdownHeadingCollapsed": true,
    "tags": []
   },
   "source": [
    "## [Ignore for now] Define hyperparameters"
   ]
  },
  {
   "cell_type": "code",
   "execution_count": 4,
   "id": "719e2a1c-7040-4335-8231-bb45e2893d4b",
   "metadata": {},
   "outputs": [],
   "source": [
    "# IMG_SIZE = 224\n",
    "# BATCH_SIZE = 64\n",
    "# EPOCHS = 10\n",
    "\n",
    "# MAX_SEQ_LENGTH = 20\n",
    "# NUM_FEATURES = 2048"
   ]
  },
  {
   "cell_type": "code",
   "execution_count": 5,
   "id": "9bd45347-075a-4435-bddb-288d8bc3e506",
   "metadata": {},
   "outputs": [],
   "source": [
    "# import sys\n",
    "# sys.path.append(\"/Users/konstantinoskalaitzidis/Developer/dmc\")\n",
    "# from readSessionsServer import SessionIterator\n",
    "\n",
    "#TODO: Script to retrieve videos from a list of calcium videos (of the same animal) from the db"
   ]
  },
  {
   "cell_type": "markdown",
   "id": "941e710a-0385-4e70-b22f-2fc22953ff07",
   "metadata": {
    "jp-MarkdownHeadingCollapsed": true,
    "tags": []
   },
   "source": [
    "## Dataset preparation and label annotation (feature engineering)"
   ]
  },
  {
   "cell_type": "markdown",
   "id": "b0b3d25e-b6b2-423b-9660-33db62493079",
   "metadata": {
    "tags": []
   },
   "source": [
    "### [Ignore for now] Data availale for processing - overview"
   ]
  },
  {
   "cell_type": "markdown",
   "id": "c51d84e0-6996-46bb-8d8f-e3e30d7b0250",
   "metadata": {},
   "source": [
    "The following is not going to be used for now but will allow us to have an overview of all the videos I have available to train my CNN model. I expect to have all recordings sessions for each animal as input for the CNN which is going to be trained only based on recordings from the corresponding animal. The data will be split to train/test at some point..."
   ]
  },
  {
   "cell_type": "code",
   "execution_count": 6,
   "id": "a5c8f7e6-4142-4d8c-abde-d6aeedf14113",
   "metadata": {},
   "outputs": [],
   "source": [
    "# train_df = pd.read_csv(\"train.csv\")\n",
    "# test_df = pd.read_csv(\"test.csv\")\n",
    "\n",
    "# print(f\"Total videos for training: {len(train_df)}\")\n",
    "# print(f\"Total videos for testing: {len(test_df)}\")\n",
    "\n",
    "# train_df.sample(10)"
   ]
  },
  {
   "cell_type": "markdown",
   "id": "0c1cc62e-96d3-4a65-aaff-a4f869cff76b",
   "metadata": {},
   "source": [
    "Extract frames from the calcium imaging video and save to directory. Each frame contains spatial information, and the sequence of those frames contains temporal information (the latter is not exploited for now). Maybe also ask for path input from the user to make it reproducible for others.\n",
    "\n",
    "Helpful source: https://keras.io/examples/vision/video_classification/"
   ]
  },
  {
   "cell_type": "markdown",
   "id": "9f96f31b-c607-4a50-bb5f-9ef8fecdd3e3",
   "metadata": {},
   "source": [
    "The number of frames may differ from video to video.\n",
    "The frame rate may also differ from video to video but it should be 20fps for all. "
   ]
  },
  {
   "cell_type": "markdown",
   "id": "f7dcdb7b-7022-485c-9c96-591b3711feab",
   "metadata": {},
   "source": [
    "The duration of each frame depends on the frame rate of the video. If a video has a frame rate of 25 fps, then each frame will have a duration of 1/25th of a second, or approximately 0.04 seconds. The calcium videos use 20fps, while the behavioral recordings are at 60fps. Alignment of these videos will follow shortly. "
   ]
  },
  {
   "cell_type": "markdown",
   "id": "08a3ae92-9853-43c3-bbef-ede04ab1aec4",
   "metadata": {
    "jp-MarkdownHeadingCollapsed": true,
    "tags": []
   },
   "source": [
    "### [Ignore for now] Fetch all calcium videos from the dmc database and align calcium videos with behavior annotations"
   ]
  },
  {
   "cell_type": "code",
   "execution_count": 7,
   "id": "6a136ef5-f526-417f-bc03-855d4e07fb51",
   "metadata": {},
   "outputs": [],
   "source": [
    "# mySession = readSessionServer.SessionIterator()\n",
    "# for sess in mySession.findSessions():\n",
    "#     print(sess)\n",
    "    # if sess.hasBehavior() and sess.hasCalcium():\n",
    "        # behavior = sess.getBehaviorSegmentation(align_with_calcium=True).reset_index()"
   ]
  },
  {
   "cell_type": "markdown",
   "id": "4a5de1e4-345a-4132-95cc-948a88666259",
   "metadata": {
    "jp-MarkdownHeadingCollapsed": true,
    "tags": []
   },
   "source": [
    "### [Ignore for now] Open calcium video locally, create dir for saving frames and count number of frames with OpenCV"
   ]
  },
  {
   "cell_type": "code",
   "execution_count": 8,
   "id": "66c7bceb-62a8-4589-874f-bd05dd118bb7",
   "metadata": {},
   "outputs": [],
   "source": [
    "# Open the HDF5 file\n",
    "# with h5py.File('/Users/konstantinoskalaitzidis/Developer/dmc/thesis_data/20211016_163921_animal1learnday1.nwb', 'r') as f:\n",
    "#     # Print the keys of the file\n",
    "#     print(list(f.keys()))\n",
    "#     # dataset = f['identifier'][()]\n",
    "#     # print(dataset)"
   ]
  },
  {
   "cell_type": "code",
   "execution_count": 9,
   "id": "71e9d178-da84-4268-a626-e8ae346556ee",
   "metadata": {},
   "outputs": [],
   "source": [
    "# Directory where frames from video will be stored after extraction\n",
    "# frames_dir = \"path\""
   ]
  },
  {
   "cell_type": "code",
   "execution_count": 10,
   "id": "fbee6769-dd9e-4d13-bcb3-7b51b960dce5",
   "metadata": {},
   "outputs": [],
   "source": [
    "# Open the video using OpenCV and count the number of frames\n",
    "# cap = cv2.VideoCapture(raw_calcium_video_path)\n",
    "# frame_count = int(cap.get(cv2.CAP_PROP_FRAME_COUNT))\n",
    "# cap.release()\n",
    "\n",
    "# print(f\"Number of frames in the video: {frame_count}\")"
   ]
  },
  {
   "cell_type": "code",
   "execution_count": 11,
   "id": "4bce9c58-3dd8-4fd6-afb3-9dfb9473b873",
   "metadata": {},
   "outputs": [],
   "source": [
    "# video = 'path'\n",
    "\n",
    "# cap = cv2.VideoCapture(video)\n",
    "# frame_count = int(cap.get(cv2.CAP_PROP_FRAME_COUNT))\n",
    "# cap.release()\n",
    "\n",
    "# print(f\"Number of frames in the video: {frame_count}\")"
   ]
  },
  {
   "cell_type": "code",
   "execution_count": 12,
   "id": "98fed508-e062-4c0e-8c82-5c49e8c5314d",
   "metadata": {},
   "outputs": [],
   "source": [
    "# Open the video file\n",
    "# cap = cv2.VideoCapture(video)\n",
    "\n",
    "# # Get the frame rate of the video\n",
    "# frame_rate = int(cap.get(cv2.CAP_PROP_FPS))\n",
    "\n",
    "# # Release the video capture object\n",
    "# cap.release()\n",
    "\n",
    "# print(f\"Frame rate of the video: {frame_rate}\")"
   ]
  },
  {
   "cell_type": "code",
   "execution_count": 13,
   "id": "2146d11a-949c-4877-a84c-5d2e762967d3",
   "metadata": {},
   "outputs": [],
   "source": [
    "# save each frame as one image"
   ]
  },
  {
   "cell_type": "code",
   "execution_count": 14,
   "id": "787686cd-d9a4-4939-8ab2-7b7b3f8fbffb",
   "metadata": {},
   "outputs": [],
   "source": [
    "# cap = cv2.VideoCapture(video)\n",
    "\n",
    "# # Loop through the video frames and save each one as an image file\n",
    "# frame_count = 0\n",
    "# while(cap.isOpened()):\n",
    "#     ret, frame = cap.read()\n",
    "#     if ret == False:\n",
    "#         break\n",
    "#     # Save the frame as an image file\n",
    "#     frame_file = os.path.join(frames_dir, \"frame_\" + str(frame_count) + \".jpg\")\n",
    "#     cv2.imwrite(frame_file, frame)\n",
    "#     frame_count += 1\n",
    "\n",
    "# # Close the video file\n",
    "# cap.release()"
   ]
  },
  {
   "cell_type": "markdown",
   "id": "4f6d055e-0c52-4bcf-80f6-00594de77c4c",
   "metadata": {
    "tags": []
   },
   "source": [
    "## [Start here] Align behavior annotation with calcium video frames"
   ]
  },
  {
   "cell_type": "markdown",
   "id": "4a0f7437-67b9-4386-ae8a-e6bff4e0dc7f",
   "metadata": {},
   "source": [
    "At some point I will also have to align the behavior and the calcium imaging videos and use those as input for my CNN model"
   ]
  },
  {
   "cell_type": "markdown",
   "id": "96492356-9060-49fe-8d23-a26ffab0d66a",
   "metadata": {
    "tags": []
   },
   "source": [
    "### [Start here] Loading calcium video"
   ]
  },
  {
   "cell_type": "code",
   "execution_count": 15,
   "id": "8c4925dc-953b-46df-adfe-1d6f9001077b",
   "metadata": {
    "tags": []
   },
   "outputs": [],
   "source": [
    "s3_calcium_url = 'https://s3.ki.se/dmc-striatum-arrowmaze/processed-data/miniscope-recordings/export-to-nwb/animal3learnday11/20211028_181307_animal3learnday11.nwb?AWSAccessKeyId=5AMYRX4EUZ0MV0276K24&Signature=Y1VpgYC%2Br7%2BABwOlcIxNH4g%2F5OA%3D&Expires=1680362879'"
   ]
  },
  {
   "cell_type": "code",
   "execution_count": 16,
   "id": "d08e7ec8-dc26-4211-82a6-0fbb4f7277fc",
   "metadata": {
    "tags": []
   },
   "outputs": [
    {
     "name": "stdout",
     "output_type": "stream",
     "text": [
      "Execution time: 0 hours, 0 minutes, 3 seconds\n"
     ]
    }
   ],
   "source": [
    "start_time = time.time()\n",
    "\n",
    "\n",
    "fs = CachingFileSystem(\n",
    "    fs=fsspec.filesystem(\"http\"),\n",
    "    cache_storage=\"nwb-cache\",  # Local folder for the cache\n",
    ")\n",
    "\n",
    "with fs.open(s3_calcium_url, \"rb\") as f:\n",
    "    with h5py.File(f) as file:\n",
    "        video_data = np.array(file[\"analysis/recording_20211028_181307-PP-BP-MC/data\"])\n",
    "        \n",
    "\n",
    "end_time = time.time()\n",
    "execution_time = end_time - start_time\n",
    "hours, remainder = divmod(execution_time, 3600)\n",
    "minutes, seconds = divmod(remainder, 60)\n",
    "\n",
    "print(f\"Execution time: {int(hours)} hours, {int(minutes)} minutes, {int(seconds)} seconds\")"
   ]
  },
  {
   "cell_type": "code",
   "execution_count": 17,
   "id": "6f2816b3-bc9e-4ba7-804a-8eda6ef378f5",
   "metadata": {
    "tags": []
   },
   "outputs": [
    {
     "data": {
      "text/plain": [
       "array([[[175, 181, 182, ..., 181, 181, 180],\n",
       "        [170, 174, 173, ..., 177, 176, 179],\n",
       "        [175, 175, 168, ..., 180, 176, 178],\n",
       "        ...,\n",
       "        [180, 182, 175, ..., 170, 173, 167],\n",
       "        [177, 188, 181, ..., 177, 179, 180],\n",
       "        [184, 184, 183, ..., 188, 182, 174]],\n",
       "\n",
       "       [[183, 185, 178, ..., 176, 175, 180],\n",
       "        [178, 175, 177, ..., 177, 180, 181],\n",
       "        [186, 178, 178, ..., 178, 180, 183],\n",
       "        ...,\n",
       "        [179, 180, 177, ..., 170, 173, 174],\n",
       "        [177, 179, 180, ..., 179, 174, 173],\n",
       "        [177, 186, 185, ..., 186, 180, 178]],\n",
       "\n",
       "       [[179, 181, 180, ..., 182, 184, 179],\n",
       "        [177, 176, 181, ..., 176, 172, 173],\n",
       "        [177, 181, 185, ..., 169, 172, 175],\n",
       "        ...,\n",
       "        [185, 187, 184, ..., 174, 171, 172],\n",
       "        [187, 191, 187, ..., 179, 176, 171],\n",
       "        [188, 184, 184, ..., 185, 182, 175]]], dtype=int16)"
      ]
     },
     "execution_count": 17,
     "metadata": {},
     "output_type": "execute_result"
    }
   ],
   "source": [
    "video_data[:3]"
   ]
  },
  {
   "cell_type": "code",
   "execution_count": 18,
   "id": "cb5e2e43-31a0-454a-8264-5227aef46851",
   "metadata": {
    "tags": []
   },
   "outputs": [
    {
     "name": "stdout",
     "output_type": "stream",
     "text": [
      "The number of video frames is  24589  and the frame dimensions (height x width) are:  393 X 444\n"
     ]
    }
   ],
   "source": [
    "# Determine the size of the calcium video dataset\n",
    "num_of_frames = video_data.shape[0]\n",
    "img_height = video_data.shape[1]\n",
    "img_width = video_data.shape[2]\n",
    "print(\"The number of video frames is \", num_of_frames, \" and the frame dimensions (height x width) are: \", img_height, \"X\", img_width)"
   ]
  },
  {
   "cell_type": "markdown",
   "id": "3cd0087a-f9b2-4846-a503-4290fb1d342c",
   "metadata": {},
   "source": [
    "### Subtract the minimum image from all images"
   ]
  },
  {
   "cell_type": "code",
   "execution_count": 19,
   "id": "6ff8eeb5-6f05-4973-9b76-a0486715541f",
   "metadata": {},
   "outputs": [],
   "source": [
    "# Find the frame with the minimum pixel values\n",
    "min_frame = np.argmin(video_data.mean(axis=(1, 2)))\n",
    "\n",
    "# Subtract the minimum frame from the rest of the frames\n",
    "video_data = video_data - video_data[min_frame]"
   ]
  },
  {
   "cell_type": "markdown",
   "id": "eb68ecee-c60b-4bed-abba-b468c813acd5",
   "metadata": {
    "tags": []
   },
   "source": [
    "### Normalize pixel values in calcium video"
   ]
  },
  {
   "cell_type": "code",
   "execution_count": 20,
   "id": "a7456582-732a-4959-97ed-d8c9a65a6428",
   "metadata": {
    "tags": []
   },
   "outputs": [
    {
     "name": "stdout",
     "output_type": "stream",
     "text": [
      "Minimum pixel value: 0.000\n",
      "Maximum pixel value: 1.0\n"
     ]
    }
   ],
   "source": [
    "# Normalize pixel values to be between 0 and 1\n",
    "# max_pixel_value = video_data.max()\n",
    "# normalized_video_data = video_data / max_pixel_value\n",
    "# video_data = normalized_video_data\n",
    "\n",
    "# # Verify the normalization by checking the minimum and maximum values\n",
    "# print('Minimum pixel value: {:.3f}' .format(np.min(video_data)))\n",
    "# print('Maximum pixel value:', np.max(video_data))\n",
    "\n",
    "# Normalize pixel values to be between 0 and 1\n",
    "max_pixel_value = video_data.max()\n",
    "min_pixel_value = video_data.min()\n",
    "range_pixel_value = max_pixel_value - min_pixel_value\n",
    "normalized_video_data = (video_data - min_pixel_value) / range_pixel_value\n",
    "video_data = normalized_video_data\n",
    "\n",
    "# Verify the normalization by checking the minimum and maximum values\n",
    "print('Minimum pixel value: {:.3f}' .format(np.min(video_data)))\n",
    "print('Maximum pixel value:', np.max(video_data))\n"
   ]
  },
  {
   "cell_type": "markdown",
   "id": "ab23843d-4105-4cab-ad98-093127d38875",
   "metadata": {
    "tags": []
   },
   "source": [
    "### Loading bonsai data"
   ]
  },
  {
   "cell_type": "code",
   "execution_count": 21,
   "id": "0e0e8e73-b364-41ba-bc6c-77297c1c7bda",
   "metadata": {
    "tags": []
   },
   "outputs": [
    {
     "data": {
      "text/html": [
       "<div>\n",
       "<style scoped>\n",
       "    .dataframe tbody tr th:only-of-type {\n",
       "        vertical-align: middle;\n",
       "    }\n",
       "\n",
       "    .dataframe tbody tr th {\n",
       "        vertical-align: top;\n",
       "    }\n",
       "\n",
       "    .dataframe thead th {\n",
       "        text-align: right;\n",
       "    }\n",
       "</style>\n",
       "<table border=\"1\" class=\"dataframe\">\n",
       "  <thead>\n",
       "    <tr style=\"text-align: right;\">\n",
       "      <th></th>\n",
       "      <th>Time</th>\n",
       "      <th>Trial_Number</th>\n",
       "      <th>Reward</th>\n",
       "      <th>Frame_Number</th>\n",
       "      <th>Central_Zone</th>\n",
       "      <th>L_Zone</th>\n",
       "      <th>R_Zone</th>\n",
       "      <th>Calcium_frame</th>\n",
       "    </tr>\n",
       "  </thead>\n",
       "  <tbody>\n",
       "    <tr>\n",
       "      <th>0</th>\n",
       "      <td>2021-10-28T18:13:25.3758464+02:00</td>\n",
       "      <td>0</td>\n",
       "      <td>0</td>\n",
       "      <td>66</td>\n",
       "      <td>False</td>\n",
       "      <td>False</td>\n",
       "      <td>False</td>\n",
       "      <td>0</td>\n",
       "    </tr>\n",
       "    <tr>\n",
       "      <th>1</th>\n",
       "      <td>2021-10-28T18:13:25.3759488+02:00</td>\n",
       "      <td>0</td>\n",
       "      <td>0</td>\n",
       "      <td>66</td>\n",
       "      <td>False</td>\n",
       "      <td>False</td>\n",
       "      <td>False</td>\n",
       "      <td>0</td>\n",
       "    </tr>\n",
       "    <tr>\n",
       "      <th>2</th>\n",
       "      <td>2021-10-28T18:13:25.3759872+02:00</td>\n",
       "      <td>0</td>\n",
       "      <td>0</td>\n",
       "      <td>66</td>\n",
       "      <td>False</td>\n",
       "      <td>False</td>\n",
       "      <td>False</td>\n",
       "      <td>0</td>\n",
       "    </tr>\n",
       "    <tr>\n",
       "      <th>3</th>\n",
       "      <td>2021-10-28T18:13:25.3851136+02:00</td>\n",
       "      <td>0</td>\n",
       "      <td>0</td>\n",
       "      <td>67</td>\n",
       "      <td>False</td>\n",
       "      <td>False</td>\n",
       "      <td>False</td>\n",
       "      <td>0</td>\n",
       "    </tr>\n",
       "    <tr>\n",
       "      <th>4</th>\n",
       "      <td>2021-10-28T18:13:25.4012672+02:00</td>\n",
       "      <td>0</td>\n",
       "      <td>0</td>\n",
       "      <td>68</td>\n",
       "      <td>False</td>\n",
       "      <td>False</td>\n",
       "      <td>False</td>\n",
       "      <td>0</td>\n",
       "    </tr>\n",
       "  </tbody>\n",
       "</table>\n",
       "</div>"
      ],
      "text/plain": [
       "                                Time  Trial_Number  Reward  Frame_Number  \\\n",
       "0  2021-10-28T18:13:25.3758464+02:00             0       0            66   \n",
       "1  2021-10-28T18:13:25.3759488+02:00             0       0            66   \n",
       "2  2021-10-28T18:13:25.3759872+02:00             0       0            66   \n",
       "3  2021-10-28T18:13:25.3851136+02:00             0       0            67   \n",
       "4  2021-10-28T18:13:25.4012672+02:00             0       0            68   \n",
       "\n",
       "   Central_Zone  L_Zone  R_Zone  Calcium_frame  \n",
       "0         False   False   False              0  \n",
       "1         False   False   False              0  \n",
       "2         False   False   False              0  \n",
       "3         False   False   False              0  \n",
       "4         False   False   False              0  "
      ]
     },
     "execution_count": 21,
     "metadata": {},
     "output_type": "execute_result"
    }
   ],
   "source": [
    "# Preparing bonsai data file.\n",
    "# CSV with additional data from the behavior box, such as reward deliveries. Also includes information needed for synchronizing the calcium and behavioral recordings.\n",
    "bonsai_data_path = '/home/dmc/Desktop/kostas/direct-Behavior-prediction-from-miniscope-calcium-imaging-using-convolutional-neural-networks/data/tmaze_2021-10-28T18_13_23.csv'\n",
    "bonsai_data = pd.read_csv(bonsai_data_path, header=None)\n",
    "\n",
    "\n",
    "# Adding column names\n",
    "bonsai_data = bonsai_data.rename(columns={\n",
    "    0: 'Time', 1: 'Trial_Number',\n",
    "    2: 'Reward', 3: 'Frame_Number', 4: 'Central_Zone',\n",
    "    5: 'L_Zone', 6: 'R_Zone', 7: 'Calcium_frame'})\n",
    "\n",
    "bonsai_data.head()"
   ]
  },
  {
   "cell_type": "markdown",
   "id": "1094bc91-3973-4343-990b-bf86017748c1",
   "metadata": {
    "tags": []
   },
   "source": [
    "### Loading behavior segmentation file"
   ]
  },
  {
   "cell_type": "code",
   "execution_count": 22,
   "id": "ed727e01-5b0b-4510-b383-df351fc3187d",
   "metadata": {
    "tags": []
   },
   "outputs": [
    {
     "data": {
      "text/html": [
       "<div>\n",
       "<style scoped>\n",
       "    .dataframe tbody tr th:only-of-type {\n",
       "        vertical-align: middle;\n",
       "    }\n",
       "\n",
       "    .dataframe tbody tr th {\n",
       "        vertical-align: top;\n",
       "    }\n",
       "\n",
       "    .dataframe thead th {\n",
       "        text-align: right;\n",
       "    }\n",
       "</style>\n",
       "<table border=\"1\" class=\"dataframe\">\n",
       "  <thead>\n",
       "    <tr style=\"text-align: right;\">\n",
       "      <th></th>\n",
       "      <th>frame_no</th>\n",
       "      <th>segment_no</th>\n",
       "      <th>state_id</th>\n",
       "      <th>spatial_progress</th>\n",
       "      <th>temporal_progress</th>\n",
       "      <th>state_name</th>\n",
       "    </tr>\n",
       "  </thead>\n",
       "  <tbody>\n",
       "    <tr>\n",
       "      <th>0</th>\n",
       "      <td>0</td>\n",
       "      <td>0</td>\n",
       "      <td>14</td>\n",
       "      <td>-0.906529</td>\n",
       "      <td>0.00</td>\n",
       "      <td>leftReturn</td>\n",
       "    </tr>\n",
       "    <tr>\n",
       "      <th>1</th>\n",
       "      <td>1</td>\n",
       "      <td>0</td>\n",
       "      <td>14</td>\n",
       "      <td>-0.910748</td>\n",
       "      <td>0.02</td>\n",
       "      <td>leftReturn</td>\n",
       "    </tr>\n",
       "    <tr>\n",
       "      <th>2</th>\n",
       "      <td>2</td>\n",
       "      <td>0</td>\n",
       "      <td>14</td>\n",
       "      <td>-0.916558</td>\n",
       "      <td>0.04</td>\n",
       "      <td>leftReturn</td>\n",
       "    </tr>\n",
       "    <tr>\n",
       "      <th>3</th>\n",
       "      <td>3</td>\n",
       "      <td>0</td>\n",
       "      <td>14</td>\n",
       "      <td>-0.925125</td>\n",
       "      <td>0.06</td>\n",
       "      <td>leftReturn</td>\n",
       "    </tr>\n",
       "    <tr>\n",
       "      <th>4</th>\n",
       "      <td>4</td>\n",
       "      <td>0</td>\n",
       "      <td>14</td>\n",
       "      <td>-0.931319</td>\n",
       "      <td>0.08</td>\n",
       "      <td>leftReturn</td>\n",
       "    </tr>\n",
       "  </tbody>\n",
       "</table>\n",
       "</div>"
      ],
      "text/plain": [
       "   frame_no  segment_no  state_id  spatial_progress  temporal_progress  \\\n",
       "0         0           0        14         -0.906529               0.00   \n",
       "1         1           0        14         -0.910748               0.02   \n",
       "2         2           0        14         -0.916558               0.04   \n",
       "3         3           0        14         -0.925125               0.06   \n",
       "4         4           0        14         -0.931319               0.08   \n",
       "\n",
       "   state_name  \n",
       "0  leftReturn  \n",
       "1  leftReturn  \n",
       "2  leftReturn  \n",
       "3  leftReturn  \n",
       "4  leftReturn  "
      ]
     },
     "execution_count": 22,
     "metadata": {},
     "output_type": "execute_result"
    }
   ],
   "source": [
    "# Segmentation of each frame into one behavior class.\n",
    "df_behavior_path = '/home/dmc/Desktop/kostas/direct-Behavior-prediction-from-miniscope-calcium-imaging-using-convolutional-neural-networks/data/20211028_181307_animal3learnday11.h5'\n",
    "df_behavior = pd.read_hdf(df_behavior_path, 'per_frame')\n",
    "df_behavior.head()"
   ]
  },
  {
   "cell_type": "markdown",
   "id": "58daa732-a2ea-47d9-9e53-b10920d2967c",
   "metadata": {
    "tags": []
   },
   "source": [
    "### Aligning calcium frame column from the bonsai file with the behavior file"
   ]
  },
  {
   "cell_type": "code",
   "execution_count": 23,
   "id": "6ca4d04f-2366-4290-80c1-c74408f4d0c6",
   "metadata": {
    "tags": []
   },
   "outputs": [
    {
     "data": {
      "text/html": [
       "<div>\n",
       "<style scoped>\n",
       "    .dataframe tbody tr th:only-of-type {\n",
       "        vertical-align: middle;\n",
       "    }\n",
       "\n",
       "    .dataframe tbody tr th {\n",
       "        vertical-align: top;\n",
       "    }\n",
       "\n",
       "    .dataframe thead th {\n",
       "        text-align: right;\n",
       "    }\n",
       "</style>\n",
       "<table border=\"1\" class=\"dataframe\">\n",
       "  <thead>\n",
       "    <tr style=\"text-align: right;\">\n",
       "      <th></th>\n",
       "      <th>index</th>\n",
       "      <th>frame_no</th>\n",
       "      <th>segment_no</th>\n",
       "      <th>state_id</th>\n",
       "      <th>spatial_progress</th>\n",
       "      <th>temporal_progress</th>\n",
       "      <th>state_name</th>\n",
       "    </tr>\n",
       "  </thead>\n",
       "  <tbody>\n",
       "    <tr>\n",
       "      <th>0</th>\n",
       "      <td>704</td>\n",
       "      <td>704</td>\n",
       "      <td>11</td>\n",
       "      <td>0</td>\n",
       "      <td>0.389899</td>\n",
       "      <td>0.389899</td>\n",
       "      <td>initReward</td>\n",
       "    </tr>\n",
       "    <tr>\n",
       "      <th>1</th>\n",
       "      <td>707</td>\n",
       "      <td>707</td>\n",
       "      <td>11</td>\n",
       "      <td>0</td>\n",
       "      <td>0.395960</td>\n",
       "      <td>0.395960</td>\n",
       "      <td>initReward</td>\n",
       "    </tr>\n",
       "    <tr>\n",
       "      <th>2</th>\n",
       "      <td>710</td>\n",
       "      <td>710</td>\n",
       "      <td>11</td>\n",
       "      <td>0</td>\n",
       "      <td>0.402020</td>\n",
       "      <td>0.402020</td>\n",
       "      <td>initReward</td>\n",
       "    </tr>\n",
       "    <tr>\n",
       "      <th>3</th>\n",
       "      <td>713</td>\n",
       "      <td>713</td>\n",
       "      <td>11</td>\n",
       "      <td>0</td>\n",
       "      <td>0.408081</td>\n",
       "      <td>0.408081</td>\n",
       "      <td>initReward</td>\n",
       "    </tr>\n",
       "    <tr>\n",
       "      <th>4</th>\n",
       "      <td>716</td>\n",
       "      <td>716</td>\n",
       "      <td>11</td>\n",
       "      <td>0</td>\n",
       "      <td>0.414141</td>\n",
       "      <td>0.414141</td>\n",
       "      <td>initReward</td>\n",
       "    </tr>\n",
       "  </tbody>\n",
       "</table>\n",
       "</div>"
      ],
      "text/plain": [
       "   index  frame_no  segment_no  state_id  spatial_progress  temporal_progress  \\\n",
       "0    704       704          11         0          0.389899           0.389899   \n",
       "1    707       707          11         0          0.395960           0.395960   \n",
       "2    710       710          11         0          0.402020           0.402020   \n",
       "3    713       713          11         0          0.408081           0.408081   \n",
       "4    716       716          11         0          0.414141           0.414141   \n",
       "\n",
       "   state_name  \n",
       "0  initReward  \n",
       "1  initReward  \n",
       "2  initReward  \n",
       "3  initReward  \n",
       "4  initReward  "
      ]
     },
     "execution_count": 23,
     "metadata": {},
     "output_type": "execute_result"
    }
   ],
   "source": [
    "df_aligned = df_behavior.loc[bonsai_data.groupby('Calcium_frame').first()[1:].Frame_Number].reset_index()\n",
    "df_aligned.head()"
   ]
  },
  {
   "cell_type": "markdown",
   "id": "48056171-61ba-4d0f-bba0-c5dd5bd85750",
   "metadata": {},
   "source": [
    "### Redoing behavior labels"
   ]
  },
  {
   "cell_type": "code",
   "execution_count": 24,
   "id": "e2d5d287-3cd2-426c-9972-9715bfd0e138",
   "metadata": {},
   "outputs": [
    {
     "data": {
      "text/plain": [
       "array(['initReward', 'initRight', 'mainRunLeft', 'turnMainToLeft',\n",
       "       'leftRun', 'leftReward', 'leftRight', 'leftReturn',\n",
       "       'turnLeftToMain', 'mainReturn', 'initLeft', 'leftLeft', 'rightRun',\n",
       "       'rightReward', 'rightRight', 'rightReturn', 'turnRightToMain',\n",
       "       'mainOther', 'rightLeft', 'leftOther', 'turnMainToRight',\n",
       "       'rightOther', 'turnLeftToRight', 'turnRightToLeft', 'mainRunRight'],\n",
       "      dtype=object)"
      ]
     },
     "execution_count": 24,
     "metadata": {},
     "output_type": "execute_result"
    }
   ],
   "source": [
    "df_aligned['state_name'].unique()"
   ]
  },
  {
   "cell_type": "code",
   "execution_count": 25,
   "id": "94751056-1acc-4404-8a85-b6db6e884f95",
   "metadata": {},
   "outputs": [
    {
     "data": {
      "text/html": [
       "<div>\n",
       "<style scoped>\n",
       "    .dataframe tbody tr th:only-of-type {\n",
       "        vertical-align: middle;\n",
       "    }\n",
       "\n",
       "    .dataframe tbody tr th {\n",
       "        vertical-align: top;\n",
       "    }\n",
       "\n",
       "    .dataframe thead th {\n",
       "        text-align: right;\n",
       "    }\n",
       "</style>\n",
       "<table border=\"1\" class=\"dataframe\">\n",
       "  <thead>\n",
       "    <tr style=\"text-align: right;\">\n",
       "      <th></th>\n",
       "      <th>index</th>\n",
       "      <th>frame_no</th>\n",
       "      <th>segment_no</th>\n",
       "      <th>state_id</th>\n",
       "      <th>spatial_progress</th>\n",
       "      <th>temporal_progress</th>\n",
       "      <th>state_name</th>\n",
       "    </tr>\n",
       "  </thead>\n",
       "  <tbody>\n",
       "    <tr>\n",
       "      <th>0</th>\n",
       "      <td>704</td>\n",
       "      <td>704</td>\n",
       "      <td>11</td>\n",
       "      <td>0</td>\n",
       "      <td>0.389899</td>\n",
       "      <td>0.389899</td>\n",
       "      <td>initReward</td>\n",
       "    </tr>\n",
       "    <tr>\n",
       "      <th>1</th>\n",
       "      <td>707</td>\n",
       "      <td>707</td>\n",
       "      <td>11</td>\n",
       "      <td>0</td>\n",
       "      <td>0.395960</td>\n",
       "      <td>0.395960</td>\n",
       "      <td>initReward</td>\n",
       "    </tr>\n",
       "    <tr>\n",
       "      <th>2</th>\n",
       "      <td>710</td>\n",
       "      <td>710</td>\n",
       "      <td>11</td>\n",
       "      <td>0</td>\n",
       "      <td>0.402020</td>\n",
       "      <td>0.402020</td>\n",
       "      <td>initReward</td>\n",
       "    </tr>\n",
       "    <tr>\n",
       "      <th>3</th>\n",
       "      <td>713</td>\n",
       "      <td>713</td>\n",
       "      <td>11</td>\n",
       "      <td>0</td>\n",
       "      <td>0.408081</td>\n",
       "      <td>0.408081</td>\n",
       "      <td>initReward</td>\n",
       "    </tr>\n",
       "    <tr>\n",
       "      <th>4</th>\n",
       "      <td>716</td>\n",
       "      <td>716</td>\n",
       "      <td>11</td>\n",
       "      <td>0</td>\n",
       "      <td>0.414141</td>\n",
       "      <td>0.414141</td>\n",
       "      <td>initReward</td>\n",
       "    </tr>\n",
       "  </tbody>\n",
       "</table>\n",
       "</div>"
      ],
      "text/plain": [
       "   index  frame_no  segment_no  state_id  spatial_progress  temporal_progress  \\\n",
       "0    704       704          11         0          0.389899           0.389899   \n",
       "1    707       707          11         0          0.395960           0.395960   \n",
       "2    710       710          11         0          0.402020           0.402020   \n",
       "3    713       713          11         0          0.408081           0.408081   \n",
       "4    716       716          11         0          0.414141           0.414141   \n",
       "\n",
       "   state_name  \n",
       "0  initReward  \n",
       "1  initReward  \n",
       "2  initReward  \n",
       "3  initReward  \n",
       "4  initReward  "
      ]
     },
     "execution_count": 25,
     "metadata": {},
     "output_type": "execute_result"
    }
   ],
   "source": [
    "df_new_annotations = df_aligned\n",
    "df_new_annotations.head()"
   ]
  },
  {
   "cell_type": "code",
   "execution_count": 26,
   "id": "7f1f1d51-eaac-4ef9-a31a-e5fc5df9372c",
   "metadata": {},
   "outputs": [
    {
     "data": {
      "text/plain": [
       "state_id\n",
       "0          initReward\n",
       "1            initLeft\n",
       "2           initRight\n",
       "3         mainRunLeft\n",
       "4        mainRunRight\n",
       "5          mainReturn\n",
       "6           mainOther\n",
       "7      turnMainToLeft\n",
       "8     turnMainToRight\n",
       "9      turnLeftToMain\n",
       "10    turnRightToMain\n",
       "11    turnLeftToRight\n",
       "12    turnRightToLeft\n",
       "13            leftRun\n",
       "14         leftReturn\n",
       "15         leftReward\n",
       "16           leftLeft\n",
       "17          leftRight\n",
       "18          leftOther\n",
       "19           rightRun\n",
       "20        rightReturn\n",
       "21        rightReward\n",
       "22          rightLeft\n",
       "23         rightRight\n",
       "24         rightOther\n",
       "Name: state_name, dtype: object"
      ]
     },
     "execution_count": 26,
     "metadata": {},
     "output_type": "execute_result"
    }
   ],
   "source": [
    "df_new_annotations[['state_id', 'state_name']]\n",
    "df_unique_states = df_new_annotations[['state_id', 'state_name']].drop_duplicates(subset='state_id')\n",
    "df_unique_states = df_unique_states.set_index('state_id')['state_name']\n",
    "df_unique_states = df_unique_states.sort_index()\n",
    "df_unique_states"
   ]
  },
  {
   "cell_type": "code",
   "execution_count": 27,
   "id": "61ca7ef7-cf5b-4142-b772-677e03e87d61",
   "metadata": {},
   "outputs": [],
   "source": [
    "# state_id_unique = df_new_annotations['state_id'].unique()\n",
    "# state_name_unique = df_aligned['state_name'].unique()\n",
    "# # create a dictionary with the unique values\n",
    "# unique_values_dict = {'state_id': state_id_unique, 'state_name': state_name_unique}\n",
    "# # create a new dataframe from the dictionary\n",
    "# df_unique_values = pd.DataFrame.from_dict(unique_values_dict)\n",
    "# df_unique_values.sort_values(by=['state_id'], ascending=[True])"
   ]
  },
  {
   "cell_type": "code",
   "execution_count": 28,
   "id": "c78a261b-b80c-4f67-a186-12223d558c42",
   "metadata": {},
   "outputs": [],
   "source": [
    "# main: initReward, initLeft, initRight, mainRunLeft, mainRunRight, mainReturn, mainOther, turnMainToLeft, turnMainToRight\n",
    "# left: turnLeftToMain, turnLeftToRight, leftRun, leftReturn, leftReward, leftLeft, leftRight, leftOther\n",
    "# right: turnRightToMain, turnRightToLeft, rightRun, rightReturn, rightReward, rightLeft, rightRight, rightOther "
   ]
  },
  {
   "cell_type": "code",
   "execution_count": 29,
   "id": "0490d715-cea6-4b2b-9066-63109aeda362",
   "metadata": {},
   "outputs": [],
   "source": [
    "df_new_annotations['state_id'] = df_new_annotations['state_id'].replace({1: 0, 2:0, 3:0, 4:0, 5:0, 6:0, 7:0, 8:0})\n",
    "df_new_annotations['state_id'] = df_new_annotations['state_id'].replace({9:1, 11:1, 13:1, 14:1, 15:1, 16:1, 17:1, 18:1})\n",
    "df_new_annotations['state_id'] = df_new_annotations['state_id'].replace({10:2, 12:2, 19:2, 20:2, 21:2, 22:2, 23:2, 24:2})"
   ]
  },
  {
   "cell_type": "code",
   "execution_count": 30,
   "id": "8483d272-1759-4a7a-ad50-bff3bc29375b",
   "metadata": {},
   "outputs": [
    {
     "data": {
      "text/plain": [
       "array([0, 1, 2])"
      ]
     },
     "execution_count": 30,
     "metadata": {},
     "output_type": "execute_result"
    }
   ],
   "source": [
    "df_new_annotations_unique = df_new_annotations['state_id'].unique()\n",
    "df_new_annotations_unique"
   ]
  },
  {
   "cell_type": "markdown",
   "id": "89bab359-ef5c-483e-9060-aec8dc9b5f8c",
   "metadata": {},
   "source": [
    "### Verify the data"
   ]
  },
  {
   "cell_type": "code",
   "execution_count": 31,
   "id": "bca7751e-084b-4508-86e5-31fc09446830",
   "metadata": {
    "tags": []
   },
   "outputs": [],
   "source": [
    "# For each calcium video frame, I want to give the state_id value annotation. \n",
    "train_images = video_data\n",
    "train_labels = df_new_annotations['state_id']\n",
    "#train_labels = df_aligned['state_id']"
   ]
  },
  {
   "cell_type": "code",
   "execution_count": 32,
   "id": "d20cc287-95c7-4105-991c-6b44809960d6",
   "metadata": {},
   "outputs": [
    {
     "data": {
      "text/plain": [
       "pandas.core.series.Series"
      ]
     },
     "execution_count": 32,
     "metadata": {},
     "output_type": "execute_result"
    }
   ],
   "source": [
    "type(train_labels)"
   ]
  },
  {
   "cell_type": "code",
   "execution_count": 33,
   "id": "e3154838-b59f-459a-a7a0-537bc07e1004",
   "metadata": {},
   "outputs": [],
   "source": [
    "#train_labels = train_labels.values"
   ]
  },
  {
   "cell_type": "code",
   "execution_count": 40,
   "id": "9bcde91b-740e-45ba-8d0c-5b882e5a79c2",
   "metadata": {
    "tags": []
   },
   "outputs": [
    {
     "data": {
      "image/png": "[encoded data removed]",
      "text/plain": [
       "<Figure size 1000x1000 with 5 Axes>"
      ]
     },
     "metadata": {},
     "output_type": "display_data"
    }
   ],
   "source": [
    "# Let's plot 5 random images from the training set and display the class name below each image:\n",
    "\n",
    "plt.figure(figsize=(10,10))\n",
    "random_indices = random.sample(range(len(train_images)), 5) # randomly select 5 indices from the dataset\n",
    "for i in range(5):\n",
    "    plt.subplot(5,5,i+1)\n",
    "    plt.xticks([])\n",
    "    plt.yticks([])\n",
    "    plt.grid(False)\n",
    "    plt.imshow(train_images[random_indices[i]])\n",
    "    plt.xlabel(train_labels[random_indices[i]])\n",
    "    plt.imshow(train_images[random_indices[i]], cmap=plt.cm.binary)\n",
    "plt.show()\n",
    "\n"
   ]
  },
  {
   "cell_type": "markdown",
   "id": "fe6f12d4-99d1-4d15-b87a-ea878ccc710e",
   "metadata": {},
   "source": [
    "We have 24186 images of dimensions 349x374 and the number 1 demonstrates that images are grayscale."
   ]
  },
  {
   "cell_type": "code",
   "execution_count": 53,
   "id": "e334e3f6-8286-4ccf-ae19-5099f206fb25",
   "metadata": {
    "tags": []
   },
   "outputs": [],
   "source": [
    "channel_dimension = 1\n",
    "#train_images = video_data.reshape(num_of_frames, img_height, img_width, channel_dimension)\n",
    "#train_labels = df_behavior['state_id']\n",
    "\n",
    "# ensuring that the pixel values are float numbers. This is a common preprocessing step for image data\n",
    "train_images = train_images.astype('float32')\n",
    "\n",
    "### Finding number of classes and converting labels to categorical values\n",
    "\n",
    "# How many distinct behaviors do we have?\n",
    "no_of_behaviors = df_new_annotations_unique\n",
    "\n",
    "# Define the number of classes\n",
    "num_classes = len(no_of_behaviors)\n",
    "\n",
    "# Converting labels to categorical.\n",
    "train_labels = to_categorical(train_labels, num_classes)"
   ]
  },
  {
   "cell_type": "code",
   "execution_count": 54,
   "id": "10f8806a-ab8c-4581-8ce8-5ce44f10fb26",
   "metadata": {
    "tags": []
   },
   "outputs": [
    {
     "data": {
      "text/plain": [
       "(24589, 3)"
      ]
     },
     "execution_count": 54,
     "metadata": {},
     "output_type": "execute_result"
    }
   ],
   "source": [
    "train_labels.shape"
   ]
  },
  {
   "cell_type": "code",
   "execution_count": 55,
   "id": "8eed501b-12f6-4323-9a6e-3fd395481808",
   "metadata": {},
   "outputs": [
    {
     "name": "stdout",
     "output_type": "stream",
     "text": [
      "0    11336\n",
      "1     9643\n",
      "2     3610\n",
      "Name: state_id, dtype: int64\n"
     ]
    }
   ],
   "source": [
    "# check class imbalance\n",
    "# count the number of instances of each class\n",
    "class_counts = pd.value_counts(df_new_annotations['state_id'])\n",
    "# print the counts of each class\n",
    "print(class_counts)"
   ]
  },
  {
   "cell_type": "code",
   "execution_count": 56,
   "id": "aa5e1ac3-e4e9-4f93-9249-bbce860b7672",
   "metadata": {},
   "outputs": [
    {
     "data": {
      "text/plain": [
       "11336"
      ]
     },
     "execution_count": 56,
     "metadata": {},
     "output_type": "execute_result"
    }
   ],
   "source": [
    "class_counts[0]"
   ]
  },
  {
   "cell_type": "code",
   "execution_count": 57,
   "id": "158d14d5-a7b4-4a0c-8074-9bb965081f82",
   "metadata": {},
   "outputs": [
    {
     "data": {
      "text/plain": [
       "24589"
      ]
     },
     "execution_count": 57,
     "metadata": {},
     "output_type": "execute_result"
    }
   ],
   "source": [
    "total_counts = class_counts[0] + class_counts[1] + class_counts[2]\n",
    "total_counts"
   ]
  },
  {
   "cell_type": "code",
   "execution_count": 58,
   "id": "1534b5d1-cecc-4156-ad52-4086fba686f8",
   "metadata": {},
   "outputs": [
    {
     "data": {
      "image/png": "[encoded data removed]",
      "text/plain": [
       "<Figure size 640x480 with 1 Axes>"
      ]
     },
     "metadata": {},
     "output_type": "display_data"
    },
    {
     "name": "stdout",
     "output_type": "stream",
     "text": [
      "Behavior Main is 46.1%\n",
      "Behavior Left is 39.2%\n",
      "Behavior Right is 14.7%\n"
     ]
    }
   ],
   "source": [
    "# calculate the percentage of each class in the dataset\n",
    "class_percents = pd.value_counts(df_new_annotations['state_id'], normalize=True) * 100\n",
    "\n",
    "# create a bar chart of class percentages\n",
    "plt.bar(class_percents.index, class_percents.values)\n",
    "\n",
    "# add axis labels and a title\n",
    "plt.xlabel('Class Label')\n",
    "plt.ylabel('Percentage of Instances')\n",
    "plt.title('Distribution of Class Labels')\n",
    "\n",
    "# display the plot\n",
    "plt.show()\n",
    "\n",
    "print(\"Behavior Main is {:.1f}%\" .format((class_counts[0]/total_counts)*100))\n",
    "print(\"Behavior Left is {:.1f}%\" .format((class_counts[1]/total_counts)*100))\n",
    "print(\"Behavior Right is {:.1f}%\" .format((class_counts[2]/total_counts)*100))"
   ]
  },
  {
   "cell_type": "markdown",
   "id": "3765499e-836e-4262-bb36-7ecdea38fb4f",
   "metadata": {
    "tags": []
   },
   "source": [
    "## Build the model"
   ]
  },
  {
   "cell_type": "markdown",
   "id": "90ef17f8-dc33-4276-8a8b-54251098954b",
   "metadata": {},
   "source": [
    "## Train the model"
   ]
  },
  {
   "cell_type": "code",
   "execution_count": 59,
   "id": "c079849b-d1d1-49fe-9769-ca91499236a1",
   "metadata": {
    "tags": []
   },
   "outputs": [],
   "source": [
    "# Input channel dimension (Greyscale: 1, RGB: 3)\n",
    "#channel_dimension = 1\n",
    "#channel_dimension = int(input(\"Input channel dimension (Greyscale: 1, RGB: 3)\"))\n",
    "#Improve in case the user clicks smth else"
   ]
  },
  {
   "cell_type": "code",
   "execution_count": 60,
   "id": "5ddb6718-57e0-4572-a68d-048cabc76fba",
   "metadata": {},
   "outputs": [],
   "source": [
    "# Define and compile your CNN model here\n",
    "# model.compile(loss='categorical_crossentropy', optimizer='adam', metrics=['accuracy'])\n",
    "\n",
    "# # Train your model here\n",
    "# model.fit(train_images, train_labels, epochs=10, batch_size=32)\n"
   ]
  },
  {
   "cell_type": "code",
   "execution_count": 61,
   "id": "c3950500-65a6-465c-80b1-1f197b439fa5",
   "metadata": {
    "tags": []
   },
   "outputs": [],
   "source": [
    "# training parameters\n",
    "epochs = 10\n",
    "batch_size = 32\n",
    "channel_dimension = 1"
   ]
  },
  {
   "cell_type": "code",
   "execution_count": 62,
   "id": "5053ace3-7dda-4a21-90ec-937acf44057a",
   "metadata": {
    "tags": []
   },
   "outputs": [],
   "source": [
    "def construct_model(input_shape, num_classes, name):\n",
    "    \n",
    "    # Creating a sequential model. A sequential model is a linear stack of layers, where the output of one layer is the input of the next.\n",
    "    model = Sequential(name=name)\n",
    "\n",
    "    # Add a convolutional layer with 32 filters, a kernel size of 3x3, and a ReLU activation function. \n",
    "    # The ReLU activation function is a simple equation that takes the input of a neuron and returns the input if it is positive, and returns 0 if it is negative.\n",
    "    model.add(Conv2D(32, kernel_size=(3, 3), activation='relu', input_shape=input_shape)) # input is a 28x28 image with 1 color channel.\n",
    "\n",
    "    # Add a max pooling layer with a pool size of 2x\n",
    "    2\n",
    "    # This layer applies a max operation over a 2x2 window of the input, reducing the spatial dimensions of the input by half.\n",
    "    model.add(MaxPooling2D(pool_size=(2, 2)))\n",
    "\n",
    "    # Add a convolutional layer with 64 filters, a kernel size of 3x3, and a ReLU activation function\n",
    "    model.add(Conv2D(64, kernel_size=(3, 3), activation='relu'))\n",
    "\n",
    "    # Add a max pooling layer with a pool size of 2x2\n",
    "    model.add(MaxPooling2D(pool_size=(2, 2)))\n",
    "\n",
    "    # Flatten the output from the previous layers\n",
    "    model.add(Flatten())\n",
    "\n",
    "    # Add a dropout layer to prevent overfitting\n",
    "    model.add(Dropout(0.5))\n",
    "\n",
    "    # Add a fully connected layer with 128 units and a ReLU activation function. This layer has 128 neurons and it is fully connected to the previous layer\n",
    "    model.add(Dense(128, activation='relu'))\n",
    "\n",
    "    # Add a final output layer with num_classes number of units and a softmax activation function The softmax function is used to convert the output of the final layer into probability distribution over 10 possible classes.\n",
    "    model.add(Dense(num_classes, activation='softmax'))\n",
    "\n",
    "    # # Complete model \n",
    "    # model.summary()\n",
    "    \n",
    "    return model"
   ]
  },
  {
   "cell_type": "code",
   "execution_count": 63,
   "id": "8b742b05-ff61-43b7-ae37-6b41e8f71cbe",
   "metadata": {},
   "outputs": [],
   "source": [
    "input_shape = (img_height, img_width, channel_dimension)"
   ]
  },
  {
   "cell_type": "code",
   "execution_count": 64,
   "id": "344b1b7e-c6e9-4eaa-b848-4132d926f7ec",
   "metadata": {},
   "outputs": [
    {
     "name": "stderr",
     "output_type": "stream",
     "text": [
      "2023-04-03 17:41:59.812043: I tensorflow/compiler/xla/stream_executor/cuda/cuda_gpu_executor.cc:981] successful NUMA node read from SysFS had negative value (-1), but there must be at least one NUMA node, so returning NUMA node zero\n",
      "2023-04-03 17:42:00.001791: I tensorflow/compiler/xla/stream_executor/cuda/cuda_gpu_executor.cc:981] successful NUMA node read from SysFS had negative value (-1), but there must be at least one NUMA node, so returning NUMA node zero\n",
      "2023-04-03 17:42:00.002391: I tensorflow/compiler/xla/stream_executor/cuda/cuda_gpu_executor.cc:981] successful NUMA node read from SysFS had negative value (-1), but there must be at least one NUMA node, so returning NUMA node zero\n",
      "2023-04-03 17:42:00.004498: I tensorflow/core/platform/cpu_feature_guard.cc:193] This TensorFlow binary is optimized with oneAPI Deep Neural Network Library (oneDNN) to use the following CPU instructions in performance-critical operations:  SSE4.1 SSE4.2 AVX AVX2 AVX512F AVX512_VNNI FMA\n",
      "To enable them in other operations, rebuild TensorFlow with the appropriate compiler flags.\n",
      "2023-04-03 17:42:00.006867: I tensorflow/compiler/xla/stream_executor/cuda/cuda_gpu_executor.cc:981] successful NUMA node read from SysFS had negative value (-1), but there must be at least one NUMA node, so returning NUMA node zero\n",
      "2023-04-03 17:42:00.007449: I tensorflow/compiler/xla/stream_executor/cuda/cuda_gpu_executor.cc:981] successful NUMA node read from SysFS had negative value (-1), but there must be at least one NUMA node, so returning NUMA node zero\n",
      "2023-04-03 17:42:00.007906: I tensorflow/compiler/xla/stream_executor/cuda/cuda_gpu_executor.cc:981] successful NUMA node read from SysFS had negative value (-1), but there must be at least one NUMA node, so returning NUMA node zero\n",
      "2023-04-03 17:42:00.300795: I tensorflow/compiler/xla/stream_executor/cuda/cuda_gpu_executor.cc:981] successful NUMA node read from SysFS had negative value (-1), but there must be at least one NUMA node, so returning NUMA node zero\n",
      "2023-04-03 17:42:00.300936: I tensorflow/compiler/xla/stream_executor/cuda/cuda_gpu_executor.cc:981] successful NUMA node read from SysFS had negative value (-1), but there must be at least one NUMA node, so returning NUMA node zero\n",
      "2023-04-03 17:42:00.301018: I tensorflow/compiler/xla/stream_executor/cuda/cuda_gpu_executor.cc:981] successful NUMA node read from SysFS had negative value (-1), but there must be at least one NUMA node, so returning NUMA node zero\n",
      "2023-04-03 17:42:00.301076: I tensorflow/core/common_runtime/gpu/gpu_device.cc:1613] Created device /job:localhost/replica:0/task:0/device:GPU:0 with 21789 MB memory:  -> device: 0, name: NVIDIA GeForce RTX 3090, pci bus id: 0000:01:00.0, compute capability: 8.6\n"
     ]
    }
   ],
   "source": [
    "# Create the model by calling the function\n",
    "name = 'BPNN_v1'\n",
    "model = construct_model(input_shape, num_classes, name)"
   ]
  },
  {
   "cell_type": "code",
   "execution_count": 65,
   "id": "bb1e6242-13d6-425a-9622-52b07971c65e",
   "metadata": {},
   "outputs": [],
   "source": [
    "# plot model architecture\n",
    "#plot_model(model, to_file='model_1.png', show_shapes=True, show_layer_names=True)"
   ]
  },
  {
   "cell_type": "code",
   "execution_count": 66,
   "id": "15f4243f-94af-4c75-a566-1f988e0dd98e",
   "metadata": {},
   "outputs": [],
   "source": [
    "# import visualkeras\n",
    "# from PIL import ImageFont\n",
    "# visualkeras.layered_view(model, legend=True)\n",
    "\n",
    "from ann_visualizer.visualize import ann_viz\n",
    "plot = ann_viz(model, view=True, filename=str(name)+\"-architecture\", title=\"CNN — \"+str(name)+\" — Simple Architecture\")"
   ]
  },
  {
   "cell_type": "code",
   "execution_count": 67,
   "id": "3cb5d45b-5356-4310-8cf5-2a0eb143da28",
   "metadata": {},
   "outputs": [],
   "source": [
    "# Create an early stopping callback with a higher patience value (e.g. 10 epochs)\n",
    "# early_stopping = EarlyStopping(monitor='loss', patience=100)"
   ]
  },
  {
   "cell_type": "code",
   "execution_count": 68,
   "id": "e726aa57-83bd-4e37-8b6f-95c0939e02d3",
   "metadata": {
    "tags": []
   },
   "outputs": [],
   "source": [
    "#Define and compile your CNN model here\n",
    "history = model.compile(loss='categorical_crossentropy', optimizer=tf.keras.optimizers.legacy.Adam(), metrics=['accuracy'])"
   ]
  },
  {
   "cell_type": "code",
   "execution_count": 69,
   "id": "839b92bd-5bee-4184-9fe2-abb8b51b8bc8",
   "metadata": {
    "tags": []
   },
   "outputs": [
    {
     "name": "stdout",
     "output_type": "stream",
     "text": [
      "Epoch 1/10\n"
     ]
    },
    {
     "name": "stderr",
     "output_type": "stream",
     "text": [
      "2023-04-03 17:42:16.306083: I tensorflow/compiler/xla/stream_executor/cuda/cuda_dnn.cc:428] Loaded cuDNN version 8401\n",
      "2023-04-03 17:42:17.214774: I tensorflow/compiler/xla/stream_executor/cuda/cuda_blas.cc:630] TensorFloat-32 will be used for the matrix multiplication. This will only be logged once.\n"
     ]
    },
    {
     "name": "stdout",
     "output_type": "stream",
     "text": [
      "769/769 [==============================] - 30s 35ms/step - loss: 1.0720 - accuracy: 0.4557\n",
      "Epoch 2/10\n",
      "431/769 [===============>..............] - ETA: 11s - loss: 0.9970 - accuracy: 0.4600"
     ]
    },
    {
     "ename": "KeyboardInterrupt",
     "evalue": "",
     "output_type": "error",
     "traceback": [
      "\u001b[0;31m---------------------------------------------------------------------------\u001b[0m",
      "\u001b[0;31mKeyboardInterrupt\u001b[0m                         Traceback (most recent call last)",
      "Cell \u001b[0;32mIn[69], line 3\u001b[0m\n\u001b[1;32m      1\u001b[0m start_time \u001b[38;5;241m=\u001b[39m time\u001b[38;5;241m.\u001b[39mtime()\n\u001b[0;32m----> 3\u001b[0m history \u001b[38;5;241m=\u001b[39m \u001b[43mmodel\u001b[49m\u001b[38;5;241;43m.\u001b[39;49m\u001b[43mfit\u001b[49m\u001b[43m(\u001b[49m\u001b[43mtrain_images\u001b[49m\u001b[43m,\u001b[49m\u001b[43m \u001b[49m\u001b[43mtrain_labels\u001b[49m\u001b[43m,\u001b[49m\u001b[43m \u001b[49m\u001b[43mepochs\u001b[49m\u001b[38;5;241;43m=\u001b[39;49m\u001b[43mepochs\u001b[49m\u001b[43m,\u001b[49m\u001b[43m \u001b[49m\u001b[43mbatch_size\u001b[49m\u001b[38;5;241;43m=\u001b[39;49m\u001b[43mbatch_size\u001b[49m\u001b[43m)\u001b[49m \u001b[38;5;66;03m# add early stopping here\u001b[39;00m\n\u001b[1;32m      5\u001b[0m end_time \u001b[38;5;241m=\u001b[39m time\u001b[38;5;241m.\u001b[39mtime()\n\u001b[1;32m      6\u001b[0m execution_time \u001b[38;5;241m=\u001b[39m end_time \u001b[38;5;241m-\u001b[39m start_time\n",
      "File \u001b[0;32m~/anaconda3/envs/new_kostas_env/lib/python3.10/site-packages/keras/utils/traceback_utils.py:65\u001b[0m, in \u001b[0;36mfilter_traceback.<locals>.error_handler\u001b[0;34m(*args, **kwargs)\u001b[0m\n\u001b[1;32m     63\u001b[0m filtered_tb \u001b[38;5;241m=\u001b[39m \u001b[38;5;28;01mNone\u001b[39;00m\n\u001b[1;32m     64\u001b[0m \u001b[38;5;28;01mtry\u001b[39;00m:\n\u001b[0;32m---> 65\u001b[0m     \u001b[38;5;28;01mreturn\u001b[39;00m \u001b[43mfn\u001b[49m\u001b[43m(\u001b[49m\u001b[38;5;241;43m*\u001b[39;49m\u001b[43margs\u001b[49m\u001b[43m,\u001b[49m\u001b[43m \u001b[49m\u001b[38;5;241;43m*\u001b[39;49m\u001b[38;5;241;43m*\u001b[39;49m\u001b[43mkwargs\u001b[49m\u001b[43m)\u001b[49m\n\u001b[1;32m     66\u001b[0m \u001b[38;5;28;01mexcept\u001b[39;00m \u001b[38;5;167;01mException\u001b[39;00m \u001b[38;5;28;01mas\u001b[39;00m e:\n\u001b[1;32m     67\u001b[0m     filtered_tb \u001b[38;5;241m=\u001b[39m _process_traceback_frames(e\u001b[38;5;241m.\u001b[39m__traceback__)\n",
      "File \u001b[0;32m~/anaconda3/envs/new_kostas_env/lib/python3.10/site-packages/keras/engine/training.py:1650\u001b[0m, in \u001b[0;36mModel.fit\u001b[0;34m(self, x, y, batch_size, epochs, verbose, callbacks, validation_split, validation_data, shuffle, class_weight, sample_weight, initial_epoch, steps_per_epoch, validation_steps, validation_batch_size, validation_freq, max_queue_size, workers, use_multiprocessing)\u001b[0m\n\u001b[1;32m   1642\u001b[0m \u001b[38;5;28;01mwith\u001b[39;00m tf\u001b[38;5;241m.\u001b[39mprofiler\u001b[38;5;241m.\u001b[39mexperimental\u001b[38;5;241m.\u001b[39mTrace(\n\u001b[1;32m   1643\u001b[0m     \u001b[38;5;124m\"\u001b[39m\u001b[38;5;124mtrain\u001b[39m\u001b[38;5;124m\"\u001b[39m,\n\u001b[1;32m   1644\u001b[0m     epoch_num\u001b[38;5;241m=\u001b[39mepoch,\n\u001b[0;32m   (...)\u001b[0m\n\u001b[1;32m   1647\u001b[0m     _r\u001b[38;5;241m=\u001b[39m\u001b[38;5;241m1\u001b[39m,\n\u001b[1;32m   1648\u001b[0m ):\n\u001b[1;32m   1649\u001b[0m     callbacks\u001b[38;5;241m.\u001b[39mon_train_batch_begin(step)\n\u001b[0;32m-> 1650\u001b[0m     tmp_logs \u001b[38;5;241m=\u001b[39m \u001b[38;5;28;43mself\u001b[39;49m\u001b[38;5;241;43m.\u001b[39;49m\u001b[43mtrain_function\u001b[49m\u001b[43m(\u001b[49m\u001b[43miterator\u001b[49m\u001b[43m)\u001b[49m\n\u001b[1;32m   1651\u001b[0m     \u001b[38;5;28;01mif\u001b[39;00m data_handler\u001b[38;5;241m.\u001b[39mshould_sync:\n\u001b[1;32m   1652\u001b[0m         context\u001b[38;5;241m.\u001b[39masync_wait()\n",
      "File \u001b[0;32m~/anaconda3/envs/new_kostas_env/lib/python3.10/site-packages/tensorflow/python/util/traceback_utils.py:150\u001b[0m, in \u001b[0;36mfilter_traceback.<locals>.error_handler\u001b[0;34m(*args, **kwargs)\u001b[0m\n\u001b[1;32m    148\u001b[0m filtered_tb \u001b[38;5;241m=\u001b[39m \u001b[38;5;28;01mNone\u001b[39;00m\n\u001b[1;32m    149\u001b[0m \u001b[38;5;28;01mtry\u001b[39;00m:\n\u001b[0;32m--> 150\u001b[0m   \u001b[38;5;28;01mreturn\u001b[39;00m \u001b[43mfn\u001b[49m\u001b[43m(\u001b[49m\u001b[38;5;241;43m*\u001b[39;49m\u001b[43margs\u001b[49m\u001b[43m,\u001b[49m\u001b[43m \u001b[49m\u001b[38;5;241;43m*\u001b[39;49m\u001b[38;5;241;43m*\u001b[39;49m\u001b[43mkwargs\u001b[49m\u001b[43m)\u001b[49m\n\u001b[1;32m    151\u001b[0m \u001b[38;5;28;01mexcept\u001b[39;00m \u001b[38;5;167;01mException\u001b[39;00m \u001b[38;5;28;01mas\u001b[39;00m e:\n\u001b[1;32m    152\u001b[0m   filtered_tb \u001b[38;5;241m=\u001b[39m _process_traceback_frames(e\u001b[38;5;241m.\u001b[39m__traceback__)\n",
      "File \u001b[0;32m~/anaconda3/envs/new_kostas_env/lib/python3.10/site-packages/tensorflow/python/eager/polymorphic_function/polymorphic_function.py:880\u001b[0m, in \u001b[0;36mFunction.__call__\u001b[0;34m(self, *args, **kwds)\u001b[0m\n\u001b[1;32m    877\u001b[0m compiler \u001b[38;5;241m=\u001b[39m \u001b[38;5;124m\"\u001b[39m\u001b[38;5;124mxla\u001b[39m\u001b[38;5;124m\"\u001b[39m \u001b[38;5;28;01mif\u001b[39;00m \u001b[38;5;28mself\u001b[39m\u001b[38;5;241m.\u001b[39m_jit_compile \u001b[38;5;28;01melse\u001b[39;00m \u001b[38;5;124m\"\u001b[39m\u001b[38;5;124mnonXla\u001b[39m\u001b[38;5;124m\"\u001b[39m\n\u001b[1;32m    879\u001b[0m \u001b[38;5;28;01mwith\u001b[39;00m OptionalXlaContext(\u001b[38;5;28mself\u001b[39m\u001b[38;5;241m.\u001b[39m_jit_compile):\n\u001b[0;32m--> 880\u001b[0m   result \u001b[38;5;241m=\u001b[39m \u001b[38;5;28;43mself\u001b[39;49m\u001b[38;5;241;43m.\u001b[39;49m\u001b[43m_call\u001b[49m\u001b[43m(\u001b[49m\u001b[38;5;241;43m*\u001b[39;49m\u001b[43margs\u001b[49m\u001b[43m,\u001b[49m\u001b[43m \u001b[49m\u001b[38;5;241;43m*\u001b[39;49m\u001b[38;5;241;43m*\u001b[39;49m\u001b[43mkwds\u001b[49m\u001b[43m)\u001b[49m\n\u001b[1;32m    882\u001b[0m new_tracing_count \u001b[38;5;241m=\u001b[39m \u001b[38;5;28mself\u001b[39m\u001b[38;5;241m.\u001b[39mexperimental_get_tracing_count()\n\u001b[1;32m    883\u001b[0m without_tracing \u001b[38;5;241m=\u001b[39m (tracing_count \u001b[38;5;241m==\u001b[39m new_tracing_count)\n",
      "File \u001b[0;32m~/anaconda3/envs/new_kostas_env/lib/python3.10/site-packages/tensorflow/python/eager/polymorphic_function/polymorphic_function.py:912\u001b[0m, in \u001b[0;36mFunction._call\u001b[0;34m(self, *args, **kwds)\u001b[0m\n\u001b[1;32m    909\u001b[0m   \u001b[38;5;28mself\u001b[39m\u001b[38;5;241m.\u001b[39m_lock\u001b[38;5;241m.\u001b[39mrelease()\n\u001b[1;32m    910\u001b[0m   \u001b[38;5;66;03m# In this case we have created variables on the first call, so we run the\u001b[39;00m\n\u001b[1;32m    911\u001b[0m   \u001b[38;5;66;03m# defunned version which is guaranteed to never create variables.\u001b[39;00m\n\u001b[0;32m--> 912\u001b[0m   \u001b[38;5;28;01mreturn\u001b[39;00m \u001b[38;5;28;43mself\u001b[39;49m\u001b[38;5;241;43m.\u001b[39;49m\u001b[43m_no_variable_creation_fn\u001b[49m\u001b[43m(\u001b[49m\u001b[38;5;241;43m*\u001b[39;49m\u001b[43margs\u001b[49m\u001b[43m,\u001b[49m\u001b[43m \u001b[49m\u001b[38;5;241;43m*\u001b[39;49m\u001b[38;5;241;43m*\u001b[39;49m\u001b[43mkwds\u001b[49m\u001b[43m)\u001b[49m  \u001b[38;5;66;03m# pylint: disable=not-callable\u001b[39;00m\n\u001b[1;32m    913\u001b[0m \u001b[38;5;28;01melif\u001b[39;00m \u001b[38;5;28mself\u001b[39m\u001b[38;5;241m.\u001b[39m_variable_creation_fn \u001b[38;5;129;01mis\u001b[39;00m \u001b[38;5;129;01mnot\u001b[39;00m \u001b[38;5;28;01mNone\u001b[39;00m:\n\u001b[1;32m    914\u001b[0m   \u001b[38;5;66;03m# Release the lock early so that multiple threads can perform the call\u001b[39;00m\n\u001b[1;32m    915\u001b[0m   \u001b[38;5;66;03m# in parallel.\u001b[39;00m\n\u001b[1;32m    916\u001b[0m   \u001b[38;5;28mself\u001b[39m\u001b[38;5;241m.\u001b[39m_lock\u001b[38;5;241m.\u001b[39mrelease()\n",
      "File \u001b[0;32m~/anaconda3/envs/new_kostas_env/lib/python3.10/site-packages/tensorflow/python/eager/polymorphic_function/tracing_compiler.py:134\u001b[0m, in \u001b[0;36mTracingCompiler.__call__\u001b[0;34m(self, *args, **kwargs)\u001b[0m\n\u001b[1;32m    131\u001b[0m \u001b[38;5;28;01mwith\u001b[39;00m \u001b[38;5;28mself\u001b[39m\u001b[38;5;241m.\u001b[39m_lock:\n\u001b[1;32m    132\u001b[0m   (concrete_function,\n\u001b[1;32m    133\u001b[0m    filtered_flat_args) \u001b[38;5;241m=\u001b[39m \u001b[38;5;28mself\u001b[39m\u001b[38;5;241m.\u001b[39m_maybe_define_function(args, kwargs)\n\u001b[0;32m--> 134\u001b[0m \u001b[38;5;28;01mreturn\u001b[39;00m \u001b[43mconcrete_function\u001b[49m\u001b[38;5;241;43m.\u001b[39;49m\u001b[43m_call_flat\u001b[49m\u001b[43m(\u001b[49m\n\u001b[1;32m    135\u001b[0m \u001b[43m    \u001b[49m\u001b[43mfiltered_flat_args\u001b[49m\u001b[43m,\u001b[49m\u001b[43m \u001b[49m\u001b[43mcaptured_inputs\u001b[49m\u001b[38;5;241;43m=\u001b[39;49m\u001b[43mconcrete_function\u001b[49m\u001b[38;5;241;43m.\u001b[39;49m\u001b[43mcaptured_inputs\u001b[49m\u001b[43m)\u001b[49m\n",
      "File \u001b[0;32m~/anaconda3/envs/new_kostas_env/lib/python3.10/site-packages/tensorflow/python/eager/polymorphic_function/monomorphic_function.py:1745\u001b[0m, in \u001b[0;36mConcreteFunction._call_flat\u001b[0;34m(self, args, captured_inputs, cancellation_manager)\u001b[0m\n\u001b[1;32m   1741\u001b[0m possible_gradient_type \u001b[38;5;241m=\u001b[39m gradients_util\u001b[38;5;241m.\u001b[39mPossibleTapeGradientTypes(args)\n\u001b[1;32m   1742\u001b[0m \u001b[38;5;28;01mif\u001b[39;00m (possible_gradient_type \u001b[38;5;241m==\u001b[39m gradients_util\u001b[38;5;241m.\u001b[39mPOSSIBLE_GRADIENT_TYPES_NONE\n\u001b[1;32m   1743\u001b[0m     \u001b[38;5;129;01mand\u001b[39;00m executing_eagerly):\n\u001b[1;32m   1744\u001b[0m   \u001b[38;5;66;03m# No tape is watching; skip to running the function.\u001b[39;00m\n\u001b[0;32m-> 1745\u001b[0m   \u001b[38;5;28;01mreturn\u001b[39;00m \u001b[38;5;28mself\u001b[39m\u001b[38;5;241m.\u001b[39m_build_call_outputs(\u001b[38;5;28;43mself\u001b[39;49m\u001b[38;5;241;43m.\u001b[39;49m\u001b[43m_inference_function\u001b[49m\u001b[38;5;241;43m.\u001b[39;49m\u001b[43mcall\u001b[49m\u001b[43m(\u001b[49m\n\u001b[1;32m   1746\u001b[0m \u001b[43m      \u001b[49m\u001b[43mctx\u001b[49m\u001b[43m,\u001b[49m\u001b[43m \u001b[49m\u001b[43margs\u001b[49m\u001b[43m,\u001b[49m\u001b[43m \u001b[49m\u001b[43mcancellation_manager\u001b[49m\u001b[38;5;241;43m=\u001b[39;49m\u001b[43mcancellation_manager\u001b[49m\u001b[43m)\u001b[49m)\n\u001b[1;32m   1747\u001b[0m forward_backward \u001b[38;5;241m=\u001b[39m \u001b[38;5;28mself\u001b[39m\u001b[38;5;241m.\u001b[39m_select_forward_and_backward_functions(\n\u001b[1;32m   1748\u001b[0m     args,\n\u001b[1;32m   1749\u001b[0m     possible_gradient_type,\n\u001b[1;32m   1750\u001b[0m     executing_eagerly)\n\u001b[1;32m   1751\u001b[0m forward_function, args_with_tangents \u001b[38;5;241m=\u001b[39m forward_backward\u001b[38;5;241m.\u001b[39mforward()\n",
      "File \u001b[0;32m~/anaconda3/envs/new_kostas_env/lib/python3.10/site-packages/tensorflow/python/eager/polymorphic_function/monomorphic_function.py:378\u001b[0m, in \u001b[0;36m_EagerDefinedFunction.call\u001b[0;34m(self, ctx, args, cancellation_manager)\u001b[0m\n\u001b[1;32m    376\u001b[0m \u001b[38;5;28;01mwith\u001b[39;00m _InterpolateFunctionError(\u001b[38;5;28mself\u001b[39m):\n\u001b[1;32m    377\u001b[0m   \u001b[38;5;28;01mif\u001b[39;00m cancellation_manager \u001b[38;5;129;01mis\u001b[39;00m \u001b[38;5;28;01mNone\u001b[39;00m:\n\u001b[0;32m--> 378\u001b[0m     outputs \u001b[38;5;241m=\u001b[39m \u001b[43mexecute\u001b[49m\u001b[38;5;241;43m.\u001b[39;49m\u001b[43mexecute\u001b[49m\u001b[43m(\u001b[49m\n\u001b[1;32m    379\u001b[0m \u001b[43m        \u001b[49m\u001b[38;5;28;43mstr\u001b[39;49m\u001b[43m(\u001b[49m\u001b[38;5;28;43mself\u001b[39;49m\u001b[38;5;241;43m.\u001b[39;49m\u001b[43msignature\u001b[49m\u001b[38;5;241;43m.\u001b[39;49m\u001b[43mname\u001b[49m\u001b[43m)\u001b[49m\u001b[43m,\u001b[49m\n\u001b[1;32m    380\u001b[0m \u001b[43m        \u001b[49m\u001b[43mnum_outputs\u001b[49m\u001b[38;5;241;43m=\u001b[39;49m\u001b[38;5;28;43mself\u001b[39;49m\u001b[38;5;241;43m.\u001b[39;49m\u001b[43m_num_outputs\u001b[49m\u001b[43m,\u001b[49m\n\u001b[1;32m    381\u001b[0m \u001b[43m        \u001b[49m\u001b[43minputs\u001b[49m\u001b[38;5;241;43m=\u001b[39;49m\u001b[43margs\u001b[49m\u001b[43m,\u001b[49m\n\u001b[1;32m    382\u001b[0m \u001b[43m        \u001b[49m\u001b[43mattrs\u001b[49m\u001b[38;5;241;43m=\u001b[39;49m\u001b[43mattrs\u001b[49m\u001b[43m,\u001b[49m\n\u001b[1;32m    383\u001b[0m \u001b[43m        \u001b[49m\u001b[43mctx\u001b[49m\u001b[38;5;241;43m=\u001b[39;49m\u001b[43mctx\u001b[49m\u001b[43m)\u001b[49m\n\u001b[1;32m    384\u001b[0m   \u001b[38;5;28;01melse\u001b[39;00m:\n\u001b[1;32m    385\u001b[0m     outputs \u001b[38;5;241m=\u001b[39m execute\u001b[38;5;241m.\u001b[39mexecute_with_cancellation(\n\u001b[1;32m    386\u001b[0m         \u001b[38;5;28mstr\u001b[39m(\u001b[38;5;28mself\u001b[39m\u001b[38;5;241m.\u001b[39msignature\u001b[38;5;241m.\u001b[39mname),\n\u001b[1;32m    387\u001b[0m         num_outputs\u001b[38;5;241m=\u001b[39m\u001b[38;5;28mself\u001b[39m\u001b[38;5;241m.\u001b[39m_num_outputs,\n\u001b[0;32m   (...)\u001b[0m\n\u001b[1;32m    390\u001b[0m         ctx\u001b[38;5;241m=\u001b[39mctx,\n\u001b[1;32m    391\u001b[0m         cancellation_manager\u001b[38;5;241m=\u001b[39mcancellation_manager)\n",
      "File \u001b[0;32m~/anaconda3/envs/new_kostas_env/lib/python3.10/site-packages/tensorflow/python/eager/execute.py:52\u001b[0m, in \u001b[0;36mquick_execute\u001b[0;34m(op_name, num_outputs, inputs, attrs, ctx, name)\u001b[0m\n\u001b[1;32m     50\u001b[0m \u001b[38;5;28;01mtry\u001b[39;00m:\n\u001b[1;32m     51\u001b[0m   ctx\u001b[38;5;241m.\u001b[39mensure_initialized()\n\u001b[0;32m---> 52\u001b[0m   tensors \u001b[38;5;241m=\u001b[39m \u001b[43mpywrap_tfe\u001b[49m\u001b[38;5;241;43m.\u001b[39;49m\u001b[43mTFE_Py_Execute\u001b[49m\u001b[43m(\u001b[49m\u001b[43mctx\u001b[49m\u001b[38;5;241;43m.\u001b[39;49m\u001b[43m_handle\u001b[49m\u001b[43m,\u001b[49m\u001b[43m \u001b[49m\u001b[43mdevice_name\u001b[49m\u001b[43m,\u001b[49m\u001b[43m \u001b[49m\u001b[43mop_name\u001b[49m\u001b[43m,\u001b[49m\n\u001b[1;32m     53\u001b[0m \u001b[43m                                      \u001b[49m\u001b[43minputs\u001b[49m\u001b[43m,\u001b[49m\u001b[43m \u001b[49m\u001b[43mattrs\u001b[49m\u001b[43m,\u001b[49m\u001b[43m \u001b[49m\u001b[43mnum_outputs\u001b[49m\u001b[43m)\u001b[49m\n\u001b[1;32m     54\u001b[0m \u001b[38;5;28;01mexcept\u001b[39;00m core\u001b[38;5;241m.\u001b[39m_NotOkStatusException \u001b[38;5;28;01mas\u001b[39;00m e:\n\u001b[1;32m     55\u001b[0m   \u001b[38;5;28;01mif\u001b[39;00m name \u001b[38;5;129;01mis\u001b[39;00m \u001b[38;5;129;01mnot\u001b[39;00m \u001b[38;5;28;01mNone\u001b[39;00m:\n",
      "\u001b[0;31mKeyboardInterrupt\u001b[0m: "
     ]
    }
   ],
   "source": [
    "start_time = time.time()\n",
    "\n",
    "history = model.fit(train_images, train_labels, epochs=epochs, batch_size=batch_size) # add early stopping here\n",
    "\n",
    "end_time = time.time()\n",
    "execution_time = end_time - start_time\n",
    "hours, remainder = divmod(execution_time, 3600)\n",
    "minutes, seconds = divmod(remainder, 60)\n",
    "\n",
    "print(f\"Execution time: {int(hours)} hours, {int(minutes)} minutes, {int(seconds)} seconds\")"
   ]
  },
  {
   "cell_type": "code",
   "execution_count": null,
   "id": "157f4284-5159-4213-814b-10d9108244e5",
   "metadata": {},
   "outputs": [],
   "source": [
    "def save_training_info():\n",
    "    # Set the model name\n",
    "    model_name = model.name\n",
    "\n",
    "    # Save the history object to a CSV file\n",
    "    with open(str(name)+'-training_history.csv', 'a', newline='') as f:\n",
    "        writer = csv.writer(f)\n",
    "\n",
    "        # Write header row if file is empty\n",
    "        if f.tell() == 0:\n",
    "            writer.writerow(['Model', 'Epoch', 'Train Loss', 'Train Acc'])\n",
    "\n",
    "        # Write data for each epoch\n",
    "        for i, (tl, ta) in enumerate(zip(history.history['loss'], history.history['accuracy'])):\n",
    "            writer.writerow([model_name, i+1, tl, ta])"
   ]
  },
  {
   "cell_type": "code",
   "execution_count": null,
   "id": "abb53f97-02c8-459a-b1ec-1041f808db98",
   "metadata": {},
   "outputs": [],
   "source": [
    "save_training_info()"
   ]
  },
  {
   "cell_type": "code",
   "execution_count": null,
   "id": "6d5fd999-a2ae-4cd0-8701-bdcfbc35bcf7",
   "metadata": {},
   "outputs": [],
   "source": [
    "# plot the accuracy of the model during training and XvalidationX\n",
    "def plot_accuracy():\n",
    "    plt.plot(history.history['accuracy'])\n",
    "    plt.title('Model accuracy')\n",
    "    plt.ylabel('Accuracy')\n",
    "    plt.xlabel('Epoch')\n",
    "    plt.legend(['Train'], loc='upper left')\n",
    "    plt.savefig('accuracy.png')\n",
    "    return plt.show()"
   ]
  },
  {
   "cell_type": "code",
   "execution_count": null,
   "id": "a39a2943-28f0-4c20-b960-78d383293d4d",
   "metadata": {},
   "outputs": [],
   "source": [
    "plot_accuracy()"
   ]
  },
  {
   "cell_type": "markdown",
   "id": "f9e43045-42d0-4f41-8add-ac3e5b08dd82",
   "metadata": {},
   "source": [
    "High bias: If the training accuracy is low, it suggests that the model is underfitting the training data, i.e., it is not complex enough to capture the patterns in the data. In this case, you may need to increase the model's complexity by adding more layers or neurons, or by using a more complex architecture.\n",
    "\n",
    "High variance: If the training accuracy is high but the validation accuracy is low, it suggests that the model is overfitting the training data, i.e., it is memorizing the training data instead of generalizing to new data. In this case, you may need to use regularization techniques like dropout or L2 regularization, or use early stopping to prevent the model from overfitting.\n",
    "\n",
    "Good fit: If the training accuracy and validation accuracy are both high and close to each other, it suggests that the model is neither underfitting nor overfitting the data, i.e., it is generalizing well to new data.\n",
    "\n",
    "Plateauing: If the validation accuracy is no longer increasing as the training set size or epochs increase, it suggests that the model has reached its capacity and adding more data or epochs is unlikely to improve its performance.\n",
    "\n",
    "In general, a model accuracy curve can help you diagnose issues with your model and guide you in selecting appropriate strategies to improve its performance. It can also give you an idea of how much training data or how many epochs you need to achieve good performance."
   ]
  },
  {
   "cell_type": "code",
   "execution_count": null,
   "id": "1c658eb9-2008-4398-82f9-e34a230b7cd4",
   "metadata": {},
   "outputs": [],
   "source": [
    "# Confussion matrix"
   ]
  },
  {
   "cell_type": "code",
   "execution_count": null,
   "id": "1778f6fe-63fa-443f-922c-6d5399d3a000",
   "metadata": {},
   "outputs": [],
   "source": []
  },
  {
   "cell_type": "code",
   "execution_count": null,
   "id": "64c6d846-2b61-4f68-a2ae-279a57b48e7c",
   "metadata": {},
   "outputs": [],
   "source": []
  },
  {
   "cell_type": "code",
   "execution_count": null,
   "id": "312f730b-f468-4a63-b03a-b3a523cb3dd6",
   "metadata": {},
   "outputs": [],
   "source": []
  },
  {
   "cell_type": "code",
   "execution_count": null,
   "id": "431ae521-a723-4ec5-8971-719c5445f462",
   "metadata": {},
   "outputs": [],
   "source": []
  },
  {
   "cell_type": "markdown",
   "id": "d33d2a18-cee9-4f83-8e80-e89e1ef699c8",
   "metadata": {
    "tags": []
   },
   "source": [
    "### Reflect on the results"
   ]
  },
  {
   "cell_type": "markdown",
   "id": "b1c7f0d1-8e62-4c31-8d65-d7e144301753",
   "metadata": {},
   "source": [
    "1. Insufficient data? One calcium video of 24186 frames and with 349x374 dimensions.\n",
    "2. Model architecture not appropriate. Try increasing the number of layers or filters, or adding more complex layers like BatchNormalization, Dropout, or Conv2DTranspose.\n",
    "3. Incorrect data preprocessing\n",
    "4. Incorrect hyperparameters\n",
    "5. Class Imbalance (do oversampling, or undersampling)"
   ]
  },
  {
   "cell_type": "markdown",
   "id": "98ae0ef6-1f9c-4afe-8c56-dd0563e9f96e",
   "metadata": {
    "tags": []
   },
   "source": [
    "### [Ignore for now]"
   ]
  },
  {
   "cell_type": "code",
   "execution_count": null,
   "id": "c9706562-e303-41cc-9e85-ec00240b827f",
   "metadata": {},
   "outputs": [],
   "source": [
    "# from keras.layers import BatchNormalization\n",
    "# from keras.preprocessing.image import ImageDataGenerator\n",
    "\n",
    "# model = Sequential()\n",
    "\n",
    "# model.add(Conv2D(64, kernel_size=(3, 3), activation='relu', input_shape=(img_height, img_width, channel_dimension)))\n",
    "# model.add(BatchNormalization())\n",
    "# model.add(MaxPooling2D(pool_size=(2, 2)))\n",
    "\n",
    "# model.add(Conv2D(128, kernel_size=(3, 3), activation='relu'))\n",
    "# model.add(BatchNormalization())\n",
    "# model.add(MaxPooling2D(pool_size=(2, 2)))\n",
    "\n",
    "# model.add(Conv2D(256, kernel_size=(3, 3), activation='relu'))\n",
    "# model.add(BatchNormalization())\n",
    "# model.add(MaxPooling2D(pool_size=(2, 2)))\n",
    "\n",
    "# model.add(Flatten())\n",
    "\n",
    "# model.add(Dense(256, activation='relu'))\n",
    "# model.add(BatchNormalization())\n",
    "# model.add(Dropout(0.5))\n",
    "\n",
    "# model.add(Dense(128, activation='relu'))\n",
    "# model.add(BatchNormalization())\n",
    "# model.add(Dropout(0.5))\n",
    "\n",
    "# model.add(Dense(num_classes, activation='softmax'))\n",
    "\n",
    "# model.compile(loss='categorical_crossentropy', optimizer='adam', metrics=['accuracy'])\n",
    "\n",
    "# # reshape train_images to have 4 dimensions\n",
    "# train_images = np.expand_dims(train_images, axis=-1)\n",
    "\n",
    "# # Reshape train_images to have 4 dimensions\n",
    "# #train_images = np.squeeze(train_images)\n",
    "# # train_images = np.squeeze(train_images, axis=-1)\n",
    "# # train_images = np.squeeze(train_images, axis=-1)\n",
    "# # train_images = np.squeeze(train_images, axis=-1)\n",
    "# # train_images = np.expand_dims(train_images, axis=-1)\n",
    "\n",
    "\n",
    "# # Data augmentation\n",
    "# train_datagen = ImageDataGenerator(rotation_range=10, width_shift_range=0.1, height_shift_range=0.1, \n",
    "#                                    shear_range=0.1, zoom_range=0.1, horizontal_flip=True, fill_mode='nearest')\n",
    "\n",
    "# history = model.fit(train_datagen.flow(train_images, train_labels, batch_size=batch_size),\n",
    "#                     epochs=epochs,\n",
    "#                     steps_per_epoch=len(train_images) // batch_size,\n",
    "#                     shuffle=True)"
   ]
  },
  {
   "cell_type": "code",
   "execution_count": null,
   "id": "d5b192bf-a682-48c0-bcf4-f30847b0da8a",
   "metadata": {},
   "outputs": [],
   "source": []
  },
  {
   "cell_type": "code",
   "execution_count": null,
   "id": "94ae0843-9623-4e7f-8e88-a647d9406d63",
   "metadata": {},
   "outputs": [],
   "source": [
    "# Reusable snippets"
   ]
  },
  {
   "cell_type": "code",
   "execution_count": null,
   "id": "e9b0684b-764a-418c-a033-ff5fe9ce130b",
   "metadata": {},
   "outputs": [],
   "source": [
    "# Load calcium video from local environment\n",
    "# with h5py.File('path', 'r') as f:\n",
    "#     video_data = np.array(f['analysis/recording_20211016_163921-PP-BP-MC/data'])"
   ]
  },
  {
   "cell_type": "code",
   "execution_count": null,
   "id": "72b34b51-5633-42e3-8399-6842489b6bfb",
   "metadata": {},
   "outputs": [],
   "source": [
    "# Loading locally\n",
    "# with h5py.File('/Users/konstantinoskalaitzidis/Developer/dmc/thesis_data/20211016_163921_animal1learnday1.h5', 'r') as f:\n",
    "#     print(list(f.keys()))\n",
    "#     behavior_data = np.array(f['per_frame'])"
   ]
  },
  {
   "cell_type": "code",
   "execution_count": null,
   "id": "22276208-f41e-4589-9672-50de6e38d4b4",
   "metadata": {},
   "outputs": [],
   "source": [
    "# # save the model architecture to a JSON file\n",
    "# with open('model_architecture.json', 'w') as f:\n",
    "#     f.write(model.to_json())"
   ]
  },
  {
   "cell_type": "code",
   "execution_count": null,
   "id": "05dc765c-32f7-4a47-bc62-518a371b26b9",
   "metadata": {},
   "outputs": [],
   "source": [
    "# # load the model architecture from the JSON file\n",
    "# with open('model_architecture.json', 'r') as f:\n",
    "#     json_string = f.read()\n",
    "\n",
    "# model_json = model_from_json(json_string)\n",
    "\n",
    "# # print the loaded model summary\n",
    "# model.summary()"
   ]
  },
  {
   "cell_type": "code",
   "execution_count": null,
   "id": "2f5af676-d833-4e4a-a4c3-3055adb4ce90",
   "metadata": {},
   "outputs": [],
   "source": [
    "# mySession = readSessionServer.SessionIterator()\n",
    "# sess = mySession.findSession()\n",
    "# # for sess in mySession.findSessions():\n",
    "# #     print(sess)\n",
    "# if sess.hasBehavior() and sess.hasCalcium():\n",
    "#     behavior = sess.getBehaviorSegmentation(align_with_calcium=True).reset_index()"
   ]
  },
  {
   "cell_type": "code",
   "execution_count": null,
   "id": "d8fd9685-0c81-4a69-b3ee-ed6c91b9f7ed",
   "metadata": {},
   "outputs": [],
   "source": [
    "# # define paths\n",
    "# video_path = '/Users/konstantinoskalaitzidis/Developer/dmc/thesis_data/20211016_163921_animal1learnday1.nwb'\n",
    "# train_dir = '/Users/konstantinoskalaitzidis/Developer/dmc/thesis_data/train'\n",
    "# test_dir = '/Users/konstantinoskalaitzidis/Developer/dmc/thesis_data/test'\n",
    "\n",
    "# # define train-test split ratio\n",
    "# train_test_ratio = 0.8\n",
    "\n",
    "# # open video file\n",
    "# cap = cv2.VideoCapture(video_path)\n",
    "\n",
    "# # get video frame count\n",
    "# frame_count = int(cap.get(cv2.CAP_PROP_FRAME_COUNT))\n",
    "\n",
    "# # create list of frame indices\n",
    "# frame_indices = list(range(frame_count))\n",
    "\n",
    "# # shuffle frame indices\n",
    "# random.shuffle(frame_indices)\n",
    "\n",
    "# # split frame indices into train and test sets\n",
    "# train_frame_indices = frame_indices[:int(frame_count * train_test_ratio)]\n",
    "# test_frame_indices = frame_indices[int(frame_count * train_test_ratio):]\n",
    "\n",
    "# # iterate over frames and save to train or test directory\n",
    "# for i in range(frame_count):\n",
    "#     # read frame\n",
    "#     ret, frame = cap.read()\n",
    "#     if not ret:\n",
    "#         break\n",
    "    \n",
    "#     # save frame to train or test directory\n",
    "#     if i in train_frame_indices:\n",
    "#         cv2.imwrite(os.path.join(train_dir, f'{i}.jpg'), frame)\n",
    "#     else:\n",
    "#         cv2.imwrite(os.path.join(test_dir, f'{i}.jpg'), frame)"
   ]
  }
 ],
 "metadata": {
  "kernelspec": {
   "display_name": "new_kostas_env",
   "language": "python",
   "name": "new_kostas_env"
  },
  "language_info": {
   "codemirror_mode": {
    "name": "ipython",
    "version": 3
   },
   "file_extension": ".py",
   "mimetype": "text/x-python",
   "name": "python",
   "nbconvert_exporter": "python",
   "pygments_lexer": "ipython3",
   "version": "3.10.9"
  },
  "vscode": {
   "interpreter": {
    "hash": "aee8b7b246df8f9039afb4144a1f6fd8d2ca17a180786b69acc140d282b71a49"
   }
  }
 },
 "nbformat": 4,
 "nbformat_minor": 5
}
